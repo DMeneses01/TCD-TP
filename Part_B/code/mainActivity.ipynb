{
 "cells": [
  {
   "cell_type": "markdown",
   "metadata": {},
   "source": [
    "# TP1 - Parte B: Classificação de Atividades Humanas \n",
    "### Tópicos de Ciência dos Dados - MECD (2022/2023)\n",
    "\n",
    "### Autores\n",
    "\n",
    "- Duarte Meneses - 2019216949\n",
    "- Patricia Costa - 2019213995\n"
   ]
  },
  {
   "cell_type": "code",
   "execution_count": 32,
   "metadata": {},
   "outputs": [],
   "source": [
    "import csv\n",
    "import os\n",
    "import numpy as np\n",
    "import matplotlib.pyplot as plt\n",
    "import mpl_toolkits.mplot3d\n",
    "from sklearn import datasets\n",
    "from sklearn.decomposition import PCA\n",
    "import pandas as pd"
   ]
  },
  {
   "cell_type": "markdown",
   "metadata": {},
   "source": [
    "## 4.5 e 4.6 da Parte A"
   ]
  },
  {
   "cell_type": "code",
   "execution_count": null,
   "metadata": {},
   "outputs": [],
   "source": []
  },
  {
   "cell_type": "markdown",
   "metadata": {},
   "source": [
    "## Parte B\n"
   ]
  },
  {
   "cell_type": "markdown",
   "metadata": {},
   "source": [
    "### 1.1. Data Splitting"
   ]
  },
  {
   "cell_type": "markdown",
   "metadata": {},
   "source": [
    "### 1.1.1. Train-Test (TT) e Train-Validation-Test data split"
   ]
  },
  {
   "cell_type": "code",
   "execution_count": 33,
   "metadata": {},
   "outputs": [],
   "source": [
    "from sklearn.model_selection import train_test_split\n",
    "#https://scikit-learn.org/stable/modules/generated/sklearn.model_selection.train_test_split.html\n",
    "\n",
    "def train_test(data, target, train_size):\n",
    "\n",
    "    x_train, x_test, y_train, y_test = train_test_split(data, target, train_size=train_size)\n",
    "\n",
    "    trainTest = {\"TRAIN\": [x_train, y_train], \"TEST\": [x_test, y_test]}\n",
    "\n",
    "    return trainTest\n",
    "\n",
    "def train_validation_test(data, target, train_size, test_size):\n",
    "\n",
    "    x_train, x_rem, y_train, y_rem = train_test_split(data, target, train_size=train_size)\n",
    "\n",
    "    # 1 - train_size -> correponde agora ao nosso 100%(1)\n",
    "    # test_size -> test_size / (1-train_size)\n",
    "\n",
    "    test = test_size / (1-train_size)\n",
    "\n",
    "    x_valid, x_test, y_valid, y_test = train_test_split(x_rem, y_rem, test_size = test)\n",
    "\n",
    "    trainValidation = {\"TRAIN\": [x_train, y_train], \"TEST\": [x_test, y_test], \"VALIDATION\": [x_valid, y_valid]}\n",
    "    \n",
    "    return trainValidation\n",
    "\n"
   ]
  },
  {
   "cell_type": "markdown",
   "metadata": {},
   "source": [
    "### 1.1.2. K-fold data split"
   ]
  },
  {
   "cell_type": "code",
   "execution_count": 34,
   "metadata": {},
   "outputs": [],
   "source": [
    "from sklearn.model_selection import KFold\n",
    "#https://scikit-learn.org/stable/modules/generated/sklearn.model_selection.KFold.html\n",
    "\n",
    "def k_fold(x, y, n_splits):\n",
    "    kf = KFold(n_splits=n_splits, shuffle = True)\n",
    "    kfold = []\n",
    "    for train_index, test_index in kf.split(x):\n",
    "        x_train, x_test = x[train_index], x[test_index]\n",
    "        y_train, y_test = y[train_index], y[test_index]\n",
    "        kfold.append({\"TRAIN\": [x_train, y_train], \"TEST\": [x_test, y_test]})\n",
    "    \n",
    "    return kfold"
   ]
  },
  {
   "cell_type": "code",
   "execution_count": 35,
   "metadata": {},
   "outputs": [
    {
     "name": "stdout",
     "output_type": "stream",
     "text": [
      "--Train Test--\n",
      "\n"
     ]
    },
    {
     "data": {
      "text/plain": [
       "{'TRAIN': [array([[1, 2],\n",
       "         [3, 4]]),\n",
       "  array([3, 2])],\n",
       " 'TEST': [array([[3, 4],\n",
       "         [1, 2]]),\n",
       "  array([4, 1])]}"
      ]
     },
     "metadata": {},
     "output_type": "display_data"
    },
    {
     "name": "stdout",
     "output_type": "stream",
     "text": [
      "\n",
      "--Train Validation Test--\n",
      "\n"
     ]
    },
    {
     "data": {
      "text/plain": [
       "{'TRAIN': [array([[3, 4]]), array([4])],\n",
       " 'TEST': [array([[1, 2],\n",
       "         [3, 4]]), array([3, 2])],\n",
       " 'VALIDATION': [array([[1, 2]]), array([1])]}"
      ]
     },
     "metadata": {},
     "output_type": "display_data"
    },
    {
     "name": "stdout",
     "output_type": "stream",
     "text": [
      "\n",
      "--K Fold--\n",
      "\n"
     ]
    },
    {
     "data": {
      "text/plain": [
       "[{'TRAIN': [array([[1, 2],\n",
       "          [3, 4],\n",
       "          [3, 4]]),\n",
       "   array([1, 2, 4])],\n",
       "  'TEST': [array([[1, 2]]), array([3])]},\n",
       " {'TRAIN': [array([[1, 2],\n",
       "          [3, 4],\n",
       "          [1, 2]]),\n",
       "   array([1, 2, 3])],\n",
       "  'TEST': [array([[3, 4]]), array([4])]},\n",
       " {'TRAIN': [array([[1, 2],\n",
       "          [1, 2],\n",
       "          [3, 4]]),\n",
       "   array([1, 3, 4])],\n",
       "  'TEST': [array([[3, 4]]), array([2])]},\n",
       " {'TRAIN': [array([[3, 4],\n",
       "          [1, 2],\n",
       "          [3, 4]]),\n",
       "   array([2, 3, 4])],\n",
       "  'TEST': [array([[1, 2]]), array([1])]}]"
      ]
     },
     "metadata": {},
     "output_type": "display_data"
    }
   ],
   "source": [
    "#Testes\n",
    "X = np.array([[1, 2], [3, 4], [1, 2], [3, 4]])\n",
    "y = np.array([1, 2, 3, 4])\n",
    "\n",
    "print(\"--Train Test--\\n\")\n",
    "trainTest = train_test(X, y, 0.7)\n",
    "display(trainTest)\n",
    "\n",
    "print(\"\\n--Train Validation Test--\\n\")\n",
    "trainValidation = train_validation_test(X, y, 0.4, 0.3)\n",
    "display(trainValidation)\n",
    "\n",
    "print(\"\\n--K Fold--\\n\")\n",
    "kFold = k_fold(X, y, 4)\n",
    "display(kFold)"
   ]
  },
  {
   "cell_type": "markdown",
   "metadata": {},
   "source": [
    "### 1.2. Métricas de exactidação"
   ]
  },
  {
   "cell_type": "code",
   "execution_count": 36,
   "metadata": {},
   "outputs": [],
   "source": [
    "#Teste\n",
    "true = [2, 0, 2, 2, 0, 1]\n",
    "pred = [0, 0, 2, 2, 0, 2]"
   ]
  },
  {
   "cell_type": "markdown",
   "metadata": {},
   "source": [
    "-> Explicação do parâmetro average\n",
    "\n",
    "**'binary'**:\n",
    "Only report results for the class specified by pos_label. This is applicable only if targets (y_{true,pred}) are binary.\n",
    "\n",
    "**'micro'**:\n",
    "Calculate metrics globally by counting the total true positives, false negatives and false positives.\n",
    "\n",
    "**'macro'**:\n",
    "Calculate metrics for each label, and find their unweighted mean. This does not take label imbalance into account.\n",
    "\n",
    "**'weighted'**:\n",
    "Calculate metrics for each label, and find their average weighted by support (the number of true instances for each label). This alters ‘macro’ to account for label imbalance; it can result in an F-score that is not between precision and recall.\n",
    "\n",
    "**'samples'**:\n",
    "Calculate metrics for each instance, and find their average (only meaningful for multilabel classification where this differs from accuracy_score)."
   ]
  },
  {
   "cell_type": "code",
   "execution_count": 47,
   "metadata": {},
   "outputs": [
    {
     "name": "stdout",
     "output_type": "stream",
     "text": [
      "Confusion Matrix:\n",
      " [[2 0 0]\n",
      " [0 0 1]\n",
      " [1 0 2]]\n",
      "\n",
      "Recall:  0.6666666666666666\n",
      "\n",
      "Precision:  0.5555555555555555\n",
      "\n",
      "F1-score:  0.6\n",
      "--------------------------------------------------\n"
     ]
    },
    {
     "data": {
      "text/html": [
       "<div>\n",
       "<style scoped>\n",
       "    .dataframe tbody tr th:only-of-type {\n",
       "        vertical-align: middle;\n",
       "    }\n",
       "\n",
       "    .dataframe tbody tr th {\n",
       "        vertical-align: top;\n",
       "    }\n",
       "\n",
       "    .dataframe thead th {\n",
       "        text-align: right;\n",
       "    }\n",
       "</style>\n",
       "<table border=\"1\" class=\"dataframe\">\n",
       "  <thead>\n",
       "    <tr style=\"text-align: right;\">\n",
       "      <th></th>\n",
       "      <th>Metrics</th>\n",
       "    </tr>\n",
       "  </thead>\n",
       "  <tbody>\n",
       "    <tr>\n",
       "      <th>Recall</th>\n",
       "      <td>0.666667</td>\n",
       "    </tr>\n",
       "    <tr>\n",
       "      <th>Precision</th>\n",
       "      <td>0.555556</td>\n",
       "    </tr>\n",
       "    <tr>\n",
       "      <th>F1-score</th>\n",
       "      <td>0.600000</td>\n",
       "    </tr>\n",
       "  </tbody>\n",
       "</table>\n",
       "</div>"
      ],
      "text/plain": [
       "            Metrics\n",
       "Recall     0.666667\n",
       "Precision  0.555556\n",
       "F1-score   0.600000"
      ]
     },
     "metadata": {},
     "output_type": "display_data"
    },
    {
     "data": {
      "image/png": "[encoded data removed]",
      "text/plain": [
       "<Figure size 360x360 with 2 Axes>"
      ]
     },
     "metadata": {
      "needs_background": "light"
     },
     "output_type": "display_data"
    }
   ],
   "source": [
    "from sklearn.metrics import confusion_matrix, ConfusionMatrixDisplay\n",
    "#https://scikit-learn.org/stable/modules/generated/sklearn.metrics.confusion_matrix.html#sklearn.metrics.confusion_matrix\n",
    "from sklearn.metrics import recall_score\n",
    "#https://scikit-learn.org/stable/modules/generated/sklearn.metrics.recall_score.html#sklearn.metrics.recall_score\n",
    "from sklearn.metrics import precision_score\n",
    "#https://scikit-learn.org/stable/modules/generated/sklearn.metrics.precision_score.html#sklearn.metrics.precision_score\n",
    "from sklearn.metrics import f1_score\n",
    "#https://scikit-learn.org/stable/modules/generated/sklearn.metrics.f1_score.html#sklearn.metrics.f1_score\n",
    "\n",
    "def metrics(true, pred, printar = False):\n",
    "    cm = confusion_matrix(true, pred)\n",
    "    rs = recall_score(true, pred, average='weighted', zero_division=0)\n",
    "    ps = precision_score(true, pred, average='weighted', zero_division=0)\n",
    "    f1 = f1_score(true, pred, average='weighted', zero_division=0)\n",
    "\n",
    "    if(printar):\n",
    "        print('Confusion Matrix:\\n', cm)\n",
    "        print('\\nRecall: ', rs)\n",
    "        print('\\nPrecision: ', ps)\n",
    "        print('\\nF1-score: ', f1)\n",
    "        print('-'*50)\n",
    "\n",
    "    return [cm, rs, ps, f1]\n",
    "\n",
    "def mais_bonito(cm, rs, ps, f1, labels):\n",
    "\n",
    "    metricsFrame = pd.DataFrame([rs, ps, f1], columns=['Metrics']).rename(index={0: 'Recall', 1: 'Precision', 2: 'F1-score'})\n",
    "    display(metricsFrame)\n",
    "    \n",
    "    cmFrame = pd.DataFrame(cm, columns=labels, index=labels).style.set_caption(\"Confusion Matrix\")\n",
    "    #display(cmFrame)\n",
    "\n",
    "    cmp = ConfusionMatrixDisplay(cm, display_labels=labels)\n",
    "    _, ax = plt.subplots(figsize=(5,5))\n",
    "    cmp.plot(ax=ax)\n",
    "    ax.set_title(\"Confusion Matrix\")\n",
    "    ax.xaxis.set_ticklabels(labels)\n",
    "    ax.yaxis.set_ticklabels(labels[::-1], rotation=90)\n",
    "    plt.show()\n",
    "    \n",
    "\n",
    "cm, rs, ps, f1 = metrics(true, pred, True)\n",
    "mais_bonito(cm, rs, ps, f1, [0,1,2])\n",
    "\n"
   ]
  },
  {
   "cell_type": "markdown",
   "metadata": {},
   "source": [
    "### 2.1. Dataset"
   ]
  },
  {
   "cell_type": "code",
   "execution_count": 48,
   "metadata": {},
   "outputs": [],
   "source": [
    "iris = datasets.load_iris()\n",
    "\n",
    "data = iris.data\n",
    "target = iris.target"
   ]
  },
  {
   "cell_type": "markdown",
   "metadata": {},
   "source": [
    "### 2.1. k-Nearest Neighbours"
   ]
  },
  {
   "cell_type": "code",
   "execution_count": 49,
   "metadata": {},
   "outputs": [],
   "source": [
    "from sklearn.neighbors import KNeighborsClassifier\n",
    "\n",
    "def K_neighbors_classifier(x, y, k):\n",
    "    neigh = KNeighborsClassifier(n_neighbors=k)\n",
    "    neigh.fit(x, y)\n",
    "\n",
    "    return neigh\n",
    "\n",
    "neigh_teste = K_neighbors_classifier(data, target, 1)"
   ]
  },
  {
   "cell_type": "markdown",
   "metadata": {},
   "source": [
    "### 2.1.1. Train-only"
   ]
  },
  {
   "cell_type": "code",
   "execution_count": 50,
   "metadata": {},
   "outputs": [
    {
     "data": {
      "text/html": [
       "<div>\n",
       "<style scoped>\n",
       "    .dataframe tbody tr th:only-of-type {\n",
       "        vertical-align: middle;\n",
       "    }\n",
       "\n",
       "    .dataframe tbody tr th {\n",
       "        vertical-align: top;\n",
       "    }\n",
       "\n",
       "    .dataframe thead th {\n",
       "        text-align: right;\n",
       "    }\n",
       "</style>\n",
       "<table border=\"1\" class=\"dataframe\">\n",
       "  <thead>\n",
       "    <tr style=\"text-align: right;\">\n",
       "      <th></th>\n",
       "      <th>Metrics</th>\n",
       "    </tr>\n",
       "  </thead>\n",
       "  <tbody>\n",
       "    <tr>\n",
       "      <th>Recall</th>\n",
       "      <td>1.0</td>\n",
       "    </tr>\n",
       "    <tr>\n",
       "      <th>Precision</th>\n",
       "      <td>1.0</td>\n",
       "    </tr>\n",
       "    <tr>\n",
       "      <th>F1-score</th>\n",
       "      <td>1.0</td>\n",
       "    </tr>\n",
       "  </tbody>\n",
       "</table>\n",
       "</div>"
      ],
      "text/plain": [
       "           Metrics\n",
       "Recall         1.0\n",
       "Precision      1.0\n",
       "F1-score       1.0"
      ]
     },
     "metadata": {},
     "output_type": "display_data"
    },
    {
     "data": {
      "image/png": "[encoded data removed]",
      "text/plain": [
       "<Figure size 360x360 with 2 Axes>"
      ]
     },
     "metadata": {
      "needs_background": "light"
     },
     "output_type": "display_data"
    }
   ],
   "source": [
    "def TO_211(x, y, labels, k):\n",
    "    neigh = K_neighbors_classifier(x, y, k)\n",
    "    pred = neigh.predict(x)\n",
    "    true = y\n",
    "    cm, rs, ps, f1 = metrics(true, pred)\n",
    "    \n",
    "    mais_bonito(cm, rs, ps, f1, labels)\n",
    "\n",
    "TO_211(data, target, iris[\"target_names\"], 1)"
   ]
  },
  {
   "cell_type": "markdown",
   "metadata": {},
   "source": [
    "### 2.1.1. TT 70-30"
   ]
  },
  {
   "cell_type": "code",
   "execution_count": 51,
   "metadata": {},
   "outputs": [
    {
     "data": {
      "text/html": [
       "<div>\n",
       "<style scoped>\n",
       "    .dataframe tbody tr th:only-of-type {\n",
       "        vertical-align: middle;\n",
       "    }\n",
       "\n",
       "    .dataframe tbody tr th {\n",
       "        vertical-align: top;\n",
       "    }\n",
       "\n",
       "    .dataframe thead th {\n",
       "        text-align: right;\n",
       "    }\n",
       "</style>\n",
       "<table border=\"1\" class=\"dataframe\">\n",
       "  <thead>\n",
       "    <tr style=\"text-align: right;\">\n",
       "      <th></th>\n",
       "      <th>Metrics</th>\n",
       "    </tr>\n",
       "  </thead>\n",
       "  <tbody>\n",
       "    <tr>\n",
       "      <th>Recall</th>\n",
       "      <td>0.955556</td>\n",
       "    </tr>\n",
       "    <tr>\n",
       "      <th>Precision</th>\n",
       "      <td>0.955556</td>\n",
       "    </tr>\n",
       "    <tr>\n",
       "      <th>F1-score</th>\n",
       "      <td>0.955556</td>\n",
       "    </tr>\n",
       "  </tbody>\n",
       "</table>\n",
       "</div>"
      ],
      "text/plain": [
       "            Metrics\n",
       "Recall     0.955556\n",
       "Precision  0.955556\n",
       "F1-score   0.955556"
      ]
     },
     "metadata": {},
     "output_type": "display_data"
    },
    {
     "data": {
      "image/png": "[encoded data removed]",
      "text/plain": [
       "<Figure size 360x360 with 2 Axes>"
      ]
     },
     "metadata": {
      "needs_background": "light"
     },
     "output_type": "display_data"
    }
   ],
   "source": [
    "def TT_211(x, y, labels, k):\n",
    "    trainTest = train_test(x, y, 0.7)\n",
    "    neigh = K_neighbors_classifier(trainTest['TRAIN'][0], trainTest['TRAIN'][1], k)\n",
    "    pred = neigh.predict(trainTest['TEST'][0])\n",
    "    true = trainTest['TEST'][1]\n",
    "    cm, rs, ps, f1 = metrics(true, pred)\n",
    "    \n",
    "    mais_bonito(cm, rs, ps, f1, labels)\n",
    "\n",
    "TT_211(data, target, iris[\"target_names\"], 1)"
   ]
  },
  {
   "cell_type": "markdown",
   "metadata": {},
   "source": [
    "### 2.1.1. 10x10-fold cross-validation (10CV)"
   ]
  },
  {
   "cell_type": "code",
   "execution_count": 52,
   "metadata": {},
   "outputs": [
    {
     "name": "stdout",
     "output_type": "stream",
     "text": [
      "------------------- Iteração 0 -------------------\n"
     ]
    },
    {
     "data": {
      "text/html": [
       "<div>\n",
       "<style scoped>\n",
       "    .dataframe tbody tr th:only-of-type {\n",
       "        vertical-align: middle;\n",
       "    }\n",
       "\n",
       "    .dataframe tbody tr th {\n",
       "        vertical-align: top;\n",
       "    }\n",
       "\n",
       "    .dataframe thead th {\n",
       "        text-align: right;\n",
       "    }\n",
       "</style>\n",
       "<table border=\"1\" class=\"dataframe\">\n",
       "  <thead>\n",
       "    <tr style=\"text-align: right;\">\n",
       "      <th></th>\n",
       "      <th>Metrics</th>\n",
       "    </tr>\n",
       "  </thead>\n",
       "  <tbody>\n",
       "    <tr>\n",
       "      <th>Recall</th>\n",
       "      <td>1.0</td>\n",
       "    </tr>\n",
       "    <tr>\n",
       "      <th>Precision</th>\n",
       "      <td>1.0</td>\n",
       "    </tr>\n",
       "    <tr>\n",
       "      <th>F1-score</th>\n",
       "      <td>1.0</td>\n",
       "    </tr>\n",
       "  </tbody>\n",
       "</table>\n",
       "</div>"
      ],
      "text/plain": [
       "           Metrics\n",
       "Recall         1.0\n",
       "Precision      1.0\n",
       "F1-score       1.0"
      ]
     },
     "metadata": {},
     "output_type": "display_data"
    },
    {
     "data": {
      "image/png": "[encoded data removed]",
      "text/plain": [
       "<Figure size 360x360 with 2 Axes>"
      ]
     },
     "metadata": {
      "needs_background": "light"
     },
     "output_type": "display_data"
    },
    {
     "name": "stdout",
     "output_type": "stream",
     "text": [
      "------------------- Iteração 1 -------------------\n"
     ]
    },
    {
     "data": {
      "text/html": [
       "<div>\n",
       "<style scoped>\n",
       "    .dataframe tbody tr th:only-of-type {\n",
       "        vertical-align: middle;\n",
       "    }\n",
       "\n",
       "    .dataframe tbody tr th {\n",
       "        vertical-align: top;\n",
       "    }\n",
       "\n",
       "    .dataframe thead th {\n",
       "        text-align: right;\n",
       "    }\n",
       "</style>\n",
       "<table border=\"1\" class=\"dataframe\">\n",
       "  <thead>\n",
       "    <tr style=\"text-align: right;\">\n",
       "      <th></th>\n",
       "      <th>Metrics</th>\n",
       "    </tr>\n",
       "  </thead>\n",
       "  <tbody>\n",
       "    <tr>\n",
       "      <th>Recall</th>\n",
       "      <td>1.0</td>\n",
       "    </tr>\n",
       "    <tr>\n",
       "      <th>Precision</th>\n",
       "      <td>1.0</td>\n",
       "    </tr>\n",
       "    <tr>\n",
       "      <th>F1-score</th>\n",
       "      <td>1.0</td>\n",
       "    </tr>\n",
       "  </tbody>\n",
       "</table>\n",
       "</div>"
      ],
      "text/plain": [
       "           Metrics\n",
       "Recall         1.0\n",
       "Precision      1.0\n",
       "F1-score       1.0"
      ]
     },
     "metadata": {},
     "output_type": "display_data"
    },
    {
     "data": {
      "image/png": "[encoded data removed]",
      "text/plain": [
       "<Figure size 360x360 with 2 Axes>"
      ]
     },
     "metadata": {
      "needs_background": "light"
     },
     "output_type": "display_data"
    },
    {
     "name": "stdout",
     "output_type": "stream",
     "text": [
      "------------------- Iteração 2 -------------------\n"
     ]
    },
    {
     "data": {
      "text/html": [
       "<div>\n",
       "<style scoped>\n",
       "    .dataframe tbody tr th:only-of-type {\n",
       "        vertical-align: middle;\n",
       "    }\n",
       "\n",
       "    .dataframe tbody tr th {\n",
       "        vertical-align: top;\n",
       "    }\n",
       "\n",
       "    .dataframe thead th {\n",
       "        text-align: right;\n",
       "    }\n",
       "</style>\n",
       "<table border=\"1\" class=\"dataframe\">\n",
       "  <thead>\n",
       "    <tr style=\"text-align: right;\">\n",
       "      <th></th>\n",
       "      <th>Metrics</th>\n",
       "    </tr>\n",
       "  </thead>\n",
       "  <tbody>\n",
       "    <tr>\n",
       "      <th>Recall</th>\n",
       "      <td>1.0</td>\n",
       "    </tr>\n",
       "    <tr>\n",
       "      <th>Precision</th>\n",
       "      <td>1.0</td>\n",
       "    </tr>\n",
       "    <tr>\n",
       "      <th>F1-score</th>\n",
       "      <td>1.0</td>\n",
       "    </tr>\n",
       "  </tbody>\n",
       "</table>\n",
       "</div>"
      ],
      "text/plain": [
       "           Metrics\n",
       "Recall         1.0\n",
       "Precision      1.0\n",
       "F1-score       1.0"
      ]
     },
     "metadata": {},
     "output_type": "display_data"
    },
    {
     "data": {
      "image/png": "[encoded data removed]",
      "text/plain": [
       "<Figure size 360x360 with 2 Axes>"
      ]
     },
     "metadata": {
      "needs_background": "light"
     },
     "output_type": "display_data"
    },
    {
     "name": "stdout",
     "output_type": "stream",
     "text": [
      "------------------- Iteração 3 -------------------\n"
     ]
    },
    {
     "data": {
      "text/html": [
       "<div>\n",
       "<style scoped>\n",
       "    .dataframe tbody tr th:only-of-type {\n",
       "        vertical-align: middle;\n",
       "    }\n",
       "\n",
       "    .dataframe tbody tr th {\n",
       "        vertical-align: top;\n",
       "    }\n",
       "\n",
       "    .dataframe thead th {\n",
       "        text-align: right;\n",
       "    }\n",
       "</style>\n",
       "<table border=\"1\" class=\"dataframe\">\n",
       "  <thead>\n",
       "    <tr style=\"text-align: right;\">\n",
       "      <th></th>\n",
       "      <th>Metrics</th>\n",
       "    </tr>\n",
       "  </thead>\n",
       "  <tbody>\n",
       "    <tr>\n",
       "      <th>Recall</th>\n",
       "      <td>0.800000</td>\n",
       "    </tr>\n",
       "    <tr>\n",
       "      <th>Precision</th>\n",
       "      <td>0.813333</td>\n",
       "    </tr>\n",
       "    <tr>\n",
       "      <th>F1-score</th>\n",
       "      <td>0.802020</td>\n",
       "    </tr>\n",
       "  </tbody>\n",
       "</table>\n",
       "</div>"
      ],
      "text/plain": [
       "            Metrics\n",
       "Recall     0.800000\n",
       "Precision  0.813333\n",
       "F1-score   0.802020"
      ]
     },
     "metadata": {},
     "output_type": "display_data"
    },
    {
     "data": {
      "image/png": "[encoded data removed]",
      "text/plain": [
       "<Figure size 360x360 with 2 Axes>"
      ]
     },
     "metadata": {
      "needs_background": "light"
     },
     "output_type": "display_data"
    },
    {
     "name": "stdout",
     "output_type": "stream",
     "text": [
      "------------------- Iteração 4 -------------------\n"
     ]
    },
    {
     "data": {
      "text/html": [
       "<div>\n",
       "<style scoped>\n",
       "    .dataframe tbody tr th:only-of-type {\n",
       "        vertical-align: middle;\n",
       "    }\n",
       "\n",
       "    .dataframe tbody tr th {\n",
       "        vertical-align: top;\n",
       "    }\n",
       "\n",
       "    .dataframe thead th {\n",
       "        text-align: right;\n",
       "    }\n",
       "</style>\n",
       "<table border=\"1\" class=\"dataframe\">\n",
       "  <thead>\n",
       "    <tr style=\"text-align: right;\">\n",
       "      <th></th>\n",
       "      <th>Metrics</th>\n",
       "    </tr>\n",
       "  </thead>\n",
       "  <tbody>\n",
       "    <tr>\n",
       "      <th>Recall</th>\n",
       "      <td>1.0</td>\n",
       "    </tr>\n",
       "    <tr>\n",
       "      <th>Precision</th>\n",
       "      <td>1.0</td>\n",
       "    </tr>\n",
       "    <tr>\n",
       "      <th>F1-score</th>\n",
       "      <td>1.0</td>\n",
       "    </tr>\n",
       "  </tbody>\n",
       "</table>\n",
       "</div>"
      ],
      "text/plain": [
       "           Metrics\n",
       "Recall         1.0\n",
       "Precision      1.0\n",
       "F1-score       1.0"
      ]
     },
     "metadata": {},
     "output_type": "display_data"
    },
    {
     "data": {
      "image/png": "[encoded data removed]",
      "text/plain": [
       "<Figure size 360x360 with 2 Axes>"
      ]
     },
     "metadata": {
      "needs_background": "light"
     },
     "output_type": "display_data"
    },
    {
     "name": "stdout",
     "output_type": "stream",
     "text": [
      "------------------- Iteração 5 -------------------\n"
     ]
    },
    {
     "data": {
      "text/html": [
       "<div>\n",
       "<style scoped>\n",
       "    .dataframe tbody tr th:only-of-type {\n",
       "        vertical-align: middle;\n",
       "    }\n",
       "\n",
       "    .dataframe tbody tr th {\n",
       "        vertical-align: top;\n",
       "    }\n",
       "\n",
       "    .dataframe thead th {\n",
       "        text-align: right;\n",
       "    }\n",
       "</style>\n",
       "<table border=\"1\" class=\"dataframe\">\n",
       "  <thead>\n",
       "    <tr style=\"text-align: right;\">\n",
       "      <th></th>\n",
       "      <th>Metrics</th>\n",
       "    </tr>\n",
       "  </thead>\n",
       "  <tbody>\n",
       "    <tr>\n",
       "      <th>Recall</th>\n",
       "      <td>0.933333</td>\n",
       "    </tr>\n",
       "    <tr>\n",
       "      <th>Precision</th>\n",
       "      <td>0.946667</td>\n",
       "    </tr>\n",
       "    <tr>\n",
       "      <th>F1-score</th>\n",
       "      <td>0.934815</td>\n",
       "    </tr>\n",
       "  </tbody>\n",
       "</table>\n",
       "</div>"
      ],
      "text/plain": [
       "            Metrics\n",
       "Recall     0.933333\n",
       "Precision  0.946667\n",
       "F1-score   0.934815"
      ]
     },
     "metadata": {},
     "output_type": "display_data"
    },
    {
     "data": {
      "image/png": "[encoded data removed]",
      "text/plain": [
       "<Figure size 360x360 with 2 Axes>"
      ]
     },
     "metadata": {
      "needs_background": "light"
     },
     "output_type": "display_data"
    },
    {
     "name": "stdout",
     "output_type": "stream",
     "text": [
      "------------------- Iteração 6 -------------------\n"
     ]
    },
    {
     "data": {
      "text/html": [
       "<div>\n",
       "<style scoped>\n",
       "    .dataframe tbody tr th:only-of-type {\n",
       "        vertical-align: middle;\n",
       "    }\n",
       "\n",
       "    .dataframe tbody tr th {\n",
       "        vertical-align: top;\n",
       "    }\n",
       "\n",
       "    .dataframe thead th {\n",
       "        text-align: right;\n",
       "    }\n",
       "</style>\n",
       "<table border=\"1\" class=\"dataframe\">\n",
       "  <thead>\n",
       "    <tr style=\"text-align: right;\">\n",
       "      <th></th>\n",
       "      <th>Metrics</th>\n",
       "    </tr>\n",
       "  </thead>\n",
       "  <tbody>\n",
       "    <tr>\n",
       "      <th>Recall</th>\n",
       "      <td>1.0</td>\n",
       "    </tr>\n",
       "    <tr>\n",
       "      <th>Precision</th>\n",
       "      <td>1.0</td>\n",
       "    </tr>\n",
       "    <tr>\n",
       "      <th>F1-score</th>\n",
       "      <td>1.0</td>\n",
       "    </tr>\n",
       "  </tbody>\n",
       "</table>\n",
       "</div>"
      ],
      "text/plain": [
       "           Metrics\n",
       "Recall         1.0\n",
       "Precision      1.0\n",
       "F1-score       1.0"
      ]
     },
     "metadata": {},
     "output_type": "display_data"
    },
    {
     "data": {
      "image/png": "[encoded data removed]",
      "text/plain": [
       "<Figure size 360x360 with 2 Axes>"
      ]
     },
     "metadata": {
      "needs_background": "light"
     },
     "output_type": "display_data"
    },
    {
     "name": "stdout",
     "output_type": "stream",
     "text": [
      "------------------- Iteração 7 -------------------\n"
     ]
    },
    {
     "data": {
      "text/html": [
       "<div>\n",
       "<style scoped>\n",
       "    .dataframe tbody tr th:only-of-type {\n",
       "        vertical-align: middle;\n",
       "    }\n",
       "\n",
       "    .dataframe tbody tr th {\n",
       "        vertical-align: top;\n",
       "    }\n",
       "\n",
       "    .dataframe thead th {\n",
       "        text-align: right;\n",
       "    }\n",
       "</style>\n",
       "<table border=\"1\" class=\"dataframe\">\n",
       "  <thead>\n",
       "    <tr style=\"text-align: right;\">\n",
       "      <th></th>\n",
       "      <th>Metrics</th>\n",
       "    </tr>\n",
       "  </thead>\n",
       "  <tbody>\n",
       "    <tr>\n",
       "      <th>Recall</th>\n",
       "      <td>0.933333</td>\n",
       "    </tr>\n",
       "    <tr>\n",
       "      <th>Precision</th>\n",
       "      <td>0.942857</td>\n",
       "    </tr>\n",
       "    <tr>\n",
       "      <th>F1-score</th>\n",
       "      <td>0.932867</td>\n",
       "    </tr>\n",
       "  </tbody>\n",
       "</table>\n",
       "</div>"
      ],
      "text/plain": [
       "            Metrics\n",
       "Recall     0.933333\n",
       "Precision  0.942857\n",
       "F1-score   0.932867"
      ]
     },
     "metadata": {},
     "output_type": "display_data"
    },
    {
     "data": {
      "image/png": "[encoded data removed]",
      "text/plain": [
       "<Figure size 360x360 with 2 Axes>"
      ]
     },
     "metadata": {
      "needs_background": "light"
     },
     "output_type": "display_data"
    },
    {
     "name": "stdout",
     "output_type": "stream",
     "text": [
      "------------------- Iteração 8 -------------------\n"
     ]
    },
    {
     "data": {
      "text/html": [
       "<div>\n",
       "<style scoped>\n",
       "    .dataframe tbody tr th:only-of-type {\n",
       "        vertical-align: middle;\n",
       "    }\n",
       "\n",
       "    .dataframe tbody tr th {\n",
       "        vertical-align: top;\n",
       "    }\n",
       "\n",
       "    .dataframe thead th {\n",
       "        text-align: right;\n",
       "    }\n",
       "</style>\n",
       "<table border=\"1\" class=\"dataframe\">\n",
       "  <thead>\n",
       "    <tr style=\"text-align: right;\">\n",
       "      <th></th>\n",
       "      <th>Metrics</th>\n",
       "    </tr>\n",
       "  </thead>\n",
       "  <tbody>\n",
       "    <tr>\n",
       "      <th>Recall</th>\n",
       "      <td>0.866667</td>\n",
       "    </tr>\n",
       "    <tr>\n",
       "      <th>Precision</th>\n",
       "      <td>0.933333</td>\n",
       "    </tr>\n",
       "    <tr>\n",
       "      <th>F1-score</th>\n",
       "      <td>0.877778</td>\n",
       "    </tr>\n",
       "  </tbody>\n",
       "</table>\n",
       "</div>"
      ],
      "text/plain": [
       "            Metrics\n",
       "Recall     0.866667\n",
       "Precision  0.933333\n",
       "F1-score   0.877778"
      ]
     },
     "metadata": {},
     "output_type": "display_data"
    },
    {
     "data": {
      "image/png": "[encoded data removed]",
      "text/plain": [
       "<Figure size 360x360 with 2 Axes>"
      ]
     },
     "metadata": {
      "needs_background": "light"
     },
     "output_type": "display_data"
    },
    {
     "name": "stdout",
     "output_type": "stream",
     "text": [
      "------------------- Iteração 9 -------------------\n"
     ]
    },
    {
     "data": {
      "text/html": [
       "<div>\n",
       "<style scoped>\n",
       "    .dataframe tbody tr th:only-of-type {\n",
       "        vertical-align: middle;\n",
       "    }\n",
       "\n",
       "    .dataframe tbody tr th {\n",
       "        vertical-align: top;\n",
       "    }\n",
       "\n",
       "    .dataframe thead th {\n",
       "        text-align: right;\n",
       "    }\n",
       "</style>\n",
       "<table border=\"1\" class=\"dataframe\">\n",
       "  <thead>\n",
       "    <tr style=\"text-align: right;\">\n",
       "      <th></th>\n",
       "      <th>Metrics</th>\n",
       "    </tr>\n",
       "  </thead>\n",
       "  <tbody>\n",
       "    <tr>\n",
       "      <th>Recall</th>\n",
       "      <td>1.0</td>\n",
       "    </tr>\n",
       "    <tr>\n",
       "      <th>Precision</th>\n",
       "      <td>1.0</td>\n",
       "    </tr>\n",
       "    <tr>\n",
       "      <th>F1-score</th>\n",
       "      <td>1.0</td>\n",
       "    </tr>\n",
       "  </tbody>\n",
       "</table>\n",
       "</div>"
      ],
      "text/plain": [
       "           Metrics\n",
       "Recall         1.0\n",
       "Precision      1.0\n",
       "F1-score       1.0"
      ]
     },
     "metadata": {},
     "output_type": "display_data"
    },
    {
     "data": {
      "image/png": "[encoded data removed]",
      "text/plain": [
       "<Figure size 360x360 with 2 Axes>"
      ]
     },
     "metadata": {
      "needs_background": "light"
     },
     "output_type": "display_data"
    }
   ],
   "source": [
    "def CV_211(x, y, n_splits, labels, k):\n",
    "    kf = k_fold(x, y, n_splits)\n",
    "\n",
    "    count = 0\n",
    "    for info in kf:\n",
    "        print(\"------------------- Iteração \" + str(count) + \" -------------------\")\n",
    "\n",
    "        neigh = K_neighbors_classifier(info['TRAIN'][0], info['TRAIN'][1], k)\n",
    "        pred = neigh.predict(info['TEST'][0])\n",
    "        true = info['TEST'][1]\n",
    "        cm, rs, ps, f1 = metrics(true, pred)\n",
    "\n",
    "        mais_bonito(cm, rs, ps, f1, labels)\n",
    "\n",
    "        count += 1\n",
    "\n",
    "CV_211(data, target, 10, iris[\"target_names\"], 1)"
   ]
  },
  {
   "cell_type": "markdown",
   "metadata": {},
   "source": [
    "### 2.1.2. k na gama {1, 3, 5, ...,15}"
   ]
  },
  {
   "cell_type": "code",
   "execution_count": 53,
   "metadata": {},
   "outputs": [
    {
     "data": {
      "text/plain": [
       "array([ 1,  3,  5,  7,  9, 11, 13, 15])"
      ]
     },
     "metadata": {},
     "output_type": "display_data"
    }
   ],
   "source": [
    "_k = np.arange(1, 16, 2)\n",
    "\n",
    "display(_k)"
   ]
  },
  {
   "cell_type": "markdown",
   "metadata": {},
   "source": [
    "### 2.1.2. Train-only"
   ]
  },
  {
   "cell_type": "code",
   "execution_count": 54,
   "metadata": {},
   "outputs": [
    {
     "data": {
      "image/png": "[encoded data removed]",
      "text/plain": [
       "<Figure size 432x288 with 1 Axes>"
      ]
     },
     "metadata": {
      "needs_background": "light"
     },
     "output_type": "display_data"
    },
    {
     "name": "stdout",
     "output_type": "stream",
     "text": [
      "Best K: 1\n"
     ]
    },
    {
     "data": {
      "text/html": [
       "<div>\n",
       "<style scoped>\n",
       "    .dataframe tbody tr th:only-of-type {\n",
       "        vertical-align: middle;\n",
       "    }\n",
       "\n",
       "    .dataframe tbody tr th {\n",
       "        vertical-align: top;\n",
       "    }\n",
       "\n",
       "    .dataframe thead th {\n",
       "        text-align: right;\n",
       "    }\n",
       "</style>\n",
       "<table border=\"1\" class=\"dataframe\">\n",
       "  <thead>\n",
       "    <tr style=\"text-align: right;\">\n",
       "      <th></th>\n",
       "      <th>Metrics</th>\n",
       "    </tr>\n",
       "  </thead>\n",
       "  <tbody>\n",
       "    <tr>\n",
       "      <th>Recall</th>\n",
       "      <td>1.0</td>\n",
       "    </tr>\n",
       "    <tr>\n",
       "      <th>Precision</th>\n",
       "      <td>1.0</td>\n",
       "    </tr>\n",
       "    <tr>\n",
       "      <th>F1-score</th>\n",
       "      <td>1.0</td>\n",
       "    </tr>\n",
       "  </tbody>\n",
       "</table>\n",
       "</div>"
      ],
      "text/plain": [
       "           Metrics\n",
       "Recall         1.0\n",
       "Precision      1.0\n",
       "F1-score       1.0"
      ]
     },
     "metadata": {},
     "output_type": "display_data"
    },
    {
     "data": {
      "image/png": "[encoded data removed]",
      "text/plain": [
       "<Figure size 360x360 with 2 Axes>"
      ]
     },
     "metadata": {
      "needs_background": "light"
     },
     "output_type": "display_data"
    }
   ],
   "source": [
    "def TO_212(x, y, metr):\n",
    "    for k in _k:\n",
    "        neigh = K_neighbors_classifier(x, y, k)\n",
    "        pred = neigh.predict(x)\n",
    "        true = y\n",
    "        cm, rs, ps, f1 = metrics(true, pred)\n",
    "\n",
    "        metr[\"Neigh\"].append(neigh)\n",
    "        metr[\"Recall\"].append(rs)\n",
    "        metr[\"Precision\"].append(ps)\n",
    "        metr[\"F1-score\"].append(f1)\n",
    "    \n",
    "    return metr\n",
    "\n",
    "def plot_metricas(metr):\n",
    "    plt.figure()\n",
    "\n",
    "    plt.plot(_k, metr[\"Recall\"], label=\"Recall\")\n",
    "    plt.scatter(_k, metr[\"Recall\"])\n",
    "    plt.plot(_k, metr[\"Precision\"], label=\"Precision\")\n",
    "    plt.scatter(_k, metr[\"Precision\"])\n",
    "    plt.plot(_k, metr[\"F1-score\"], label=\"F1-score\")\n",
    "    plt.scatter(_k, metr[\"F1-score\"])\n",
    "    \n",
    "    \n",
    "    plt.title(\"Comparação de métricas\")\n",
    "    plt.xlabel(\"Valores de k\")\n",
    "    plt.ylabel(\"Métricas\")\n",
    "    plt.legend()\n",
    "    plt.show()\n",
    "\n",
    "def TO_gama(x, y):\n",
    "    metr = {\"Neigh\": [], \"Recall\": [], \"Precision\": [], \"F1-score\": []}\n",
    "    \n",
    "    new_metr = TO_212(x, y, metr)\n",
    "\n",
    "    plot_metricas(new_metr)\n",
    "\n",
    "    pos_k = new_metr[\"Recall\"].index(max(new_metr[\"Recall\"]))\n",
    "    best_k = _k[pos_k]\n",
    "    print(\"Best K: \" + str(best_k))\n",
    "\n",
    "    neigh = K_neighbors_classifier(x, y, best_k)\n",
    "    pred = neigh.predict(x)\n",
    "    true = y\n",
    "    cm, rs, ps, f1 = metrics(true, pred)\n",
    "\n",
    "    mais_bonito(cm, rs, ps, f1, iris[\"target_names\"])\n",
    "\n",
    "TO_gama(data, target)"
   ]
  },
  {
   "cell_type": "markdown",
   "metadata": {},
   "source": [
    "### 2.1.2. TVT 40-30-30"
   ]
  },
  {
   "cell_type": "code",
   "execution_count": 60,
   "metadata": {},
   "outputs": [
    {
     "data": {
      "image/png": "[encoded data removed]",
      "text/plain": [
       "<Figure size 432x288 with 1 Axes>"
      ]
     },
     "metadata": {
      "needs_background": "light"
     },
     "output_type": "display_data"
    },
    {
     "name": "stdout",
     "output_type": "stream",
     "text": [
      "Best K: 9\n"
     ]
    },
    {
     "data": {
      "text/html": [
       "<div>\n",
       "<style scoped>\n",
       "    .dataframe tbody tr th:only-of-type {\n",
       "        vertical-align: middle;\n",
       "    }\n",
       "\n",
       "    .dataframe tbody tr th {\n",
       "        vertical-align: top;\n",
       "    }\n",
       "\n",
       "    .dataframe thead th {\n",
       "        text-align: right;\n",
       "    }\n",
       "</style>\n",
       "<table border=\"1\" class=\"dataframe\">\n",
       "  <thead>\n",
       "    <tr style=\"text-align: right;\">\n",
       "      <th></th>\n",
       "      <th>Metrics</th>\n",
       "    </tr>\n",
       "  </thead>\n",
       "  <tbody>\n",
       "    <tr>\n",
       "      <th>Recall</th>\n",
       "      <td>0.980000</td>\n",
       "    </tr>\n",
       "    <tr>\n",
       "      <th>Precision</th>\n",
       "      <td>0.980125</td>\n",
       "    </tr>\n",
       "    <tr>\n",
       "      <th>F1-score</th>\n",
       "      <td>0.979998</td>\n",
       "    </tr>\n",
       "  </tbody>\n",
       "</table>\n",
       "</div>"
      ],
      "text/plain": [
       "            Metrics\n",
       "Recall     0.980000\n",
       "Precision  0.980125\n",
       "F1-score   0.979998"
      ]
     },
     "metadata": {},
     "output_type": "display_data"
    },
    {
     "data": {
      "image/png": "[encoded data removed]",
      "text/plain": [
       "<Figure size 360x360 with 2 Axes>"
      ]
     },
     "metadata": {
      "needs_background": "light"
     },
     "output_type": "display_data"
    }
   ],
   "source": [
    "def TVT_212(x, y, metr):\n",
    "    for k in _k:\n",
    "        trainValidation = train_validation_test(x, y, 0.4, 0.3)\n",
    "        neigh = K_neighbors_classifier(trainValidation['TRAIN'][0], trainValidation['TRAIN'][1], k)\n",
    "        pred = neigh.predict(trainValidation['VALIDATION'][0])\n",
    "        true = trainValidation['VALIDATION'][1]\n",
    "        cm, rs, ps, f1 = metrics(true, pred)\n",
    "\n",
    "        metr[\"Neigh\"].append(neigh)\n",
    "        metr[\"Recall\"].append(rs)\n",
    "        metr[\"Precision\"].append(ps)\n",
    "        metr[\"F1-score\"].append(f1)\n",
    "    \n",
    "    return metr\n",
    "\n",
    "def plot_metricas(metr):\n",
    "    plt.figure()\n",
    "\n",
    "    plt.plot(_k, metr[\"Recall\"], label=\"Recall\")\n",
    "    plt.scatter(_k, metr[\"Recall\"])\n",
    "    plt.plot(_k, metr[\"Precision\"], label=\"Precision\")\n",
    "    plt.scatter(_k, metr[\"Precision\"])\n",
    "    plt.plot(_k, metr[\"F1-score\"], label=\"F1-score\")\n",
    "    plt.scatter(_k, metr[\"F1-score\"])\n",
    "    \n",
    "    plt.title(\"Comparação de métricas\")\n",
    "    plt.xlabel(\"Valores de k\")\n",
    "    plt.ylabel(\"Métricas\")\n",
    "    plt.legend()\n",
    "    plt.show()\n",
    "\n",
    "def TVT_gama(x, y):\n",
    "    metr = {\"Neigh\": [], \"Recall\": [], \"Precision\": [], \"F1-score\": []}\n",
    "    \n",
    "    new_metr = TVT_212(x, y, metr)\n",
    "\n",
    "    plot_metricas(new_metr)\n",
    "\n",
    "    pos_k = new_metr[\"Recall\"].index(max(new_metr[\"Recall\"]))\n",
    "    best_k = _k[pos_k]\n",
    "    print(\"Best K: \" + str(best_k))\n",
    "\n",
    "    neigh = K_neighbors_classifier(x, y, best_k)\n",
    "    pred = neigh.predict(x)\n",
    "    true = y\n",
    "    cm, rs, ps, f1 = metrics(true, pred)\n",
    "\n",
    "    mais_bonito(cm, rs, ps, f1, iris[\"target_names\"])\n",
    "\n",
    "TVT_gama(data, target)"
   ]
  },
  {
   "cell_type": "markdown",
   "metadata": {},
   "source": [
    "### 2.1.2. 10x10-fold cross-validation (10CV)"
   ]
  },
  {
   "cell_type": "code",
   "execution_count": null,
   "metadata": {},
   "outputs": [],
   "source": [
    "def CV_212(x, y, metr):\n",
    "\n",
    "    kf = k_fold(x, y, n_splits)\n",
    "\n",
    "    count = 0\n",
    "    for info in kf:\n",
    "        print(\"------------------- Iteração \" + str(count) + \" -------------------\")\n",
    "        count += 1\n",
    "\n",
    "        for k in _k:\n",
    "            neigh = K_neighbors_classifier(info['TRAIN'][0], info['TRAIN'][1], k)\n",
    "            pred = neigh.predict(info['TEST'][0])\n",
    "            true = info['TEST'][1]\n",
    "            cm, rs, ps, f1 = metrics(true, pred)\n",
    "\n",
    "            metr[\"Neigh\"].append(neigh)\n",
    "            metr[\"Recall\"].append(rs)\n",
    "            metr[\"Precision\"].append(ps)\n",
    "            metr[\"F1-score\"].append(f1)\n",
    "\n",
    "\n",
    "    return metr\n",
    "\n",
    "def plot_metricas(metr):\n",
    "    plt.figure()\n",
    "\n",
    "    plt.plot(_k, metr[\"Recall\"], label=\"Recall\")\n",
    "    plt.scatter(_k, metr[\"Recall\"])\n",
    "    plt.plot(_k, metr[\"Precision\"], label=\"Precision\")\n",
    "    plt.scatter(_k, metr[\"Precision\"])\n",
    "    plt.plot(_k, metr[\"F1-score\"], label=\"F1-score\")\n",
    "    plt.scatter(_k, metr[\"F1-score\"])\n",
    "    \n",
    "    plt.title(\"Comparação de métricas\")\n",
    "    plt.xlabel(\"Valores de k\")\n",
    "    plt.ylabel(\"Métricas\")\n",
    "    plt.legend()\n",
    "    plt.show()\n",
    "\n",
    "def CV_gama(x, y):\n",
    "    metr = {\"Neigh\": [], \"Recall\": [], \"Precision\": [], \"F1-score\": []}\n",
    "    \n",
    "    new_metr = CV_212(x, y, metr)\n",
    "\n",
    "    plot_metricas(new_metr)\n",
    "\n",
    "    pos_k = new_metr[\"Recall\"].index(max(new_metr[\"Recall\"]))\n",
    "    best_k = _k[pos_k]\n",
    "    print(\"Best K: \" + str(best_k))\n",
    "\n",
    "    neigh = K_neighbors_classifier(x, y, best_k)\n",
    "    pred = neigh.predict(x)\n",
    "    true = y\n",
    "    cm, rs, ps, f1 = metrics(true, pred)\n",
    "\n",
    "    mais_bonito(cm, rs, ps, f1, iris[\"target_names\"])\n",
    "\n",
    "CV_gama(data, target)"
   ]
  }
 ],
 "metadata": {
  "kernelspec": {
   "display_name": "Python 3.9.12 ('base')",
   "language": "python",
   "name": "python3"
  },
  "language_info": {
   "codemirror_mode": {
    "name": "ipython",
    "version": 3
   },
   "file_extension": ".py",
   "mimetype": "text/x-python",
   "name": "python",
   "nbconvert_exporter": "python",
   "pygments_lexer": "ipython3",
   "version": "3.9.12"
  },
  "orig_nbformat": 4,
  "vscode": {
   "interpreter": {
    "hash": "69d74384aa76d343bb359f062cb72694a1a85a4dab3a55db2bb23019c1d352ec"
   }
  }
 },
 "nbformat": 4,
 "nbformat_minor": 2
}
