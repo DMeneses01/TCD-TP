{
 "cells": [
  {
   "cell_type": "markdown",
   "metadata": {},
   "source": [
    "# TP1 - Parte B: Classificação de Atividades Humanas \n",
    "### Tópicos de Ciência dos Dados - MECD (2022/2023)\n",
    "\n",
    "### Autores\n",
    "\n",
    "- Duarte Meneses - 2019216949\n",
    "- Patricia Costa - 2019213995\n"
   ]
  },
  {
   "cell_type": "code",
   "execution_count": 1,
   "metadata": {},
   "outputs": [],
   "source": [
    "import csv\n",
    "import os\n",
    "import numpy as np\n",
    "import matplotlib.pyplot as plt\n",
    "from sklearn import datasets\n",
    "from sklearn.decomposition import PCA\n",
    "import pandas as pd"
   ]
  },
  {
   "cell_type": "markdown",
   "metadata": {},
   "source": [
    "## 4.5 e 4.6 da Parte A"
   ]
  },
  {
   "cell_type": "markdown",
   "metadata": {},
   "source": [
    "### 4.5. ReliefF"
   ]
  },
  {
   "cell_type": "code",
   "execution_count": 3,
   "metadata": {},
   "outputs": [],
   "source": [
    "from ReliefF import ReliefF\n",
    "\n",
    "def reliefF(x, y, n_neighbors, n_features_to_keep):\n",
    "    fs = ReliefF(n_neighbors=n_neighbors, n_features_to_keep=n_features_to_keep)\n",
    "    fit = fs.fit_transform(x, y)\n",
    "\n",
    "    return fit"
   ]
  },
  {
   "cell_type": "markdown",
   "metadata": {},
   "source": [
    "## Parte B\n"
   ]
  },
  {
   "cell_type": "markdown",
   "metadata": {},
   "source": [
    "### 1.1. Data Splitting"
   ]
  },
  {
   "cell_type": "markdown",
   "metadata": {},
   "source": [
    "### 1.1.1. Train-Test (TT) e Train-Validation-Test data split"
   ]
  },
  {
   "cell_type": "code",
   "execution_count": 4,
   "metadata": {},
   "outputs": [],
   "source": [
    "from sklearn.model_selection import train_test_split\n",
    "#https://scikit-learn.org/stable/modules/generated/sklearn.model_selection.train_test_split.html\n",
    "\n",
    "def train_test(data, target, train_size):\n",
    "\n",
    "    x_train, x_test, y_train, y_test = train_test_split(data, target, train_size=train_size)\n",
    "\n",
    "    trainTest = {\"TRAIN\": [x_train, y_train], \"TEST\": [x_test, y_test]}\n",
    "\n",
    "    return trainTest\n",
    "\n",
    "def train_validation_test(data, target, train_size, test_size):\n",
    "\n",
    "    x_train, x_rem, y_train, y_rem = train_test_split(data, target, train_size=train_size)\n",
    "\n",
    "    # 1 - train_size -> correponde agora ao nosso 100%(1)\n",
    "    # test_size -> test_size / (1-train_size)\n",
    "\n",
    "    test = test_size / (1-train_size)\n",
    "\n",
    "    x_valid, x_test, y_valid, y_test = train_test_split(x_rem, y_rem, test_size = test)\n",
    "\n",
    "    trainValidation = {\"TRAIN\": [x_train, y_train], \"TEST\": [x_test, y_test], \"VALIDATION\": [x_valid, y_valid]}\n",
    "    \n",
    "    return trainValidation\n",
    "\n"
   ]
  },
  {
   "cell_type": "markdown",
   "metadata": {},
   "source": [
    "### 1.1.2. K-fold data split"
   ]
  },
  {
   "cell_type": "code",
   "execution_count": 5,
   "metadata": {},
   "outputs": [],
   "source": [
    "from sklearn.model_selection import KFold\n",
    "#https://scikit-learn.org/stable/modules/generated/sklearn.model_selection.KFold.html\n",
    "\n",
    "def k_fold(x, y, n_splits):\n",
    "    kf = KFold(n_splits=n_splits, shuffle = True)\n",
    "    kfold = []\n",
    "    for train_index, test_index in kf.split(x):\n",
    "        x_train, x_test = x[train_index], x[test_index]\n",
    "        y_train, y_test = y[train_index], y[test_index]\n",
    "        kfold.append({\"TRAIN\": [x_train, y_train], \"TEST\": [x_test, y_test]})\n",
    "    \n",
    "    return kfold"
   ]
  },
  {
   "cell_type": "code",
   "execution_count": 6,
   "metadata": {},
   "outputs": [
    {
     "name": "stdout",
     "output_type": "stream",
     "text": [
      "--Train Test--\n",
      "\n"
     ]
    },
    {
     "data": {
      "text/plain": [
       "{'TRAIN': [array([[1, 2],\n",
       "         [1, 2]]),\n",
       "  array([1, 3])],\n",
       " 'TEST': [array([[3, 4],\n",
       "         [3, 4]]),\n",
       "  array([2, 4])]}"
      ]
     },
     "metadata": {},
     "output_type": "display_data"
    },
    {
     "name": "stdout",
     "output_type": "stream",
     "text": [
      "\n",
      "--Train Validation Test--\n",
      "\n"
     ]
    },
    {
     "data": {
      "text/plain": [
       "{'TRAIN': [array([[1, 2]]), array([3])],\n",
       " 'TEST': [array([[3, 4],\n",
       "         [1, 2]]), array([4, 1])],\n",
       " 'VALIDATION': [array([[3, 4]]), array([2])]}"
      ]
     },
     "metadata": {},
     "output_type": "display_data"
    },
    {
     "name": "stdout",
     "output_type": "stream",
     "text": [
      "\n",
      "--K Fold--\n",
      "\n"
     ]
    },
    {
     "data": {
      "text/plain": [
       "[{'TRAIN': [array([[1, 2],\n",
       "          [3, 4],\n",
       "          [3, 4]]),\n",
       "   array([1, 2, 4])],\n",
       "  'TEST': [array([[1, 2]]), array([3])]},\n",
       " {'TRAIN': [array([[1, 2],\n",
       "          [3, 4],\n",
       "          [1, 2]]),\n",
       "   array([1, 2, 3])],\n",
       "  'TEST': [array([[3, 4]]), array([4])]},\n",
       " {'TRAIN': [array([[3, 4],\n",
       "          [1, 2],\n",
       "          [3, 4]]),\n",
       "   array([2, 3, 4])],\n",
       "  'TEST': [array([[1, 2]]), array([1])]},\n",
       " {'TRAIN': [array([[1, 2],\n",
       "          [1, 2],\n",
       "          [3, 4]]),\n",
       "   array([1, 3, 4])],\n",
       "  'TEST': [array([[3, 4]]), array([2])]}]"
      ]
     },
     "metadata": {},
     "output_type": "display_data"
    }
   ],
   "source": [
    "#Testes\n",
    "X = np.array([[1, 2], [3, 4], [1, 2], [3, 4]])\n",
    "y = np.array([1, 2, 3, 4])\n",
    "\n",
    "print(\"--Train Test--\\n\")\n",
    "trainTest = train_test(X, y, 0.7)\n",
    "display(trainTest)\n",
    "\n",
    "print(\"\\n--Train Validation Test--\\n\")\n",
    "trainValidation = train_validation_test(X, y, 0.4, 0.3)\n",
    "display(trainValidation)\n",
    "\n",
    "print(\"\\n--K Fold--\\n\")\n",
    "kFold = k_fold(X, y, 4)\n",
    "display(kFold)"
   ]
  },
  {
   "cell_type": "markdown",
   "metadata": {},
   "source": [
    "### 1.2. Métricas de exactidação"
   ]
  },
  {
   "cell_type": "code",
   "execution_count": 7,
   "metadata": {},
   "outputs": [],
   "source": [
    "#Teste\n",
    "true = [2, 0, 2, 2, 0, 1]\n",
    "pred = [0, 0, 2, 2, 0, 2]"
   ]
  },
  {
   "cell_type": "markdown",
   "metadata": {},
   "source": [
    "-> Explicação do parâmetro average\n",
    "\n",
    "**'binary'**:\n",
    "Only report results for the class specified by pos_label. This is applicable only if targets (y_{true,pred}) are binary.\n",
    "\n",
    "**'micro'**:\n",
    "Calculate metrics globally by counting the total true positives, false negatives and false positives.\n",
    "\n",
    "**'macro'**:\n",
    "Calculate metrics for each label, and find their unweighted mean. This does not take label imbalance into account.\n",
    "\n",
    "**'weighted'**:\n",
    "Calculate metrics for each label, and find their average weighted by support (the number of true instances for each label). This alters ‘macro’ to account for label imbalance; it can result in an F-score that is not between precision and recall.\n",
    "\n",
    "**'samples'**:\n",
    "Calculate metrics for each instance, and find their average (only meaningful for multilabel classification where this differs from accuracy_score)."
   ]
  },
  {
   "cell_type": "code",
   "execution_count": 8,
   "metadata": {},
   "outputs": [
    {
     "name": "stdout",
     "output_type": "stream",
     "text": [
      "Confusion Matrix:\n",
      " [[2 0 0]\n",
      " [0 0 1]\n",
      " [1 0 2]]\n",
      "\n",
      "Recall:  0.5555555555555555\n",
      "\n",
      "Precision:  0.4444444444444444\n",
      "\n",
      "F1-score:  0.48888888888888893\n",
      "--------------------------------------------------\n"
     ]
    },
    {
     "data": {
      "text/html": [
       "<div>\n",
       "<style scoped>\n",
       "    .dataframe tbody tr th:only-of-type {\n",
       "        vertical-align: middle;\n",
       "    }\n",
       "\n",
       "    .dataframe tbody tr th {\n",
       "        vertical-align: top;\n",
       "    }\n",
       "\n",
       "    .dataframe thead th {\n",
       "        text-align: right;\n",
       "    }\n",
       "</style>\n",
       "<table border=\"1\" class=\"dataframe\">\n",
       "  <thead>\n",
       "    <tr style=\"text-align: right;\">\n",
       "      <th></th>\n",
       "      <th>Metrics</th>\n",
       "    </tr>\n",
       "  </thead>\n",
       "  <tbody>\n",
       "    <tr>\n",
       "      <th>Recall</th>\n",
       "      <td>0.555556</td>\n",
       "    </tr>\n",
       "    <tr>\n",
       "      <th>Precision</th>\n",
       "      <td>0.444444</td>\n",
       "    </tr>\n",
       "    <tr>\n",
       "      <th>F1-score</th>\n",
       "      <td>0.488889</td>\n",
       "    </tr>\n",
       "  </tbody>\n",
       "</table>\n",
       "</div>"
      ],
      "text/plain": [
       "            Metrics\n",
       "Recall     0.555556\n",
       "Precision  0.444444\n",
       "F1-score   0.488889"
      ]
     },
     "metadata": {},
     "output_type": "display_data"
    },
    {
     "data": {
      "text/html": [
       "<style type=\"text/css\">\n",
       "</style>\n",
       "<table id=\"T_85a43\">\n",
       "  <caption>Confusion Matrix</caption>\n",
       "  <thead>\n",
       "    <tr>\n",
       "      <th class=\"blank level0\" >&nbsp;</th>\n",
       "      <th id=\"T_85a43_level0_col0\" class=\"col_heading level0 col0\" >0</th>\n",
       "      <th id=\"T_85a43_level0_col1\" class=\"col_heading level0 col1\" >1</th>\n",
       "      <th id=\"T_85a43_level0_col2\" class=\"col_heading level0 col2\" >2</th>\n",
       "    </tr>\n",
       "  </thead>\n",
       "  <tbody>\n",
       "    <tr>\n",
       "      <th id=\"T_85a43_level0_row0\" class=\"row_heading level0 row0\" >0</th>\n",
       "      <td id=\"T_85a43_row0_col0\" class=\"data row0 col0\" >2</td>\n",
       "      <td id=\"T_85a43_row0_col1\" class=\"data row0 col1\" >0</td>\n",
       "      <td id=\"T_85a43_row0_col2\" class=\"data row0 col2\" >0</td>\n",
       "    </tr>\n",
       "    <tr>\n",
       "      <th id=\"T_85a43_level0_row1\" class=\"row_heading level0 row1\" >1</th>\n",
       "      <td id=\"T_85a43_row1_col0\" class=\"data row1 col0\" >0</td>\n",
       "      <td id=\"T_85a43_row1_col1\" class=\"data row1 col1\" >0</td>\n",
       "      <td id=\"T_85a43_row1_col2\" class=\"data row1 col2\" >1</td>\n",
       "    </tr>\n",
       "    <tr>\n",
       "      <th id=\"T_85a43_level0_row2\" class=\"row_heading level0 row2\" >2</th>\n",
       "      <td id=\"T_85a43_row2_col0\" class=\"data row2 col0\" >1</td>\n",
       "      <td id=\"T_85a43_row2_col1\" class=\"data row2 col1\" >0</td>\n",
       "      <td id=\"T_85a43_row2_col2\" class=\"data row2 col2\" >2</td>\n",
       "    </tr>\n",
       "  </tbody>\n",
       "</table>\n"
      ],
      "text/plain": [
       "<pandas.io.formats.style.Styler at 0x2457faae670>"
      ]
     },
     "metadata": {},
     "output_type": "display_data"
    },
    {
     "data": {
      "image/png": "[encoded data removed]",
      "text/plain": [
       "<Figure size 360x360 with 2 Axes>"
      ]
     },
     "metadata": {
      "needs_background": "light"
     },
     "output_type": "display_data"
    }
   ],
   "source": [
    "from sklearn.metrics import confusion_matrix, ConfusionMatrixDisplay\n",
    "#https://scikit-learn.org/stable/modules/generated/sklearn.metrics.confusion_matrix.html#sklearn.metrics.confusion_matrix\n",
    "from sklearn.metrics import recall_score\n",
    "#https://scikit-learn.org/stable/modules/generated/sklearn.metrics.recall_score.html#sklearn.metrics.recall_score\n",
    "from sklearn.metrics import precision_score\n",
    "#https://scikit-learn.org/stable/modules/generated/sklearn.metrics.precision_score.html#sklearn.metrics.precision_score\n",
    "from sklearn.metrics import f1_score\n",
    "#https://scikit-learn.org/stable/modules/generated/sklearn.metrics.f1_score.html#sklearn.metrics.f1_score\n",
    "\n",
    "def metrics(true, pred, printar = False):\n",
    "    cm = confusion_matrix(true, pred)\n",
    "    rs = recall_score(true, pred, average='macro', zero_division=0)\n",
    "    ps = precision_score(true, pred, average='macro', zero_division=0)\n",
    "    f1 = f1_score(true, pred, average='macro', zero_division=0)\n",
    "\n",
    "    if(printar):\n",
    "        print('Confusion Matrix:\\n', cm)\n",
    "        print('\\nRecall: ', rs)\n",
    "        print('\\nPrecision: ', ps)\n",
    "        print('\\nF1-score: ', f1)\n",
    "        print('-'*50)\n",
    "\n",
    "    return [cm, rs, ps, f1]\n",
    "\n",
    "def mais_bonito(cm, rs, ps, f1, labels):\n",
    "\n",
    "    metricsFrame = pd.DataFrame([rs, ps, f1], columns=['Metrics']).rename(index={0: 'Recall', 1: 'Precision', 2: 'F1-score'})\n",
    "    display(metricsFrame)\n",
    "    \n",
    "    cmFrame = pd.DataFrame(cm, columns=labels, index=labels).style.set_caption(\"Confusion Matrix\")\n",
    "    display(cmFrame)\n",
    "\n",
    "    cmp = ConfusionMatrixDisplay(cm, display_labels=labels)\n",
    "    _, ax = plt.subplots(figsize=(5,5))\n",
    "    cmp.plot(ax=ax)\n",
    "    ax.set_title(\"Confusion Matrix\")\n",
    "    ax.xaxis.set_ticklabels(labels)\n",
    "    ax.yaxis.set_ticklabels(labels[::-1], rotation=90)\n",
    "    plt.show()\n",
    "    \n",
    "\n",
    "cm, rs, ps, f1 = metrics(true, pred, True)\n",
    "mais_bonito(cm, rs, ps, f1, [0,1,2])\n",
    "\n"
   ]
  },
  {
   "cell_type": "markdown",
   "metadata": {},
   "source": [
    "### 2.1. Dataset"
   ]
  },
  {
   "cell_type": "code",
   "execution_count": 9,
   "metadata": {},
   "outputs": [],
   "source": [
    "iris = datasets.load_iris()\n",
    "\n",
    "data = iris.data\n",
    "target = iris.target"
   ]
  },
  {
   "cell_type": "markdown",
   "metadata": {},
   "source": [
    "### 2.1. k-Nearest Neighbours"
   ]
  },
  {
   "cell_type": "code",
   "execution_count": 10,
   "metadata": {},
   "outputs": [],
   "source": [
    "from sklearn.neighbors import KNeighborsClassifier\n",
    "\n",
    "def K_neighbors_classifier(x, y, k):\n",
    "    neigh = KNeighborsClassifier(n_neighbors=k)\n",
    "    neigh.fit(x, y)\n",
    "\n",
    "    return neigh\n",
    "\n",
    "neigh_teste = K_neighbors_classifier(data, target, 1)"
   ]
  },
  {
   "cell_type": "markdown",
   "metadata": {},
   "source": [
    "### 2.1.1. Train-only"
   ]
  },
  {
   "cell_type": "code",
   "execution_count": 11,
   "metadata": {},
   "outputs": [
    {
     "data": {
      "text/html": [
       "<div>\n",
       "<style scoped>\n",
       "    .dataframe tbody tr th:only-of-type {\n",
       "        vertical-align: middle;\n",
       "    }\n",
       "\n",
       "    .dataframe tbody tr th {\n",
       "        vertical-align: top;\n",
       "    }\n",
       "\n",
       "    .dataframe thead th {\n",
       "        text-align: right;\n",
       "    }\n",
       "</style>\n",
       "<table border=\"1\" class=\"dataframe\">\n",
       "  <thead>\n",
       "    <tr style=\"text-align: right;\">\n",
       "      <th></th>\n",
       "      <th>Metrics</th>\n",
       "    </tr>\n",
       "  </thead>\n",
       "  <tbody>\n",
       "    <tr>\n",
       "      <th>Recall</th>\n",
       "      <td>1.0</td>\n",
       "    </tr>\n",
       "    <tr>\n",
       "      <th>Precision</th>\n",
       "      <td>1.0</td>\n",
       "    </tr>\n",
       "    <tr>\n",
       "      <th>F1-score</th>\n",
       "      <td>1.0</td>\n",
       "    </tr>\n",
       "  </tbody>\n",
       "</table>\n",
       "</div>"
      ],
      "text/plain": [
       "           Metrics\n",
       "Recall         1.0\n",
       "Precision      1.0\n",
       "F1-score       1.0"
      ]
     },
     "metadata": {},
     "output_type": "display_data"
    },
    {
     "data": {
      "text/html": [
       "<style type=\"text/css\">\n",
       "</style>\n",
       "<table id=\"T_6c14d\">\n",
       "  <caption>Confusion Matrix</caption>\n",
       "  <thead>\n",
       "    <tr>\n",
       "      <th class=\"blank level0\" >&nbsp;</th>\n",
       "      <th id=\"T_6c14d_level0_col0\" class=\"col_heading level0 col0\" >setosa</th>\n",
       "      <th id=\"T_6c14d_level0_col1\" class=\"col_heading level0 col1\" >versicolor</th>\n",
       "      <th id=\"T_6c14d_level0_col2\" class=\"col_heading level0 col2\" >virginica</th>\n",
       "    </tr>\n",
       "  </thead>\n",
       "  <tbody>\n",
       "    <tr>\n",
       "      <th id=\"T_6c14d_level0_row0\" class=\"row_heading level0 row0\" >setosa</th>\n",
       "      <td id=\"T_6c14d_row0_col0\" class=\"data row0 col0\" >50</td>\n",
       "      <td id=\"T_6c14d_row0_col1\" class=\"data row0 col1\" >0</td>\n",
       "      <td id=\"T_6c14d_row0_col2\" class=\"data row0 col2\" >0</td>\n",
       "    </tr>\n",
       "    <tr>\n",
       "      <th id=\"T_6c14d_level0_row1\" class=\"row_heading level0 row1\" >versicolor</th>\n",
       "      <td id=\"T_6c14d_row1_col0\" class=\"data row1 col0\" >0</td>\n",
       "      <td id=\"T_6c14d_row1_col1\" class=\"data row1 col1\" >50</td>\n",
       "      <td id=\"T_6c14d_row1_col2\" class=\"data row1 col2\" >0</td>\n",
       "    </tr>\n",
       "    <tr>\n",
       "      <th id=\"T_6c14d_level0_row2\" class=\"row_heading level0 row2\" >virginica</th>\n",
       "      <td id=\"T_6c14d_row2_col0\" class=\"data row2 col0\" >0</td>\n",
       "      <td id=\"T_6c14d_row2_col1\" class=\"data row2 col1\" >0</td>\n",
       "      <td id=\"T_6c14d_row2_col2\" class=\"data row2 col2\" >50</td>\n",
       "    </tr>\n",
       "  </tbody>\n",
       "</table>\n"
      ],
      "text/plain": [
       "<pandas.io.formats.style.Styler at 0x2457fa66700>"
      ]
     },
     "metadata": {},
     "output_type": "display_data"
    },
    {
     "data": {
      "image/png": "[encoded data removed]",
      "text/plain": [
       "<Figure size 360x360 with 2 Axes>"
      ]
     },
     "metadata": {
      "needs_background": "light"
     },
     "output_type": "display_data"
    }
   ],
   "source": [
    "def TO_211(x, y, labels, k):\n",
    "    neigh = K_neighbors_classifier(x, y, k)\n",
    "    pred = neigh.predict(x)\n",
    "    true = y\n",
    "    cm, rs, ps, f1 = metrics(true, pred)\n",
    "    \n",
    "    mais_bonito(cm, rs, ps, f1, labels)\n",
    "\n",
    "TO_211(data, target, iris[\"target_names\"], 1)"
   ]
  },
  {
   "cell_type": "markdown",
   "metadata": {},
   "source": [
    "### 2.1.1. TT 70-30"
   ]
  },
  {
   "cell_type": "code",
   "execution_count": 12,
   "metadata": {},
   "outputs": [
    {
     "data": {
      "text/html": [
       "<div>\n",
       "<style scoped>\n",
       "    .dataframe tbody tr th:only-of-type {\n",
       "        vertical-align: middle;\n",
       "    }\n",
       "\n",
       "    .dataframe tbody tr th {\n",
       "        vertical-align: top;\n",
       "    }\n",
       "\n",
       "    .dataframe thead th {\n",
       "        text-align: right;\n",
       "    }\n",
       "</style>\n",
       "<table border=\"1\" class=\"dataframe\">\n",
       "  <thead>\n",
       "    <tr style=\"text-align: right;\">\n",
       "      <th></th>\n",
       "      <th>Metrics</th>\n",
       "    </tr>\n",
       "  </thead>\n",
       "  <tbody>\n",
       "    <tr>\n",
       "      <th>Recall</th>\n",
       "      <td>1.0</td>\n",
       "    </tr>\n",
       "    <tr>\n",
       "      <th>Precision</th>\n",
       "      <td>1.0</td>\n",
       "    </tr>\n",
       "    <tr>\n",
       "      <th>F1-score</th>\n",
       "      <td>1.0</td>\n",
       "    </tr>\n",
       "  </tbody>\n",
       "</table>\n",
       "</div>"
      ],
      "text/plain": [
       "           Metrics\n",
       "Recall         1.0\n",
       "Precision      1.0\n",
       "F1-score       1.0"
      ]
     },
     "metadata": {},
     "output_type": "display_data"
    },
    {
     "data": {
      "text/html": [
       "<style type=\"text/css\">\n",
       "</style>\n",
       "<table id=\"T_d5ef7\">\n",
       "  <caption>Confusion Matrix</caption>\n",
       "  <thead>\n",
       "    <tr>\n",
       "      <th class=\"blank level0\" >&nbsp;</th>\n",
       "      <th id=\"T_d5ef7_level0_col0\" class=\"col_heading level0 col0\" >setosa</th>\n",
       "      <th id=\"T_d5ef7_level0_col1\" class=\"col_heading level0 col1\" >versicolor</th>\n",
       "      <th id=\"T_d5ef7_level0_col2\" class=\"col_heading level0 col2\" >virginica</th>\n",
       "    </tr>\n",
       "  </thead>\n",
       "  <tbody>\n",
       "    <tr>\n",
       "      <th id=\"T_d5ef7_level0_row0\" class=\"row_heading level0 row0\" >setosa</th>\n",
       "      <td id=\"T_d5ef7_row0_col0\" class=\"data row0 col0\" >17</td>\n",
       "      <td id=\"T_d5ef7_row0_col1\" class=\"data row0 col1\" >0</td>\n",
       "      <td id=\"T_d5ef7_row0_col2\" class=\"data row0 col2\" >0</td>\n",
       "    </tr>\n",
       "    <tr>\n",
       "      <th id=\"T_d5ef7_level0_row1\" class=\"row_heading level0 row1\" >versicolor</th>\n",
       "      <td id=\"T_d5ef7_row1_col0\" class=\"data row1 col0\" >0</td>\n",
       "      <td id=\"T_d5ef7_row1_col1\" class=\"data row1 col1\" >14</td>\n",
       "      <td id=\"T_d5ef7_row1_col2\" class=\"data row1 col2\" >0</td>\n",
       "    </tr>\n",
       "    <tr>\n",
       "      <th id=\"T_d5ef7_level0_row2\" class=\"row_heading level0 row2\" >virginica</th>\n",
       "      <td id=\"T_d5ef7_row2_col0\" class=\"data row2 col0\" >0</td>\n",
       "      <td id=\"T_d5ef7_row2_col1\" class=\"data row2 col1\" >0</td>\n",
       "      <td id=\"T_d5ef7_row2_col2\" class=\"data row2 col2\" >14</td>\n",
       "    </tr>\n",
       "  </tbody>\n",
       "</table>\n"
      ],
      "text/plain": [
       "<pandas.io.formats.style.Styler at 0x24500f56d90>"
      ]
     },
     "metadata": {},
     "output_type": "display_data"
    },
    {
     "data": {
      "image/png": "[encoded data removed]",
      "text/plain": [
       "<Figure size 360x360 with 2 Axes>"
      ]
     },
     "metadata": {
      "needs_background": "light"
     },
     "output_type": "display_data"
    }
   ],
   "source": [
    "def TT_211(x, y, labels, k):\n",
    "    trainTest = train_test(x, y, 0.7)\n",
    "    neigh = K_neighbors_classifier(trainTest['TRAIN'][0], trainTest['TRAIN'][1], k)\n",
    "    pred = neigh.predict(trainTest['TEST'][0])\n",
    "    true = trainTest['TEST'][1]\n",
    "    cm, rs, ps, f1 = metrics(true, pred)\n",
    "    \n",
    "    mais_bonito(cm, rs, ps, f1, labels)\n",
    "\n",
    "TT_211(data, target, iris[\"target_names\"], 1)"
   ]
  },
  {
   "cell_type": "markdown",
   "metadata": {},
   "source": [
    "### 2.1.1. 10x10-fold cross-validation (10CV)"
   ]
  },
  {
   "cell_type": "code",
   "execution_count": 13,
   "metadata": {},
   "outputs": [
    {
     "name": "stdout",
     "output_type": "stream",
     "text": [
      "------------------- Iteração 0 -------------------\n"
     ]
    },
    {
     "data": {
      "text/html": [
       "<div>\n",
       "<style scoped>\n",
       "    .dataframe tbody tr th:only-of-type {\n",
       "        vertical-align: middle;\n",
       "    }\n",
       "\n",
       "    .dataframe tbody tr th {\n",
       "        vertical-align: top;\n",
       "    }\n",
       "\n",
       "    .dataframe thead th {\n",
       "        text-align: right;\n",
       "    }\n",
       "</style>\n",
       "<table border=\"1\" class=\"dataframe\">\n",
       "  <thead>\n",
       "    <tr style=\"text-align: right;\">\n",
       "      <th></th>\n",
       "      <th>Metrics</th>\n",
       "    </tr>\n",
       "  </thead>\n",
       "  <tbody>\n",
       "    <tr>\n",
       "      <th>Recall</th>\n",
       "      <td>0.952381</td>\n",
       "    </tr>\n",
       "    <tr>\n",
       "      <th>Precision</th>\n",
       "      <td>0.916667</td>\n",
       "    </tr>\n",
       "    <tr>\n",
       "      <th>F1-score</th>\n",
       "      <td>0.926740</td>\n",
       "    </tr>\n",
       "  </tbody>\n",
       "</table>\n",
       "</div>"
      ],
      "text/plain": [
       "            Metrics\n",
       "Recall     0.952381\n",
       "Precision  0.916667\n",
       "F1-score   0.926740"
      ]
     },
     "metadata": {},
     "output_type": "display_data"
    },
    {
     "data": {
      "text/html": [
       "<style type=\"text/css\">\n",
       "</style>\n",
       "<table id=\"T_8962f\">\n",
       "  <caption>Confusion Matrix</caption>\n",
       "  <thead>\n",
       "    <tr>\n",
       "      <th class=\"blank level0\" >&nbsp;</th>\n",
       "      <th id=\"T_8962f_level0_col0\" class=\"col_heading level0 col0\" >setosa</th>\n",
       "      <th id=\"T_8962f_level0_col1\" class=\"col_heading level0 col1\" >versicolor</th>\n",
       "      <th id=\"T_8962f_level0_col2\" class=\"col_heading level0 col2\" >virginica</th>\n",
       "    </tr>\n",
       "  </thead>\n",
       "  <tbody>\n",
       "    <tr>\n",
       "      <th id=\"T_8962f_level0_row0\" class=\"row_heading level0 row0\" >setosa</th>\n",
       "      <td id=\"T_8962f_row0_col0\" class=\"data row0 col0\" >5</td>\n",
       "      <td id=\"T_8962f_row0_col1\" class=\"data row0 col1\" >0</td>\n",
       "      <td id=\"T_8962f_row0_col2\" class=\"data row0 col2\" >0</td>\n",
       "    </tr>\n",
       "    <tr>\n",
       "      <th id=\"T_8962f_level0_row1\" class=\"row_heading level0 row1\" >versicolor</th>\n",
       "      <td id=\"T_8962f_row1_col0\" class=\"data row1 col0\" >0</td>\n",
       "      <td id=\"T_8962f_row1_col1\" class=\"data row1 col1\" >3</td>\n",
       "      <td id=\"T_8962f_row1_col2\" class=\"data row1 col2\" >0</td>\n",
       "    </tr>\n",
       "    <tr>\n",
       "      <th id=\"T_8962f_level0_row2\" class=\"row_heading level0 row2\" >virginica</th>\n",
       "      <td id=\"T_8962f_row2_col0\" class=\"data row2 col0\" >0</td>\n",
       "      <td id=\"T_8962f_row2_col1\" class=\"data row2 col1\" >1</td>\n",
       "      <td id=\"T_8962f_row2_col2\" class=\"data row2 col2\" >6</td>\n",
       "    </tr>\n",
       "  </tbody>\n",
       "</table>\n"
      ],
      "text/plain": [
       "<pandas.io.formats.style.Styler at 0x24500f6a400>"
      ]
     },
     "metadata": {},
     "output_type": "display_data"
    },
    {
     "data": {
      "image/png": "[encoded data removed]",
      "text/plain": [
       "<Figure size 360x360 with 2 Axes>"
      ]
     },
     "metadata": {
      "needs_background": "light"
     },
     "output_type": "display_data"
    },
    {
     "name": "stdout",
     "output_type": "stream",
     "text": [
      "------------------- Iteração 1 -------------------\n"
     ]
    },
    {
     "data": {
      "text/html": [
       "<div>\n",
       "<style scoped>\n",
       "    .dataframe tbody tr th:only-of-type {\n",
       "        vertical-align: middle;\n",
       "    }\n",
       "\n",
       "    .dataframe tbody tr th {\n",
       "        vertical-align: top;\n",
       "    }\n",
       "\n",
       "    .dataframe thead th {\n",
       "        text-align: right;\n",
       "    }\n",
       "</style>\n",
       "<table border=\"1\" class=\"dataframe\">\n",
       "  <thead>\n",
       "    <tr style=\"text-align: right;\">\n",
       "      <th></th>\n",
       "      <th>Metrics</th>\n",
       "    </tr>\n",
       "  </thead>\n",
       "  <tbody>\n",
       "    <tr>\n",
       "      <th>Recall</th>\n",
       "      <td>1.0</td>\n",
       "    </tr>\n",
       "    <tr>\n",
       "      <th>Precision</th>\n",
       "      <td>1.0</td>\n",
       "    </tr>\n",
       "    <tr>\n",
       "      <th>F1-score</th>\n",
       "      <td>1.0</td>\n",
       "    </tr>\n",
       "  </tbody>\n",
       "</table>\n",
       "</div>"
      ],
      "text/plain": [
       "           Metrics\n",
       "Recall         1.0\n",
       "Precision      1.0\n",
       "F1-score       1.0"
      ]
     },
     "metadata": {},
     "output_type": "display_data"
    },
    {
     "data": {
      "text/html": [
       "<style type=\"text/css\">\n",
       "</style>\n",
       "<table id=\"T_6931b\">\n",
       "  <caption>Confusion Matrix</caption>\n",
       "  <thead>\n",
       "    <tr>\n",
       "      <th class=\"blank level0\" >&nbsp;</th>\n",
       "      <th id=\"T_6931b_level0_col0\" class=\"col_heading level0 col0\" >setosa</th>\n",
       "      <th id=\"T_6931b_level0_col1\" class=\"col_heading level0 col1\" >versicolor</th>\n",
       "      <th id=\"T_6931b_level0_col2\" class=\"col_heading level0 col2\" >virginica</th>\n",
       "    </tr>\n",
       "  </thead>\n",
       "  <tbody>\n",
       "    <tr>\n",
       "      <th id=\"T_6931b_level0_row0\" class=\"row_heading level0 row0\" >setosa</th>\n",
       "      <td id=\"T_6931b_row0_col0\" class=\"data row0 col0\" >2</td>\n",
       "      <td id=\"T_6931b_row0_col1\" class=\"data row0 col1\" >0</td>\n",
       "      <td id=\"T_6931b_row0_col2\" class=\"data row0 col2\" >0</td>\n",
       "    </tr>\n",
       "    <tr>\n",
       "      <th id=\"T_6931b_level0_row1\" class=\"row_heading level0 row1\" >versicolor</th>\n",
       "      <td id=\"T_6931b_row1_col0\" class=\"data row1 col0\" >0</td>\n",
       "      <td id=\"T_6931b_row1_col1\" class=\"data row1 col1\" >5</td>\n",
       "      <td id=\"T_6931b_row1_col2\" class=\"data row1 col2\" >0</td>\n",
       "    </tr>\n",
       "    <tr>\n",
       "      <th id=\"T_6931b_level0_row2\" class=\"row_heading level0 row2\" >virginica</th>\n",
       "      <td id=\"T_6931b_row2_col0\" class=\"data row2 col0\" >0</td>\n",
       "      <td id=\"T_6931b_row2_col1\" class=\"data row2 col1\" >0</td>\n",
       "      <td id=\"T_6931b_row2_col2\" class=\"data row2 col2\" >8</td>\n",
       "    </tr>\n",
       "  </tbody>\n",
       "</table>\n"
      ],
      "text/plain": [
       "<pandas.io.formats.style.Styler at 0x24500e2acd0>"
      ]
     },
     "metadata": {},
     "output_type": "display_data"
    },
    {
     "data": {
      "image/png": "[encoded data removed]",
      "text/plain": [
       "<Figure size 360x360 with 2 Axes>"
      ]
     },
     "metadata": {
      "needs_background": "light"
     },
     "output_type": "display_data"
    },
    {
     "name": "stdout",
     "output_type": "stream",
     "text": [
      "------------------- Iteração 2 -------------------\n"
     ]
    },
    {
     "data": {
      "text/html": [
       "<div>\n",
       "<style scoped>\n",
       "    .dataframe tbody tr th:only-of-type {\n",
       "        vertical-align: middle;\n",
       "    }\n",
       "\n",
       "    .dataframe tbody tr th {\n",
       "        vertical-align: top;\n",
       "    }\n",
       "\n",
       "    .dataframe thead th {\n",
       "        text-align: right;\n",
       "    }\n",
       "</style>\n",
       "<table border=\"1\" class=\"dataframe\">\n",
       "  <thead>\n",
       "    <tr style=\"text-align: right;\">\n",
       "      <th></th>\n",
       "      <th>Metrics</th>\n",
       "    </tr>\n",
       "  </thead>\n",
       "  <tbody>\n",
       "    <tr>\n",
       "      <th>Recall</th>\n",
       "      <td>0.916667</td>\n",
       "    </tr>\n",
       "    <tr>\n",
       "      <th>Precision</th>\n",
       "      <td>0.952381</td>\n",
       "    </tr>\n",
       "    <tr>\n",
       "      <th>F1-score</th>\n",
       "      <td>0.926740</td>\n",
       "    </tr>\n",
       "  </tbody>\n",
       "</table>\n",
       "</div>"
      ],
      "text/plain": [
       "            Metrics\n",
       "Recall     0.916667\n",
       "Precision  0.952381\n",
       "F1-score   0.926740"
      ]
     },
     "metadata": {},
     "output_type": "display_data"
    },
    {
     "data": {
      "text/html": [
       "<style type=\"text/css\">\n",
       "</style>\n",
       "<table id=\"T_41244\">\n",
       "  <caption>Confusion Matrix</caption>\n",
       "  <thead>\n",
       "    <tr>\n",
       "      <th class=\"blank level0\" >&nbsp;</th>\n",
       "      <th id=\"T_41244_level0_col0\" class=\"col_heading level0 col0\" >setosa</th>\n",
       "      <th id=\"T_41244_level0_col1\" class=\"col_heading level0 col1\" >versicolor</th>\n",
       "      <th id=\"T_41244_level0_col2\" class=\"col_heading level0 col2\" >virginica</th>\n",
       "    </tr>\n",
       "  </thead>\n",
       "  <tbody>\n",
       "    <tr>\n",
       "      <th id=\"T_41244_level0_row0\" class=\"row_heading level0 row0\" >setosa</th>\n",
       "      <td id=\"T_41244_row0_col0\" class=\"data row0 col0\" >5</td>\n",
       "      <td id=\"T_41244_row0_col1\" class=\"data row0 col1\" >0</td>\n",
       "      <td id=\"T_41244_row0_col2\" class=\"data row0 col2\" >0</td>\n",
       "    </tr>\n",
       "    <tr>\n",
       "      <th id=\"T_41244_level0_row1\" class=\"row_heading level0 row1\" >versicolor</th>\n",
       "      <td id=\"T_41244_row1_col0\" class=\"data row1 col0\" >0</td>\n",
       "      <td id=\"T_41244_row1_col1\" class=\"data row1 col1\" >6</td>\n",
       "      <td id=\"T_41244_row1_col2\" class=\"data row1 col2\" >0</td>\n",
       "    </tr>\n",
       "    <tr>\n",
       "      <th id=\"T_41244_level0_row2\" class=\"row_heading level0 row2\" >virginica</th>\n",
       "      <td id=\"T_41244_row2_col0\" class=\"data row2 col0\" >0</td>\n",
       "      <td id=\"T_41244_row2_col1\" class=\"data row2 col1\" >1</td>\n",
       "      <td id=\"T_41244_row2_col2\" class=\"data row2 col2\" >3</td>\n",
       "    </tr>\n",
       "  </tbody>\n",
       "</table>\n"
      ],
      "text/plain": [
       "<pandas.io.formats.style.Styler at 0x2450210a5e0>"
      ]
     },
     "metadata": {},
     "output_type": "display_data"
    },
    {
     "data": {
      "image/png": "[encoded data removed]",
      "text/plain": [
       "<Figure size 360x360 with 2 Axes>"
      ]
     },
     "metadata": {
      "needs_background": "light"
     },
     "output_type": "display_data"
    },
    {
     "name": "stdout",
     "output_type": "stream",
     "text": [
      "------------------- Iteração 3 -------------------\n"
     ]
    },
    {
     "data": {
      "text/html": [
       "<div>\n",
       "<style scoped>\n",
       "    .dataframe tbody tr th:only-of-type {\n",
       "        vertical-align: middle;\n",
       "    }\n",
       "\n",
       "    .dataframe tbody tr th {\n",
       "        vertical-align: top;\n",
       "    }\n",
       "\n",
       "    .dataframe thead th {\n",
       "        text-align: right;\n",
       "    }\n",
       "</style>\n",
       "<table border=\"1\" class=\"dataframe\">\n",
       "  <thead>\n",
       "    <tr style=\"text-align: right;\">\n",
       "      <th></th>\n",
       "      <th>Metrics</th>\n",
       "    </tr>\n",
       "  </thead>\n",
       "  <tbody>\n",
       "    <tr>\n",
       "      <th>Recall</th>\n",
       "      <td>1.0</td>\n",
       "    </tr>\n",
       "    <tr>\n",
       "      <th>Precision</th>\n",
       "      <td>1.0</td>\n",
       "    </tr>\n",
       "    <tr>\n",
       "      <th>F1-score</th>\n",
       "      <td>1.0</td>\n",
       "    </tr>\n",
       "  </tbody>\n",
       "</table>\n",
       "</div>"
      ],
      "text/plain": [
       "           Metrics\n",
       "Recall         1.0\n",
       "Precision      1.0\n",
       "F1-score       1.0"
      ]
     },
     "metadata": {},
     "output_type": "display_data"
    },
    {
     "data": {
      "text/html": [
       "<style type=\"text/css\">\n",
       "</style>\n",
       "<table id=\"T_5a63d\">\n",
       "  <caption>Confusion Matrix</caption>\n",
       "  <thead>\n",
       "    <tr>\n",
       "      <th class=\"blank level0\" >&nbsp;</th>\n",
       "      <th id=\"T_5a63d_level0_col0\" class=\"col_heading level0 col0\" >setosa</th>\n",
       "      <th id=\"T_5a63d_level0_col1\" class=\"col_heading level0 col1\" >versicolor</th>\n",
       "      <th id=\"T_5a63d_level0_col2\" class=\"col_heading level0 col2\" >virginica</th>\n",
       "    </tr>\n",
       "  </thead>\n",
       "  <tbody>\n",
       "    <tr>\n",
       "      <th id=\"T_5a63d_level0_row0\" class=\"row_heading level0 row0\" >setosa</th>\n",
       "      <td id=\"T_5a63d_row0_col0\" class=\"data row0 col0\" >4</td>\n",
       "      <td id=\"T_5a63d_row0_col1\" class=\"data row0 col1\" >0</td>\n",
       "      <td id=\"T_5a63d_row0_col2\" class=\"data row0 col2\" >0</td>\n",
       "    </tr>\n",
       "    <tr>\n",
       "      <th id=\"T_5a63d_level0_row1\" class=\"row_heading level0 row1\" >versicolor</th>\n",
       "      <td id=\"T_5a63d_row1_col0\" class=\"data row1 col0\" >0</td>\n",
       "      <td id=\"T_5a63d_row1_col1\" class=\"data row1 col1\" >7</td>\n",
       "      <td id=\"T_5a63d_row1_col2\" class=\"data row1 col2\" >0</td>\n",
       "    </tr>\n",
       "    <tr>\n",
       "      <th id=\"T_5a63d_level0_row2\" class=\"row_heading level0 row2\" >virginica</th>\n",
       "      <td id=\"T_5a63d_row2_col0\" class=\"data row2 col0\" >0</td>\n",
       "      <td id=\"T_5a63d_row2_col1\" class=\"data row2 col1\" >0</td>\n",
       "      <td id=\"T_5a63d_row2_col2\" class=\"data row2 col2\" >4</td>\n",
       "    </tr>\n",
       "  </tbody>\n",
       "</table>\n"
      ],
      "text/plain": [
       "<pandas.io.formats.style.Styler at 0x24500e2acd0>"
      ]
     },
     "metadata": {},
     "output_type": "display_data"
    },
    {
     "data": {
      "image/png": "[encoded data removed]",
      "text/plain": [
       "<Figure size 360x360 with 2 Axes>"
      ]
     },
     "metadata": {
      "needs_background": "light"
     },
     "output_type": "display_data"
    },
    {
     "name": "stdout",
     "output_type": "stream",
     "text": [
      "------------------- Iteração 4 -------------------\n"
     ]
    },
    {
     "data": {
      "text/html": [
       "<div>\n",
       "<style scoped>\n",
       "    .dataframe tbody tr th:only-of-type {\n",
       "        vertical-align: middle;\n",
       "    }\n",
       "\n",
       "    .dataframe tbody tr th {\n",
       "        vertical-align: top;\n",
       "    }\n",
       "\n",
       "    .dataframe thead th {\n",
       "        text-align: right;\n",
       "    }\n",
       "</style>\n",
       "<table border=\"1\" class=\"dataframe\">\n",
       "  <thead>\n",
       "    <tr style=\"text-align: right;\">\n",
       "      <th></th>\n",
       "      <th>Metrics</th>\n",
       "    </tr>\n",
       "  </thead>\n",
       "  <tbody>\n",
       "    <tr>\n",
       "      <th>Recall</th>\n",
       "      <td>0.833333</td>\n",
       "    </tr>\n",
       "    <tr>\n",
       "      <th>Precision</th>\n",
       "      <td>0.952381</td>\n",
       "    </tr>\n",
       "    <tr>\n",
       "      <th>F1-score</th>\n",
       "      <td>0.863248</td>\n",
       "    </tr>\n",
       "  </tbody>\n",
       "</table>\n",
       "</div>"
      ],
      "text/plain": [
       "            Metrics\n",
       "Recall     0.833333\n",
       "Precision  0.952381\n",
       "F1-score   0.863248"
      ]
     },
     "metadata": {},
     "output_type": "display_data"
    },
    {
     "data": {
      "text/html": [
       "<style type=\"text/css\">\n",
       "</style>\n",
       "<table id=\"T_f7729\">\n",
       "  <caption>Confusion Matrix</caption>\n",
       "  <thead>\n",
       "    <tr>\n",
       "      <th class=\"blank level0\" >&nbsp;</th>\n",
       "      <th id=\"T_f7729_level0_col0\" class=\"col_heading level0 col0\" >setosa</th>\n",
       "      <th id=\"T_f7729_level0_col1\" class=\"col_heading level0 col1\" >versicolor</th>\n",
       "      <th id=\"T_f7729_level0_col2\" class=\"col_heading level0 col2\" >virginica</th>\n",
       "    </tr>\n",
       "  </thead>\n",
       "  <tbody>\n",
       "    <tr>\n",
       "      <th id=\"T_f7729_level0_row0\" class=\"row_heading level0 row0\" >setosa</th>\n",
       "      <td id=\"T_f7729_row0_col0\" class=\"data row0 col0\" >7</td>\n",
       "      <td id=\"T_f7729_row0_col1\" class=\"data row0 col1\" >0</td>\n",
       "      <td id=\"T_f7729_row0_col2\" class=\"data row0 col2\" >0</td>\n",
       "    </tr>\n",
       "    <tr>\n",
       "      <th id=\"T_f7729_level0_row1\" class=\"row_heading level0 row1\" >versicolor</th>\n",
       "      <td id=\"T_f7729_row1_col0\" class=\"data row1 col0\" >0</td>\n",
       "      <td id=\"T_f7729_row1_col1\" class=\"data row1 col1\" >1</td>\n",
       "      <td id=\"T_f7729_row1_col2\" class=\"data row1 col2\" >1</td>\n",
       "    </tr>\n",
       "    <tr>\n",
       "      <th id=\"T_f7729_level0_row2\" class=\"row_heading level0 row2\" >virginica</th>\n",
       "      <td id=\"T_f7729_row2_col0\" class=\"data row2 col0\" >0</td>\n",
       "      <td id=\"T_f7729_row2_col1\" class=\"data row2 col1\" >0</td>\n",
       "      <td id=\"T_f7729_row2_col2\" class=\"data row2 col2\" >6</td>\n",
       "    </tr>\n",
       "  </tbody>\n",
       "</table>\n"
      ],
      "text/plain": [
       "<pandas.io.formats.style.Styler at 0x245022022e0>"
      ]
     },
     "metadata": {},
     "output_type": "display_data"
    },
    {
     "data": {
      "image/png": "[encoded data removed]",
      "text/plain": [
       "<Figure size 360x360 with 2 Axes>"
      ]
     },
     "metadata": {
      "needs_background": "light"
     },
     "output_type": "display_data"
    },
    {
     "name": "stdout",
     "output_type": "stream",
     "text": [
      "------------------- Iteração 5 -------------------\n"
     ]
    },
    {
     "data": {
      "text/html": [
       "<div>\n",
       "<style scoped>\n",
       "    .dataframe tbody tr th:only-of-type {\n",
       "        vertical-align: middle;\n",
       "    }\n",
       "\n",
       "    .dataframe tbody tr th {\n",
       "        vertical-align: top;\n",
       "    }\n",
       "\n",
       "    .dataframe thead th {\n",
       "        text-align: right;\n",
       "    }\n",
       "</style>\n",
       "<table border=\"1\" class=\"dataframe\">\n",
       "  <thead>\n",
       "    <tr style=\"text-align: right;\">\n",
       "      <th></th>\n",
       "      <th>Metrics</th>\n",
       "    </tr>\n",
       "  </thead>\n",
       "  <tbody>\n",
       "    <tr>\n",
       "      <th>Recall</th>\n",
       "      <td>1.0</td>\n",
       "    </tr>\n",
       "    <tr>\n",
       "      <th>Precision</th>\n",
       "      <td>1.0</td>\n",
       "    </tr>\n",
       "    <tr>\n",
       "      <th>F1-score</th>\n",
       "      <td>1.0</td>\n",
       "    </tr>\n",
       "  </tbody>\n",
       "</table>\n",
       "</div>"
      ],
      "text/plain": [
       "           Metrics\n",
       "Recall         1.0\n",
       "Precision      1.0\n",
       "F1-score       1.0"
      ]
     },
     "metadata": {},
     "output_type": "display_data"
    },
    {
     "data": {
      "text/html": [
       "<style type=\"text/css\">\n",
       "</style>\n",
       "<table id=\"T_0b16e\">\n",
       "  <caption>Confusion Matrix</caption>\n",
       "  <thead>\n",
       "    <tr>\n",
       "      <th class=\"blank level0\" >&nbsp;</th>\n",
       "      <th id=\"T_0b16e_level0_col0\" class=\"col_heading level0 col0\" >setosa</th>\n",
       "      <th id=\"T_0b16e_level0_col1\" class=\"col_heading level0 col1\" >versicolor</th>\n",
       "      <th id=\"T_0b16e_level0_col2\" class=\"col_heading level0 col2\" >virginica</th>\n",
       "    </tr>\n",
       "  </thead>\n",
       "  <tbody>\n",
       "    <tr>\n",
       "      <th id=\"T_0b16e_level0_row0\" class=\"row_heading level0 row0\" >setosa</th>\n",
       "      <td id=\"T_0b16e_row0_col0\" class=\"data row0 col0\" >6</td>\n",
       "      <td id=\"T_0b16e_row0_col1\" class=\"data row0 col1\" >0</td>\n",
       "      <td id=\"T_0b16e_row0_col2\" class=\"data row0 col2\" >0</td>\n",
       "    </tr>\n",
       "    <tr>\n",
       "      <th id=\"T_0b16e_level0_row1\" class=\"row_heading level0 row1\" >versicolor</th>\n",
       "      <td id=\"T_0b16e_row1_col0\" class=\"data row1 col0\" >0</td>\n",
       "      <td id=\"T_0b16e_row1_col1\" class=\"data row1 col1\" >7</td>\n",
       "      <td id=\"T_0b16e_row1_col2\" class=\"data row1 col2\" >0</td>\n",
       "    </tr>\n",
       "    <tr>\n",
       "      <th id=\"T_0b16e_level0_row2\" class=\"row_heading level0 row2\" >virginica</th>\n",
       "      <td id=\"T_0b16e_row2_col0\" class=\"data row2 col0\" >0</td>\n",
       "      <td id=\"T_0b16e_row2_col1\" class=\"data row2 col1\" >0</td>\n",
       "      <td id=\"T_0b16e_row2_col2\" class=\"data row2 col2\" >2</td>\n",
       "    </tr>\n",
       "  </tbody>\n",
       "</table>\n"
      ],
      "text/plain": [
       "<pandas.io.formats.style.Styler at 0x245022022e0>"
      ]
     },
     "metadata": {},
     "output_type": "display_data"
    },
    {
     "data": {
      "image/png": "[encoded data removed]",
      "text/plain": [
       "<Figure size 360x360 with 2 Axes>"
      ]
     },
     "metadata": {
      "needs_background": "light"
     },
     "output_type": "display_data"
    },
    {
     "name": "stdout",
     "output_type": "stream",
     "text": [
      "------------------- Iteração 6 -------------------\n"
     ]
    },
    {
     "data": {
      "text/html": [
       "<div>\n",
       "<style scoped>\n",
       "    .dataframe tbody tr th:only-of-type {\n",
       "        vertical-align: middle;\n",
       "    }\n",
       "\n",
       "    .dataframe tbody tr th {\n",
       "        vertical-align: top;\n",
       "    }\n",
       "\n",
       "    .dataframe thead th {\n",
       "        text-align: right;\n",
       "    }\n",
       "</style>\n",
       "<table border=\"1\" class=\"dataframe\">\n",
       "  <thead>\n",
       "    <tr style=\"text-align: right;\">\n",
       "      <th></th>\n",
       "      <th>Metrics</th>\n",
       "    </tr>\n",
       "  </thead>\n",
       "  <tbody>\n",
       "    <tr>\n",
       "      <th>Recall</th>\n",
       "      <td>1.0</td>\n",
       "    </tr>\n",
       "    <tr>\n",
       "      <th>Precision</th>\n",
       "      <td>1.0</td>\n",
       "    </tr>\n",
       "    <tr>\n",
       "      <th>F1-score</th>\n",
       "      <td>1.0</td>\n",
       "    </tr>\n",
       "  </tbody>\n",
       "</table>\n",
       "</div>"
      ],
      "text/plain": [
       "           Metrics\n",
       "Recall         1.0\n",
       "Precision      1.0\n",
       "F1-score       1.0"
      ]
     },
     "metadata": {},
     "output_type": "display_data"
    },
    {
     "data": {
      "text/html": [
       "<style type=\"text/css\">\n",
       "</style>\n",
       "<table id=\"T_b4b3f\">\n",
       "  <caption>Confusion Matrix</caption>\n",
       "  <thead>\n",
       "    <tr>\n",
       "      <th class=\"blank level0\" >&nbsp;</th>\n",
       "      <th id=\"T_b4b3f_level0_col0\" class=\"col_heading level0 col0\" >setosa</th>\n",
       "      <th id=\"T_b4b3f_level0_col1\" class=\"col_heading level0 col1\" >versicolor</th>\n",
       "      <th id=\"T_b4b3f_level0_col2\" class=\"col_heading level0 col2\" >virginica</th>\n",
       "    </tr>\n",
       "  </thead>\n",
       "  <tbody>\n",
       "    <tr>\n",
       "      <th id=\"T_b4b3f_level0_row0\" class=\"row_heading level0 row0\" >setosa</th>\n",
       "      <td id=\"T_b4b3f_row0_col0\" class=\"data row0 col0\" >4</td>\n",
       "      <td id=\"T_b4b3f_row0_col1\" class=\"data row0 col1\" >0</td>\n",
       "      <td id=\"T_b4b3f_row0_col2\" class=\"data row0 col2\" >0</td>\n",
       "    </tr>\n",
       "    <tr>\n",
       "      <th id=\"T_b4b3f_level0_row1\" class=\"row_heading level0 row1\" >versicolor</th>\n",
       "      <td id=\"T_b4b3f_row1_col0\" class=\"data row1 col0\" >0</td>\n",
       "      <td id=\"T_b4b3f_row1_col1\" class=\"data row1 col1\" >6</td>\n",
       "      <td id=\"T_b4b3f_row1_col2\" class=\"data row1 col2\" >0</td>\n",
       "    </tr>\n",
       "    <tr>\n",
       "      <th id=\"T_b4b3f_level0_row2\" class=\"row_heading level0 row2\" >virginica</th>\n",
       "      <td id=\"T_b4b3f_row2_col0\" class=\"data row2 col0\" >0</td>\n",
       "      <td id=\"T_b4b3f_row2_col1\" class=\"data row2 col1\" >0</td>\n",
       "      <td id=\"T_b4b3f_row2_col2\" class=\"data row2 col2\" >5</td>\n",
       "    </tr>\n",
       "  </tbody>\n",
       "</table>\n"
      ],
      "text/plain": [
       "<pandas.io.formats.style.Styler at 0x245022e3ac0>"
      ]
     },
     "metadata": {},
     "output_type": "display_data"
    },
    {
     "data": {
      "image/png": "[encoded data removed]",
      "text/plain": [
       "<Figure size 360x360 with 2 Axes>"
      ]
     },
     "metadata": {
      "needs_background": "light"
     },
     "output_type": "display_data"
    },
    {
     "name": "stdout",
     "output_type": "stream",
     "text": [
      "------------------- Iteração 7 -------------------\n"
     ]
    },
    {
     "data": {
      "text/html": [
       "<div>\n",
       "<style scoped>\n",
       "    .dataframe tbody tr th:only-of-type {\n",
       "        vertical-align: middle;\n",
       "    }\n",
       "\n",
       "    .dataframe tbody tr th {\n",
       "        vertical-align: top;\n",
       "    }\n",
       "\n",
       "    .dataframe thead th {\n",
       "        text-align: right;\n",
       "    }\n",
       "</style>\n",
       "<table border=\"1\" class=\"dataframe\">\n",
       "  <thead>\n",
       "    <tr style=\"text-align: right;\">\n",
       "      <th></th>\n",
       "      <th>Metrics</th>\n",
       "    </tr>\n",
       "  </thead>\n",
       "  <tbody>\n",
       "    <tr>\n",
       "      <th>Recall</th>\n",
       "      <td>0.952381</td>\n",
       "    </tr>\n",
       "    <tr>\n",
       "      <th>Precision</th>\n",
       "      <td>0.944444</td>\n",
       "    </tr>\n",
       "    <tr>\n",
       "      <th>F1-score</th>\n",
       "      <td>0.944056</td>\n",
       "    </tr>\n",
       "  </tbody>\n",
       "</table>\n",
       "</div>"
      ],
      "text/plain": [
       "            Metrics\n",
       "Recall     0.952381\n",
       "Precision  0.944444\n",
       "F1-score   0.944056"
      ]
     },
     "metadata": {},
     "output_type": "display_data"
    },
    {
     "data": {
      "text/html": [
       "<style type=\"text/css\">\n",
       "</style>\n",
       "<table id=\"T_9e8d7\">\n",
       "  <caption>Confusion Matrix</caption>\n",
       "  <thead>\n",
       "    <tr>\n",
       "      <th class=\"blank level0\" >&nbsp;</th>\n",
       "      <th id=\"T_9e8d7_level0_col0\" class=\"col_heading level0 col0\" >setosa</th>\n",
       "      <th id=\"T_9e8d7_level0_col1\" class=\"col_heading level0 col1\" >versicolor</th>\n",
       "      <th id=\"T_9e8d7_level0_col2\" class=\"col_heading level0 col2\" >virginica</th>\n",
       "    </tr>\n",
       "  </thead>\n",
       "  <tbody>\n",
       "    <tr>\n",
       "      <th id=\"T_9e8d7_level0_row0\" class=\"row_heading level0 row0\" >setosa</th>\n",
       "      <td id=\"T_9e8d7_row0_col0\" class=\"data row0 col0\" >3</td>\n",
       "      <td id=\"T_9e8d7_row0_col1\" class=\"data row0 col1\" >0</td>\n",
       "      <td id=\"T_9e8d7_row0_col2\" class=\"data row0 col2\" >0</td>\n",
       "    </tr>\n",
       "    <tr>\n",
       "      <th id=\"T_9e8d7_level0_row1\" class=\"row_heading level0 row1\" >versicolor</th>\n",
       "      <td id=\"T_9e8d7_row1_col0\" class=\"data row1 col0\" >0</td>\n",
       "      <td id=\"T_9e8d7_row1_col1\" class=\"data row1 col1\" >6</td>\n",
       "      <td id=\"T_9e8d7_row1_col2\" class=\"data row1 col2\" >1</td>\n",
       "    </tr>\n",
       "    <tr>\n",
       "      <th id=\"T_9e8d7_level0_row2\" class=\"row_heading level0 row2\" >virginica</th>\n",
       "      <td id=\"T_9e8d7_row2_col0\" class=\"data row2 col0\" >0</td>\n",
       "      <td id=\"T_9e8d7_row2_col1\" class=\"data row2 col1\" >0</td>\n",
       "      <td id=\"T_9e8d7_row2_col2\" class=\"data row2 col2\" >5</td>\n",
       "    </tr>\n",
       "  </tbody>\n",
       "</table>\n"
      ],
      "text/plain": [
       "<pandas.io.formats.style.Styler at 0x24502274610>"
      ]
     },
     "metadata": {},
     "output_type": "display_data"
    },
    {
     "data": {
      "image/png": "[encoded data removed]",
      "text/plain": [
       "<Figure size 360x360 with 2 Axes>"
      ]
     },
     "metadata": {
      "needs_background": "light"
     },
     "output_type": "display_data"
    },
    {
     "name": "stdout",
     "output_type": "stream",
     "text": [
      "------------------- Iteração 8 -------------------\n"
     ]
    },
    {
     "data": {
      "text/html": [
       "<div>\n",
       "<style scoped>\n",
       "    .dataframe tbody tr th:only-of-type {\n",
       "        vertical-align: middle;\n",
       "    }\n",
       "\n",
       "    .dataframe tbody tr th {\n",
       "        vertical-align: top;\n",
       "    }\n",
       "\n",
       "    .dataframe thead th {\n",
       "        text-align: right;\n",
       "    }\n",
       "</style>\n",
       "<table border=\"1\" class=\"dataframe\">\n",
       "  <thead>\n",
       "    <tr style=\"text-align: right;\">\n",
       "      <th></th>\n",
       "      <th>Metrics</th>\n",
       "    </tr>\n",
       "  </thead>\n",
       "  <tbody>\n",
       "    <tr>\n",
       "      <th>Recall</th>\n",
       "      <td>0.888889</td>\n",
       "    </tr>\n",
       "    <tr>\n",
       "      <th>Precision</th>\n",
       "      <td>0.916667</td>\n",
       "    </tr>\n",
       "    <tr>\n",
       "      <th>F1-score</th>\n",
       "      <td>0.885714</td>\n",
       "    </tr>\n",
       "  </tbody>\n",
       "</table>\n",
       "</div>"
      ],
      "text/plain": [
       "            Metrics\n",
       "Recall     0.888889\n",
       "Precision  0.916667\n",
       "F1-score   0.885714"
      ]
     },
     "metadata": {},
     "output_type": "display_data"
    },
    {
     "data": {
      "text/html": [
       "<style type=\"text/css\">\n",
       "</style>\n",
       "<table id=\"T_ade13\">\n",
       "  <caption>Confusion Matrix</caption>\n",
       "  <thead>\n",
       "    <tr>\n",
       "      <th class=\"blank level0\" >&nbsp;</th>\n",
       "      <th id=\"T_ade13_level0_col0\" class=\"col_heading level0 col0\" >setosa</th>\n",
       "      <th id=\"T_ade13_level0_col1\" class=\"col_heading level0 col1\" >versicolor</th>\n",
       "      <th id=\"T_ade13_level0_col2\" class=\"col_heading level0 col2\" >virginica</th>\n",
       "    </tr>\n",
       "  </thead>\n",
       "  <tbody>\n",
       "    <tr>\n",
       "      <th id=\"T_ade13_level0_row0\" class=\"row_heading level0 row0\" >setosa</th>\n",
       "      <td id=\"T_ade13_row0_col0\" class=\"data row0 col0\" >9</td>\n",
       "      <td id=\"T_ade13_row0_col1\" class=\"data row0 col1\" >0</td>\n",
       "      <td id=\"T_ade13_row0_col2\" class=\"data row0 col2\" >0</td>\n",
       "    </tr>\n",
       "    <tr>\n",
       "      <th id=\"T_ade13_level0_row1\" class=\"row_heading level0 row1\" >versicolor</th>\n",
       "      <td id=\"T_ade13_row1_col0\" class=\"data row1 col0\" >0</td>\n",
       "      <td id=\"T_ade13_row1_col1\" class=\"data row1 col1\" >3</td>\n",
       "      <td id=\"T_ade13_row1_col2\" class=\"data row1 col2\" >0</td>\n",
       "    </tr>\n",
       "    <tr>\n",
       "      <th id=\"T_ade13_level0_row2\" class=\"row_heading level0 row2\" >virginica</th>\n",
       "      <td id=\"T_ade13_row2_col0\" class=\"data row2 col0\" >0</td>\n",
       "      <td id=\"T_ade13_row2_col1\" class=\"data row2 col1\" >1</td>\n",
       "      <td id=\"T_ade13_row2_col2\" class=\"data row2 col2\" >2</td>\n",
       "    </tr>\n",
       "  </tbody>\n",
       "</table>\n"
      ],
      "text/plain": [
       "<pandas.io.formats.style.Styler at 0x2450236ebe0>"
      ]
     },
     "metadata": {},
     "output_type": "display_data"
    },
    {
     "data": {
      "image/png": "[encoded data removed]",
      "text/plain": [
       "<Figure size 360x360 with 2 Axes>"
      ]
     },
     "metadata": {
      "needs_background": "light"
     },
     "output_type": "display_data"
    },
    {
     "name": "stdout",
     "output_type": "stream",
     "text": [
      "------------------- Iteração 9 -------------------\n"
     ]
    },
    {
     "data": {
      "text/html": [
       "<div>\n",
       "<style scoped>\n",
       "    .dataframe tbody tr th:only-of-type {\n",
       "        vertical-align: middle;\n",
       "    }\n",
       "\n",
       "    .dataframe tbody tr th {\n",
       "        vertical-align: top;\n",
       "    }\n",
       "\n",
       "    .dataframe thead th {\n",
       "        text-align: right;\n",
       "    }\n",
       "</style>\n",
       "<table border=\"1\" class=\"dataframe\">\n",
       "  <thead>\n",
       "    <tr style=\"text-align: right;\">\n",
       "      <th></th>\n",
       "      <th>Metrics</th>\n",
       "    </tr>\n",
       "  </thead>\n",
       "  <tbody>\n",
       "    <tr>\n",
       "      <th>Recall</th>\n",
       "      <td>0.916667</td>\n",
       "    </tr>\n",
       "    <tr>\n",
       "      <th>Precision</th>\n",
       "      <td>0.952381</td>\n",
       "    </tr>\n",
       "    <tr>\n",
       "      <th>F1-score</th>\n",
       "      <td>0.926740</td>\n",
       "    </tr>\n",
       "  </tbody>\n",
       "</table>\n",
       "</div>"
      ],
      "text/plain": [
       "            Metrics\n",
       "Recall     0.916667\n",
       "Precision  0.952381\n",
       "F1-score   0.926740"
      ]
     },
     "metadata": {},
     "output_type": "display_data"
    },
    {
     "data": {
      "text/html": [
       "<style type=\"text/css\">\n",
       "</style>\n",
       "<table id=\"T_9c4ab\">\n",
       "  <caption>Confusion Matrix</caption>\n",
       "  <thead>\n",
       "    <tr>\n",
       "      <th class=\"blank level0\" >&nbsp;</th>\n",
       "      <th id=\"T_9c4ab_level0_col0\" class=\"col_heading level0 col0\" >setosa</th>\n",
       "      <th id=\"T_9c4ab_level0_col1\" class=\"col_heading level0 col1\" >versicolor</th>\n",
       "      <th id=\"T_9c4ab_level0_col2\" class=\"col_heading level0 col2\" >virginica</th>\n",
       "    </tr>\n",
       "  </thead>\n",
       "  <tbody>\n",
       "    <tr>\n",
       "      <th id=\"T_9c4ab_level0_row0\" class=\"row_heading level0 row0\" >setosa</th>\n",
       "      <td id=\"T_9c4ab_row0_col0\" class=\"data row0 col0\" >5</td>\n",
       "      <td id=\"T_9c4ab_row0_col1\" class=\"data row0 col1\" >0</td>\n",
       "      <td id=\"T_9c4ab_row0_col2\" class=\"data row0 col2\" >0</td>\n",
       "    </tr>\n",
       "    <tr>\n",
       "      <th id=\"T_9c4ab_level0_row1\" class=\"row_heading level0 row1\" >versicolor</th>\n",
       "      <td id=\"T_9c4ab_row1_col0\" class=\"data row1 col0\" >0</td>\n",
       "      <td id=\"T_9c4ab_row1_col1\" class=\"data row1 col1\" >3</td>\n",
       "      <td id=\"T_9c4ab_row1_col2\" class=\"data row1 col2\" >1</td>\n",
       "    </tr>\n",
       "    <tr>\n",
       "      <th id=\"T_9c4ab_level0_row2\" class=\"row_heading level0 row2\" >virginica</th>\n",
       "      <td id=\"T_9c4ab_row2_col0\" class=\"data row2 col0\" >0</td>\n",
       "      <td id=\"T_9c4ab_row2_col1\" class=\"data row2 col1\" >0</td>\n",
       "      <td id=\"T_9c4ab_row2_col2\" class=\"data row2 col2\" >6</td>\n",
       "    </tr>\n",
       "  </tbody>\n",
       "</table>\n"
      ],
      "text/plain": [
       "<pandas.io.formats.style.Styler at 0x24500f6a970>"
      ]
     },
     "metadata": {},
     "output_type": "display_data"
    },
    {
     "data": {
      "image/png": "[encoded data removed]",
      "text/plain": [
       "<Figure size 360x360 with 2 Axes>"
      ]
     },
     "metadata": {
      "needs_background": "light"
     },
     "output_type": "display_data"
    }
   ],
   "source": [
    "def CV_211(x, y, n_splits, labels, k):\n",
    "    kf = k_fold(x, y, n_splits)\n",
    "\n",
    "    count = 0\n",
    "    for info in kf:\n",
    "        print(\"------------------- Iteração \" + str(count) + \" -------------------\")\n",
    "\n",
    "        neigh = K_neighbors_classifier(info['TRAIN'][0], info['TRAIN'][1], k)\n",
    "        pred = neigh.predict(info['TEST'][0])\n",
    "        true = info['TEST'][1]\n",
    "        cm, rs, ps, f1 = metrics(true, pred)\n",
    "\n",
    "        mais_bonito(cm, rs, ps, f1, labels)\n",
    "\n",
    "        count += 1\n",
    "\n",
    "CV_211(data, target, 10, iris[\"target_names\"], 1)"
   ]
  },
  {
   "cell_type": "markdown",
   "metadata": {},
   "source": [
    "### 2.1.2. k na gama {1, 3, 5, ...,15}"
   ]
  },
  {
   "cell_type": "code",
   "execution_count": 14,
   "metadata": {},
   "outputs": [
    {
     "data": {
      "text/plain": [
       "array([ 1,  3,  5,  7,  9, 11, 13, 15])"
      ]
     },
     "metadata": {},
     "output_type": "display_data"
    }
   ],
   "source": [
    "_k = np.arange(1, 16, 2)\n",
    "\n",
    "display(_k)"
   ]
  },
  {
   "cell_type": "markdown",
   "metadata": {},
   "source": [
    "### 2.1.2. Train-only"
   ]
  },
  {
   "cell_type": "code",
   "execution_count": 15,
   "metadata": {},
   "outputs": [
    {
     "data": {
      "image/png": "[encoded data removed]",
      "text/plain": [
       "<Figure size 432x288 with 1 Axes>"
      ]
     },
     "metadata": {
      "needs_background": "light"
     },
     "output_type": "display_data"
    },
    {
     "name": "stdout",
     "output_type": "stream",
     "text": [
      "Best K: 1\n"
     ]
    },
    {
     "data": {
      "text/html": [
       "<div>\n",
       "<style scoped>\n",
       "    .dataframe tbody tr th:only-of-type {\n",
       "        vertical-align: middle;\n",
       "    }\n",
       "\n",
       "    .dataframe tbody tr th {\n",
       "        vertical-align: top;\n",
       "    }\n",
       "\n",
       "    .dataframe thead th {\n",
       "        text-align: right;\n",
       "    }\n",
       "</style>\n",
       "<table border=\"1\" class=\"dataframe\">\n",
       "  <thead>\n",
       "    <tr style=\"text-align: right;\">\n",
       "      <th></th>\n",
       "      <th>Metrics</th>\n",
       "    </tr>\n",
       "  </thead>\n",
       "  <tbody>\n",
       "    <tr>\n",
       "      <th>Recall</th>\n",
       "      <td>1.0</td>\n",
       "    </tr>\n",
       "    <tr>\n",
       "      <th>Precision</th>\n",
       "      <td>1.0</td>\n",
       "    </tr>\n",
       "    <tr>\n",
       "      <th>F1-score</th>\n",
       "      <td>1.0</td>\n",
       "    </tr>\n",
       "  </tbody>\n",
       "</table>\n",
       "</div>"
      ],
      "text/plain": [
       "           Metrics\n",
       "Recall         1.0\n",
       "Precision      1.0\n",
       "F1-score       1.0"
      ]
     },
     "metadata": {},
     "output_type": "display_data"
    },
    {
     "data": {
      "text/html": [
       "<style type=\"text/css\">\n",
       "</style>\n",
       "<table id=\"T_bd60c\">\n",
       "  <caption>Confusion Matrix</caption>\n",
       "  <thead>\n",
       "    <tr>\n",
       "      <th class=\"blank level0\" >&nbsp;</th>\n",
       "      <th id=\"T_bd60c_level0_col0\" class=\"col_heading level0 col0\" >setosa</th>\n",
       "      <th id=\"T_bd60c_level0_col1\" class=\"col_heading level0 col1\" >versicolor</th>\n",
       "      <th id=\"T_bd60c_level0_col2\" class=\"col_heading level0 col2\" >virginica</th>\n",
       "    </tr>\n",
       "  </thead>\n",
       "  <tbody>\n",
       "    <tr>\n",
       "      <th id=\"T_bd60c_level0_row0\" class=\"row_heading level0 row0\" >setosa</th>\n",
       "      <td id=\"T_bd60c_row0_col0\" class=\"data row0 col0\" >50</td>\n",
       "      <td id=\"T_bd60c_row0_col1\" class=\"data row0 col1\" >0</td>\n",
       "      <td id=\"T_bd60c_row0_col2\" class=\"data row0 col2\" >0</td>\n",
       "    </tr>\n",
       "    <tr>\n",
       "      <th id=\"T_bd60c_level0_row1\" class=\"row_heading level0 row1\" >versicolor</th>\n",
       "      <td id=\"T_bd60c_row1_col0\" class=\"data row1 col0\" >0</td>\n",
       "      <td id=\"T_bd60c_row1_col1\" class=\"data row1 col1\" >50</td>\n",
       "      <td id=\"T_bd60c_row1_col2\" class=\"data row1 col2\" >0</td>\n",
       "    </tr>\n",
       "    <tr>\n",
       "      <th id=\"T_bd60c_level0_row2\" class=\"row_heading level0 row2\" >virginica</th>\n",
       "      <td id=\"T_bd60c_row2_col0\" class=\"data row2 col0\" >0</td>\n",
       "      <td id=\"T_bd60c_row2_col1\" class=\"data row2 col1\" >0</td>\n",
       "      <td id=\"T_bd60c_row2_col2\" class=\"data row2 col2\" >50</td>\n",
       "    </tr>\n",
       "  </tbody>\n",
       "</table>\n"
      ],
      "text/plain": [
       "<pandas.io.formats.style.Styler at 0x245022acb50>"
      ]
     },
     "metadata": {},
     "output_type": "display_data"
    },
    {
     "data": {
      "image/png": "[encoded data removed]",
      "text/plain": [
       "<Figure size 360x360 with 2 Axes>"
      ]
     },
     "metadata": {
      "needs_background": "light"
     },
     "output_type": "display_data"
    }
   ],
   "source": [
    "def TO_212(x, y, metr):\n",
    "    for k in _k:\n",
    "        neigh = K_neighbors_classifier(x, y, k)\n",
    "        pred = neigh.predict(x)\n",
    "        true = y\n",
    "        cm, rs, ps, f1 = metrics(true, pred)\n",
    "\n",
    "        metr[\"Neigh\"].append(neigh)\n",
    "        metr[\"Recall\"].append(rs)\n",
    "        metr[\"Precision\"].append(ps)\n",
    "        metr[\"F1-score\"].append(f1)\n",
    "    \n",
    "    return metr\n",
    "\n",
    "def plot_metricas(metr):\n",
    "    plt.figure()\n",
    "\n",
    "    plt.plot(_k, metr[\"Recall\"], label=\"Recall\")\n",
    "    plt.scatter(_k, metr[\"Recall\"])\n",
    "    plt.plot(_k, metr[\"Precision\"], label=\"Precision\")\n",
    "    plt.scatter(_k, metr[\"Precision\"])\n",
    "    plt.plot(_k, metr[\"F1-score\"], label=\"F1-score\")\n",
    "    plt.scatter(_k, metr[\"F1-score\"])\n",
    "    \n",
    "    \n",
    "    plt.title(\"Comparação de métricas\")\n",
    "    plt.xlabel(\"Valores de k\")\n",
    "    plt.ylabel(\"Métricas\")\n",
    "    plt.legend()\n",
    "    plt.show()\n",
    "\n",
    "def TO_gama(x, y):\n",
    "    metr = {\"Neigh\": [], \"Recall\": [], \"Precision\": [], \"F1-score\": []}\n",
    "    \n",
    "    new_metr = TO_212(x, y, metr)\n",
    "\n",
    "    plot_metricas(new_metr)\n",
    "\n",
    "    pos_k = new_metr[\"Recall\"].index(max(new_metr[\"Recall\"]))\n",
    "    best_k = _k[pos_k]\n",
    "    print(\"Best K: \" + str(best_k))\n",
    "\n",
    "    neigh = K_neighbors_classifier(x, y, best_k)\n",
    "    pred = neigh.predict(x)\n",
    "    true = y\n",
    "    cm, rs, ps, f1 = metrics(true, pred)\n",
    "\n",
    "    mais_bonito(cm, rs, ps, f1, iris[\"target_names\"])\n",
    "\n",
    "TO_gama(data, target)"
   ]
  },
  {
   "cell_type": "markdown",
   "metadata": {},
   "source": [
    "### 2.1.2. TVT 40-30-30"
   ]
  },
  {
   "cell_type": "code",
   "execution_count": 16,
   "metadata": {},
   "outputs": [
    {
     "data": {
      "image/png": "[encoded data removed]",
      "text/plain": [
       "<Figure size 432x288 with 1 Axes>"
      ]
     },
     "metadata": {
      "needs_background": "light"
     },
     "output_type": "display_data"
    },
    {
     "name": "stdout",
     "output_type": "stream",
     "text": [
      "Best K: 1\n"
     ]
    },
    {
     "data": {
      "text/html": [
       "<div>\n",
       "<style scoped>\n",
       "    .dataframe tbody tr th:only-of-type {\n",
       "        vertical-align: middle;\n",
       "    }\n",
       "\n",
       "    .dataframe tbody tr th {\n",
       "        vertical-align: top;\n",
       "    }\n",
       "\n",
       "    .dataframe thead th {\n",
       "        text-align: right;\n",
       "    }\n",
       "</style>\n",
       "<table border=\"1\" class=\"dataframe\">\n",
       "  <thead>\n",
       "    <tr style=\"text-align: right;\">\n",
       "      <th></th>\n",
       "      <th>Metrics</th>\n",
       "    </tr>\n",
       "  </thead>\n",
       "  <tbody>\n",
       "    <tr>\n",
       "      <th>Recall</th>\n",
       "      <td>0.974359</td>\n",
       "    </tr>\n",
       "    <tr>\n",
       "      <th>Precision</th>\n",
       "      <td>0.980392</td>\n",
       "    </tr>\n",
       "    <tr>\n",
       "      <th>F1-score</th>\n",
       "      <td>0.976566</td>\n",
       "    </tr>\n",
       "  </tbody>\n",
       "</table>\n",
       "</div>"
      ],
      "text/plain": [
       "            Metrics\n",
       "Recall     0.974359\n",
       "Precision  0.980392\n",
       "F1-score   0.976566"
      ]
     },
     "metadata": {},
     "output_type": "display_data"
    },
    {
     "data": {
      "text/html": [
       "<style type=\"text/css\">\n",
       "</style>\n",
       "<table id=\"T_625e4\">\n",
       "  <caption>Confusion Matrix</caption>\n",
       "  <thead>\n",
       "    <tr>\n",
       "      <th class=\"blank level0\" >&nbsp;</th>\n",
       "      <th id=\"T_625e4_level0_col0\" class=\"col_heading level0 col0\" >setosa</th>\n",
       "      <th id=\"T_625e4_level0_col1\" class=\"col_heading level0 col1\" >versicolor</th>\n",
       "      <th id=\"T_625e4_level0_col2\" class=\"col_heading level0 col2\" >virginica</th>\n",
       "    </tr>\n",
       "  </thead>\n",
       "  <tbody>\n",
       "    <tr>\n",
       "      <th id=\"T_625e4_level0_row0\" class=\"row_heading level0 row0\" >setosa</th>\n",
       "      <td id=\"T_625e4_row0_col0\" class=\"data row0 col0\" >16</td>\n",
       "      <td id=\"T_625e4_row0_col1\" class=\"data row0 col1\" >0</td>\n",
       "      <td id=\"T_625e4_row0_col2\" class=\"data row0 col2\" >0</td>\n",
       "    </tr>\n",
       "    <tr>\n",
       "      <th id=\"T_625e4_level0_row1\" class=\"row_heading level0 row1\" >versicolor</th>\n",
       "      <td id=\"T_625e4_row1_col0\" class=\"data row1 col0\" >0</td>\n",
       "      <td id=\"T_625e4_row1_col1\" class=\"data row1 col1\" >12</td>\n",
       "      <td id=\"T_625e4_row1_col2\" class=\"data row1 col2\" >1</td>\n",
       "    </tr>\n",
       "    <tr>\n",
       "      <th id=\"T_625e4_level0_row2\" class=\"row_heading level0 row2\" >virginica</th>\n",
       "      <td id=\"T_625e4_row2_col0\" class=\"data row2 col0\" >0</td>\n",
       "      <td id=\"T_625e4_row2_col1\" class=\"data row2 col1\" >0</td>\n",
       "      <td id=\"T_625e4_row2_col2\" class=\"data row2 col2\" >16</td>\n",
       "    </tr>\n",
       "  </tbody>\n",
       "</table>\n"
      ],
      "text/plain": [
       "<pandas.io.formats.style.Styler at 0x24500f435e0>"
      ]
     },
     "metadata": {},
     "output_type": "display_data"
    },
    {
     "data": {
      "image/png": "[encoded data removed]",
      "text/plain": [
       "<Figure size 360x360 with 2 Axes>"
      ]
     },
     "metadata": {
      "needs_background": "light"
     },
     "output_type": "display_data"
    }
   ],
   "source": [
    "# TODO\n",
    "# VER O MELHOR K -> FEITO\n",
    "# PARA O MELHOR K, TESTAR COM O TREINO + VALIDATION JUNTOS, USANDO O TEST COMO PRED\n",
    "\n",
    "\n",
    "def TVT_212(x, y, metr):\n",
    "    for k in _k:\n",
    "        trainValidation = train_validation_test(x, y, 0.4, 0.3)\n",
    "\n",
    "        neigh = K_neighbors_classifier(trainValidation['TRAIN'][0], trainValidation['TRAIN'][1], k)\n",
    "        pred = neigh.predict(trainValidation['VALIDATION'][0])\n",
    "        true = trainValidation['VALIDATION'][1]\n",
    "        cm, rs, ps, f1 = metrics(true, pred)\n",
    "\n",
    "        metr[\"Neigh\"].append(neigh)\n",
    "        metr[\"Recall\"].append(rs)\n",
    "        metr[\"Precision\"].append(ps)\n",
    "        metr[\"F1-score\"].append(f1)\n",
    "    \n",
    "    return metr\n",
    "\n",
    "def plot_metricas(metr):\n",
    "    plt.figure()\n",
    "\n",
    "    plt.plot(_k, metr[\"Recall\"], label=\"Recall\")\n",
    "    plt.scatter(_k, metr[\"Recall\"])\n",
    "    plt.plot(_k, metr[\"Precision\"], label=\"Precision\")\n",
    "    plt.scatter(_k, metr[\"Precision\"])\n",
    "    plt.plot(_k, metr[\"F1-score\"], label=\"F1-score\")\n",
    "    plt.scatter(_k, metr[\"F1-score\"])\n",
    "    \n",
    "    plt.title(\"Comparação de métricas\")\n",
    "    plt.xlabel(\"Valores de k\")\n",
    "    plt.ylabel(\"Métricas\")\n",
    "    plt.legend()\n",
    "    plt.show()\n",
    "\n",
    "def TVT_gama(x, y):\n",
    "    metr = {\"Neigh\": [], \"Recall\": [], \"Precision\": [], \"F1-score\": []}\n",
    "    \n",
    "    new_metr = TVT_212(x, y, metr)\n",
    "\n",
    "    plot_metricas(new_metr)\n",
    "\n",
    "    pos_k = new_metr[\"Recall\"].index(max(new_metr[\"Recall\"]))\n",
    "    best_k = _k[pos_k]\n",
    "    print(\"Best K: \" + str(best_k))\n",
    "\n",
    "    trainValidation = train_validation_test(x, y, 0.4, 0.3)\n",
    "\n",
    "    newTrain0 = np.concatenate((trainValidation['TRAIN'][0], trainValidation['VALIDATION'][0]), axis=0)\n",
    "    newTrain1 = np.concatenate((trainValidation['TRAIN'][1], trainValidation['VALIDATION'][1]), axis=0)\n",
    "\n",
    "    neigh = K_neighbors_classifier(newTrain0, newTrain1, best_k)\n",
    "    pred = neigh.predict(trainValidation['TEST'][0])\n",
    "    true = trainValidation['TEST'][1]\n",
    "    cm, rs, ps, f1 = metrics(true, pred)\n",
    "\n",
    "    mais_bonito(cm, rs, ps, f1, iris[\"target_names\"])\n",
    "\n",
    "TVT_gama(data, target)"
   ]
  },
  {
   "cell_type": "markdown",
   "metadata": {},
   "source": [
    "### 2.1.2. 10x10-fold cross-validation (10CV)"
   ]
  },
  {
   "cell_type": "code",
   "execution_count": 17,
   "metadata": {},
   "outputs": [
    {
     "name": "stdout",
     "output_type": "stream",
     "text": [
      "------------------- Iteração 0 -------------------\n"
     ]
    },
    {
     "data": {
      "image/png": "[encoded data removed]",
      "text/plain": [
       "<Figure size 432x288 with 1 Axes>"
      ]
     },
     "metadata": {
      "needs_background": "light"
     },
     "output_type": "display_data"
    },
    {
     "name": "stdout",
     "output_type": "stream",
     "text": [
      "Best K: 1\n"
     ]
    },
    {
     "data": {
      "text/html": [
       "<div>\n",
       "<style scoped>\n",
       "    .dataframe tbody tr th:only-of-type {\n",
       "        vertical-align: middle;\n",
       "    }\n",
       "\n",
       "    .dataframe tbody tr th {\n",
       "        vertical-align: top;\n",
       "    }\n",
       "\n",
       "    .dataframe thead th {\n",
       "        text-align: right;\n",
       "    }\n",
       "</style>\n",
       "<table border=\"1\" class=\"dataframe\">\n",
       "  <thead>\n",
       "    <tr style=\"text-align: right;\">\n",
       "      <th></th>\n",
       "      <th>Metrics</th>\n",
       "    </tr>\n",
       "  </thead>\n",
       "  <tbody>\n",
       "    <tr>\n",
       "      <th>Recall</th>\n",
       "      <td>1.0</td>\n",
       "    </tr>\n",
       "    <tr>\n",
       "      <th>Precision</th>\n",
       "      <td>1.0</td>\n",
       "    </tr>\n",
       "    <tr>\n",
       "      <th>F1-score</th>\n",
       "      <td>1.0</td>\n",
       "    </tr>\n",
       "  </tbody>\n",
       "</table>\n",
       "</div>"
      ],
      "text/plain": [
       "           Metrics\n",
       "Recall         1.0\n",
       "Precision      1.0\n",
       "F1-score       1.0"
      ]
     },
     "metadata": {},
     "output_type": "display_data"
    },
    {
     "data": {
      "text/html": [
       "<style type=\"text/css\">\n",
       "</style>\n",
       "<table id=\"T_e1ca0\">\n",
       "  <caption>Confusion Matrix</caption>\n",
       "  <thead>\n",
       "    <tr>\n",
       "      <th class=\"blank level0\" >&nbsp;</th>\n",
       "      <th id=\"T_e1ca0_level0_col0\" class=\"col_heading level0 col0\" >setosa</th>\n",
       "      <th id=\"T_e1ca0_level0_col1\" class=\"col_heading level0 col1\" >versicolor</th>\n",
       "      <th id=\"T_e1ca0_level0_col2\" class=\"col_heading level0 col2\" >virginica</th>\n",
       "    </tr>\n",
       "  </thead>\n",
       "  <tbody>\n",
       "    <tr>\n",
       "      <th id=\"T_e1ca0_level0_row0\" class=\"row_heading level0 row0\" >setosa</th>\n",
       "      <td id=\"T_e1ca0_row0_col0\" class=\"data row0 col0\" >8</td>\n",
       "      <td id=\"T_e1ca0_row0_col1\" class=\"data row0 col1\" >0</td>\n",
       "      <td id=\"T_e1ca0_row0_col2\" class=\"data row0 col2\" >0</td>\n",
       "    </tr>\n",
       "    <tr>\n",
       "      <th id=\"T_e1ca0_level0_row1\" class=\"row_heading level0 row1\" >versicolor</th>\n",
       "      <td id=\"T_e1ca0_row1_col0\" class=\"data row1 col0\" >0</td>\n",
       "      <td id=\"T_e1ca0_row1_col1\" class=\"data row1 col1\" >6</td>\n",
       "      <td id=\"T_e1ca0_row1_col2\" class=\"data row1 col2\" >0</td>\n",
       "    </tr>\n",
       "    <tr>\n",
       "      <th id=\"T_e1ca0_level0_row2\" class=\"row_heading level0 row2\" >virginica</th>\n",
       "      <td id=\"T_e1ca0_row2_col0\" class=\"data row2 col0\" >0</td>\n",
       "      <td id=\"T_e1ca0_row2_col1\" class=\"data row2 col1\" >0</td>\n",
       "      <td id=\"T_e1ca0_row2_col2\" class=\"data row2 col2\" >1</td>\n",
       "    </tr>\n",
       "  </tbody>\n",
       "</table>\n"
      ],
      "text/plain": [
       "<pandas.io.formats.style.Styler at 0x24502056520>"
      ]
     },
     "metadata": {},
     "output_type": "display_data"
    },
    {
     "data": {
      "image/png": "[encoded data removed]",
      "text/plain": [
       "<Figure size 360x360 with 2 Axes>"
      ]
     },
     "metadata": {
      "needs_background": "light"
     },
     "output_type": "display_data"
    },
    {
     "name": "stdout",
     "output_type": "stream",
     "text": [
      "------------------- Iteração 1 -------------------\n"
     ]
    },
    {
     "data": {
      "image/png": "[encoded data removed]",
      "text/plain": [
       "<Figure size 432x288 with 1 Axes>"
      ]
     },
     "metadata": {
      "needs_background": "light"
     },
     "output_type": "display_data"
    },
    {
     "name": "stdout",
     "output_type": "stream",
     "text": [
      "Best K: 1\n"
     ]
    },
    {
     "data": {
      "text/html": [
       "<div>\n",
       "<style scoped>\n",
       "    .dataframe tbody tr th:only-of-type {\n",
       "        vertical-align: middle;\n",
       "    }\n",
       "\n",
       "    .dataframe tbody tr th {\n",
       "        vertical-align: top;\n",
       "    }\n",
       "\n",
       "    .dataframe thead th {\n",
       "        text-align: right;\n",
       "    }\n",
       "</style>\n",
       "<table border=\"1\" class=\"dataframe\">\n",
       "  <thead>\n",
       "    <tr style=\"text-align: right;\">\n",
       "      <th></th>\n",
       "      <th>Metrics</th>\n",
       "    </tr>\n",
       "  </thead>\n",
       "  <tbody>\n",
       "    <tr>\n",
       "      <th>Recall</th>\n",
       "      <td>0.958333</td>\n",
       "    </tr>\n",
       "    <tr>\n",
       "      <th>Precision</th>\n",
       "      <td>0.952381</td>\n",
       "    </tr>\n",
       "    <tr>\n",
       "      <th>F1-score</th>\n",
       "      <td>0.952137</td>\n",
       "    </tr>\n",
       "  </tbody>\n",
       "</table>\n",
       "</div>"
      ],
      "text/plain": [
       "            Metrics\n",
       "Recall     0.958333\n",
       "Precision  0.952381\n",
       "F1-score   0.952137"
      ]
     },
     "metadata": {},
     "output_type": "display_data"
    },
    {
     "data": {
      "text/html": [
       "<style type=\"text/css\">\n",
       "</style>\n",
       "<table id=\"T_24d00\">\n",
       "  <caption>Confusion Matrix</caption>\n",
       "  <thead>\n",
       "    <tr>\n",
       "      <th class=\"blank level0\" >&nbsp;</th>\n",
       "      <th id=\"T_24d00_level0_col0\" class=\"col_heading level0 col0\" >setosa</th>\n",
       "      <th id=\"T_24d00_level0_col1\" class=\"col_heading level0 col1\" >versicolor</th>\n",
       "      <th id=\"T_24d00_level0_col2\" class=\"col_heading level0 col2\" >virginica</th>\n",
       "    </tr>\n",
       "  </thead>\n",
       "  <tbody>\n",
       "    <tr>\n",
       "      <th id=\"T_24d00_level0_row0\" class=\"row_heading level0 row0\" >setosa</th>\n",
       "      <td id=\"T_24d00_row0_col0\" class=\"data row0 col0\" >1</td>\n",
       "      <td id=\"T_24d00_row0_col1\" class=\"data row0 col1\" >0</td>\n",
       "      <td id=\"T_24d00_row0_col2\" class=\"data row0 col2\" >0</td>\n",
       "    </tr>\n",
       "    <tr>\n",
       "      <th id=\"T_24d00_level0_row1\" class=\"row_heading level0 row1\" >versicolor</th>\n",
       "      <td id=\"T_24d00_row1_col0\" class=\"data row1 col0\" >0</td>\n",
       "      <td id=\"T_24d00_row1_col1\" class=\"data row1 col1\" >6</td>\n",
       "      <td id=\"T_24d00_row1_col2\" class=\"data row1 col2\" >0</td>\n",
       "    </tr>\n",
       "    <tr>\n",
       "      <th id=\"T_24d00_level0_row2\" class=\"row_heading level0 row2\" >virginica</th>\n",
       "      <td id=\"T_24d00_row2_col0\" class=\"data row2 col0\" >0</td>\n",
       "      <td id=\"T_24d00_row2_col1\" class=\"data row2 col1\" >1</td>\n",
       "      <td id=\"T_24d00_row2_col2\" class=\"data row2 col2\" >7</td>\n",
       "    </tr>\n",
       "  </tbody>\n",
       "</table>\n"
      ],
      "text/plain": [
       "<pandas.io.formats.style.Styler at 0x2450258c820>"
      ]
     },
     "metadata": {},
     "output_type": "display_data"
    },
    {
     "data": {
      "image/png": "[encoded data removed]",
      "text/plain": [
       "<Figure size 360x360 with 2 Axes>"
      ]
     },
     "metadata": {
      "needs_background": "light"
     },
     "output_type": "display_data"
    },
    {
     "name": "stdout",
     "output_type": "stream",
     "text": [
      "------------------- Iteração 2 -------------------\n"
     ]
    },
    {
     "data": {
      "image/png": "[encoded data removed]",
      "text/plain": [
       "<Figure size 432x288 with 1 Axes>"
      ]
     },
     "metadata": {
      "needs_background": "light"
     },
     "output_type": "display_data"
    },
    {
     "name": "stdout",
     "output_type": "stream",
     "text": [
      "Best K: 1\n"
     ]
    },
    {
     "data": {
      "text/html": [
       "<div>\n",
       "<style scoped>\n",
       "    .dataframe tbody tr th:only-of-type {\n",
       "        vertical-align: middle;\n",
       "    }\n",
       "\n",
       "    .dataframe tbody tr th {\n",
       "        vertical-align: top;\n",
       "    }\n",
       "\n",
       "    .dataframe thead th {\n",
       "        text-align: right;\n",
       "    }\n",
       "</style>\n",
       "<table border=\"1\" class=\"dataframe\">\n",
       "  <thead>\n",
       "    <tr style=\"text-align: right;\">\n",
       "      <th></th>\n",
       "      <th>Metrics</th>\n",
       "    </tr>\n",
       "  </thead>\n",
       "  <tbody>\n",
       "    <tr>\n",
       "      <th>Recall</th>\n",
       "      <td>1.0</td>\n",
       "    </tr>\n",
       "    <tr>\n",
       "      <th>Precision</th>\n",
       "      <td>1.0</td>\n",
       "    </tr>\n",
       "    <tr>\n",
       "      <th>F1-score</th>\n",
       "      <td>1.0</td>\n",
       "    </tr>\n",
       "  </tbody>\n",
       "</table>\n",
       "</div>"
      ],
      "text/plain": [
       "           Metrics\n",
       "Recall         1.0\n",
       "Precision      1.0\n",
       "F1-score       1.0"
      ]
     },
     "metadata": {},
     "output_type": "display_data"
    },
    {
     "data": {
      "text/html": [
       "<style type=\"text/css\">\n",
       "</style>\n",
       "<table id=\"T_4049e\">\n",
       "  <caption>Confusion Matrix</caption>\n",
       "  <thead>\n",
       "    <tr>\n",
       "      <th class=\"blank level0\" >&nbsp;</th>\n",
       "      <th id=\"T_4049e_level0_col0\" class=\"col_heading level0 col0\" >setosa</th>\n",
       "      <th id=\"T_4049e_level0_col1\" class=\"col_heading level0 col1\" >versicolor</th>\n",
       "      <th id=\"T_4049e_level0_col2\" class=\"col_heading level0 col2\" >virginica</th>\n",
       "    </tr>\n",
       "  </thead>\n",
       "  <tbody>\n",
       "    <tr>\n",
       "      <th id=\"T_4049e_level0_row0\" class=\"row_heading level0 row0\" >setosa</th>\n",
       "      <td id=\"T_4049e_row0_col0\" class=\"data row0 col0\" >2</td>\n",
       "      <td id=\"T_4049e_row0_col1\" class=\"data row0 col1\" >0</td>\n",
       "      <td id=\"T_4049e_row0_col2\" class=\"data row0 col2\" >0</td>\n",
       "    </tr>\n",
       "    <tr>\n",
       "      <th id=\"T_4049e_level0_row1\" class=\"row_heading level0 row1\" >versicolor</th>\n",
       "      <td id=\"T_4049e_row1_col0\" class=\"data row1 col0\" >0</td>\n",
       "      <td id=\"T_4049e_row1_col1\" class=\"data row1 col1\" >4</td>\n",
       "      <td id=\"T_4049e_row1_col2\" class=\"data row1 col2\" >0</td>\n",
       "    </tr>\n",
       "    <tr>\n",
       "      <th id=\"T_4049e_level0_row2\" class=\"row_heading level0 row2\" >virginica</th>\n",
       "      <td id=\"T_4049e_row2_col0\" class=\"data row2 col0\" >0</td>\n",
       "      <td id=\"T_4049e_row2_col1\" class=\"data row2 col1\" >0</td>\n",
       "      <td id=\"T_4049e_row2_col2\" class=\"data row2 col2\" >9</td>\n",
       "    </tr>\n",
       "  </tbody>\n",
       "</table>\n"
      ],
      "text/plain": [
       "<pandas.io.formats.style.Styler at 0x24502081df0>"
      ]
     },
     "metadata": {},
     "output_type": "display_data"
    },
    {
     "data": {
      "image/png": "[encoded data removed]",
      "text/plain": [
       "<Figure size 360x360 with 2 Axes>"
      ]
     },
     "metadata": {
      "needs_background": "light"
     },
     "output_type": "display_data"
    },
    {
     "name": "stdout",
     "output_type": "stream",
     "text": [
      "------------------- Iteração 3 -------------------\n"
     ]
    },
    {
     "data": {
      "image/png": "[encoded data removed]",
      "text/plain": [
       "<Figure size 432x288 with 1 Axes>"
      ]
     },
     "metadata": {
      "needs_background": "light"
     },
     "output_type": "display_data"
    },
    {
     "name": "stdout",
     "output_type": "stream",
     "text": [
      "Best K: 7\n"
     ]
    },
    {
     "data": {
      "text/html": [
       "<div>\n",
       "<style scoped>\n",
       "    .dataframe tbody tr th:only-of-type {\n",
       "        vertical-align: middle;\n",
       "    }\n",
       "\n",
       "    .dataframe tbody tr th {\n",
       "        vertical-align: top;\n",
       "    }\n",
       "\n",
       "    .dataframe thead th {\n",
       "        text-align: right;\n",
       "    }\n",
       "</style>\n",
       "<table border=\"1\" class=\"dataframe\">\n",
       "  <thead>\n",
       "    <tr style=\"text-align: right;\">\n",
       "      <th></th>\n",
       "      <th>Metrics</th>\n",
       "    </tr>\n",
       "  </thead>\n",
       "  <tbody>\n",
       "    <tr>\n",
       "      <th>Recall</th>\n",
       "      <td>0.944444</td>\n",
       "    </tr>\n",
       "    <tr>\n",
       "      <th>Precision</th>\n",
       "      <td>0.952381</td>\n",
       "    </tr>\n",
       "    <tr>\n",
       "      <th>F1-score</th>\n",
       "      <td>0.944056</td>\n",
       "    </tr>\n",
       "  </tbody>\n",
       "</table>\n",
       "</div>"
      ],
      "text/plain": [
       "            Metrics\n",
       "Recall     0.944444\n",
       "Precision  0.952381\n",
       "F1-score   0.944056"
      ]
     },
     "metadata": {},
     "output_type": "display_data"
    },
    {
     "data": {
      "text/html": [
       "<style type=\"text/css\">\n",
       "</style>\n",
       "<table id=\"T_607ae\">\n",
       "  <caption>Confusion Matrix</caption>\n",
       "  <thead>\n",
       "    <tr>\n",
       "      <th class=\"blank level0\" >&nbsp;</th>\n",
       "      <th id=\"T_607ae_level0_col0\" class=\"col_heading level0 col0\" >setosa</th>\n",
       "      <th id=\"T_607ae_level0_col1\" class=\"col_heading level0 col1\" >versicolor</th>\n",
       "      <th id=\"T_607ae_level0_col2\" class=\"col_heading level0 col2\" >virginica</th>\n",
       "    </tr>\n",
       "  </thead>\n",
       "  <tbody>\n",
       "    <tr>\n",
       "      <th id=\"T_607ae_level0_row0\" class=\"row_heading level0 row0\" >setosa</th>\n",
       "      <td id=\"T_607ae_row0_col0\" class=\"data row0 col0\" >3</td>\n",
       "      <td id=\"T_607ae_row0_col1\" class=\"data row0 col1\" >0</td>\n",
       "      <td id=\"T_607ae_row0_col2\" class=\"data row0 col2\" >0</td>\n",
       "    </tr>\n",
       "    <tr>\n",
       "      <th id=\"T_607ae_level0_row1\" class=\"row_heading level0 row1\" >versicolor</th>\n",
       "      <td id=\"T_607ae_row1_col0\" class=\"data row1 col0\" >0</td>\n",
       "      <td id=\"T_607ae_row1_col1\" class=\"data row1 col1\" >6</td>\n",
       "      <td id=\"T_607ae_row1_col2\" class=\"data row1 col2\" >0</td>\n",
       "    </tr>\n",
       "    <tr>\n",
       "      <th id=\"T_607ae_level0_row2\" class=\"row_heading level0 row2\" >virginica</th>\n",
       "      <td id=\"T_607ae_row2_col0\" class=\"data row2 col0\" >0</td>\n",
       "      <td id=\"T_607ae_row2_col1\" class=\"data row2 col1\" >1</td>\n",
       "      <td id=\"T_607ae_row2_col2\" class=\"data row2 col2\" >5</td>\n",
       "    </tr>\n",
       "  </tbody>\n",
       "</table>\n"
      ],
      "text/plain": [
       "<pandas.io.formats.style.Styler at 0x24502103550>"
      ]
     },
     "metadata": {},
     "output_type": "display_data"
    },
    {
     "data": {
      "image/png": "[encoded data removed]",
      "text/plain": [
       "<Figure size 360x360 with 2 Axes>"
      ]
     },
     "metadata": {
      "needs_background": "light"
     },
     "output_type": "display_data"
    },
    {
     "name": "stdout",
     "output_type": "stream",
     "text": [
      "------------------- Iteração 4 -------------------\n"
     ]
    },
    {
     "data": {
      "image/png": "[encoded data removed]",
      "text/plain": [
       "<Figure size 432x288 with 1 Axes>"
      ]
     },
     "metadata": {
      "needs_background": "light"
     },
     "output_type": "display_data"
    },
    {
     "name": "stdout",
     "output_type": "stream",
     "text": [
      "Best K: 7\n"
     ]
    },
    {
     "data": {
      "text/html": [
       "<div>\n",
       "<style scoped>\n",
       "    .dataframe tbody tr th:only-of-type {\n",
       "        vertical-align: middle;\n",
       "    }\n",
       "\n",
       "    .dataframe tbody tr th {\n",
       "        vertical-align: top;\n",
       "    }\n",
       "\n",
       "    .dataframe thead th {\n",
       "        text-align: right;\n",
       "    }\n",
       "</style>\n",
       "<table border=\"1\" class=\"dataframe\">\n",
       "  <thead>\n",
       "    <tr style=\"text-align: right;\">\n",
       "      <th></th>\n",
       "      <th>Metrics</th>\n",
       "    </tr>\n",
       "  </thead>\n",
       "  <tbody>\n",
       "    <tr>\n",
       "      <th>Recall</th>\n",
       "      <td>1.0</td>\n",
       "    </tr>\n",
       "    <tr>\n",
       "      <th>Precision</th>\n",
       "      <td>1.0</td>\n",
       "    </tr>\n",
       "    <tr>\n",
       "      <th>F1-score</th>\n",
       "      <td>1.0</td>\n",
       "    </tr>\n",
       "  </tbody>\n",
       "</table>\n",
       "</div>"
      ],
      "text/plain": [
       "           Metrics\n",
       "Recall         1.0\n",
       "Precision      1.0\n",
       "F1-score       1.0"
      ]
     },
     "metadata": {},
     "output_type": "display_data"
    },
    {
     "data": {
      "text/html": [
       "<style type=\"text/css\">\n",
       "</style>\n",
       "<table id=\"T_7bd56\">\n",
       "  <caption>Confusion Matrix</caption>\n",
       "  <thead>\n",
       "    <tr>\n",
       "      <th class=\"blank level0\" >&nbsp;</th>\n",
       "      <th id=\"T_7bd56_level0_col0\" class=\"col_heading level0 col0\" >setosa</th>\n",
       "      <th id=\"T_7bd56_level0_col1\" class=\"col_heading level0 col1\" >versicolor</th>\n",
       "      <th id=\"T_7bd56_level0_col2\" class=\"col_heading level0 col2\" >virginica</th>\n",
       "    </tr>\n",
       "  </thead>\n",
       "  <tbody>\n",
       "    <tr>\n",
       "      <th id=\"T_7bd56_level0_row0\" class=\"row_heading level0 row0\" >setosa</th>\n",
       "      <td id=\"T_7bd56_row0_col0\" class=\"data row0 col0\" >7</td>\n",
       "      <td id=\"T_7bd56_row0_col1\" class=\"data row0 col1\" >0</td>\n",
       "      <td id=\"T_7bd56_row0_col2\" class=\"data row0 col2\" >0</td>\n",
       "    </tr>\n",
       "    <tr>\n",
       "      <th id=\"T_7bd56_level0_row1\" class=\"row_heading level0 row1\" >versicolor</th>\n",
       "      <td id=\"T_7bd56_row1_col0\" class=\"data row1 col0\" >0</td>\n",
       "      <td id=\"T_7bd56_row1_col1\" class=\"data row1 col1\" >3</td>\n",
       "      <td id=\"T_7bd56_row1_col2\" class=\"data row1 col2\" >0</td>\n",
       "    </tr>\n",
       "    <tr>\n",
       "      <th id=\"T_7bd56_level0_row2\" class=\"row_heading level0 row2\" >virginica</th>\n",
       "      <td id=\"T_7bd56_row2_col0\" class=\"data row2 col0\" >0</td>\n",
       "      <td id=\"T_7bd56_row2_col1\" class=\"data row2 col1\" >0</td>\n",
       "      <td id=\"T_7bd56_row2_col2\" class=\"data row2 col2\" >5</td>\n",
       "    </tr>\n",
       "  </tbody>\n",
       "</table>\n"
      ],
      "text/plain": [
       "<pandas.io.formats.style.Styler at 0x2457faab1f0>"
      ]
     },
     "metadata": {},
     "output_type": "display_data"
    },
    {
     "data": {
      "image/png": "[encoded data removed]",
      "text/plain": [
       "<Figure size 360x360 with 2 Axes>"
      ]
     },
     "metadata": {
      "needs_background": "light"
     },
     "output_type": "display_data"
    },
    {
     "name": "stdout",
     "output_type": "stream",
     "text": [
      "------------------- Iteração 5 -------------------\n"
     ]
    },
    {
     "data": {
      "image/png": "[encoded data removed]",
      "text/plain": [
       "<Figure size 432x288 with 1 Axes>"
      ]
     },
     "metadata": {
      "needs_background": "light"
     },
     "output_type": "display_data"
    },
    {
     "name": "stdout",
     "output_type": "stream",
     "text": [
      "Best K: 1\n"
     ]
    },
    {
     "data": {
      "text/html": [
       "<div>\n",
       "<style scoped>\n",
       "    .dataframe tbody tr th:only-of-type {\n",
       "        vertical-align: middle;\n",
       "    }\n",
       "\n",
       "    .dataframe tbody tr th {\n",
       "        vertical-align: top;\n",
       "    }\n",
       "\n",
       "    .dataframe thead th {\n",
       "        text-align: right;\n",
       "    }\n",
       "</style>\n",
       "<table border=\"1\" class=\"dataframe\">\n",
       "  <thead>\n",
       "    <tr style=\"text-align: right;\">\n",
       "      <th></th>\n",
       "      <th>Metrics</th>\n",
       "    </tr>\n",
       "  </thead>\n",
       "  <tbody>\n",
       "    <tr>\n",
       "      <th>Recall</th>\n",
       "      <td>1.0</td>\n",
       "    </tr>\n",
       "    <tr>\n",
       "      <th>Precision</th>\n",
       "      <td>1.0</td>\n",
       "    </tr>\n",
       "    <tr>\n",
       "      <th>F1-score</th>\n",
       "      <td>1.0</td>\n",
       "    </tr>\n",
       "  </tbody>\n",
       "</table>\n",
       "</div>"
      ],
      "text/plain": [
       "           Metrics\n",
       "Recall         1.0\n",
       "Precision      1.0\n",
       "F1-score       1.0"
      ]
     },
     "metadata": {},
     "output_type": "display_data"
    },
    {
     "data": {
      "text/html": [
       "<style type=\"text/css\">\n",
       "</style>\n",
       "<table id=\"T_59ebf\">\n",
       "  <caption>Confusion Matrix</caption>\n",
       "  <thead>\n",
       "    <tr>\n",
       "      <th class=\"blank level0\" >&nbsp;</th>\n",
       "      <th id=\"T_59ebf_level0_col0\" class=\"col_heading level0 col0\" >setosa</th>\n",
       "      <th id=\"T_59ebf_level0_col1\" class=\"col_heading level0 col1\" >versicolor</th>\n",
       "      <th id=\"T_59ebf_level0_col2\" class=\"col_heading level0 col2\" >virginica</th>\n",
       "    </tr>\n",
       "  </thead>\n",
       "  <tbody>\n",
       "    <tr>\n",
       "      <th id=\"T_59ebf_level0_row0\" class=\"row_heading level0 row0\" >setosa</th>\n",
       "      <td id=\"T_59ebf_row0_col0\" class=\"data row0 col0\" >5</td>\n",
       "      <td id=\"T_59ebf_row0_col1\" class=\"data row0 col1\" >0</td>\n",
       "      <td id=\"T_59ebf_row0_col2\" class=\"data row0 col2\" >0</td>\n",
       "    </tr>\n",
       "    <tr>\n",
       "      <th id=\"T_59ebf_level0_row1\" class=\"row_heading level0 row1\" >versicolor</th>\n",
       "      <td id=\"T_59ebf_row1_col0\" class=\"data row1 col0\" >0</td>\n",
       "      <td id=\"T_59ebf_row1_col1\" class=\"data row1 col1\" >3</td>\n",
       "      <td id=\"T_59ebf_row1_col2\" class=\"data row1 col2\" >0</td>\n",
       "    </tr>\n",
       "    <tr>\n",
       "      <th id=\"T_59ebf_level0_row2\" class=\"row_heading level0 row2\" >virginica</th>\n",
       "      <td id=\"T_59ebf_row2_col0\" class=\"data row2 col0\" >0</td>\n",
       "      <td id=\"T_59ebf_row2_col1\" class=\"data row2 col1\" >0</td>\n",
       "      <td id=\"T_59ebf_row2_col2\" class=\"data row2 col2\" >7</td>\n",
       "    </tr>\n",
       "  </tbody>\n",
       "</table>\n"
      ],
      "text/plain": [
       "<pandas.io.formats.style.Styler at 0x24502171580>"
      ]
     },
     "metadata": {},
     "output_type": "display_data"
    },
    {
     "data": {
      "image/png": "[encoded data removed]",
      "text/plain": [
       "<Figure size 360x360 with 2 Axes>"
      ]
     },
     "metadata": {
      "needs_background": "light"
     },
     "output_type": "display_data"
    },
    {
     "name": "stdout",
     "output_type": "stream",
     "text": [
      "------------------- Iteração 6 -------------------\n"
     ]
    },
    {
     "data": {
      "image/png": "[encoded data removed]",
      "text/plain": [
       "<Figure size 432x288 with 1 Axes>"
      ]
     },
     "metadata": {
      "needs_background": "light"
     },
     "output_type": "display_data"
    },
    {
     "name": "stdout",
     "output_type": "stream",
     "text": [
      "Best K: 1\n"
     ]
    },
    {
     "data": {
      "text/html": [
       "<div>\n",
       "<style scoped>\n",
       "    .dataframe tbody tr th:only-of-type {\n",
       "        vertical-align: middle;\n",
       "    }\n",
       "\n",
       "    .dataframe tbody tr th {\n",
       "        vertical-align: top;\n",
       "    }\n",
       "\n",
       "    .dataframe thead th {\n",
       "        text-align: right;\n",
       "    }\n",
       "</style>\n",
       "<table border=\"1\" class=\"dataframe\">\n",
       "  <thead>\n",
       "    <tr style=\"text-align: right;\">\n",
       "      <th></th>\n",
       "      <th>Metrics</th>\n",
       "    </tr>\n",
       "  </thead>\n",
       "  <tbody>\n",
       "    <tr>\n",
       "      <th>Recall</th>\n",
       "      <td>0.888889</td>\n",
       "    </tr>\n",
       "    <tr>\n",
       "      <th>Precision</th>\n",
       "      <td>0.944444</td>\n",
       "    </tr>\n",
       "    <tr>\n",
       "      <th>F1-score</th>\n",
       "      <td>0.903030</td>\n",
       "    </tr>\n",
       "  </tbody>\n",
       "</table>\n",
       "</div>"
      ],
      "text/plain": [
       "            Metrics\n",
       "Recall     0.888889\n",
       "Precision  0.944444\n",
       "F1-score   0.903030"
      ]
     },
     "metadata": {},
     "output_type": "display_data"
    },
    {
     "data": {
      "text/html": [
       "<style type=\"text/css\">\n",
       "</style>\n",
       "<table id=\"T_8698b\">\n",
       "  <caption>Confusion Matrix</caption>\n",
       "  <thead>\n",
       "    <tr>\n",
       "      <th class=\"blank level0\" >&nbsp;</th>\n",
       "      <th id=\"T_8698b_level0_col0\" class=\"col_heading level0 col0\" >setosa</th>\n",
       "      <th id=\"T_8698b_level0_col1\" class=\"col_heading level0 col1\" >versicolor</th>\n",
       "      <th id=\"T_8698b_level0_col2\" class=\"col_heading level0 col2\" >virginica</th>\n",
       "    </tr>\n",
       "  </thead>\n",
       "  <tbody>\n",
       "    <tr>\n",
       "      <th id=\"T_8698b_level0_row0\" class=\"row_heading level0 row0\" >setosa</th>\n",
       "      <td id=\"T_8698b_row0_col0\" class=\"data row0 col0\" >7</td>\n",
       "      <td id=\"T_8698b_row0_col1\" class=\"data row0 col1\" >0</td>\n",
       "      <td id=\"T_8698b_row0_col2\" class=\"data row0 col2\" >0</td>\n",
       "    </tr>\n",
       "    <tr>\n",
       "      <th id=\"T_8698b_level0_row1\" class=\"row_heading level0 row1\" >versicolor</th>\n",
       "      <td id=\"T_8698b_row1_col0\" class=\"data row1 col0\" >0</td>\n",
       "      <td id=\"T_8698b_row1_col1\" class=\"data row1 col1\" >2</td>\n",
       "      <td id=\"T_8698b_row1_col2\" class=\"data row1 col2\" >1</td>\n",
       "    </tr>\n",
       "    <tr>\n",
       "      <th id=\"T_8698b_level0_row2\" class=\"row_heading level0 row2\" >virginica</th>\n",
       "      <td id=\"T_8698b_row2_col0\" class=\"data row2 col0\" >0</td>\n",
       "      <td id=\"T_8698b_row2_col1\" class=\"data row2 col1\" >0</td>\n",
       "      <td id=\"T_8698b_row2_col2\" class=\"data row2 col2\" >5</td>\n",
       "    </tr>\n",
       "  </tbody>\n",
       "</table>\n"
      ],
      "text/plain": [
       "<pandas.io.formats.style.Styler at 0x24500db4f40>"
      ]
     },
     "metadata": {},
     "output_type": "display_data"
    },
    {
     "data": {
      "image/png": "[encoded data removed]",
      "text/plain": [
       "<Figure size 360x360 with 2 Axes>"
      ]
     },
     "metadata": {
      "needs_background": "light"
     },
     "output_type": "display_data"
    },
    {
     "name": "stdout",
     "output_type": "stream",
     "text": [
      "------------------- Iteração 7 -------------------\n"
     ]
    },
    {
     "data": {
      "image/png": "[encoded data removed]",
      "text/plain": [
       "<Figure size 432x288 with 1 Axes>"
      ]
     },
     "metadata": {
      "needs_background": "light"
     },
     "output_type": "display_data"
    },
    {
     "name": "stdout",
     "output_type": "stream",
     "text": [
      "Best K: 1\n"
     ]
    },
    {
     "data": {
      "text/html": [
       "<div>\n",
       "<style scoped>\n",
       "    .dataframe tbody tr th:only-of-type {\n",
       "        vertical-align: middle;\n",
       "    }\n",
       "\n",
       "    .dataframe tbody tr th {\n",
       "        vertical-align: top;\n",
       "    }\n",
       "\n",
       "    .dataframe thead th {\n",
       "        text-align: right;\n",
       "    }\n",
       "</style>\n",
       "<table border=\"1\" class=\"dataframe\">\n",
       "  <thead>\n",
       "    <tr style=\"text-align: right;\">\n",
       "      <th></th>\n",
       "      <th>Metrics</th>\n",
       "    </tr>\n",
       "  </thead>\n",
       "  <tbody>\n",
       "    <tr>\n",
       "      <th>Recall</th>\n",
       "      <td>1.0</td>\n",
       "    </tr>\n",
       "    <tr>\n",
       "      <th>Precision</th>\n",
       "      <td>1.0</td>\n",
       "    </tr>\n",
       "    <tr>\n",
       "      <th>F1-score</th>\n",
       "      <td>1.0</td>\n",
       "    </tr>\n",
       "  </tbody>\n",
       "</table>\n",
       "</div>"
      ],
      "text/plain": [
       "           Metrics\n",
       "Recall         1.0\n",
       "Precision      1.0\n",
       "F1-score       1.0"
      ]
     },
     "metadata": {},
     "output_type": "display_data"
    },
    {
     "data": {
      "text/html": [
       "<style type=\"text/css\">\n",
       "</style>\n",
       "<table id=\"T_94cc8\">\n",
       "  <caption>Confusion Matrix</caption>\n",
       "  <thead>\n",
       "    <tr>\n",
       "      <th class=\"blank level0\" >&nbsp;</th>\n",
       "      <th id=\"T_94cc8_level0_col0\" class=\"col_heading level0 col0\" >setosa</th>\n",
       "      <th id=\"T_94cc8_level0_col1\" class=\"col_heading level0 col1\" >versicolor</th>\n",
       "      <th id=\"T_94cc8_level0_col2\" class=\"col_heading level0 col2\" >virginica</th>\n",
       "    </tr>\n",
       "  </thead>\n",
       "  <tbody>\n",
       "    <tr>\n",
       "      <th id=\"T_94cc8_level0_row0\" class=\"row_heading level0 row0\" >setosa</th>\n",
       "      <td id=\"T_94cc8_row0_col0\" class=\"data row0 col0\" >6</td>\n",
       "      <td id=\"T_94cc8_row0_col1\" class=\"data row0 col1\" >0</td>\n",
       "      <td id=\"T_94cc8_row0_col2\" class=\"data row0 col2\" >0</td>\n",
       "    </tr>\n",
       "    <tr>\n",
       "      <th id=\"T_94cc8_level0_row1\" class=\"row_heading level0 row1\" >versicolor</th>\n",
       "      <td id=\"T_94cc8_row1_col0\" class=\"data row1 col0\" >0</td>\n",
       "      <td id=\"T_94cc8_row1_col1\" class=\"data row1 col1\" >7</td>\n",
       "      <td id=\"T_94cc8_row1_col2\" class=\"data row1 col2\" >0</td>\n",
       "    </tr>\n",
       "    <tr>\n",
       "      <th id=\"T_94cc8_level0_row2\" class=\"row_heading level0 row2\" >virginica</th>\n",
       "      <td id=\"T_94cc8_row2_col0\" class=\"data row2 col0\" >0</td>\n",
       "      <td id=\"T_94cc8_row2_col1\" class=\"data row2 col1\" >0</td>\n",
       "      <td id=\"T_94cc8_row2_col2\" class=\"data row2 col2\" >2</td>\n",
       "    </tr>\n",
       "  </tbody>\n",
       "</table>\n"
      ],
      "text/plain": [
       "<pandas.io.formats.style.Styler at 0x245020a6d00>"
      ]
     },
     "metadata": {},
     "output_type": "display_data"
    },
    {
     "data": {
      "image/png": "[encoded data removed]",
      "text/plain": [
       "<Figure size 360x360 with 2 Axes>"
      ]
     },
     "metadata": {
      "needs_background": "light"
     },
     "output_type": "display_data"
    },
    {
     "name": "stdout",
     "output_type": "stream",
     "text": [
      "------------------- Iteração 8 -------------------\n"
     ]
    },
    {
     "data": {
      "image/png": "[encoded data removed]",
      "text/plain": [
       "<Figure size 432x288 with 1 Axes>"
      ]
     },
     "metadata": {
      "needs_background": "light"
     },
     "output_type": "display_data"
    },
    {
     "name": "stdout",
     "output_type": "stream",
     "text": [
      "Best K: 1\n"
     ]
    },
    {
     "data": {
      "text/html": [
       "<div>\n",
       "<style scoped>\n",
       "    .dataframe tbody tr th:only-of-type {\n",
       "        vertical-align: middle;\n",
       "    }\n",
       "\n",
       "    .dataframe tbody tr th {\n",
       "        vertical-align: top;\n",
       "    }\n",
       "\n",
       "    .dataframe thead th {\n",
       "        text-align: right;\n",
       "    }\n",
       "</style>\n",
       "<table border=\"1\" class=\"dataframe\">\n",
       "  <thead>\n",
       "    <tr style=\"text-align: right;\">\n",
       "      <th></th>\n",
       "      <th>Metrics</th>\n",
       "    </tr>\n",
       "  </thead>\n",
       "  <tbody>\n",
       "    <tr>\n",
       "      <th>Recall</th>\n",
       "      <td>1.0</td>\n",
       "    </tr>\n",
       "    <tr>\n",
       "      <th>Precision</th>\n",
       "      <td>1.0</td>\n",
       "    </tr>\n",
       "    <tr>\n",
       "      <th>F1-score</th>\n",
       "      <td>1.0</td>\n",
       "    </tr>\n",
       "  </tbody>\n",
       "</table>\n",
       "</div>"
      ],
      "text/plain": [
       "           Metrics\n",
       "Recall         1.0\n",
       "Precision      1.0\n",
       "F1-score       1.0"
      ]
     },
     "metadata": {},
     "output_type": "display_data"
    },
    {
     "data": {
      "text/html": [
       "<style type=\"text/css\">\n",
       "</style>\n",
       "<table id=\"T_0ae0a\">\n",
       "  <caption>Confusion Matrix</caption>\n",
       "  <thead>\n",
       "    <tr>\n",
       "      <th class=\"blank level0\" >&nbsp;</th>\n",
       "      <th id=\"T_0ae0a_level0_col0\" class=\"col_heading level0 col0\" >setosa</th>\n",
       "      <th id=\"T_0ae0a_level0_col1\" class=\"col_heading level0 col1\" >versicolor</th>\n",
       "      <th id=\"T_0ae0a_level0_col2\" class=\"col_heading level0 col2\" >virginica</th>\n",
       "    </tr>\n",
       "  </thead>\n",
       "  <tbody>\n",
       "    <tr>\n",
       "      <th id=\"T_0ae0a_level0_row0\" class=\"row_heading level0 row0\" >setosa</th>\n",
       "      <td id=\"T_0ae0a_row0_col0\" class=\"data row0 col0\" >5</td>\n",
       "      <td id=\"T_0ae0a_row0_col1\" class=\"data row0 col1\" >0</td>\n",
       "      <td id=\"T_0ae0a_row0_col2\" class=\"data row0 col2\" >0</td>\n",
       "    </tr>\n",
       "    <tr>\n",
       "      <th id=\"T_0ae0a_level0_row1\" class=\"row_heading level0 row1\" >versicolor</th>\n",
       "      <td id=\"T_0ae0a_row1_col0\" class=\"data row1 col0\" >0</td>\n",
       "      <td id=\"T_0ae0a_row1_col1\" class=\"data row1 col1\" >6</td>\n",
       "      <td id=\"T_0ae0a_row1_col2\" class=\"data row1 col2\" >0</td>\n",
       "    </tr>\n",
       "    <tr>\n",
       "      <th id=\"T_0ae0a_level0_row2\" class=\"row_heading level0 row2\" >virginica</th>\n",
       "      <td id=\"T_0ae0a_row2_col0\" class=\"data row2 col0\" >0</td>\n",
       "      <td id=\"T_0ae0a_row2_col1\" class=\"data row2 col1\" >0</td>\n",
       "      <td id=\"T_0ae0a_row2_col2\" class=\"data row2 col2\" >4</td>\n",
       "    </tr>\n",
       "  </tbody>\n",
       "</table>\n"
      ],
      "text/plain": [
       "<pandas.io.formats.style.Styler at 0x245022b83a0>"
      ]
     },
     "metadata": {},
     "output_type": "display_data"
    },
    {
     "data": {
      "image/png": "[encoded data removed]",
      "text/plain": [
       "<Figure size 360x360 with 2 Axes>"
      ]
     },
     "metadata": {
      "needs_background": "light"
     },
     "output_type": "display_data"
    },
    {
     "name": "stdout",
     "output_type": "stream",
     "text": [
      "------------------- Iteração 9 -------------------\n"
     ]
    },
    {
     "data": {
      "image/png": "[encoded data removed]",
      "text/plain": [
       "<Figure size 432x288 with 1 Axes>"
      ]
     },
     "metadata": {
      "needs_background": "light"
     },
     "output_type": "display_data"
    },
    {
     "name": "stdout",
     "output_type": "stream",
     "text": [
      "Best K: 11\n"
     ]
    },
    {
     "data": {
      "text/html": [
       "<div>\n",
       "<style scoped>\n",
       "    .dataframe tbody tr th:only-of-type {\n",
       "        vertical-align: middle;\n",
       "    }\n",
       "\n",
       "    .dataframe tbody tr th {\n",
       "        vertical-align: top;\n",
       "    }\n",
       "\n",
       "    .dataframe thead th {\n",
       "        text-align: right;\n",
       "    }\n",
       "</style>\n",
       "<table border=\"1\" class=\"dataframe\">\n",
       "  <thead>\n",
       "    <tr style=\"text-align: right;\">\n",
       "      <th></th>\n",
       "      <th>Metrics</th>\n",
       "    </tr>\n",
       "  </thead>\n",
       "  <tbody>\n",
       "    <tr>\n",
       "      <th>Recall</th>\n",
       "      <td>1.0</td>\n",
       "    </tr>\n",
       "    <tr>\n",
       "      <th>Precision</th>\n",
       "      <td>1.0</td>\n",
       "    </tr>\n",
       "    <tr>\n",
       "      <th>F1-score</th>\n",
       "      <td>1.0</td>\n",
       "    </tr>\n",
       "  </tbody>\n",
       "</table>\n",
       "</div>"
      ],
      "text/plain": [
       "           Metrics\n",
       "Recall         1.0\n",
       "Precision      1.0\n",
       "F1-score       1.0"
      ]
     },
     "metadata": {},
     "output_type": "display_data"
    },
    {
     "data": {
      "text/html": [
       "<style type=\"text/css\">\n",
       "</style>\n",
       "<table id=\"T_dcbe3\">\n",
       "  <caption>Confusion Matrix</caption>\n",
       "  <thead>\n",
       "    <tr>\n",
       "      <th class=\"blank level0\" >&nbsp;</th>\n",
       "      <th id=\"T_dcbe3_level0_col0\" class=\"col_heading level0 col0\" >setosa</th>\n",
       "      <th id=\"T_dcbe3_level0_col1\" class=\"col_heading level0 col1\" >versicolor</th>\n",
       "      <th id=\"T_dcbe3_level0_col2\" class=\"col_heading level0 col2\" >virginica</th>\n",
       "    </tr>\n",
       "  </thead>\n",
       "  <tbody>\n",
       "    <tr>\n",
       "      <th id=\"T_dcbe3_level0_row0\" class=\"row_heading level0 row0\" >setosa</th>\n",
       "      <td id=\"T_dcbe3_row0_col0\" class=\"data row0 col0\" >6</td>\n",
       "      <td id=\"T_dcbe3_row0_col1\" class=\"data row0 col1\" >0</td>\n",
       "      <td id=\"T_dcbe3_row0_col2\" class=\"data row0 col2\" >0</td>\n",
       "    </tr>\n",
       "    <tr>\n",
       "      <th id=\"T_dcbe3_level0_row1\" class=\"row_heading level0 row1\" >versicolor</th>\n",
       "      <td id=\"T_dcbe3_row1_col0\" class=\"data row1 col0\" >0</td>\n",
       "      <td id=\"T_dcbe3_row1_col1\" class=\"data row1 col1\" >6</td>\n",
       "      <td id=\"T_dcbe3_row1_col2\" class=\"data row1 col2\" >0</td>\n",
       "    </tr>\n",
       "    <tr>\n",
       "      <th id=\"T_dcbe3_level0_row2\" class=\"row_heading level0 row2\" >virginica</th>\n",
       "      <td id=\"T_dcbe3_row2_col0\" class=\"data row2 col0\" >0</td>\n",
       "      <td id=\"T_dcbe3_row2_col1\" class=\"data row2 col1\" >0</td>\n",
       "      <td id=\"T_dcbe3_row2_col2\" class=\"data row2 col2\" >3</td>\n",
       "    </tr>\n",
       "  </tbody>\n",
       "</table>\n"
      ],
      "text/plain": [
       "<pandas.io.formats.style.Styler at 0x2450210fd00>"
      ]
     },
     "metadata": {},
     "output_type": "display_data"
    },
    {
     "data": {
      "image/png": "[encoded data removed]",
      "text/plain": [
       "<Figure size 360x360 with 2 Axes>"
      ]
     },
     "metadata": {
      "needs_background": "light"
     },
     "output_type": "display_data"
    }
   ],
   "source": [
    "def CV_212(info, metr):\n",
    "    for k in _k:\n",
    "        neigh = K_neighbors_classifier(info['TRAIN'][0], info['TRAIN'][1], k)\n",
    "        pred = neigh.predict(info['TEST'][0])\n",
    "        true = info['TEST'][1]\n",
    "        cm, rs, ps, f1 = metrics(true, pred)\n",
    "\n",
    "        metr[\"Neigh\"].append(neigh)\n",
    "        metr[\"Recall\"].append(rs)\n",
    "        metr[\"Precision\"].append(ps)\n",
    "        metr[\"F1-score\"].append(f1)\n",
    "\n",
    "    return metr\n",
    "\n",
    "def plot_metricas(metr):\n",
    "    plt.figure()\n",
    "\n",
    "    plt.plot(_k, metr[\"Recall\"], label=\"Recall\")\n",
    "    plt.scatter(_k, metr[\"Recall\"])\n",
    "    plt.plot(_k, metr[\"Precision\"], label=\"Precision\")\n",
    "    plt.scatter(_k, metr[\"Precision\"])\n",
    "    plt.plot(_k, metr[\"F1-score\"], label=\"F1-score\")\n",
    "    plt.scatter(_k, metr[\"F1-score\"])\n",
    "    \n",
    "    plt.title(\"Comparação de métricas\")\n",
    "    plt.xlabel(\"Valores de k\")\n",
    "    plt.ylabel(\"Métricas\")\n",
    "    plt.legend()\n",
    "    plt.show()\n",
    "\n",
    "def CV_gama(x, y):\n",
    "    \n",
    "    kf = k_fold(x, y, 10)\n",
    "    count = 0\n",
    "    for info in kf:\n",
    "        metr = {\"Neigh\": [], \"Recall\": [], \"Precision\": [], \"F1-score\": []}\n",
    "        print(\"------------------- Iteração \" + str(count) + \" -------------------\")\n",
    "        count += 1\n",
    "        new_metr = CV_212(info, metr)\n",
    "\n",
    "        plot_metricas(new_metr)\n",
    "\n",
    "        pos_k = new_metr[\"Recall\"].index(max(new_metr[\"Recall\"]))\n",
    "        best_k = _k[pos_k]\n",
    "        print(\"Best K: \" + str(best_k))\n",
    "\n",
    "        neigh = K_neighbors_classifier(info['TRAIN'][0], info['TRAIN'][1], best_k)\n",
    "        pred = neigh.predict(info['TEST'][0])\n",
    "        true = info['TEST'][1]\n",
    "        cm, rs, ps, f1 = metrics(true, pred)\n",
    "\n",
    "        mais_bonito(cm, rs, ps, f1, iris[\"target_names\"])\n",
    "\n",
    "CV_gama(data, target)"
   ]
  },
  {
   "cell_type": "markdown",
   "metadata": {},
   "source": [
    "### 2.2. RelifF"
   ]
  },
  {
   "cell_type": "code",
   "execution_count": null,
   "metadata": {},
   "outputs": [],
   "source": []
  }
 ],
 "metadata": {
  "kernelspec": {
   "display_name": "Python 3.9.12 ('base')",
   "language": "python",
   "name": "python3"
  },
  "language_info": {
   "codemirror_mode": {
    "name": "ipython",
    "version": 3
   },
   "file_extension": ".py",
   "mimetype": "text/x-python",
   "name": "python",
   "nbconvert_exporter": "python",
   "pygments_lexer": "ipython3",
   "version": "3.9.12"
  },
  "orig_nbformat": 4,
  "vscode": {
   "interpreter": {
    "hash": "47e1b8a2c375dc7eddb7fcbc77a4789e02579d6e777ba36c235362aa19e94720"
   }
  }
 },
 "nbformat": 4,
 "nbformat_minor": 2
}
