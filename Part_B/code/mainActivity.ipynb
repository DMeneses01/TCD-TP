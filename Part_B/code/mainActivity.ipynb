{
 "cells": [
  {
   "cell_type": "markdown",
   "metadata": {},
   "source": [
    "# TP1 - Parte B: Classificação de Atividades Humanas \n",
    "### Tópicos de Ciência dos Dados - MECD (2022/2023)\n",
    "\n",
    "### Autores\n",
    "\n",
    "- Duarte Meneses - 2019216949\n",
    "- Patricia Costa - 2019213995\n"
   ]
  },
  {
   "cell_type": "code",
   "execution_count": 3,
   "metadata": {},
   "outputs": [],
   "source": [
    "import csv\n",
    "import os\n",
    "import numpy as np\n",
    "import matplotlib.pyplot as plt\n",
    "from sklearn import datasets\n",
    "from sklearn.decomposition import PCA\n",
    "import pandas as pd"
   ]
  },
  {
   "cell_type": "markdown",
   "metadata": {},
   "source": [
    "## 4.5 e 4.6 da Parte A"
   ]
  },
  {
   "cell_type": "markdown",
   "metadata": {},
   "source": [
    "### 4.5. ReliefF"
   ]
  },
  {
   "cell_type": "code",
   "execution_count": 4,
   "metadata": {},
   "outputs": [],
   "source": [
    "from ReliefF import ReliefF\n",
    "\n",
    "def reliefF(x, y):\n",
    "    fs = ReliefF(n_features_to_keep=4)\n",
    "    fs.fit_transform(x, y)\n",
    "\n",
    "    return fs.top_features[:4]"
   ]
  },
  {
   "cell_type": "markdown",
   "metadata": {},
   "source": [
    "### 4.6. Fisher Score"
   ]
  },
  {
   "cell_type": "code",
   "execution_count": 5,
   "metadata": {},
   "outputs": [],
   "source": [
    "from skfeature.function.similarity_based import fisher_score\n",
    "\n",
    "def fisherScore(x, y):\n",
    "    return fisher_score.fisher_score(data, target)"
   ]
  },
  {
   "cell_type": "markdown",
   "metadata": {},
   "source": [
    "## Parte B\n"
   ]
  },
  {
   "cell_type": "markdown",
   "metadata": {},
   "source": [
    "### 1.1. Data Splitting"
   ]
  },
  {
   "cell_type": "markdown",
   "metadata": {},
   "source": [
    "### 1.1.1. Train-Test (TT) e Train-Validation-Test data split"
   ]
  },
  {
   "cell_type": "code",
   "execution_count": 6,
   "metadata": {},
   "outputs": [],
   "source": [
    "from sklearn.model_selection import train_test_split\n",
    "#https://scikit-learn.org/stable/modules/generated/sklearn.model_selection.train_test_split.html\n",
    "\n",
    "def train_test(data, target, train_size):\n",
    "\n",
    "    x_train, x_test, y_train, y_test = train_test_split(data, target, train_size=train_size)\n",
    "\n",
    "    trainTest = {\"TRAIN\": [x_train, y_train], \"TEST\": [x_test, y_test]}\n",
    "\n",
    "    return trainTest\n",
    "\n",
    "def train_validation_test(data, target, train_size, test_size):\n",
    "\n",
    "    x_train, x_rem, y_train, y_rem = train_test_split(data, target, train_size=train_size)\n",
    "\n",
    "    # 1 - train_size -> correponde agora ao nosso 100%(1)\n",
    "    # test_size -> test_size / (1-train_size)\n",
    "\n",
    "    test = test_size / (1-train_size)\n",
    "\n",
    "    x_valid, x_test, y_valid, y_test = train_test_split(x_rem, y_rem, test_size = test)\n",
    "\n",
    "    trainValidation = {\"TRAIN\": [x_train, y_train], \"TEST\": [x_test, y_test], \"VALIDATION\": [x_valid, y_valid]}\n",
    "    \n",
    "    return trainValidation\n",
    "\n"
   ]
  },
  {
   "cell_type": "markdown",
   "metadata": {},
   "source": [
    "### 1.1.2. K-fold data split"
   ]
  },
  {
   "cell_type": "code",
   "execution_count": 7,
   "metadata": {},
   "outputs": [],
   "source": [
    "from sklearn.model_selection import KFold\n",
    "#https://scikit-learn.org/stable/modules/generated/sklearn.model_selection.KFold.html\n",
    "\n",
    "def k_fold(x, y, n_splits):\n",
    "    kf = KFold(n_splits=n_splits, shuffle = True)\n",
    "    kfold = []\n",
    "    for train_index, test_index in kf.split(x):\n",
    "        x_train, x_test = x[train_index], x[test_index]\n",
    "        y_train, y_test = y[train_index], y[test_index]\n",
    "        kfold.append({\"TRAIN\": [x_train, y_train], \"TEST\": [x_test, y_test]})\n",
    "    \n",
    "    return kfold"
   ]
  },
  {
   "cell_type": "code",
   "execution_count": 8,
   "metadata": {},
   "outputs": [
    {
     "name": "stdout",
     "output_type": "stream",
     "text": [
      "--Train Test--\n",
      "\n"
     ]
    },
    {
     "data": {
      "text/plain": [
       "{'TRAIN': [array([[3, 4],\n",
       "         [1, 2]]),\n",
       "  array([4, 1])],\n",
       " 'TEST': [array([[1, 2],\n",
       "         [3, 4]]),\n",
       "  array([3, 2])]}"
      ]
     },
     "metadata": {},
     "output_type": "display_data"
    },
    {
     "name": "stdout",
     "output_type": "stream",
     "text": [
      "\n",
      "--Train Validation Test--\n",
      "\n"
     ]
    },
    {
     "data": {
      "text/plain": [
       "{'TRAIN': [array([[1, 2]]), array([1])],\n",
       " 'TEST': [array([[1, 2],\n",
       "         [3, 4]]), array([3, 2])],\n",
       " 'VALIDATION': [array([[3, 4]]), array([4])]}"
      ]
     },
     "metadata": {},
     "output_type": "display_data"
    },
    {
     "name": "stdout",
     "output_type": "stream",
     "text": [
      "\n",
      "--K Fold--\n",
      "\n"
     ]
    },
    {
     "data": {
      "text/plain": [
       "[{'TRAIN': [array([[1, 2],\n",
       "          [1, 2],\n",
       "          [3, 4]]),\n",
       "   array([1, 3, 4])],\n",
       "  'TEST': [array([[3, 4]]), array([2])]},\n",
       " {'TRAIN': [array([[3, 4],\n",
       "          [1, 2],\n",
       "          [3, 4]]),\n",
       "   array([2, 3, 4])],\n",
       "  'TEST': [array([[1, 2]]), array([1])]},\n",
       " {'TRAIN': [array([[1, 2],\n",
       "          [3, 4],\n",
       "          [1, 2]]),\n",
       "   array([1, 2, 3])],\n",
       "  'TEST': [array([[3, 4]]), array([4])]},\n",
       " {'TRAIN': [array([[1, 2],\n",
       "          [3, 4],\n",
       "          [3, 4]]),\n",
       "   array([1, 2, 4])],\n",
       "  'TEST': [array([[1, 2]]), array([3])]}]"
      ]
     },
     "metadata": {},
     "output_type": "display_data"
    }
   ],
   "source": [
    "#Testes\n",
    "X = np.array([[1, 2], [3, 4], [1, 2], [3, 4]])\n",
    "y = np.array([1, 2, 3, 4])\n",
    "\n",
    "print(\"--Train Test--\\n\")\n",
    "trainTest = train_test(X, y, 0.7)\n",
    "display(trainTest)\n",
    "\n",
    "print(\"\\n--Train Validation Test--\\n\")\n",
    "trainValidation = train_validation_test(X, y, 0.4, 0.3)\n",
    "display(trainValidation)\n",
    "\n",
    "print(\"\\n--K Fold--\\n\")\n",
    "kFold = k_fold(X, y, 4)\n",
    "display(kFold)"
   ]
  },
  {
   "cell_type": "markdown",
   "metadata": {},
   "source": [
    "### 1.2. Métricas de exactidação"
   ]
  },
  {
   "cell_type": "code",
   "execution_count": 9,
   "metadata": {},
   "outputs": [],
   "source": [
    "#Teste\n",
    "true = [2, 0, 2, 2, 0, 1]\n",
    "pred = [0, 0, 2, 2, 0, 2]"
   ]
  },
  {
   "cell_type": "markdown",
   "metadata": {},
   "source": [
    "-> Explicação do parâmetro average\n",
    "\n",
    "**'binary'**:\n",
    "Only report results for the class specified by pos_label. This is applicable only if targets (y_{true,pred}) are binary.\n",
    "\n",
    "**'micro'**:\n",
    "Calculate metrics globally by counting the total true positives, false negatives and false positives.\n",
    "\n",
    "**'macro'**:\n",
    "Calculate metrics for each label, and find their unweighted mean. This does not take label imbalance into account.\n",
    "\n",
    "**'weighted'**:\n",
    "Calculate metrics for each label, and find their average weighted by support (the number of true instances for each label). This alters ‘macro’ to account for label imbalance; it can result in an F-score that is not between precision and recall.\n",
    "\n",
    "**'samples'**:\n",
    "Calculate metrics for each instance, and find their average (only meaningful for multilabel classification where this differs from accuracy_score)."
   ]
  },
  {
   "cell_type": "code",
   "execution_count": 10,
   "metadata": {},
   "outputs": [
    {
     "name": "stdout",
     "output_type": "stream",
     "text": [
      "Confusion Matrix:\n",
      " [[2 0 0]\n",
      " [0 0 1]\n",
      " [1 0 2]]\n",
      "\n",
      "Recall:  0.5555555555555555\n",
      "\n",
      "Precision:  0.4444444444444444\n",
      "\n",
      "F1-score:  0.48888888888888893\n",
      "--------------------------------------------------\n"
     ]
    },
    {
     "data": {
      "text/html": [
       "<div>\n",
       "<style scoped>\n",
       "    .dataframe tbody tr th:only-of-type {\n",
       "        vertical-align: middle;\n",
       "    }\n",
       "\n",
       "    .dataframe tbody tr th {\n",
       "        vertical-align: top;\n",
       "    }\n",
       "\n",
       "    .dataframe thead th {\n",
       "        text-align: right;\n",
       "    }\n",
       "</style>\n",
       "<table border=\"1\" class=\"dataframe\">\n",
       "  <thead>\n",
       "    <tr style=\"text-align: right;\">\n",
       "      <th></th>\n",
       "      <th>Metrics</th>\n",
       "    </tr>\n",
       "  </thead>\n",
       "  <tbody>\n",
       "    <tr>\n",
       "      <th>Recall</th>\n",
       "      <td>0.555556</td>\n",
       "    </tr>\n",
       "    <tr>\n",
       "      <th>Precision</th>\n",
       "      <td>0.444444</td>\n",
       "    </tr>\n",
       "    <tr>\n",
       "      <th>F1-score</th>\n",
       "      <td>0.488889</td>\n",
       "    </tr>\n",
       "  </tbody>\n",
       "</table>\n",
       "</div>"
      ],
      "text/plain": [
       "            Metrics\n",
       "Recall     0.555556\n",
       "Precision  0.444444\n",
       "F1-score   0.488889"
      ]
     },
     "metadata": {},
     "output_type": "display_data"
    },
    {
     "data": {
      "text/html": [
       "<style type=\"text/css\">\n",
       "</style>\n",
       "<table id=\"T_ee455\">\n",
       "  <caption>Confusion Matrix</caption>\n",
       "  <thead>\n",
       "    <tr>\n",
       "      <th class=\"blank level0\" >&nbsp;</th>\n",
       "      <th id=\"T_ee455_level0_col0\" class=\"col_heading level0 col0\" >0</th>\n",
       "      <th id=\"T_ee455_level0_col1\" class=\"col_heading level0 col1\" >1</th>\n",
       "      <th id=\"T_ee455_level0_col2\" class=\"col_heading level0 col2\" >2</th>\n",
       "    </tr>\n",
       "  </thead>\n",
       "  <tbody>\n",
       "    <tr>\n",
       "      <th id=\"T_ee455_level0_row0\" class=\"row_heading level0 row0\" >0</th>\n",
       "      <td id=\"T_ee455_row0_col0\" class=\"data row0 col0\" >2</td>\n",
       "      <td id=\"T_ee455_row0_col1\" class=\"data row0 col1\" >0</td>\n",
       "      <td id=\"T_ee455_row0_col2\" class=\"data row0 col2\" >0</td>\n",
       "    </tr>\n",
       "    <tr>\n",
       "      <th id=\"T_ee455_level0_row1\" class=\"row_heading level0 row1\" >1</th>\n",
       "      <td id=\"T_ee455_row1_col0\" class=\"data row1 col0\" >0</td>\n",
       "      <td id=\"T_ee455_row1_col1\" class=\"data row1 col1\" >0</td>\n",
       "      <td id=\"T_ee455_row1_col2\" class=\"data row1 col2\" >1</td>\n",
       "    </tr>\n",
       "    <tr>\n",
       "      <th id=\"T_ee455_level0_row2\" class=\"row_heading level0 row2\" >2</th>\n",
       "      <td id=\"T_ee455_row2_col0\" class=\"data row2 col0\" >1</td>\n",
       "      <td id=\"T_ee455_row2_col1\" class=\"data row2 col1\" >0</td>\n",
       "      <td id=\"T_ee455_row2_col2\" class=\"data row2 col2\" >2</td>\n",
       "    </tr>\n",
       "  </tbody>\n",
       "</table>\n"
      ],
      "text/plain": [
       "<pandas.io.formats.style.Styler at 0x140836bddf0>"
      ]
     },
     "metadata": {},
     "output_type": "display_data"
    },
    {
     "data": {
      "image/png": "[encoded data removed]",
      "text/plain": [
       "<Figure size 360x360 with 2 Axes>"
      ]
     },
     "metadata": {
      "needs_background": "light"
     },
     "output_type": "display_data"
    }
   ],
   "source": [
    "from sklearn.metrics import confusion_matrix, ConfusionMatrixDisplay\n",
    "#https://scikit-learn.org/stable/modules/generated/sklearn.metrics.confusion_matrix.html#sklearn.metrics.confusion_matrix\n",
    "from sklearn.metrics import recall_score\n",
    "#https://scikit-learn.org/stable/modules/generated/sklearn.metrics.recall_score.html#sklearn.metrics.recall_score\n",
    "from sklearn.metrics import precision_score\n",
    "#https://scikit-learn.org/stable/modules/generated/sklearn.metrics.precision_score.html#sklearn.metrics.precision_score\n",
    "from sklearn.metrics import f1_score\n",
    "#https://scikit-learn.org/stable/modules/generated/sklearn.metrics.f1_score.html#sklearn.metrics.f1_score\n",
    "\n",
    "def metrics(true, pred, printar = False):\n",
    "    cm = confusion_matrix(true, pred)\n",
    "    rs = recall_score(true, pred, average='macro', zero_division=0)\n",
    "    ps = precision_score(true, pred, average='macro', zero_division=0)\n",
    "    f1 = f1_score(true, pred, average='macro', zero_division=0)\n",
    "\n",
    "    if(printar):\n",
    "        print('Confusion Matrix:\\n', cm)\n",
    "        print('\\nRecall: ', rs)\n",
    "        print('\\nPrecision: ', ps)\n",
    "        print('\\nF1-score: ', f1)\n",
    "        print('-'*50)\n",
    "\n",
    "    return [cm, rs, ps, f1]\n",
    "\n",
    "def mais_bonito(cm, rs, ps, f1, labels):\n",
    "\n",
    "    metricsFrame = pd.DataFrame([rs, ps, f1], columns=['Metrics']).rename(index={0: 'Recall', 1: 'Precision', 2: 'F1-score'})\n",
    "    display(metricsFrame)\n",
    "    \n",
    "    cmFrame = pd.DataFrame(cm, columns=labels, index=labels).style.set_caption(\"Confusion Matrix\")\n",
    "    display(cmFrame)\n",
    "\n",
    "    cmp = ConfusionMatrixDisplay(cm, display_labels=labels)\n",
    "    _, ax = plt.subplots(figsize=(5,5))\n",
    "    cmp.plot(ax=ax)\n",
    "    ax.set_title(\"Confusion Matrix\")\n",
    "    ax.xaxis.set_ticklabels(labels)\n",
    "    ax.yaxis.set_ticklabels(labels[::-1], rotation=90)\n",
    "    plt.show()\n",
    "    \n",
    "\n",
    "cm, rs, ps, f1 = metrics(true, pred, True)\n",
    "mais_bonito(cm, rs, ps, f1, [0,1,2])\n",
    "\n"
   ]
  },
  {
   "cell_type": "markdown",
   "metadata": {},
   "source": [
    "### 2.1. Dataset"
   ]
  },
  {
   "cell_type": "code",
   "execution_count": 11,
   "metadata": {},
   "outputs": [
    {
     "data": {
      "text/plain": [
       "{'data': array([[5.1, 3.5, 1.4, 0.2],\n",
       "        [4.9, 3. , 1.4, 0.2],\n",
       "        [4.7, 3.2, 1.3, 0.2],\n",
       "        [4.6, 3.1, 1.5, 0.2],\n",
       "        [5. , 3.6, 1.4, 0.2],\n",
       "        [5.4, 3.9, 1.7, 0.4],\n",
       "        [4.6, 3.4, 1.4, 0.3],\n",
       "        [5. , 3.4, 1.5, 0.2],\n",
       "        [4.4, 2.9, 1.4, 0.2],\n",
       "        [4.9, 3.1, 1.5, 0.1],\n",
       "        [5.4, 3.7, 1.5, 0.2],\n",
       "        [4.8, 3.4, 1.6, 0.2],\n",
       "        [4.8, 3. , 1.4, 0.1],\n",
       "        [4.3, 3. , 1.1, 0.1],\n",
       "        [5.8, 4. , 1.2, 0.2],\n",
       "        [5.7, 4.4, 1.5, 0.4],\n",
       "        [5.4, 3.9, 1.3, 0.4],\n",
       "        [5.1, 3.5, 1.4, 0.3],\n",
       "        [5.7, 3.8, 1.7, 0.3],\n",
       "        [5.1, 3.8, 1.5, 0.3],\n",
       "        [5.4, 3.4, 1.7, 0.2],\n",
       "        [5.1, 3.7, 1.5, 0.4],\n",
       "        [4.6, 3.6, 1. , 0.2],\n",
       "        [5.1, 3.3, 1.7, 0.5],\n",
       "        [4.8, 3.4, 1.9, 0.2],\n",
       "        [5. , 3. , 1.6, 0.2],\n",
       "        [5. , 3.4, 1.6, 0.4],\n",
       "        [5.2, 3.5, 1.5, 0.2],\n",
       "        [5.2, 3.4, 1.4, 0.2],\n",
       "        [4.7, 3.2, 1.6, 0.2],\n",
       "        [4.8, 3.1, 1.6, 0.2],\n",
       "        [5.4, 3.4, 1.5, 0.4],\n",
       "        [5.2, 4.1, 1.5, 0.1],\n",
       "        [5.5, 4.2, 1.4, 0.2],\n",
       "        [4.9, 3.1, 1.5, 0.2],\n",
       "        [5. , 3.2, 1.2, 0.2],\n",
       "        [5.5, 3.5, 1.3, 0.2],\n",
       "        [4.9, 3.6, 1.4, 0.1],\n",
       "        [4.4, 3. , 1.3, 0.2],\n",
       "        [5.1, 3.4, 1.5, 0.2],\n",
       "        [5. , 3.5, 1.3, 0.3],\n",
       "        [4.5, 2.3, 1.3, 0.3],\n",
       "        [4.4, 3.2, 1.3, 0.2],\n",
       "        [5. , 3.5, 1.6, 0.6],\n",
       "        [5.1, 3.8, 1.9, 0.4],\n",
       "        [4.8, 3. , 1.4, 0.3],\n",
       "        [5.1, 3.8, 1.6, 0.2],\n",
       "        [4.6, 3.2, 1.4, 0.2],\n",
       "        [5.3, 3.7, 1.5, 0.2],\n",
       "        [5. , 3.3, 1.4, 0.2],\n",
       "        [7. , 3.2, 4.7, 1.4],\n",
       "        [6.4, 3.2, 4.5, 1.5],\n",
       "        [6.9, 3.1, 4.9, 1.5],\n",
       "        [5.5, 2.3, 4. , 1.3],\n",
       "        [6.5, 2.8, 4.6, 1.5],\n",
       "        [5.7, 2.8, 4.5, 1.3],\n",
       "        [6.3, 3.3, 4.7, 1.6],\n",
       "        [4.9, 2.4, 3.3, 1. ],\n",
       "        [6.6, 2.9, 4.6, 1.3],\n",
       "        [5.2, 2.7, 3.9, 1.4],\n",
       "        [5. , 2. , 3.5, 1. ],\n",
       "        [5.9, 3. , 4.2, 1.5],\n",
       "        [6. , 2.2, 4. , 1. ],\n",
       "        [6.1, 2.9, 4.7, 1.4],\n",
       "        [5.6, 2.9, 3.6, 1.3],\n",
       "        [6.7, 3.1, 4.4, 1.4],\n",
       "        [5.6, 3. , 4.5, 1.5],\n",
       "        [5.8, 2.7, 4.1, 1. ],\n",
       "        [6.2, 2.2, 4.5, 1.5],\n",
       "        [5.6, 2.5, 3.9, 1.1],\n",
       "        [5.9, 3.2, 4.8, 1.8],\n",
       "        [6.1, 2.8, 4. , 1.3],\n",
       "        [6.3, 2.5, 4.9, 1.5],\n",
       "        [6.1, 2.8, 4.7, 1.2],\n",
       "        [6.4, 2.9, 4.3, 1.3],\n",
       "        [6.6, 3. , 4.4, 1.4],\n",
       "        [6.8, 2.8, 4.8, 1.4],\n",
       "        [6.7, 3. , 5. , 1.7],\n",
       "        [6. , 2.9, 4.5, 1.5],\n",
       "        [5.7, 2.6, 3.5, 1. ],\n",
       "        [5.5, 2.4, 3.8, 1.1],\n",
       "        [5.5, 2.4, 3.7, 1. ],\n",
       "        [5.8, 2.7, 3.9, 1.2],\n",
       "        [6. , 2.7, 5.1, 1.6],\n",
       "        [5.4, 3. , 4.5, 1.5],\n",
       "        [6. , 3.4, 4.5, 1.6],\n",
       "        [6.7, 3.1, 4.7, 1.5],\n",
       "        [6.3, 2.3, 4.4, 1.3],\n",
       "        [5.6, 3. , 4.1, 1.3],\n",
       "        [5.5, 2.5, 4. , 1.3],\n",
       "        [5.5, 2.6, 4.4, 1.2],\n",
       "        [6.1, 3. , 4.6, 1.4],\n",
       "        [5.8, 2.6, 4. , 1.2],\n",
       "        [5. , 2.3, 3.3, 1. ],\n",
       "        [5.6, 2.7, 4.2, 1.3],\n",
       "        [5.7, 3. , 4.2, 1.2],\n",
       "        [5.7, 2.9, 4.2, 1.3],\n",
       "        [6.2, 2.9, 4.3, 1.3],\n",
       "        [5.1, 2.5, 3. , 1.1],\n",
       "        [5.7, 2.8, 4.1, 1.3],\n",
       "        [6.3, 3.3, 6. , 2.5],\n",
       "        [5.8, 2.7, 5.1, 1.9],\n",
       "        [7.1, 3. , 5.9, 2.1],\n",
       "        [6.3, 2.9, 5.6, 1.8],\n",
       "        [6.5, 3. , 5.8, 2.2],\n",
       "        [7.6, 3. , 6.6, 2.1],\n",
       "        [4.9, 2.5, 4.5, 1.7],\n",
       "        [7.3, 2.9, 6.3, 1.8],\n",
       "        [6.7, 2.5, 5.8, 1.8],\n",
       "        [7.2, 3.6, 6.1, 2.5],\n",
       "        [6.5, 3.2, 5.1, 2. ],\n",
       "        [6.4, 2.7, 5.3, 1.9],\n",
       "        [6.8, 3. , 5.5, 2.1],\n",
       "        [5.7, 2.5, 5. , 2. ],\n",
       "        [5.8, 2.8, 5.1, 2.4],\n",
       "        [6.4, 3.2, 5.3, 2.3],\n",
       "        [6.5, 3. , 5.5, 1.8],\n",
       "        [7.7, 3.8, 6.7, 2.2],\n",
       "        [7.7, 2.6, 6.9, 2.3],\n",
       "        [6. , 2.2, 5. , 1.5],\n",
       "        [6.9, 3.2, 5.7, 2.3],\n",
       "        [5.6, 2.8, 4.9, 2. ],\n",
       "        [7.7, 2.8, 6.7, 2. ],\n",
       "        [6.3, 2.7, 4.9, 1.8],\n",
       "        [6.7, 3.3, 5.7, 2.1],\n",
       "        [7.2, 3.2, 6. , 1.8],\n",
       "        [6.2, 2.8, 4.8, 1.8],\n",
       "        [6.1, 3. , 4.9, 1.8],\n",
       "        [6.4, 2.8, 5.6, 2.1],\n",
       "        [7.2, 3. , 5.8, 1.6],\n",
       "        [7.4, 2.8, 6.1, 1.9],\n",
       "        [7.9, 3.8, 6.4, 2. ],\n",
       "        [6.4, 2.8, 5.6, 2.2],\n",
       "        [6.3, 2.8, 5.1, 1.5],\n",
       "        [6.1, 2.6, 5.6, 1.4],\n",
       "        [7.7, 3. , 6.1, 2.3],\n",
       "        [6.3, 3.4, 5.6, 2.4],\n",
       "        [6.4, 3.1, 5.5, 1.8],\n",
       "        [6. , 3. , 4.8, 1.8],\n",
       "        [6.9, 3.1, 5.4, 2.1],\n",
       "        [6.7, 3.1, 5.6, 2.4],\n",
       "        [6.9, 3.1, 5.1, 2.3],\n",
       "        [5.8, 2.7, 5.1, 1.9],\n",
       "        [6.8, 3.2, 5.9, 2.3],\n",
       "        [6.7, 3.3, 5.7, 2.5],\n",
       "        [6.7, 3. , 5.2, 2.3],\n",
       "        [6.3, 2.5, 5. , 1.9],\n",
       "        [6.5, 3. , 5.2, 2. ],\n",
       "        [6.2, 3.4, 5.4, 2.3],\n",
       "        [5.9, 3. , 5.1, 1.8]]),\n",
       " 'target': array([0, 0, 0, 0, 0, 0, 0, 0, 0, 0, 0, 0, 0, 0, 0, 0, 0, 0, 0, 0, 0, 0,\n",
       "        0, 0, 0, 0, 0, 0, 0, 0, 0, 0, 0, 0, 0, 0, 0, 0, 0, 0, 0, 0, 0, 0,\n",
       "        0, 0, 0, 0, 0, 0, 1, 1, 1, 1, 1, 1, 1, 1, 1, 1, 1, 1, 1, 1, 1, 1,\n",
       "        1, 1, 1, 1, 1, 1, 1, 1, 1, 1, 1, 1, 1, 1, 1, 1, 1, 1, 1, 1, 1, 1,\n",
       "        1, 1, 1, 1, 1, 1, 1, 1, 1, 1, 1, 1, 2, 2, 2, 2, 2, 2, 2, 2, 2, 2,\n",
       "        2, 2, 2, 2, 2, 2, 2, 2, 2, 2, 2, 2, 2, 2, 2, 2, 2, 2, 2, 2, 2, 2,\n",
       "        2, 2, 2, 2, 2, 2, 2, 2, 2, 2, 2, 2, 2, 2, 2, 2, 2, 2]),\n",
       " 'frame': None,\n",
       " 'target_names': array(['setosa', 'versicolor', 'virginica'], dtype='<U10'),\n",
       " 'DESCR': '.. _iris_dataset:\\n\\nIris plants dataset\\n--------------------\\n\\n**Data Set Characteristics:**\\n\\n    :Number of Instances: 150 (50 in each of three classes)\\n    :Number of Attributes: 4 numeric, predictive attributes and the class\\n    :Attribute Information:\\n        - sepal length in cm\\n        - sepal width in cm\\n        - petal length in cm\\n        - petal width in cm\\n        - class:\\n                - Iris-Setosa\\n                - Iris-Versicolour\\n                - Iris-Virginica\\n                \\n    :Summary Statistics:\\n\\n    ============== ==== ==== ======= ===== ====================\\n                    Min  Max   Mean    SD   Class Correlation\\n    ============== ==== ==== ======= ===== ====================\\n    sepal length:   4.3  7.9   5.84   0.83    0.7826\\n    sepal width:    2.0  4.4   3.05   0.43   -0.4194\\n    petal length:   1.0  6.9   3.76   1.76    0.9490  (high!)\\n    petal width:    0.1  2.5   1.20   0.76    0.9565  (high!)\\n    ============== ==== ==== ======= ===== ====================\\n\\n    :Missing Attribute Values: None\\n    :Class Distribution: 33.3% for each of 3 classes.\\n    :Creator: R.A. Fisher\\n    :Donor: Michael Marshall (MARSHALL%PLU@io.arc.nasa.gov)\\n    :Date: July, 1988\\n\\nThe famous Iris database, first used by Sir R.A. Fisher. The dataset is taken\\nfrom Fisher\\'s paper. Note that it\\'s the same as in R, but not as in the UCI\\nMachine Learning Repository, which has two wrong data points.\\n\\nThis is perhaps the best known database to be found in the\\npattern recognition literature.  Fisher\\'s paper is a classic in the field and\\nis referenced frequently to this day.  (See Duda & Hart, for example.)  The\\ndata set contains 3 classes of 50 instances each, where each class refers to a\\ntype of iris plant.  One class is linearly separable from the other 2; the\\nlatter are NOT linearly separable from each other.\\n\\n.. topic:: References\\n\\n   - Fisher, R.A. \"The use of multiple measurements in taxonomic problems\"\\n     Annual Eugenics, 7, Part II, 179-188 (1936); also in \"Contributions to\\n     Mathematical Statistics\" (John Wiley, NY, 1950).\\n   - Duda, R.O., & Hart, P.E. (1973) Pattern Classification and Scene Analysis.\\n     (Q327.D83) John Wiley & Sons.  ISBN 0-471-22361-1.  See page 218.\\n   - Dasarathy, B.V. (1980) \"Nosing Around the Neighborhood: A New System\\n     Structure and Classification Rule for Recognition in Partially Exposed\\n     Environments\".  IEEE Transactions on Pattern Analysis and Machine\\n     Intelligence, Vol. PAMI-2, No. 1, 67-71.\\n   - Gates, G.W. (1972) \"The Reduced Nearest Neighbor Rule\".  IEEE Transactions\\n     on Information Theory, May 1972, 431-433.\\n   - See also: 1988 MLC Proceedings, 54-64.  Cheeseman et al\"s AUTOCLASS II\\n     conceptual clustering system finds 3 classes in the data.\\n   - Many, many more ...',\n",
       " 'feature_names': ['sepal length (cm)',\n",
       "  'sepal width (cm)',\n",
       "  'petal length (cm)',\n",
       "  'petal width (cm)'],\n",
       " 'filename': 'iris.csv',\n",
       " 'data_module': 'sklearn.datasets.data'}"
      ]
     },
     "metadata": {},
     "output_type": "display_data"
    }
   ],
   "source": [
    "iris = datasets.load_iris()\n",
    "\n",
    "data = iris.data\n",
    "target = iris.target\n",
    "\n",
    "display(iris)"
   ]
  },
  {
   "cell_type": "markdown",
   "metadata": {},
   "source": [
    "### 2.1. k-Nearest Neighbours"
   ]
  },
  {
   "cell_type": "code",
   "execution_count": 12,
   "metadata": {},
   "outputs": [],
   "source": [
    "from sklearn.neighbors import KNeighborsClassifier\n",
    "\n",
    "def K_neighbors_classifier(x, y, k):\n",
    "    neigh = KNeighborsClassifier(n_neighbors=k)\n",
    "    neigh.fit(x, y)\n",
    "\n",
    "    return neigh\n",
    "\n",
    "neigh_teste = K_neighbors_classifier(data, target, 1)"
   ]
  },
  {
   "cell_type": "markdown",
   "metadata": {},
   "source": [
    "### 2.1.1. Train-only"
   ]
  },
  {
   "cell_type": "code",
   "execution_count": 13,
   "metadata": {},
   "outputs": [
    {
     "data": {
      "text/html": [
       "<div>\n",
       "<style scoped>\n",
       "    .dataframe tbody tr th:only-of-type {\n",
       "        vertical-align: middle;\n",
       "    }\n",
       "\n",
       "    .dataframe tbody tr th {\n",
       "        vertical-align: top;\n",
       "    }\n",
       "\n",
       "    .dataframe thead th {\n",
       "        text-align: right;\n",
       "    }\n",
       "</style>\n",
       "<table border=\"1\" class=\"dataframe\">\n",
       "  <thead>\n",
       "    <tr style=\"text-align: right;\">\n",
       "      <th></th>\n",
       "      <th>Metrics</th>\n",
       "    </tr>\n",
       "  </thead>\n",
       "  <tbody>\n",
       "    <tr>\n",
       "      <th>Recall</th>\n",
       "      <td>1.0</td>\n",
       "    </tr>\n",
       "    <tr>\n",
       "      <th>Precision</th>\n",
       "      <td>1.0</td>\n",
       "    </tr>\n",
       "    <tr>\n",
       "      <th>F1-score</th>\n",
       "      <td>1.0</td>\n",
       "    </tr>\n",
       "  </tbody>\n",
       "</table>\n",
       "</div>"
      ],
      "text/plain": [
       "           Metrics\n",
       "Recall         1.0\n",
       "Precision      1.0\n",
       "F1-score       1.0"
      ]
     },
     "metadata": {},
     "output_type": "display_data"
    },
    {
     "data": {
      "text/html": [
       "<style type=\"text/css\">\n",
       "</style>\n",
       "<table id=\"T_f3bb7\">\n",
       "  <caption>Confusion Matrix</caption>\n",
       "  <thead>\n",
       "    <tr>\n",
       "      <th class=\"blank level0\" >&nbsp;</th>\n",
       "      <th id=\"T_f3bb7_level0_col0\" class=\"col_heading level0 col0\" >setosa</th>\n",
       "      <th id=\"T_f3bb7_level0_col1\" class=\"col_heading level0 col1\" >versicolor</th>\n",
       "      <th id=\"T_f3bb7_level0_col2\" class=\"col_heading level0 col2\" >virginica</th>\n",
       "    </tr>\n",
       "  </thead>\n",
       "  <tbody>\n",
       "    <tr>\n",
       "      <th id=\"T_f3bb7_level0_row0\" class=\"row_heading level0 row0\" >setosa</th>\n",
       "      <td id=\"T_f3bb7_row0_col0\" class=\"data row0 col0\" >50</td>\n",
       "      <td id=\"T_f3bb7_row0_col1\" class=\"data row0 col1\" >0</td>\n",
       "      <td id=\"T_f3bb7_row0_col2\" class=\"data row0 col2\" >0</td>\n",
       "    </tr>\n",
       "    <tr>\n",
       "      <th id=\"T_f3bb7_level0_row1\" class=\"row_heading level0 row1\" >versicolor</th>\n",
       "      <td id=\"T_f3bb7_row1_col0\" class=\"data row1 col0\" >0</td>\n",
       "      <td id=\"T_f3bb7_row1_col1\" class=\"data row1 col1\" >50</td>\n",
       "      <td id=\"T_f3bb7_row1_col2\" class=\"data row1 col2\" >0</td>\n",
       "    </tr>\n",
       "    <tr>\n",
       "      <th id=\"T_f3bb7_level0_row2\" class=\"row_heading level0 row2\" >virginica</th>\n",
       "      <td id=\"T_f3bb7_row2_col0\" class=\"data row2 col0\" >0</td>\n",
       "      <td id=\"T_f3bb7_row2_col1\" class=\"data row2 col1\" >0</td>\n",
       "      <td id=\"T_f3bb7_row2_col2\" class=\"data row2 col2\" >50</td>\n",
       "    </tr>\n",
       "  </tbody>\n",
       "</table>\n"
      ],
      "text/plain": [
       "<pandas.io.formats.style.Styler at 0x1408371c130>"
      ]
     },
     "metadata": {},
     "output_type": "display_data"
    },
    {
     "data": {
      "image/png": "[encoded data removed]",
      "text/plain": [
       "<Figure size 360x360 with 2 Axes>"
      ]
     },
     "metadata": {
      "needs_background": "light"
     },
     "output_type": "display_data"
    }
   ],
   "source": [
    "def TO_211(x, y, labels, k):\n",
    "    neigh = K_neighbors_classifier(x, y, k)\n",
    "    pred = neigh.predict(x)\n",
    "    true = y\n",
    "    cm, rs, ps, f1 = metrics(true, pred)\n",
    "    \n",
    "    mais_bonito(cm, rs, ps, f1, labels)\n",
    "\n",
    "TO_211(data, target, iris[\"target_names\"], 1)"
   ]
  },
  {
   "cell_type": "markdown",
   "metadata": {},
   "source": [
    "### 2.1.1. TT 70-30"
   ]
  },
  {
   "cell_type": "code",
   "execution_count": 14,
   "metadata": {},
   "outputs": [
    {
     "data": {
      "text/html": [
       "<div>\n",
       "<style scoped>\n",
       "    .dataframe tbody tr th:only-of-type {\n",
       "        vertical-align: middle;\n",
       "    }\n",
       "\n",
       "    .dataframe tbody tr th {\n",
       "        vertical-align: top;\n",
       "    }\n",
       "\n",
       "    .dataframe thead th {\n",
       "        text-align: right;\n",
       "    }\n",
       "</style>\n",
       "<table border=\"1\" class=\"dataframe\">\n",
       "  <thead>\n",
       "    <tr style=\"text-align: right;\">\n",
       "      <th></th>\n",
       "      <th>Metrics</th>\n",
       "    </tr>\n",
       "  </thead>\n",
       "  <tbody>\n",
       "    <tr>\n",
       "      <th>Recall</th>\n",
       "      <td>0.960784</td>\n",
       "    </tr>\n",
       "    <tr>\n",
       "      <th>Precision</th>\n",
       "      <td>0.948718</td>\n",
       "    </tr>\n",
       "    <tr>\n",
       "      <th>F1-score</th>\n",
       "      <td>0.951389</td>\n",
       "    </tr>\n",
       "  </tbody>\n",
       "</table>\n",
       "</div>"
      ],
      "text/plain": [
       "            Metrics\n",
       "Recall     0.960784\n",
       "Precision  0.948718\n",
       "F1-score   0.951389"
      ]
     },
     "metadata": {},
     "output_type": "display_data"
    },
    {
     "data": {
      "text/html": [
       "<style type=\"text/css\">\n",
       "</style>\n",
       "<table id=\"T_149ca\">\n",
       "  <caption>Confusion Matrix</caption>\n",
       "  <thead>\n",
       "    <tr>\n",
       "      <th class=\"blank level0\" >&nbsp;</th>\n",
       "      <th id=\"T_149ca_level0_col0\" class=\"col_heading level0 col0\" >setosa</th>\n",
       "      <th id=\"T_149ca_level0_col1\" class=\"col_heading level0 col1\" >versicolor</th>\n",
       "      <th id=\"T_149ca_level0_col2\" class=\"col_heading level0 col2\" >virginica</th>\n",
       "    </tr>\n",
       "  </thead>\n",
       "  <tbody>\n",
       "    <tr>\n",
       "      <th id=\"T_149ca_level0_row0\" class=\"row_heading level0 row0\" >setosa</th>\n",
       "      <td id=\"T_149ca_row0_col0\" class=\"data row0 col0\" >17</td>\n",
       "      <td id=\"T_149ca_row0_col1\" class=\"data row0 col1\" >0</td>\n",
       "      <td id=\"T_149ca_row0_col2\" class=\"data row0 col2\" >0</td>\n",
       "    </tr>\n",
       "    <tr>\n",
       "      <th id=\"T_149ca_level0_row1\" class=\"row_heading level0 row1\" >versicolor</th>\n",
       "      <td id=\"T_149ca_row1_col0\" class=\"data row1 col0\" >0</td>\n",
       "      <td id=\"T_149ca_row1_col1\" class=\"data row1 col1\" >11</td>\n",
       "      <td id=\"T_149ca_row1_col2\" class=\"data row1 col2\" >0</td>\n",
       "    </tr>\n",
       "    <tr>\n",
       "      <th id=\"T_149ca_level0_row2\" class=\"row_heading level0 row2\" >virginica</th>\n",
       "      <td id=\"T_149ca_row2_col0\" class=\"data row2 col0\" >0</td>\n",
       "      <td id=\"T_149ca_row2_col1\" class=\"data row2 col1\" >2</td>\n",
       "      <td id=\"T_149ca_row2_col2\" class=\"data row2 col2\" >15</td>\n",
       "    </tr>\n",
       "  </tbody>\n",
       "</table>\n"
      ],
      "text/plain": [
       "<pandas.io.formats.style.Styler at 0x1408409e610>"
      ]
     },
     "metadata": {},
     "output_type": "display_data"
    },
    {
     "data": {
      "image/png": "[encoded data removed]",
      "text/plain": [
       "<Figure size 360x360 with 2 Axes>"
      ]
     },
     "metadata": {
      "needs_background": "light"
     },
     "output_type": "display_data"
    }
   ],
   "source": [
    "def TT_211(x, y, labels, k):\n",
    "    trainTest = train_test(x, y, 0.7)\n",
    "    neigh = K_neighbors_classifier(trainTest['TRAIN'][0], trainTest['TRAIN'][1], k)\n",
    "    pred = neigh.predict(trainTest['TEST'][0])\n",
    "    true = trainTest['TEST'][1]\n",
    "    cm, rs, ps, f1 = metrics(true, pred)\n",
    "    \n",
    "    mais_bonito(cm, rs, ps, f1, labels)\n",
    "\n",
    "TT_211(data, target, iris[\"target_names\"], 1)"
   ]
  },
  {
   "cell_type": "markdown",
   "metadata": {},
   "source": [
    "### 2.1.1. 10x10-fold cross-validation (10CV)"
   ]
  },
  {
   "cell_type": "code",
   "execution_count": 15,
   "metadata": {},
   "outputs": [
    {
     "name": "stdout",
     "output_type": "stream",
     "text": [
      "------------------- Iteração 0 -------------------\n"
     ]
    },
    {
     "data": {
      "text/html": [
       "<div>\n",
       "<style scoped>\n",
       "    .dataframe tbody tr th:only-of-type {\n",
       "        vertical-align: middle;\n",
       "    }\n",
       "\n",
       "    .dataframe tbody tr th {\n",
       "        vertical-align: top;\n",
       "    }\n",
       "\n",
       "    .dataframe thead th {\n",
       "        text-align: right;\n",
       "    }\n",
       "</style>\n",
       "<table border=\"1\" class=\"dataframe\">\n",
       "  <thead>\n",
       "    <tr style=\"text-align: right;\">\n",
       "      <th></th>\n",
       "      <th>Metrics</th>\n",
       "    </tr>\n",
       "  </thead>\n",
       "  <tbody>\n",
       "    <tr>\n",
       "      <th>Recall</th>\n",
       "      <td>0.944444</td>\n",
       "    </tr>\n",
       "    <tr>\n",
       "      <th>Precision</th>\n",
       "      <td>0.933333</td>\n",
       "    </tr>\n",
       "    <tr>\n",
       "      <th>F1-score</th>\n",
       "      <td>0.932660</td>\n",
       "    </tr>\n",
       "  </tbody>\n",
       "</table>\n",
       "</div>"
      ],
      "text/plain": [
       "            Metrics\n",
       "Recall     0.944444\n",
       "Precision  0.933333\n",
       "F1-score   0.932660"
      ]
     },
     "metadata": {},
     "output_type": "display_data"
    },
    {
     "data": {
      "text/html": [
       "<style type=\"text/css\">\n",
       "</style>\n",
       "<table id=\"T_d7efa\">\n",
       "  <caption>Confusion Matrix</caption>\n",
       "  <thead>\n",
       "    <tr>\n",
       "      <th class=\"blank level0\" >&nbsp;</th>\n",
       "      <th id=\"T_d7efa_level0_col0\" class=\"col_heading level0 col0\" >setosa</th>\n",
       "      <th id=\"T_d7efa_level0_col1\" class=\"col_heading level0 col1\" >versicolor</th>\n",
       "      <th id=\"T_d7efa_level0_col2\" class=\"col_heading level0 col2\" >virginica</th>\n",
       "    </tr>\n",
       "  </thead>\n",
       "  <tbody>\n",
       "    <tr>\n",
       "      <th id=\"T_d7efa_level0_row0\" class=\"row_heading level0 row0\" >setosa</th>\n",
       "      <td id=\"T_d7efa_row0_col0\" class=\"data row0 col0\" >5</td>\n",
       "      <td id=\"T_d7efa_row0_col1\" class=\"data row0 col1\" >0</td>\n",
       "      <td id=\"T_d7efa_row0_col2\" class=\"data row0 col2\" >0</td>\n",
       "    </tr>\n",
       "    <tr>\n",
       "      <th id=\"T_d7efa_level0_row1\" class=\"row_heading level0 row1\" >versicolor</th>\n",
       "      <td id=\"T_d7efa_row1_col0\" class=\"data row1 col0\" >0</td>\n",
       "      <td id=\"T_d7efa_row1_col1\" class=\"data row1 col1\" >5</td>\n",
       "      <td id=\"T_d7efa_row1_col2\" class=\"data row1 col2\" >1</td>\n",
       "    </tr>\n",
       "    <tr>\n",
       "      <th id=\"T_d7efa_level0_row2\" class=\"row_heading level0 row2\" >virginica</th>\n",
       "      <td id=\"T_d7efa_row2_col0\" class=\"data row2 col0\" >0</td>\n",
       "      <td id=\"T_d7efa_row2_col1\" class=\"data row2 col1\" >0</td>\n",
       "      <td id=\"T_d7efa_row2_col2\" class=\"data row2 col2\" >4</td>\n",
       "    </tr>\n",
       "  </tbody>\n",
       "</table>\n"
      ],
      "text/plain": [
       "<pandas.io.formats.style.Styler at 0x1408405a8e0>"
      ]
     },
     "metadata": {},
     "output_type": "display_data"
    },
    {
     "data": {
      "image/png": "[encoded data removed]",
      "text/plain": [
       "<Figure size 360x360 with 2 Axes>"
      ]
     },
     "metadata": {
      "needs_background": "light"
     },
     "output_type": "display_data"
    },
    {
     "name": "stdout",
     "output_type": "stream",
     "text": [
      "------------------- Iteração 1 -------------------\n"
     ]
    },
    {
     "data": {
      "text/html": [
       "<div>\n",
       "<style scoped>\n",
       "    .dataframe tbody tr th:only-of-type {\n",
       "        vertical-align: middle;\n",
       "    }\n",
       "\n",
       "    .dataframe tbody tr th {\n",
       "        vertical-align: top;\n",
       "    }\n",
       "\n",
       "    .dataframe thead th {\n",
       "        text-align: right;\n",
       "    }\n",
       "</style>\n",
       "<table border=\"1\" class=\"dataframe\">\n",
       "  <thead>\n",
       "    <tr style=\"text-align: right;\">\n",
       "      <th></th>\n",
       "      <th>Metrics</th>\n",
       "    </tr>\n",
       "  </thead>\n",
       "  <tbody>\n",
       "    <tr>\n",
       "      <th>Recall</th>\n",
       "      <td>0.916667</td>\n",
       "    </tr>\n",
       "    <tr>\n",
       "      <th>Precision</th>\n",
       "      <td>0.916667</td>\n",
       "    </tr>\n",
       "    <tr>\n",
       "      <th>F1-score</th>\n",
       "      <td>0.904762</td>\n",
       "    </tr>\n",
       "  </tbody>\n",
       "</table>\n",
       "</div>"
      ],
      "text/plain": [
       "            Metrics\n",
       "Recall     0.916667\n",
       "Precision  0.916667\n",
       "F1-score   0.904762"
      ]
     },
     "metadata": {},
     "output_type": "display_data"
    },
    {
     "data": {
      "text/html": [
       "<style type=\"text/css\">\n",
       "</style>\n",
       "<table id=\"T_ce67e\">\n",
       "  <caption>Confusion Matrix</caption>\n",
       "  <thead>\n",
       "    <tr>\n",
       "      <th class=\"blank level0\" >&nbsp;</th>\n",
       "      <th id=\"T_ce67e_level0_col0\" class=\"col_heading level0 col0\" >setosa</th>\n",
       "      <th id=\"T_ce67e_level0_col1\" class=\"col_heading level0 col1\" >versicolor</th>\n",
       "      <th id=\"T_ce67e_level0_col2\" class=\"col_heading level0 col2\" >virginica</th>\n",
       "    </tr>\n",
       "  </thead>\n",
       "  <tbody>\n",
       "    <tr>\n",
       "      <th id=\"T_ce67e_level0_row0\" class=\"row_heading level0 row0\" >setosa</th>\n",
       "      <td id=\"T_ce67e_row0_col0\" class=\"data row0 col0\" >8</td>\n",
       "      <td id=\"T_ce67e_row0_col1\" class=\"data row0 col1\" >0</td>\n",
       "      <td id=\"T_ce67e_row0_col2\" class=\"data row0 col2\" >0</td>\n",
       "    </tr>\n",
       "    <tr>\n",
       "      <th id=\"T_ce67e_level0_row1\" class=\"row_heading level0 row1\" >versicolor</th>\n",
       "      <td id=\"T_ce67e_row1_col0\" class=\"data row1 col0\" >0</td>\n",
       "      <td id=\"T_ce67e_row1_col1\" class=\"data row1 col1\" >3</td>\n",
       "      <td id=\"T_ce67e_row1_col2\" class=\"data row1 col2\" >0</td>\n",
       "    </tr>\n",
       "    <tr>\n",
       "      <th id=\"T_ce67e_level0_row2\" class=\"row_heading level0 row2\" >virginica</th>\n",
       "      <td id=\"T_ce67e_row2_col0\" class=\"data row2 col0\" >0</td>\n",
       "      <td id=\"T_ce67e_row2_col1\" class=\"data row2 col1\" >1</td>\n",
       "      <td id=\"T_ce67e_row2_col2\" class=\"data row2 col2\" >3</td>\n",
       "    </tr>\n",
       "  </tbody>\n",
       "</table>\n"
      ],
      "text/plain": [
       "<pandas.io.formats.style.Styler at 0x14084062df0>"
      ]
     },
     "metadata": {},
     "output_type": "display_data"
    },
    {
     "data": {
      "image/png": "[encoded data removed]",
      "text/plain": [
       "<Figure size 360x360 with 2 Axes>"
      ]
     },
     "metadata": {
      "needs_background": "light"
     },
     "output_type": "display_data"
    },
    {
     "name": "stdout",
     "output_type": "stream",
     "text": [
      "------------------- Iteração 2 -------------------\n"
     ]
    },
    {
     "data": {
      "text/html": [
       "<div>\n",
       "<style scoped>\n",
       "    .dataframe tbody tr th:only-of-type {\n",
       "        vertical-align: middle;\n",
       "    }\n",
       "\n",
       "    .dataframe tbody tr th {\n",
       "        vertical-align: top;\n",
       "    }\n",
       "\n",
       "    .dataframe thead th {\n",
       "        text-align: right;\n",
       "    }\n",
       "</style>\n",
       "<table border=\"1\" class=\"dataframe\">\n",
       "  <thead>\n",
       "    <tr style=\"text-align: right;\">\n",
       "      <th></th>\n",
       "      <th>Metrics</th>\n",
       "    </tr>\n",
       "  </thead>\n",
       "  <tbody>\n",
       "    <tr>\n",
       "      <th>Recall</th>\n",
       "      <td>0.625000</td>\n",
       "    </tr>\n",
       "    <tr>\n",
       "      <th>Precision</th>\n",
       "      <td>0.592593</td>\n",
       "    </tr>\n",
       "    <tr>\n",
       "      <th>F1-score</th>\n",
       "      <td>0.607843</td>\n",
       "    </tr>\n",
       "  </tbody>\n",
       "</table>\n",
       "</div>"
      ],
      "text/plain": [
       "            Metrics\n",
       "Recall     0.625000\n",
       "Precision  0.592593\n",
       "F1-score   0.607843"
      ]
     },
     "metadata": {},
     "output_type": "display_data"
    },
    {
     "data": {
      "text/html": [
       "<style type=\"text/css\">\n",
       "</style>\n",
       "<table id=\"T_e6afc\">\n",
       "  <caption>Confusion Matrix</caption>\n",
       "  <thead>\n",
       "    <tr>\n",
       "      <th class=\"blank level0\" >&nbsp;</th>\n",
       "      <th id=\"T_e6afc_level0_col0\" class=\"col_heading level0 col0\" >setosa</th>\n",
       "      <th id=\"T_e6afc_level0_col1\" class=\"col_heading level0 col1\" >versicolor</th>\n",
       "      <th id=\"T_e6afc_level0_col2\" class=\"col_heading level0 col2\" >virginica</th>\n",
       "    </tr>\n",
       "  </thead>\n",
       "  <tbody>\n",
       "    <tr>\n",
       "      <th id=\"T_e6afc_level0_row0\" class=\"row_heading level0 row0\" >setosa</th>\n",
       "      <td id=\"T_e6afc_row0_col0\" class=\"data row0 col0\" >5</td>\n",
       "      <td id=\"T_e6afc_row0_col1\" class=\"data row0 col1\" >0</td>\n",
       "      <td id=\"T_e6afc_row0_col2\" class=\"data row0 col2\" >0</td>\n",
       "    </tr>\n",
       "    <tr>\n",
       "      <th id=\"T_e6afc_level0_row1\" class=\"row_heading level0 row1\" >versicolor</th>\n",
       "      <td id=\"T_e6afc_row1_col0\" class=\"data row1 col0\" >0</td>\n",
       "      <td id=\"T_e6afc_row1_col1\" class=\"data row1 col1\" >7</td>\n",
       "      <td id=\"T_e6afc_row1_col2\" class=\"data row1 col2\" >1</td>\n",
       "    </tr>\n",
       "    <tr>\n",
       "      <th id=\"T_e6afc_level0_row2\" class=\"row_heading level0 row2\" >virginica</th>\n",
       "      <td id=\"T_e6afc_row2_col0\" class=\"data row2 col0\" >0</td>\n",
       "      <td id=\"T_e6afc_row2_col1\" class=\"data row2 col1\" >2</td>\n",
       "      <td id=\"T_e6afc_row2_col2\" class=\"data row2 col2\" >0</td>\n",
       "    </tr>\n",
       "  </tbody>\n",
       "</table>\n"
      ],
      "text/plain": [
       "<pandas.io.formats.style.Styler at 0x14084197970>"
      ]
     },
     "metadata": {},
     "output_type": "display_data"
    },
    {
     "data": {
      "image/png": "[encoded data removed]",
      "text/plain": [
       "<Figure size 360x360 with 2 Axes>"
      ]
     },
     "metadata": {
      "needs_background": "light"
     },
     "output_type": "display_data"
    },
    {
     "name": "stdout",
     "output_type": "stream",
     "text": [
      "------------------- Iteração 3 -------------------\n"
     ]
    },
    {
     "data": {
      "text/html": [
       "<div>\n",
       "<style scoped>\n",
       "    .dataframe tbody tr th:only-of-type {\n",
       "        vertical-align: middle;\n",
       "    }\n",
       "\n",
       "    .dataframe tbody tr th {\n",
       "        vertical-align: top;\n",
       "    }\n",
       "\n",
       "    .dataframe thead th {\n",
       "        text-align: right;\n",
       "    }\n",
       "</style>\n",
       "<table border=\"1\" class=\"dataframe\">\n",
       "  <thead>\n",
       "    <tr style=\"text-align: right;\">\n",
       "      <th></th>\n",
       "      <th>Metrics</th>\n",
       "    </tr>\n",
       "  </thead>\n",
       "  <tbody>\n",
       "    <tr>\n",
       "      <th>Recall</th>\n",
       "      <td>1.0</td>\n",
       "    </tr>\n",
       "    <tr>\n",
       "      <th>Precision</th>\n",
       "      <td>1.0</td>\n",
       "    </tr>\n",
       "    <tr>\n",
       "      <th>F1-score</th>\n",
       "      <td>1.0</td>\n",
       "    </tr>\n",
       "  </tbody>\n",
       "</table>\n",
       "</div>"
      ],
      "text/plain": [
       "           Metrics\n",
       "Recall         1.0\n",
       "Precision      1.0\n",
       "F1-score       1.0"
      ]
     },
     "metadata": {},
     "output_type": "display_data"
    },
    {
     "data": {
      "text/html": [
       "<style type=\"text/css\">\n",
       "</style>\n",
       "<table id=\"T_a130b\">\n",
       "  <caption>Confusion Matrix</caption>\n",
       "  <thead>\n",
       "    <tr>\n",
       "      <th class=\"blank level0\" >&nbsp;</th>\n",
       "      <th id=\"T_a130b_level0_col0\" class=\"col_heading level0 col0\" >setosa</th>\n",
       "      <th id=\"T_a130b_level0_col1\" class=\"col_heading level0 col1\" >versicolor</th>\n",
       "      <th id=\"T_a130b_level0_col2\" class=\"col_heading level0 col2\" >virginica</th>\n",
       "    </tr>\n",
       "  </thead>\n",
       "  <tbody>\n",
       "    <tr>\n",
       "      <th id=\"T_a130b_level0_row0\" class=\"row_heading level0 row0\" >setosa</th>\n",
       "      <td id=\"T_a130b_row0_col0\" class=\"data row0 col0\" >6</td>\n",
       "      <td id=\"T_a130b_row0_col1\" class=\"data row0 col1\" >0</td>\n",
       "      <td id=\"T_a130b_row0_col2\" class=\"data row0 col2\" >0</td>\n",
       "    </tr>\n",
       "    <tr>\n",
       "      <th id=\"T_a130b_level0_row1\" class=\"row_heading level0 row1\" >versicolor</th>\n",
       "      <td id=\"T_a130b_row1_col0\" class=\"data row1 col0\" >0</td>\n",
       "      <td id=\"T_a130b_row1_col1\" class=\"data row1 col1\" >2</td>\n",
       "      <td id=\"T_a130b_row1_col2\" class=\"data row1 col2\" >0</td>\n",
       "    </tr>\n",
       "    <tr>\n",
       "      <th id=\"T_a130b_level0_row2\" class=\"row_heading level0 row2\" >virginica</th>\n",
       "      <td id=\"T_a130b_row2_col0\" class=\"data row2 col0\" >0</td>\n",
       "      <td id=\"T_a130b_row2_col1\" class=\"data row2 col1\" >0</td>\n",
       "      <td id=\"T_a130b_row2_col2\" class=\"data row2 col2\" >7</td>\n",
       "    </tr>\n",
       "  </tbody>\n",
       "</table>\n"
      ],
      "text/plain": [
       "<pandas.io.formats.style.Styler at 0x14084321b50>"
      ]
     },
     "metadata": {},
     "output_type": "display_data"
    },
    {
     "data": {
      "image/png": "[encoded data removed]",
      "text/plain": [
       "<Figure size 360x360 with 2 Axes>"
      ]
     },
     "metadata": {
      "needs_background": "light"
     },
     "output_type": "display_data"
    },
    {
     "name": "stdout",
     "output_type": "stream",
     "text": [
      "------------------- Iteração 4 -------------------\n"
     ]
    },
    {
     "data": {
      "text/html": [
       "<div>\n",
       "<style scoped>\n",
       "    .dataframe tbody tr th:only-of-type {\n",
       "        vertical-align: middle;\n",
       "    }\n",
       "\n",
       "    .dataframe tbody tr th {\n",
       "        vertical-align: top;\n",
       "    }\n",
       "\n",
       "    .dataframe thead th {\n",
       "        text-align: right;\n",
       "    }\n",
       "</style>\n",
       "<table border=\"1\" class=\"dataframe\">\n",
       "  <thead>\n",
       "    <tr style=\"text-align: right;\">\n",
       "      <th></th>\n",
       "      <th>Metrics</th>\n",
       "    </tr>\n",
       "  </thead>\n",
       "  <tbody>\n",
       "    <tr>\n",
       "      <th>Recall</th>\n",
       "      <td>1.0</td>\n",
       "    </tr>\n",
       "    <tr>\n",
       "      <th>Precision</th>\n",
       "      <td>1.0</td>\n",
       "    </tr>\n",
       "    <tr>\n",
       "      <th>F1-score</th>\n",
       "      <td>1.0</td>\n",
       "    </tr>\n",
       "  </tbody>\n",
       "</table>\n",
       "</div>"
      ],
      "text/plain": [
       "           Metrics\n",
       "Recall         1.0\n",
       "Precision      1.0\n",
       "F1-score       1.0"
      ]
     },
     "metadata": {},
     "output_type": "display_data"
    },
    {
     "data": {
      "text/html": [
       "<style type=\"text/css\">\n",
       "</style>\n",
       "<table id=\"T_48414\">\n",
       "  <caption>Confusion Matrix</caption>\n",
       "  <thead>\n",
       "    <tr>\n",
       "      <th class=\"blank level0\" >&nbsp;</th>\n",
       "      <th id=\"T_48414_level0_col0\" class=\"col_heading level0 col0\" >setosa</th>\n",
       "      <th id=\"T_48414_level0_col1\" class=\"col_heading level0 col1\" >versicolor</th>\n",
       "      <th id=\"T_48414_level0_col2\" class=\"col_heading level0 col2\" >virginica</th>\n",
       "    </tr>\n",
       "  </thead>\n",
       "  <tbody>\n",
       "    <tr>\n",
       "      <th id=\"T_48414_level0_row0\" class=\"row_heading level0 row0\" >setosa</th>\n",
       "      <td id=\"T_48414_row0_col0\" class=\"data row0 col0\" >3</td>\n",
       "      <td id=\"T_48414_row0_col1\" class=\"data row0 col1\" >0</td>\n",
       "      <td id=\"T_48414_row0_col2\" class=\"data row0 col2\" >0</td>\n",
       "    </tr>\n",
       "    <tr>\n",
       "      <th id=\"T_48414_level0_row1\" class=\"row_heading level0 row1\" >versicolor</th>\n",
       "      <td id=\"T_48414_row1_col0\" class=\"data row1 col0\" >0</td>\n",
       "      <td id=\"T_48414_row1_col1\" class=\"data row1 col1\" >5</td>\n",
       "      <td id=\"T_48414_row1_col2\" class=\"data row1 col2\" >0</td>\n",
       "    </tr>\n",
       "    <tr>\n",
       "      <th id=\"T_48414_level0_row2\" class=\"row_heading level0 row2\" >virginica</th>\n",
       "      <td id=\"T_48414_row2_col0\" class=\"data row2 col0\" >0</td>\n",
       "      <td id=\"T_48414_row2_col1\" class=\"data row2 col1\" >0</td>\n",
       "      <td id=\"T_48414_row2_col2\" class=\"data row2 col2\" >7</td>\n",
       "    </tr>\n",
       "  </tbody>\n",
       "</table>\n"
      ],
      "text/plain": [
       "<pandas.io.formats.style.Styler at 0x140853aac40>"
      ]
     },
     "metadata": {},
     "output_type": "display_data"
    },
    {
     "data": {
      "image/png": "[encoded data removed]",
      "text/plain": [
       "<Figure size 360x360 with 2 Axes>"
      ]
     },
     "metadata": {
      "needs_background": "light"
     },
     "output_type": "display_data"
    },
    {
     "name": "stdout",
     "output_type": "stream",
     "text": [
      "------------------- Iteração 5 -------------------\n"
     ]
    },
    {
     "data": {
      "text/html": [
       "<div>\n",
       "<style scoped>\n",
       "    .dataframe tbody tr th:only-of-type {\n",
       "        vertical-align: middle;\n",
       "    }\n",
       "\n",
       "    .dataframe tbody tr th {\n",
       "        vertical-align: top;\n",
       "    }\n",
       "\n",
       "    .dataframe thead th {\n",
       "        text-align: right;\n",
       "    }\n",
       "</style>\n",
       "<table border=\"1\" class=\"dataframe\">\n",
       "  <thead>\n",
       "    <tr style=\"text-align: right;\">\n",
       "      <th></th>\n",
       "      <th>Metrics</th>\n",
       "    </tr>\n",
       "  </thead>\n",
       "  <tbody>\n",
       "    <tr>\n",
       "      <th>Recall</th>\n",
       "      <td>1.0</td>\n",
       "    </tr>\n",
       "    <tr>\n",
       "      <th>Precision</th>\n",
       "      <td>1.0</td>\n",
       "    </tr>\n",
       "    <tr>\n",
       "      <th>F1-score</th>\n",
       "      <td>1.0</td>\n",
       "    </tr>\n",
       "  </tbody>\n",
       "</table>\n",
       "</div>"
      ],
      "text/plain": [
       "           Metrics\n",
       "Recall         1.0\n",
       "Precision      1.0\n",
       "F1-score       1.0"
      ]
     },
     "metadata": {},
     "output_type": "display_data"
    },
    {
     "data": {
      "text/html": [
       "<style type=\"text/css\">\n",
       "</style>\n",
       "<table id=\"T_84e75\">\n",
       "  <caption>Confusion Matrix</caption>\n",
       "  <thead>\n",
       "    <tr>\n",
       "      <th class=\"blank level0\" >&nbsp;</th>\n",
       "      <th id=\"T_84e75_level0_col0\" class=\"col_heading level0 col0\" >setosa</th>\n",
       "      <th id=\"T_84e75_level0_col1\" class=\"col_heading level0 col1\" >versicolor</th>\n",
       "      <th id=\"T_84e75_level0_col2\" class=\"col_heading level0 col2\" >virginica</th>\n",
       "    </tr>\n",
       "  </thead>\n",
       "  <tbody>\n",
       "    <tr>\n",
       "      <th id=\"T_84e75_level0_row0\" class=\"row_heading level0 row0\" >setosa</th>\n",
       "      <td id=\"T_84e75_row0_col0\" class=\"data row0 col0\" >4</td>\n",
       "      <td id=\"T_84e75_row0_col1\" class=\"data row0 col1\" >0</td>\n",
       "      <td id=\"T_84e75_row0_col2\" class=\"data row0 col2\" >0</td>\n",
       "    </tr>\n",
       "    <tr>\n",
       "      <th id=\"T_84e75_level0_row1\" class=\"row_heading level0 row1\" >versicolor</th>\n",
       "      <td id=\"T_84e75_row1_col0\" class=\"data row1 col0\" >0</td>\n",
       "      <td id=\"T_84e75_row1_col1\" class=\"data row1 col1\" >7</td>\n",
       "      <td id=\"T_84e75_row1_col2\" class=\"data row1 col2\" >0</td>\n",
       "    </tr>\n",
       "    <tr>\n",
       "      <th id=\"T_84e75_level0_row2\" class=\"row_heading level0 row2\" >virginica</th>\n",
       "      <td id=\"T_84e75_row2_col0\" class=\"data row2 col0\" >0</td>\n",
       "      <td id=\"T_84e75_row2_col1\" class=\"data row2 col1\" >0</td>\n",
       "      <td id=\"T_84e75_row2_col2\" class=\"data row2 col2\" >4</td>\n",
       "    </tr>\n",
       "  </tbody>\n",
       "</table>\n"
      ],
      "text/plain": [
       "<pandas.io.formats.style.Styler at 0x14084062df0>"
      ]
     },
     "metadata": {},
     "output_type": "display_data"
    },
    {
     "data": {
      "image/png": "[encoded data removed]",
      "text/plain": [
       "<Figure size 360x360 with 2 Axes>"
      ]
     },
     "metadata": {
      "needs_background": "light"
     },
     "output_type": "display_data"
    },
    {
     "name": "stdout",
     "output_type": "stream",
     "text": [
      "------------------- Iteração 6 -------------------\n"
     ]
    },
    {
     "data": {
      "text/html": [
       "<div>\n",
       "<style scoped>\n",
       "    .dataframe tbody tr th:only-of-type {\n",
       "        vertical-align: middle;\n",
       "    }\n",
       "\n",
       "    .dataframe tbody tr th {\n",
       "        vertical-align: top;\n",
       "    }\n",
       "\n",
       "    .dataframe thead th {\n",
       "        text-align: right;\n",
       "    }\n",
       "</style>\n",
       "<table border=\"1\" class=\"dataframe\">\n",
       "  <thead>\n",
       "    <tr style=\"text-align: right;\">\n",
       "      <th></th>\n",
       "      <th>Metrics</th>\n",
       "    </tr>\n",
       "  </thead>\n",
       "  <tbody>\n",
       "    <tr>\n",
       "      <th>Recall</th>\n",
       "      <td>0.916667</td>\n",
       "    </tr>\n",
       "    <tr>\n",
       "      <th>Precision</th>\n",
       "      <td>0.944444</td>\n",
       "    </tr>\n",
       "    <tr>\n",
       "      <th>F1-score</th>\n",
       "      <td>0.922078</td>\n",
       "    </tr>\n",
       "  </tbody>\n",
       "</table>\n",
       "</div>"
      ],
      "text/plain": [
       "            Metrics\n",
       "Recall     0.916667\n",
       "Precision  0.944444\n",
       "F1-score   0.922078"
      ]
     },
     "metadata": {},
     "output_type": "display_data"
    },
    {
     "data": {
      "text/html": [
       "<style type=\"text/css\">\n",
       "</style>\n",
       "<table id=\"T_bb775\">\n",
       "  <caption>Confusion Matrix</caption>\n",
       "  <thead>\n",
       "    <tr>\n",
       "      <th class=\"blank level0\" >&nbsp;</th>\n",
       "      <th id=\"T_bb775_level0_col0\" class=\"col_heading level0 col0\" >setosa</th>\n",
       "      <th id=\"T_bb775_level0_col1\" class=\"col_heading level0 col1\" >versicolor</th>\n",
       "      <th id=\"T_bb775_level0_col2\" class=\"col_heading level0 col2\" >virginica</th>\n",
       "    </tr>\n",
       "  </thead>\n",
       "  <tbody>\n",
       "    <tr>\n",
       "      <th id=\"T_bb775_level0_row0\" class=\"row_heading level0 row0\" >setosa</th>\n",
       "      <td id=\"T_bb775_row0_col0\" class=\"data row0 col0\" >6</td>\n",
       "      <td id=\"T_bb775_row0_col1\" class=\"data row0 col1\" >0</td>\n",
       "      <td id=\"T_bb775_row0_col2\" class=\"data row0 col2\" >0</td>\n",
       "    </tr>\n",
       "    <tr>\n",
       "      <th id=\"T_bb775_level0_row1\" class=\"row_heading level0 row1\" >versicolor</th>\n",
       "      <td id=\"T_bb775_row1_col0\" class=\"data row1 col0\" >0</td>\n",
       "      <td id=\"T_bb775_row1_col1\" class=\"data row1 col1\" >5</td>\n",
       "      <td id=\"T_bb775_row1_col2\" class=\"data row1 col2\" >0</td>\n",
       "    </tr>\n",
       "    <tr>\n",
       "      <th id=\"T_bb775_level0_row2\" class=\"row_heading level0 row2\" >virginica</th>\n",
       "      <td id=\"T_bb775_row2_col0\" class=\"data row2 col0\" >0</td>\n",
       "      <td id=\"T_bb775_row2_col1\" class=\"data row2 col1\" >1</td>\n",
       "      <td id=\"T_bb775_row2_col2\" class=\"data row2 col2\" >3</td>\n",
       "    </tr>\n",
       "  </tbody>\n",
       "</table>\n"
      ],
      "text/plain": [
       "<pandas.io.formats.style.Styler at 0x1408550fdc0>"
      ]
     },
     "metadata": {},
     "output_type": "display_data"
    },
    {
     "data": {
      "image/png": "[encoded data removed]",
      "text/plain": [
       "<Figure size 360x360 with 2 Axes>"
      ]
     },
     "metadata": {
      "needs_background": "light"
     },
     "output_type": "display_data"
    },
    {
     "name": "stdout",
     "output_type": "stream",
     "text": [
      "------------------- Iteração 7 -------------------\n"
     ]
    },
    {
     "data": {
      "text/html": [
       "<div>\n",
       "<style scoped>\n",
       "    .dataframe tbody tr th:only-of-type {\n",
       "        vertical-align: middle;\n",
       "    }\n",
       "\n",
       "    .dataframe tbody tr th {\n",
       "        vertical-align: top;\n",
       "    }\n",
       "\n",
       "    .dataframe thead th {\n",
       "        text-align: right;\n",
       "    }\n",
       "</style>\n",
       "<table border=\"1\" class=\"dataframe\">\n",
       "  <thead>\n",
       "    <tr style=\"text-align: right;\">\n",
       "      <th></th>\n",
       "      <th>Metrics</th>\n",
       "    </tr>\n",
       "  </thead>\n",
       "  <tbody>\n",
       "    <tr>\n",
       "      <th>Recall</th>\n",
       "      <td>1.0</td>\n",
       "    </tr>\n",
       "    <tr>\n",
       "      <th>Precision</th>\n",
       "      <td>1.0</td>\n",
       "    </tr>\n",
       "    <tr>\n",
       "      <th>F1-score</th>\n",
       "      <td>1.0</td>\n",
       "    </tr>\n",
       "  </tbody>\n",
       "</table>\n",
       "</div>"
      ],
      "text/plain": [
       "           Metrics\n",
       "Recall         1.0\n",
       "Precision      1.0\n",
       "F1-score       1.0"
      ]
     },
     "metadata": {},
     "output_type": "display_data"
    },
    {
     "data": {
      "text/html": [
       "<style type=\"text/css\">\n",
       "</style>\n",
       "<table id=\"T_be931\">\n",
       "  <caption>Confusion Matrix</caption>\n",
       "  <thead>\n",
       "    <tr>\n",
       "      <th class=\"blank level0\" >&nbsp;</th>\n",
       "      <th id=\"T_be931_level0_col0\" class=\"col_heading level0 col0\" >setosa</th>\n",
       "      <th id=\"T_be931_level0_col1\" class=\"col_heading level0 col1\" >versicolor</th>\n",
       "      <th id=\"T_be931_level0_col2\" class=\"col_heading level0 col2\" >virginica</th>\n",
       "    </tr>\n",
       "  </thead>\n",
       "  <tbody>\n",
       "    <tr>\n",
       "      <th id=\"T_be931_level0_row0\" class=\"row_heading level0 row0\" >setosa</th>\n",
       "      <td id=\"T_be931_row0_col0\" class=\"data row0 col0\" >6</td>\n",
       "      <td id=\"T_be931_row0_col1\" class=\"data row0 col1\" >0</td>\n",
       "      <td id=\"T_be931_row0_col2\" class=\"data row0 col2\" >0</td>\n",
       "    </tr>\n",
       "    <tr>\n",
       "      <th id=\"T_be931_level0_row1\" class=\"row_heading level0 row1\" >versicolor</th>\n",
       "      <td id=\"T_be931_row1_col0\" class=\"data row1 col0\" >0</td>\n",
       "      <td id=\"T_be931_row1_col1\" class=\"data row1 col1\" >1</td>\n",
       "      <td id=\"T_be931_row1_col2\" class=\"data row1 col2\" >0</td>\n",
       "    </tr>\n",
       "    <tr>\n",
       "      <th id=\"T_be931_level0_row2\" class=\"row_heading level0 row2\" >virginica</th>\n",
       "      <td id=\"T_be931_row2_col0\" class=\"data row2 col0\" >0</td>\n",
       "      <td id=\"T_be931_row2_col1\" class=\"data row2 col1\" >0</td>\n",
       "      <td id=\"T_be931_row2_col2\" class=\"data row2 col2\" >8</td>\n",
       "    </tr>\n",
       "  </tbody>\n",
       "</table>\n"
      ],
      "text/plain": [
       "<pandas.io.formats.style.Styler at 0x140854f8b50>"
      ]
     },
     "metadata": {},
     "output_type": "display_data"
    },
    {
     "data": {
      "image/png": "[encoded data removed]",
      "text/plain": [
       "<Figure size 360x360 with 2 Axes>"
      ]
     },
     "metadata": {
      "needs_background": "light"
     },
     "output_type": "display_data"
    },
    {
     "name": "stdout",
     "output_type": "stream",
     "text": [
      "------------------- Iteração 8 -------------------\n"
     ]
    },
    {
     "data": {
      "text/html": [
       "<div>\n",
       "<style scoped>\n",
       "    .dataframe tbody tr th:only-of-type {\n",
       "        vertical-align: middle;\n",
       "    }\n",
       "\n",
       "    .dataframe tbody tr th {\n",
       "        vertical-align: top;\n",
       "    }\n",
       "\n",
       "    .dataframe thead th {\n",
       "        text-align: right;\n",
       "    }\n",
       "</style>\n",
       "<table border=\"1\" class=\"dataframe\">\n",
       "  <thead>\n",
       "    <tr style=\"text-align: right;\">\n",
       "      <th></th>\n",
       "      <th>Metrics</th>\n",
       "    </tr>\n",
       "  </thead>\n",
       "  <tbody>\n",
       "    <tr>\n",
       "      <th>Recall</th>\n",
       "      <td>0.952381</td>\n",
       "    </tr>\n",
       "    <tr>\n",
       "      <th>Precision</th>\n",
       "      <td>0.933333</td>\n",
       "    </tr>\n",
       "    <tr>\n",
       "      <th>F1-score</th>\n",
       "      <td>0.937322</td>\n",
       "    </tr>\n",
       "  </tbody>\n",
       "</table>\n",
       "</div>"
      ],
      "text/plain": [
       "            Metrics\n",
       "Recall     0.952381\n",
       "Precision  0.933333\n",
       "F1-score   0.937322"
      ]
     },
     "metadata": {},
     "output_type": "display_data"
    },
    {
     "data": {
      "text/html": [
       "<style type=\"text/css\">\n",
       "</style>\n",
       "<table id=\"T_6fe65\">\n",
       "  <caption>Confusion Matrix</caption>\n",
       "  <thead>\n",
       "    <tr>\n",
       "      <th class=\"blank level0\" >&nbsp;</th>\n",
       "      <th id=\"T_6fe65_level0_col0\" class=\"col_heading level0 col0\" >setosa</th>\n",
       "      <th id=\"T_6fe65_level0_col1\" class=\"col_heading level0 col1\" >versicolor</th>\n",
       "      <th id=\"T_6fe65_level0_col2\" class=\"col_heading level0 col2\" >virginica</th>\n",
       "    </tr>\n",
       "  </thead>\n",
       "  <tbody>\n",
       "    <tr>\n",
       "      <th id=\"T_6fe65_level0_row0\" class=\"row_heading level0 row0\" >setosa</th>\n",
       "      <td id=\"T_6fe65_row0_col0\" class=\"data row0 col0\" >4</td>\n",
       "      <td id=\"T_6fe65_row0_col1\" class=\"data row0 col1\" >0</td>\n",
       "      <td id=\"T_6fe65_row0_col2\" class=\"data row0 col2\" >0</td>\n",
       "    </tr>\n",
       "    <tr>\n",
       "      <th id=\"T_6fe65_level0_row1\" class=\"row_heading level0 row1\" >versicolor</th>\n",
       "      <td id=\"T_6fe65_row1_col0\" class=\"data row1 col0\" >0</td>\n",
       "      <td id=\"T_6fe65_row1_col1\" class=\"data row1 col1\" >6</td>\n",
       "      <td id=\"T_6fe65_row1_col2\" class=\"data row1 col2\" >1</td>\n",
       "    </tr>\n",
       "    <tr>\n",
       "      <th id=\"T_6fe65_level0_row2\" class=\"row_heading level0 row2\" >virginica</th>\n",
       "      <td id=\"T_6fe65_row2_col0\" class=\"data row2 col0\" >0</td>\n",
       "      <td id=\"T_6fe65_row2_col1\" class=\"data row2 col1\" >0</td>\n",
       "      <td id=\"T_6fe65_row2_col2\" class=\"data row2 col2\" >4</td>\n",
       "    </tr>\n",
       "  </tbody>\n",
       "</table>\n"
      ],
      "text/plain": [
       "<pandas.io.formats.style.Styler at 0x140856c9250>"
      ]
     },
     "metadata": {},
     "output_type": "display_data"
    },
    {
     "data": {
      "image/png": "[encoded data removed]",
      "text/plain": [
       "<Figure size 360x360 with 2 Axes>"
      ]
     },
     "metadata": {
      "needs_background": "light"
     },
     "output_type": "display_data"
    },
    {
     "name": "stdout",
     "output_type": "stream",
     "text": [
      "------------------- Iteração 9 -------------------\n"
     ]
    },
    {
     "data": {
      "text/html": [
       "<div>\n",
       "<style scoped>\n",
       "    .dataframe tbody tr th:only-of-type {\n",
       "        vertical-align: middle;\n",
       "    }\n",
       "\n",
       "    .dataframe tbody tr th {\n",
       "        vertical-align: top;\n",
       "    }\n",
       "\n",
       "    .dataframe thead th {\n",
       "        text-align: right;\n",
       "    }\n",
       "</style>\n",
       "<table border=\"1\" class=\"dataframe\">\n",
       "  <thead>\n",
       "    <tr style=\"text-align: right;\">\n",
       "      <th></th>\n",
       "      <th>Metrics</th>\n",
       "    </tr>\n",
       "  </thead>\n",
       "  <tbody>\n",
       "    <tr>\n",
       "      <th>Recall</th>\n",
       "      <td>1.0</td>\n",
       "    </tr>\n",
       "    <tr>\n",
       "      <th>Precision</th>\n",
       "      <td>1.0</td>\n",
       "    </tr>\n",
       "    <tr>\n",
       "      <th>F1-score</th>\n",
       "      <td>1.0</td>\n",
       "    </tr>\n",
       "  </tbody>\n",
       "</table>\n",
       "</div>"
      ],
      "text/plain": [
       "           Metrics\n",
       "Recall         1.0\n",
       "Precision      1.0\n",
       "F1-score       1.0"
      ]
     },
     "metadata": {},
     "output_type": "display_data"
    },
    {
     "data": {
      "text/html": [
       "<style type=\"text/css\">\n",
       "</style>\n",
       "<table id=\"T_f8317\">\n",
       "  <caption>Confusion Matrix</caption>\n",
       "  <thead>\n",
       "    <tr>\n",
       "      <th class=\"blank level0\" >&nbsp;</th>\n",
       "      <th id=\"T_f8317_level0_col0\" class=\"col_heading level0 col0\" >setosa</th>\n",
       "      <th id=\"T_f8317_level0_col1\" class=\"col_heading level0 col1\" >versicolor</th>\n",
       "      <th id=\"T_f8317_level0_col2\" class=\"col_heading level0 col2\" >virginica</th>\n",
       "    </tr>\n",
       "  </thead>\n",
       "  <tbody>\n",
       "    <tr>\n",
       "      <th id=\"T_f8317_level0_row0\" class=\"row_heading level0 row0\" >setosa</th>\n",
       "      <td id=\"T_f8317_row0_col0\" class=\"data row0 col0\" >3</td>\n",
       "      <td id=\"T_f8317_row0_col1\" class=\"data row0 col1\" >0</td>\n",
       "      <td id=\"T_f8317_row0_col2\" class=\"data row0 col2\" >0</td>\n",
       "    </tr>\n",
       "    <tr>\n",
       "      <th id=\"T_f8317_level0_row1\" class=\"row_heading level0 row1\" >versicolor</th>\n",
       "      <td id=\"T_f8317_row1_col0\" class=\"data row1 col0\" >0</td>\n",
       "      <td id=\"T_f8317_row1_col1\" class=\"data row1 col1\" >6</td>\n",
       "      <td id=\"T_f8317_row1_col2\" class=\"data row1 col2\" >0</td>\n",
       "    </tr>\n",
       "    <tr>\n",
       "      <th id=\"T_f8317_level0_row2\" class=\"row_heading level0 row2\" >virginica</th>\n",
       "      <td id=\"T_f8317_row2_col0\" class=\"data row2 col0\" >0</td>\n",
       "      <td id=\"T_f8317_row2_col1\" class=\"data row2 col1\" >0</td>\n",
       "      <td id=\"T_f8317_row2_col2\" class=\"data row2 col2\" >6</td>\n",
       "    </tr>\n",
       "  </tbody>\n",
       "</table>\n"
      ],
      "text/plain": [
       "<pandas.io.formats.style.Styler at 0x140855c70d0>"
      ]
     },
     "metadata": {},
     "output_type": "display_data"
    },
    {
     "data": {
      "image/png": "[encoded data removed]",
      "text/plain": [
       "<Figure size 360x360 with 2 Axes>"
      ]
     },
     "metadata": {
      "needs_background": "light"
     },
     "output_type": "display_data"
    }
   ],
   "source": [
    "def CV_211(x, y, n_splits, labels, k):\n",
    "    kf = k_fold(x, y, n_splits)\n",
    "\n",
    "    count = 0\n",
    "    for info in kf:\n",
    "        print(\"------------------- Iteração \" + str(count) + \" -------------------\")\n",
    "\n",
    "        neigh = K_neighbors_classifier(info['TRAIN'][0], info['TRAIN'][1], k)\n",
    "        pred = neigh.predict(info['TEST'][0])\n",
    "        true = info['TEST'][1]\n",
    "        cm, rs, ps, f1 = metrics(true, pred)\n",
    "\n",
    "        mais_bonito(cm, rs, ps, f1, labels)\n",
    "\n",
    "        count += 1\n",
    "\n",
    "CV_211(data, target, 10, iris[\"target_names\"], 1)"
   ]
  },
  {
   "cell_type": "markdown",
   "metadata": {},
   "source": [
    "### 2.1.2. k na gama {1, 3, 5, ...,15}"
   ]
  },
  {
   "cell_type": "code",
   "execution_count": 16,
   "metadata": {},
   "outputs": [
    {
     "data": {
      "text/plain": [
       "array([ 1,  3,  5,  7,  9, 11, 13, 15])"
      ]
     },
     "metadata": {},
     "output_type": "display_data"
    }
   ],
   "source": [
    "_k = np.arange(1, 16, 2)\n",
    "\n",
    "display(_k)"
   ]
  },
  {
   "cell_type": "markdown",
   "metadata": {},
   "source": [
    "### 2.1.2. Train-only"
   ]
  },
  {
   "cell_type": "code",
   "execution_count": 17,
   "metadata": {},
   "outputs": [
    {
     "data": {
      "image/png": "[encoded data removed]",
      "text/plain": [
       "<Figure size 432x288 with 1 Axes>"
      ]
     },
     "metadata": {
      "needs_background": "light"
     },
     "output_type": "display_data"
    },
    {
     "name": "stdout",
     "output_type": "stream",
     "text": [
      "Best K: 1\n"
     ]
    },
    {
     "data": {
      "text/html": [
       "<div>\n",
       "<style scoped>\n",
       "    .dataframe tbody tr th:only-of-type {\n",
       "        vertical-align: middle;\n",
       "    }\n",
       "\n",
       "    .dataframe tbody tr th {\n",
       "        vertical-align: top;\n",
       "    }\n",
       "\n",
       "    .dataframe thead th {\n",
       "        text-align: right;\n",
       "    }\n",
       "</style>\n",
       "<table border=\"1\" class=\"dataframe\">\n",
       "  <thead>\n",
       "    <tr style=\"text-align: right;\">\n",
       "      <th></th>\n",
       "      <th>Metrics</th>\n",
       "    </tr>\n",
       "  </thead>\n",
       "  <tbody>\n",
       "    <tr>\n",
       "      <th>Recall</th>\n",
       "      <td>1.0</td>\n",
       "    </tr>\n",
       "    <tr>\n",
       "      <th>Precision</th>\n",
       "      <td>1.0</td>\n",
       "    </tr>\n",
       "    <tr>\n",
       "      <th>F1-score</th>\n",
       "      <td>1.0</td>\n",
       "    </tr>\n",
       "  </tbody>\n",
       "</table>\n",
       "</div>"
      ],
      "text/plain": [
       "           Metrics\n",
       "Recall         1.0\n",
       "Precision      1.0\n",
       "F1-score       1.0"
      ]
     },
     "metadata": {},
     "output_type": "display_data"
    },
    {
     "data": {
      "text/html": [
       "<style type=\"text/css\">\n",
       "</style>\n",
       "<table id=\"T_2087c\">\n",
       "  <caption>Confusion Matrix</caption>\n",
       "  <thead>\n",
       "    <tr>\n",
       "      <th class=\"blank level0\" >&nbsp;</th>\n",
       "      <th id=\"T_2087c_level0_col0\" class=\"col_heading level0 col0\" >setosa</th>\n",
       "      <th id=\"T_2087c_level0_col1\" class=\"col_heading level0 col1\" >versicolor</th>\n",
       "      <th id=\"T_2087c_level0_col2\" class=\"col_heading level0 col2\" >virginica</th>\n",
       "    </tr>\n",
       "  </thead>\n",
       "  <tbody>\n",
       "    <tr>\n",
       "      <th id=\"T_2087c_level0_row0\" class=\"row_heading level0 row0\" >setosa</th>\n",
       "      <td id=\"T_2087c_row0_col0\" class=\"data row0 col0\" >50</td>\n",
       "      <td id=\"T_2087c_row0_col1\" class=\"data row0 col1\" >0</td>\n",
       "      <td id=\"T_2087c_row0_col2\" class=\"data row0 col2\" >0</td>\n",
       "    </tr>\n",
       "    <tr>\n",
       "      <th id=\"T_2087c_level0_row1\" class=\"row_heading level0 row1\" >versicolor</th>\n",
       "      <td id=\"T_2087c_row1_col0\" class=\"data row1 col0\" >0</td>\n",
       "      <td id=\"T_2087c_row1_col1\" class=\"data row1 col1\" >50</td>\n",
       "      <td id=\"T_2087c_row1_col2\" class=\"data row1 col2\" >0</td>\n",
       "    </tr>\n",
       "    <tr>\n",
       "      <th id=\"T_2087c_level0_row2\" class=\"row_heading level0 row2\" >virginica</th>\n",
       "      <td id=\"T_2087c_row2_col0\" class=\"data row2 col0\" >0</td>\n",
       "      <td id=\"T_2087c_row2_col1\" class=\"data row2 col1\" >0</td>\n",
       "      <td id=\"T_2087c_row2_col2\" class=\"data row2 col2\" >50</td>\n",
       "    </tr>\n",
       "  </tbody>\n",
       "</table>\n"
      ],
      "text/plain": [
       "<pandas.io.formats.style.Styler at 0x140840274c0>"
      ]
     },
     "metadata": {},
     "output_type": "display_data"
    },
    {
     "data": {
      "image/png": "[encoded data removed]",
      "text/plain": [
       "<Figure size 360x360 with 2 Axes>"
      ]
     },
     "metadata": {
      "needs_background": "light"
     },
     "output_type": "display_data"
    }
   ],
   "source": [
    "def TO_212(x, y, metr):\n",
    "    for k in _k:\n",
    "        neigh = K_neighbors_classifier(x, y, k)\n",
    "        pred = neigh.predict(x)\n",
    "        true = y\n",
    "        cm, rs, ps, f1 = metrics(true, pred)\n",
    "\n",
    "        metr[\"Neigh\"].append(neigh)\n",
    "        metr[\"Recall\"].append(rs)\n",
    "        metr[\"Precision\"].append(ps)\n",
    "        metr[\"F1-score\"].append(f1)\n",
    "    \n",
    "    return metr\n",
    "\n",
    "def plot_metricas(metr):\n",
    "    plt.figure()\n",
    "\n",
    "    plt.plot(_k, metr[\"Recall\"], label=\"Recall\")\n",
    "    plt.scatter(_k, metr[\"Recall\"])\n",
    "    plt.plot(_k, metr[\"Precision\"], label=\"Precision\")\n",
    "    plt.scatter(_k, metr[\"Precision\"])\n",
    "    plt.plot(_k, metr[\"F1-score\"], label=\"F1-score\")\n",
    "    plt.scatter(_k, metr[\"F1-score\"])\n",
    "    \n",
    "    \n",
    "    plt.title(\"Comparação de métricas\")\n",
    "    plt.xlabel(\"Valores de k\")\n",
    "    plt.ylabel(\"Métricas\")\n",
    "    plt.legend()\n",
    "    plt.show()\n",
    "\n",
    "def TO_gama(x, y):\n",
    "    metr = {\"Neigh\": [], \"Recall\": [], \"Precision\": [], \"F1-score\": []}\n",
    "    \n",
    "    new_metr = TO_212(x, y, metr)\n",
    "\n",
    "    plot_metricas(new_metr)\n",
    "\n",
    "    pos_k = new_metr[\"Recall\"].index(max(new_metr[\"Recall\"]))\n",
    "    best_k = _k[pos_k]\n",
    "    print(\"Best K: \" + str(best_k))\n",
    "\n",
    "    neigh = K_neighbors_classifier(x, y, best_k)\n",
    "    pred = neigh.predict(x)\n",
    "    true = y\n",
    "    cm, rs, ps, f1 = metrics(true, pred)\n",
    "\n",
    "    mais_bonito(cm, rs, ps, f1, iris[\"target_names\"])\n",
    "\n",
    "TO_gama(data, target)"
   ]
  },
  {
   "cell_type": "markdown",
   "metadata": {},
   "source": [
    "### 2.1.2. TVT 40-30-30"
   ]
  },
  {
   "cell_type": "code",
   "execution_count": 18,
   "metadata": {},
   "outputs": [
    {
     "data": {
      "image/png": "[encoded data removed]",
      "text/plain": [
       "<Figure size 432x288 with 1 Axes>"
      ]
     },
     "metadata": {
      "needs_background": "light"
     },
     "output_type": "display_data"
    },
    {
     "name": "stdout",
     "output_type": "stream",
     "text": [
      "Best K: 7\n"
     ]
    },
    {
     "data": {
      "text/html": [
       "<div>\n",
       "<style scoped>\n",
       "    .dataframe tbody tr th:only-of-type {\n",
       "        vertical-align: middle;\n",
       "    }\n",
       "\n",
       "    .dataframe tbody tr th {\n",
       "        vertical-align: top;\n",
       "    }\n",
       "\n",
       "    .dataframe thead th {\n",
       "        text-align: right;\n",
       "    }\n",
       "</style>\n",
       "<table border=\"1\" class=\"dataframe\">\n",
       "  <thead>\n",
       "    <tr style=\"text-align: right;\">\n",
       "      <th></th>\n",
       "      <th>Metrics</th>\n",
       "    </tr>\n",
       "  </thead>\n",
       "  <tbody>\n",
       "    <tr>\n",
       "      <th>Recall</th>\n",
       "      <td>0.958333</td>\n",
       "    </tr>\n",
       "    <tr>\n",
       "      <th>Precision</th>\n",
       "      <td>0.958333</td>\n",
       "    </tr>\n",
       "    <tr>\n",
       "      <th>F1-score</th>\n",
       "      <td>0.955556</td>\n",
       "    </tr>\n",
       "  </tbody>\n",
       "</table>\n",
       "</div>"
      ],
      "text/plain": [
       "            Metrics\n",
       "Recall     0.958333\n",
       "Precision  0.958333\n",
       "F1-score   0.955556"
      ]
     },
     "metadata": {},
     "output_type": "display_data"
    },
    {
     "data": {
      "text/html": [
       "<style type=\"text/css\">\n",
       "</style>\n",
       "<table id=\"T_2ee0f\">\n",
       "  <caption>Confusion Matrix</caption>\n",
       "  <thead>\n",
       "    <tr>\n",
       "      <th class=\"blank level0\" >&nbsp;</th>\n",
       "      <th id=\"T_2ee0f_level0_col0\" class=\"col_heading level0 col0\" >setosa</th>\n",
       "      <th id=\"T_2ee0f_level0_col1\" class=\"col_heading level0 col1\" >versicolor</th>\n",
       "      <th id=\"T_2ee0f_level0_col2\" class=\"col_heading level0 col2\" >virginica</th>\n",
       "    </tr>\n",
       "  </thead>\n",
       "  <tbody>\n",
       "    <tr>\n",
       "      <th id=\"T_2ee0f_level0_row0\" class=\"row_heading level0 row0\" >setosa</th>\n",
       "      <td id=\"T_2ee0f_row0_col0\" class=\"data row0 col0\" >15</td>\n",
       "      <td id=\"T_2ee0f_row0_col1\" class=\"data row0 col1\" >0</td>\n",
       "      <td id=\"T_2ee0f_row0_col2\" class=\"data row0 col2\" >0</td>\n",
       "    </tr>\n",
       "    <tr>\n",
       "      <th id=\"T_2ee0f_level0_row1\" class=\"row_heading level0 row1\" >versicolor</th>\n",
       "      <td id=\"T_2ee0f_row1_col0\" class=\"data row1 col0\" >0</td>\n",
       "      <td id=\"T_2ee0f_row1_col1\" class=\"data row1 col1\" >14</td>\n",
       "      <td id=\"T_2ee0f_row1_col2\" class=\"data row1 col2\" >0</td>\n",
       "    </tr>\n",
       "    <tr>\n",
       "      <th id=\"T_2ee0f_level0_row2\" class=\"row_heading level0 row2\" >virginica</th>\n",
       "      <td id=\"T_2ee0f_row2_col0\" class=\"data row2 col0\" >0</td>\n",
       "      <td id=\"T_2ee0f_row2_col1\" class=\"data row2 col1\" >2</td>\n",
       "      <td id=\"T_2ee0f_row2_col2\" class=\"data row2 col2\" >14</td>\n",
       "    </tr>\n",
       "  </tbody>\n",
       "</table>\n"
      ],
      "text/plain": [
       "<pandas.io.formats.style.Styler at 0x14085471d60>"
      ]
     },
     "metadata": {},
     "output_type": "display_data"
    },
    {
     "data": {
      "image/png": "[encoded data removed]",
      "text/plain": [
       "<Figure size 360x360 with 2 Axes>"
      ]
     },
     "metadata": {
      "needs_background": "light"
     },
     "output_type": "display_data"
    }
   ],
   "source": [
    "# TODO\n",
    "# VER O MELHOR K -> FEITO\n",
    "# PARA O MELHOR K, TESTAR COM O TREINO + VALIDATION JUNTOS, USANDO O TEST COMO PRED\n",
    "\n",
    "\n",
    "def TVT_212(x, y, metr):\n",
    "    for k in _k:\n",
    "        trainValidation = train_validation_test(x, y, 0.4, 0.3)\n",
    "\n",
    "        neigh = K_neighbors_classifier(trainValidation['TRAIN'][0], trainValidation['TRAIN'][1], k)\n",
    "        pred = neigh.predict(trainValidation['VALIDATION'][0])\n",
    "        true = trainValidation['VALIDATION'][1]\n",
    "        cm, rs, ps, f1 = metrics(true, pred)\n",
    "\n",
    "        metr[\"Neigh\"].append(neigh)\n",
    "        metr[\"Recall\"].append(rs)\n",
    "        metr[\"Precision\"].append(ps)\n",
    "        metr[\"F1-score\"].append(f1)\n",
    "    \n",
    "    return metr\n",
    "\n",
    "def plot_metricas(metr):\n",
    "    plt.figure()\n",
    "\n",
    "    plt.plot(_k, metr[\"Recall\"], label=\"Recall\")\n",
    "    plt.scatter(_k, metr[\"Recall\"])\n",
    "    plt.plot(_k, metr[\"Precision\"], label=\"Precision\")\n",
    "    plt.scatter(_k, metr[\"Precision\"])\n",
    "    plt.plot(_k, metr[\"F1-score\"], label=\"F1-score\")\n",
    "    plt.scatter(_k, metr[\"F1-score\"])\n",
    "    \n",
    "    plt.title(\"Comparação de métricas\")\n",
    "    plt.xlabel(\"Valores de k\")\n",
    "    plt.ylabel(\"Métricas\")\n",
    "    plt.legend()\n",
    "    plt.show()\n",
    "\n",
    "def TVT_gama(x, y):\n",
    "    metr = {\"Neigh\": [], \"Recall\": [], \"Precision\": [], \"F1-score\": []}\n",
    "    \n",
    "    new_metr = TVT_212(x, y, metr)\n",
    "\n",
    "    plot_metricas(new_metr)\n",
    "\n",
    "    pos_k = new_metr[\"Recall\"].index(max(new_metr[\"Recall\"]))\n",
    "    best_k = _k[pos_k]\n",
    "    print(\"Best K: \" + str(best_k))\n",
    "\n",
    "    trainValidation = train_validation_test(x, y, 0.4, 0.3)\n",
    "\n",
    "    newTrain0 = np.concatenate((trainValidation['TRAIN'][0], trainValidation['VALIDATION'][0]), axis=0)\n",
    "    newTrain1 = np.concatenate((trainValidation['TRAIN'][1], trainValidation['VALIDATION'][1]), axis=0)\n",
    "\n",
    "    neigh = K_neighbors_classifier(newTrain0, newTrain1, best_k)\n",
    "    pred = neigh.predict(trainValidation['TEST'][0])\n",
    "    true = trainValidation['TEST'][1]\n",
    "    cm, rs, ps, f1 = metrics(true, pred)\n",
    "\n",
    "    mais_bonito(cm, rs, ps, f1, iris[\"target_names\"])\n",
    "\n",
    "TVT_gama(data, target)"
   ]
  },
  {
   "cell_type": "markdown",
   "metadata": {},
   "source": [
    "### 2.1.2. 10x10-fold cross-validation (10CV)"
   ]
  },
  {
   "cell_type": "code",
   "execution_count": 19,
   "metadata": {},
   "outputs": [
    {
     "name": "stdout",
     "output_type": "stream",
     "text": [
      "------------------- Iteração 0 -------------------\n"
     ]
    },
    {
     "data": {
      "image/png": "[encoded data removed]",
      "text/plain": [
       "<Figure size 432x288 with 1 Axes>"
      ]
     },
     "metadata": {
      "needs_background": "light"
     },
     "output_type": "display_data"
    },
    {
     "name": "stdout",
     "output_type": "stream",
     "text": [
      "Best K: 1\n"
     ]
    },
    {
     "data": {
      "text/html": [
       "<div>\n",
       "<style scoped>\n",
       "    .dataframe tbody tr th:only-of-type {\n",
       "        vertical-align: middle;\n",
       "    }\n",
       "\n",
       "    .dataframe tbody tr th {\n",
       "        vertical-align: top;\n",
       "    }\n",
       "\n",
       "    .dataframe thead th {\n",
       "        text-align: right;\n",
       "    }\n",
       "</style>\n",
       "<table border=\"1\" class=\"dataframe\">\n",
       "  <thead>\n",
       "    <tr style=\"text-align: right;\">\n",
       "      <th></th>\n",
       "      <th>Metrics</th>\n",
       "    </tr>\n",
       "  </thead>\n",
       "  <tbody>\n",
       "    <tr>\n",
       "      <th>Recall</th>\n",
       "      <td>0.952381</td>\n",
       "    </tr>\n",
       "    <tr>\n",
       "      <th>Precision</th>\n",
       "      <td>0.933333</td>\n",
       "    </tr>\n",
       "    <tr>\n",
       "      <th>F1-score</th>\n",
       "      <td>0.937322</td>\n",
       "    </tr>\n",
       "  </tbody>\n",
       "</table>\n",
       "</div>"
      ],
      "text/plain": [
       "            Metrics\n",
       "Recall     0.952381\n",
       "Precision  0.933333\n",
       "F1-score   0.937322"
      ]
     },
     "metadata": {},
     "output_type": "display_data"
    },
    {
     "data": {
      "text/html": [
       "<style type=\"text/css\">\n",
       "</style>\n",
       "<table id=\"T_e5a4e\">\n",
       "  <caption>Confusion Matrix</caption>\n",
       "  <thead>\n",
       "    <tr>\n",
       "      <th class=\"blank level0\" >&nbsp;</th>\n",
       "      <th id=\"T_e5a4e_level0_col0\" class=\"col_heading level0 col0\" >setosa</th>\n",
       "      <th id=\"T_e5a4e_level0_col1\" class=\"col_heading level0 col1\" >versicolor</th>\n",
       "      <th id=\"T_e5a4e_level0_col2\" class=\"col_heading level0 col2\" >virginica</th>\n",
       "    </tr>\n",
       "  </thead>\n",
       "  <tbody>\n",
       "    <tr>\n",
       "      <th id=\"T_e5a4e_level0_row0\" class=\"row_heading level0 row0\" >setosa</th>\n",
       "      <td id=\"T_e5a4e_row0_col0\" class=\"data row0 col0\" >4</td>\n",
       "      <td id=\"T_e5a4e_row0_col1\" class=\"data row0 col1\" >0</td>\n",
       "      <td id=\"T_e5a4e_row0_col2\" class=\"data row0 col2\" >0</td>\n",
       "    </tr>\n",
       "    <tr>\n",
       "      <th id=\"T_e5a4e_level0_row1\" class=\"row_heading level0 row1\" >versicolor</th>\n",
       "      <td id=\"T_e5a4e_row1_col0\" class=\"data row1 col0\" >0</td>\n",
       "      <td id=\"T_e5a4e_row1_col1\" class=\"data row1 col1\" >6</td>\n",
       "      <td id=\"T_e5a4e_row1_col2\" class=\"data row1 col2\" >1</td>\n",
       "    </tr>\n",
       "    <tr>\n",
       "      <th id=\"T_e5a4e_level0_row2\" class=\"row_heading level0 row2\" >virginica</th>\n",
       "      <td id=\"T_e5a4e_row2_col0\" class=\"data row2 col0\" >0</td>\n",
       "      <td id=\"T_e5a4e_row2_col1\" class=\"data row2 col1\" >0</td>\n",
       "      <td id=\"T_e5a4e_row2_col2\" class=\"data row2 col2\" >4</td>\n",
       "    </tr>\n",
       "  </tbody>\n",
       "</table>\n"
      ],
      "text/plain": [
       "<pandas.io.formats.style.Styler at 0x1408557db50>"
      ]
     },
     "metadata": {},
     "output_type": "display_data"
    },
    {
     "data": {
      "image/png": "[encoded data removed]",
      "text/plain": [
       "<Figure size 360x360 with 2 Axes>"
      ]
     },
     "metadata": {
      "needs_background": "light"
     },
     "output_type": "display_data"
    },
    {
     "name": "stdout",
     "output_type": "stream",
     "text": [
      "------------------- Iteração 1 -------------------\n"
     ]
    },
    {
     "data": {
      "image/png": "[encoded data removed]",
      "text/plain": [
       "<Figure size 432x288 with 1 Axes>"
      ]
     },
     "metadata": {
      "needs_background": "light"
     },
     "output_type": "display_data"
    },
    {
     "name": "stdout",
     "output_type": "stream",
     "text": [
      "Best K: 9\n"
     ]
    },
    {
     "data": {
      "text/html": [
       "<div>\n",
       "<style scoped>\n",
       "    .dataframe tbody tr th:only-of-type {\n",
       "        vertical-align: middle;\n",
       "    }\n",
       "\n",
       "    .dataframe tbody tr th {\n",
       "        vertical-align: top;\n",
       "    }\n",
       "\n",
       "    .dataframe thead th {\n",
       "        text-align: right;\n",
       "    }\n",
       "</style>\n",
       "<table border=\"1\" class=\"dataframe\">\n",
       "  <thead>\n",
       "    <tr style=\"text-align: right;\">\n",
       "      <th></th>\n",
       "      <th>Metrics</th>\n",
       "    </tr>\n",
       "  </thead>\n",
       "  <tbody>\n",
       "    <tr>\n",
       "      <th>Recall</th>\n",
       "      <td>1.0</td>\n",
       "    </tr>\n",
       "    <tr>\n",
       "      <th>Precision</th>\n",
       "      <td>1.0</td>\n",
       "    </tr>\n",
       "    <tr>\n",
       "      <th>F1-score</th>\n",
       "      <td>1.0</td>\n",
       "    </tr>\n",
       "  </tbody>\n",
       "</table>\n",
       "</div>"
      ],
      "text/plain": [
       "           Metrics\n",
       "Recall         1.0\n",
       "Precision      1.0\n",
       "F1-score       1.0"
      ]
     },
     "metadata": {},
     "output_type": "display_data"
    },
    {
     "data": {
      "text/html": [
       "<style type=\"text/css\">\n",
       "</style>\n",
       "<table id=\"T_a0aa0\">\n",
       "  <caption>Confusion Matrix</caption>\n",
       "  <thead>\n",
       "    <tr>\n",
       "      <th class=\"blank level0\" >&nbsp;</th>\n",
       "      <th id=\"T_a0aa0_level0_col0\" class=\"col_heading level0 col0\" >setosa</th>\n",
       "      <th id=\"T_a0aa0_level0_col1\" class=\"col_heading level0 col1\" >versicolor</th>\n",
       "      <th id=\"T_a0aa0_level0_col2\" class=\"col_heading level0 col2\" >virginica</th>\n",
       "    </tr>\n",
       "  </thead>\n",
       "  <tbody>\n",
       "    <tr>\n",
       "      <th id=\"T_a0aa0_level0_row0\" class=\"row_heading level0 row0\" >setosa</th>\n",
       "      <td id=\"T_a0aa0_row0_col0\" class=\"data row0 col0\" >6</td>\n",
       "      <td id=\"T_a0aa0_row0_col1\" class=\"data row0 col1\" >0</td>\n",
       "      <td id=\"T_a0aa0_row0_col2\" class=\"data row0 col2\" >0</td>\n",
       "    </tr>\n",
       "    <tr>\n",
       "      <th id=\"T_a0aa0_level0_row1\" class=\"row_heading level0 row1\" >versicolor</th>\n",
       "      <td id=\"T_a0aa0_row1_col0\" class=\"data row1 col0\" >0</td>\n",
       "      <td id=\"T_a0aa0_row1_col1\" class=\"data row1 col1\" >4</td>\n",
       "      <td id=\"T_a0aa0_row1_col2\" class=\"data row1 col2\" >0</td>\n",
       "    </tr>\n",
       "    <tr>\n",
       "      <th id=\"T_a0aa0_level0_row2\" class=\"row_heading level0 row2\" >virginica</th>\n",
       "      <td id=\"T_a0aa0_row2_col0\" class=\"data row2 col0\" >0</td>\n",
       "      <td id=\"T_a0aa0_row2_col1\" class=\"data row2 col1\" >0</td>\n",
       "      <td id=\"T_a0aa0_row2_col2\" class=\"data row2 col2\" >5</td>\n",
       "    </tr>\n",
       "  </tbody>\n",
       "</table>\n"
      ],
      "text/plain": [
       "<pandas.io.formats.style.Styler at 0x140854a5850>"
      ]
     },
     "metadata": {},
     "output_type": "display_data"
    },
    {
     "data": {
      "image/png": "[encoded data removed]",
      "text/plain": [
       "<Figure size 360x360 with 2 Axes>"
      ]
     },
     "metadata": {
      "needs_background": "light"
     },
     "output_type": "display_data"
    },
    {
     "name": "stdout",
     "output_type": "stream",
     "text": [
      "------------------- Iteração 2 -------------------\n"
     ]
    },
    {
     "data": {
      "image/png": "[encoded data removed]",
      "text/plain": [
       "<Figure size 432x288 with 1 Axes>"
      ]
     },
     "metadata": {
      "needs_background": "light"
     },
     "output_type": "display_data"
    },
    {
     "name": "stdout",
     "output_type": "stream",
     "text": [
      "Best K: 11\n"
     ]
    },
    {
     "data": {
      "text/html": [
       "<div>\n",
       "<style scoped>\n",
       "    .dataframe tbody tr th:only-of-type {\n",
       "        vertical-align: middle;\n",
       "    }\n",
       "\n",
       "    .dataframe tbody tr th {\n",
       "        vertical-align: top;\n",
       "    }\n",
       "\n",
       "    .dataframe thead th {\n",
       "        text-align: right;\n",
       "    }\n",
       "</style>\n",
       "<table border=\"1\" class=\"dataframe\">\n",
       "  <thead>\n",
       "    <tr style=\"text-align: right;\">\n",
       "      <th></th>\n",
       "      <th>Metrics</th>\n",
       "    </tr>\n",
       "  </thead>\n",
       "  <tbody>\n",
       "    <tr>\n",
       "      <th>Recall</th>\n",
       "      <td>1.0</td>\n",
       "    </tr>\n",
       "    <tr>\n",
       "      <th>Precision</th>\n",
       "      <td>1.0</td>\n",
       "    </tr>\n",
       "    <tr>\n",
       "      <th>F1-score</th>\n",
       "      <td>1.0</td>\n",
       "    </tr>\n",
       "  </tbody>\n",
       "</table>\n",
       "</div>"
      ],
      "text/plain": [
       "           Metrics\n",
       "Recall         1.0\n",
       "Precision      1.0\n",
       "F1-score       1.0"
      ]
     },
     "metadata": {},
     "output_type": "display_data"
    },
    {
     "data": {
      "text/html": [
       "<style type=\"text/css\">\n",
       "</style>\n",
       "<table id=\"T_4376d\">\n",
       "  <caption>Confusion Matrix</caption>\n",
       "  <thead>\n",
       "    <tr>\n",
       "      <th class=\"blank level0\" >&nbsp;</th>\n",
       "      <th id=\"T_4376d_level0_col0\" class=\"col_heading level0 col0\" >setosa</th>\n",
       "      <th id=\"T_4376d_level0_col1\" class=\"col_heading level0 col1\" >versicolor</th>\n",
       "      <th id=\"T_4376d_level0_col2\" class=\"col_heading level0 col2\" >virginica</th>\n",
       "    </tr>\n",
       "  </thead>\n",
       "  <tbody>\n",
       "    <tr>\n",
       "      <th id=\"T_4376d_level0_row0\" class=\"row_heading level0 row0\" >setosa</th>\n",
       "      <td id=\"T_4376d_row0_col0\" class=\"data row0 col0\" >6</td>\n",
       "      <td id=\"T_4376d_row0_col1\" class=\"data row0 col1\" >0</td>\n",
       "      <td id=\"T_4376d_row0_col2\" class=\"data row0 col2\" >0</td>\n",
       "    </tr>\n",
       "    <tr>\n",
       "      <th id=\"T_4376d_level0_row1\" class=\"row_heading level0 row1\" >versicolor</th>\n",
       "      <td id=\"T_4376d_row1_col0\" class=\"data row1 col0\" >0</td>\n",
       "      <td id=\"T_4376d_row1_col1\" class=\"data row1 col1\" >5</td>\n",
       "      <td id=\"T_4376d_row1_col2\" class=\"data row1 col2\" >0</td>\n",
       "    </tr>\n",
       "    <tr>\n",
       "      <th id=\"T_4376d_level0_row2\" class=\"row_heading level0 row2\" >virginica</th>\n",
       "      <td id=\"T_4376d_row2_col0\" class=\"data row2 col0\" >0</td>\n",
       "      <td id=\"T_4376d_row2_col1\" class=\"data row2 col1\" >0</td>\n",
       "      <td id=\"T_4376d_row2_col2\" class=\"data row2 col2\" >4</td>\n",
       "    </tr>\n",
       "  </tbody>\n",
       "</table>\n"
      ],
      "text/plain": [
       "<pandas.io.formats.style.Styler at 0x140857c3fd0>"
      ]
     },
     "metadata": {},
     "output_type": "display_data"
    },
    {
     "data": {
      "image/png": "[encoded data removed]",
      "text/plain": [
       "<Figure size 360x360 with 2 Axes>"
      ]
     },
     "metadata": {
      "needs_background": "light"
     },
     "output_type": "display_data"
    },
    {
     "name": "stdout",
     "output_type": "stream",
     "text": [
      "------------------- Iteração 3 -------------------\n"
     ]
    },
    {
     "data": {
      "image/png": "[encoded data removed]",
      "text/plain": [
       "<Figure size 432x288 with 1 Axes>"
      ]
     },
     "metadata": {
      "needs_background": "light"
     },
     "output_type": "display_data"
    },
    {
     "name": "stdout",
     "output_type": "stream",
     "text": [
      "Best K: 7\n"
     ]
    },
    {
     "data": {
      "text/html": [
       "<div>\n",
       "<style scoped>\n",
       "    .dataframe tbody tr th:only-of-type {\n",
       "        vertical-align: middle;\n",
       "    }\n",
       "\n",
       "    .dataframe tbody tr th {\n",
       "        vertical-align: top;\n",
       "    }\n",
       "\n",
       "    .dataframe thead th {\n",
       "        text-align: right;\n",
       "    }\n",
       "</style>\n",
       "<table border=\"1\" class=\"dataframe\">\n",
       "  <thead>\n",
       "    <tr style=\"text-align: right;\">\n",
       "      <th></th>\n",
       "      <th>Metrics</th>\n",
       "    </tr>\n",
       "  </thead>\n",
       "  <tbody>\n",
       "    <tr>\n",
       "      <th>Recall</th>\n",
       "      <td>0.958333</td>\n",
       "    </tr>\n",
       "    <tr>\n",
       "      <th>Precision</th>\n",
       "      <td>0.888889</td>\n",
       "    </tr>\n",
       "    <tr>\n",
       "      <th>F1-score</th>\n",
       "      <td>0.911111</td>\n",
       "    </tr>\n",
       "  </tbody>\n",
       "</table>\n",
       "</div>"
      ],
      "text/plain": [
       "            Metrics\n",
       "Recall     0.958333\n",
       "Precision  0.888889\n",
       "F1-score   0.911111"
      ]
     },
     "metadata": {},
     "output_type": "display_data"
    },
    {
     "data": {
      "text/html": [
       "<style type=\"text/css\">\n",
       "</style>\n",
       "<table id=\"T_76f0a\">\n",
       "  <caption>Confusion Matrix</caption>\n",
       "  <thead>\n",
       "    <tr>\n",
       "      <th class=\"blank level0\" >&nbsp;</th>\n",
       "      <th id=\"T_76f0a_level0_col0\" class=\"col_heading level0 col0\" >setosa</th>\n",
       "      <th id=\"T_76f0a_level0_col1\" class=\"col_heading level0 col1\" >versicolor</th>\n",
       "      <th id=\"T_76f0a_level0_col2\" class=\"col_heading level0 col2\" >virginica</th>\n",
       "    </tr>\n",
       "  </thead>\n",
       "  <tbody>\n",
       "    <tr>\n",
       "      <th id=\"T_76f0a_level0_row0\" class=\"row_heading level0 row0\" >setosa</th>\n",
       "      <td id=\"T_76f0a_row0_col0\" class=\"data row0 col0\" >5</td>\n",
       "      <td id=\"T_76f0a_row0_col1\" class=\"data row0 col1\" >0</td>\n",
       "      <td id=\"T_76f0a_row0_col2\" class=\"data row0 col2\" >0</td>\n",
       "    </tr>\n",
       "    <tr>\n",
       "      <th id=\"T_76f0a_level0_row1\" class=\"row_heading level0 row1\" >versicolor</th>\n",
       "      <td id=\"T_76f0a_row1_col0\" class=\"data row1 col0\" >0</td>\n",
       "      <td id=\"T_76f0a_row1_col1\" class=\"data row1 col1\" >2</td>\n",
       "      <td id=\"T_76f0a_row1_col2\" class=\"data row1 col2\" >0</td>\n",
       "    </tr>\n",
       "    <tr>\n",
       "      <th id=\"T_76f0a_level0_row2\" class=\"row_heading level0 row2\" >virginica</th>\n",
       "      <td id=\"T_76f0a_row2_col0\" class=\"data row2 col0\" >0</td>\n",
       "      <td id=\"T_76f0a_row2_col1\" class=\"data row2 col1\" >1</td>\n",
       "      <td id=\"T_76f0a_row2_col2\" class=\"data row2 col2\" >7</td>\n",
       "    </tr>\n",
       "  </tbody>\n",
       "</table>\n"
      ],
      "text/plain": [
       "<pandas.io.formats.style.Styler at 0x1408574ac70>"
      ]
     },
     "metadata": {},
     "output_type": "display_data"
    },
    {
     "data": {
      "image/png": "[encoded data removed]",
      "text/plain": [
       "<Figure size 360x360 with 2 Axes>"
      ]
     },
     "metadata": {
      "needs_background": "light"
     },
     "output_type": "display_data"
    },
    {
     "name": "stdout",
     "output_type": "stream",
     "text": [
      "------------------- Iteração 4 -------------------\n"
     ]
    },
    {
     "data": {
      "image/png": "[encoded data removed]",
      "text/plain": [
       "<Figure size 432x288 with 1 Axes>"
      ]
     },
     "metadata": {
      "needs_background": "light"
     },
     "output_type": "display_data"
    },
    {
     "name": "stdout",
     "output_type": "stream",
     "text": [
      "Best K: 1\n"
     ]
    },
    {
     "data": {
      "text/html": [
       "<div>\n",
       "<style scoped>\n",
       "    .dataframe tbody tr th:only-of-type {\n",
       "        vertical-align: middle;\n",
       "    }\n",
       "\n",
       "    .dataframe tbody tr th {\n",
       "        vertical-align: top;\n",
       "    }\n",
       "\n",
       "    .dataframe thead th {\n",
       "        text-align: right;\n",
       "    }\n",
       "</style>\n",
       "<table border=\"1\" class=\"dataframe\">\n",
       "  <thead>\n",
       "    <tr style=\"text-align: right;\">\n",
       "      <th></th>\n",
       "      <th>Metrics</th>\n",
       "    </tr>\n",
       "  </thead>\n",
       "  <tbody>\n",
       "    <tr>\n",
       "      <th>Recall</th>\n",
       "      <td>1.0</td>\n",
       "    </tr>\n",
       "    <tr>\n",
       "      <th>Precision</th>\n",
       "      <td>1.0</td>\n",
       "    </tr>\n",
       "    <tr>\n",
       "      <th>F1-score</th>\n",
       "      <td>1.0</td>\n",
       "    </tr>\n",
       "  </tbody>\n",
       "</table>\n",
       "</div>"
      ],
      "text/plain": [
       "           Metrics\n",
       "Recall         1.0\n",
       "Precision      1.0\n",
       "F1-score       1.0"
      ]
     },
     "metadata": {},
     "output_type": "display_data"
    },
    {
     "data": {
      "text/html": [
       "<style type=\"text/css\">\n",
       "</style>\n",
       "<table id=\"T_fb1c4\">\n",
       "  <caption>Confusion Matrix</caption>\n",
       "  <thead>\n",
       "    <tr>\n",
       "      <th class=\"blank level0\" >&nbsp;</th>\n",
       "      <th id=\"T_fb1c4_level0_col0\" class=\"col_heading level0 col0\" >setosa</th>\n",
       "      <th id=\"T_fb1c4_level0_col1\" class=\"col_heading level0 col1\" >versicolor</th>\n",
       "      <th id=\"T_fb1c4_level0_col2\" class=\"col_heading level0 col2\" >virginica</th>\n",
       "    </tr>\n",
       "  </thead>\n",
       "  <tbody>\n",
       "    <tr>\n",
       "      <th id=\"T_fb1c4_level0_row0\" class=\"row_heading level0 row0\" >setosa</th>\n",
       "      <td id=\"T_fb1c4_row0_col0\" class=\"data row0 col0\" >6</td>\n",
       "      <td id=\"T_fb1c4_row0_col1\" class=\"data row0 col1\" >0</td>\n",
       "      <td id=\"T_fb1c4_row0_col2\" class=\"data row0 col2\" >0</td>\n",
       "    </tr>\n",
       "    <tr>\n",
       "      <th id=\"T_fb1c4_level0_row1\" class=\"row_heading level0 row1\" >versicolor</th>\n",
       "      <td id=\"T_fb1c4_row1_col0\" class=\"data row1 col0\" >0</td>\n",
       "      <td id=\"T_fb1c4_row1_col1\" class=\"data row1 col1\" >5</td>\n",
       "      <td id=\"T_fb1c4_row1_col2\" class=\"data row1 col2\" >0</td>\n",
       "    </tr>\n",
       "    <tr>\n",
       "      <th id=\"T_fb1c4_level0_row2\" class=\"row_heading level0 row2\" >virginica</th>\n",
       "      <td id=\"T_fb1c4_row2_col0\" class=\"data row2 col0\" >0</td>\n",
       "      <td id=\"T_fb1c4_row2_col1\" class=\"data row2 col1\" >0</td>\n",
       "      <td id=\"T_fb1c4_row2_col2\" class=\"data row2 col2\" >4</td>\n",
       "    </tr>\n",
       "  </tbody>\n",
       "</table>\n"
      ],
      "text/plain": [
       "<pandas.io.formats.style.Styler at 0x1408414b940>"
      ]
     },
     "metadata": {},
     "output_type": "display_data"
    },
    {
     "data": {
      "image/png": "[encoded data removed]",
      "text/plain": [
       "<Figure size 360x360 with 2 Axes>"
      ]
     },
     "metadata": {
      "needs_background": "light"
     },
     "output_type": "display_data"
    },
    {
     "name": "stdout",
     "output_type": "stream",
     "text": [
      "------------------- Iteração 5 -------------------\n"
     ]
    },
    {
     "data": {
      "image/png": "[encoded data removed]",
      "text/plain": [
       "<Figure size 432x288 with 1 Axes>"
      ]
     },
     "metadata": {
      "needs_background": "light"
     },
     "output_type": "display_data"
    },
    {
     "name": "stdout",
     "output_type": "stream",
     "text": [
      "Best K: 1\n"
     ]
    },
    {
     "data": {
      "text/html": [
       "<div>\n",
       "<style scoped>\n",
       "    .dataframe tbody tr th:only-of-type {\n",
       "        vertical-align: middle;\n",
       "    }\n",
       "\n",
       "    .dataframe tbody tr th {\n",
       "        vertical-align: top;\n",
       "    }\n",
       "\n",
       "    .dataframe thead th {\n",
       "        text-align: right;\n",
       "    }\n",
       "</style>\n",
       "<table border=\"1\" class=\"dataframe\">\n",
       "  <thead>\n",
       "    <tr style=\"text-align: right;\">\n",
       "      <th></th>\n",
       "      <th>Metrics</th>\n",
       "    </tr>\n",
       "  </thead>\n",
       "  <tbody>\n",
       "    <tr>\n",
       "      <th>Recall</th>\n",
       "      <td>1.0</td>\n",
       "    </tr>\n",
       "    <tr>\n",
       "      <th>Precision</th>\n",
       "      <td>1.0</td>\n",
       "    </tr>\n",
       "    <tr>\n",
       "      <th>F1-score</th>\n",
       "      <td>1.0</td>\n",
       "    </tr>\n",
       "  </tbody>\n",
       "</table>\n",
       "</div>"
      ],
      "text/plain": [
       "           Metrics\n",
       "Recall         1.0\n",
       "Precision      1.0\n",
       "F1-score       1.0"
      ]
     },
     "metadata": {},
     "output_type": "display_data"
    },
    {
     "data": {
      "text/html": [
       "<style type=\"text/css\">\n",
       "</style>\n",
       "<table id=\"T_75205\">\n",
       "  <caption>Confusion Matrix</caption>\n",
       "  <thead>\n",
       "    <tr>\n",
       "      <th class=\"blank level0\" >&nbsp;</th>\n",
       "      <th id=\"T_75205_level0_col0\" class=\"col_heading level0 col0\" >setosa</th>\n",
       "      <th id=\"T_75205_level0_col1\" class=\"col_heading level0 col1\" >versicolor</th>\n",
       "      <th id=\"T_75205_level0_col2\" class=\"col_heading level0 col2\" >virginica</th>\n",
       "    </tr>\n",
       "  </thead>\n",
       "  <tbody>\n",
       "    <tr>\n",
       "      <th id=\"T_75205_level0_row0\" class=\"row_heading level0 row0\" >setosa</th>\n",
       "      <td id=\"T_75205_row0_col0\" class=\"data row0 col0\" >3</td>\n",
       "      <td id=\"T_75205_row0_col1\" class=\"data row0 col1\" >0</td>\n",
       "      <td id=\"T_75205_row0_col2\" class=\"data row0 col2\" >0</td>\n",
       "    </tr>\n",
       "    <tr>\n",
       "      <th id=\"T_75205_level0_row1\" class=\"row_heading level0 row1\" >versicolor</th>\n",
       "      <td id=\"T_75205_row1_col0\" class=\"data row1 col0\" >0</td>\n",
       "      <td id=\"T_75205_row1_col1\" class=\"data row1 col1\" >8</td>\n",
       "      <td id=\"T_75205_row1_col2\" class=\"data row1 col2\" >0</td>\n",
       "    </tr>\n",
       "    <tr>\n",
       "      <th id=\"T_75205_level0_row2\" class=\"row_heading level0 row2\" >virginica</th>\n",
       "      <td id=\"T_75205_row2_col0\" class=\"data row2 col0\" >0</td>\n",
       "      <td id=\"T_75205_row2_col1\" class=\"data row2 col1\" >0</td>\n",
       "      <td id=\"T_75205_row2_col2\" class=\"data row2 col2\" >4</td>\n",
       "    </tr>\n",
       "  </tbody>\n",
       "</table>\n"
      ],
      "text/plain": [
       "<pandas.io.formats.style.Styler at 0x140841a15e0>"
      ]
     },
     "metadata": {},
     "output_type": "display_data"
    },
    {
     "data": {
      "image/png": "[encoded data removed]",
      "text/plain": [
       "<Figure size 360x360 with 2 Axes>"
      ]
     },
     "metadata": {
      "needs_background": "light"
     },
     "output_type": "display_data"
    },
    {
     "name": "stdout",
     "output_type": "stream",
     "text": [
      "------------------- Iteração 6 -------------------\n"
     ]
    },
    {
     "data": {
      "image/png": "[encoded data removed]",
      "text/plain": [
       "<Figure size 432x288 with 1 Axes>"
      ]
     },
     "metadata": {
      "needs_background": "light"
     },
     "output_type": "display_data"
    },
    {
     "name": "stdout",
     "output_type": "stream",
     "text": [
      "Best K: 1\n"
     ]
    },
    {
     "data": {
      "text/html": [
       "<div>\n",
       "<style scoped>\n",
       "    .dataframe tbody tr th:only-of-type {\n",
       "        vertical-align: middle;\n",
       "    }\n",
       "\n",
       "    .dataframe tbody tr th {\n",
       "        vertical-align: top;\n",
       "    }\n",
       "\n",
       "    .dataframe thead th {\n",
       "        text-align: right;\n",
       "    }\n",
       "</style>\n",
       "<table border=\"1\" class=\"dataframe\">\n",
       "  <thead>\n",
       "    <tr style=\"text-align: right;\">\n",
       "      <th></th>\n",
       "      <th>Metrics</th>\n",
       "    </tr>\n",
       "  </thead>\n",
       "  <tbody>\n",
       "    <tr>\n",
       "      <th>Recall</th>\n",
       "      <td>1.0</td>\n",
       "    </tr>\n",
       "    <tr>\n",
       "      <th>Precision</th>\n",
       "      <td>1.0</td>\n",
       "    </tr>\n",
       "    <tr>\n",
       "      <th>F1-score</th>\n",
       "      <td>1.0</td>\n",
       "    </tr>\n",
       "  </tbody>\n",
       "</table>\n",
       "</div>"
      ],
      "text/plain": [
       "           Metrics\n",
       "Recall         1.0\n",
       "Precision      1.0\n",
       "F1-score       1.0"
      ]
     },
     "metadata": {},
     "output_type": "display_data"
    },
    {
     "data": {
      "text/html": [
       "<style type=\"text/css\">\n",
       "</style>\n",
       "<table id=\"T_8ef5b\">\n",
       "  <caption>Confusion Matrix</caption>\n",
       "  <thead>\n",
       "    <tr>\n",
       "      <th class=\"blank level0\" >&nbsp;</th>\n",
       "      <th id=\"T_8ef5b_level0_col0\" class=\"col_heading level0 col0\" >setosa</th>\n",
       "      <th id=\"T_8ef5b_level0_col1\" class=\"col_heading level0 col1\" >versicolor</th>\n",
       "      <th id=\"T_8ef5b_level0_col2\" class=\"col_heading level0 col2\" >virginica</th>\n",
       "    </tr>\n",
       "  </thead>\n",
       "  <tbody>\n",
       "    <tr>\n",
       "      <th id=\"T_8ef5b_level0_row0\" class=\"row_heading level0 row0\" >setosa</th>\n",
       "      <td id=\"T_8ef5b_row0_col0\" class=\"data row0 col0\" >6</td>\n",
       "      <td id=\"T_8ef5b_row0_col1\" class=\"data row0 col1\" >0</td>\n",
       "      <td id=\"T_8ef5b_row0_col2\" class=\"data row0 col2\" >0</td>\n",
       "    </tr>\n",
       "    <tr>\n",
       "      <th id=\"T_8ef5b_level0_row1\" class=\"row_heading level0 row1\" >versicolor</th>\n",
       "      <td id=\"T_8ef5b_row1_col0\" class=\"data row1 col0\" >0</td>\n",
       "      <td id=\"T_8ef5b_row1_col1\" class=\"data row1 col1\" >4</td>\n",
       "      <td id=\"T_8ef5b_row1_col2\" class=\"data row1 col2\" >0</td>\n",
       "    </tr>\n",
       "    <tr>\n",
       "      <th id=\"T_8ef5b_level0_row2\" class=\"row_heading level0 row2\" >virginica</th>\n",
       "      <td id=\"T_8ef5b_row2_col0\" class=\"data row2 col0\" >0</td>\n",
       "      <td id=\"T_8ef5b_row2_col1\" class=\"data row2 col1\" >0</td>\n",
       "      <td id=\"T_8ef5b_row2_col2\" class=\"data row2 col2\" >5</td>\n",
       "    </tr>\n",
       "  </tbody>\n",
       "</table>\n"
      ],
      "text/plain": [
       "<pandas.io.formats.style.Styler at 0x1408566d2e0>"
      ]
     },
     "metadata": {},
     "output_type": "display_data"
    },
    {
     "data": {
      "image/png": "[encoded data removed]",
      "text/plain": [
       "<Figure size 360x360 with 2 Axes>"
      ]
     },
     "metadata": {
      "needs_background": "light"
     },
     "output_type": "display_data"
    },
    {
     "name": "stdout",
     "output_type": "stream",
     "text": [
      "------------------- Iteração 7 -------------------\n"
     ]
    },
    {
     "data": {
      "image/png": "[encoded data removed]",
      "text/plain": [
       "<Figure size 432x288 with 1 Axes>"
      ]
     },
     "metadata": {
      "needs_background": "light"
     },
     "output_type": "display_data"
    },
    {
     "name": "stdout",
     "output_type": "stream",
     "text": [
      "Best K: 1\n"
     ]
    },
    {
     "data": {
      "text/html": [
       "<div>\n",
       "<style scoped>\n",
       "    .dataframe tbody tr th:only-of-type {\n",
       "        vertical-align: middle;\n",
       "    }\n",
       "\n",
       "    .dataframe tbody tr th {\n",
       "        vertical-align: top;\n",
       "    }\n",
       "\n",
       "    .dataframe thead th {\n",
       "        text-align: right;\n",
       "    }\n",
       "</style>\n",
       "<table border=\"1\" class=\"dataframe\">\n",
       "  <thead>\n",
       "    <tr style=\"text-align: right;\">\n",
       "      <th></th>\n",
       "      <th>Metrics</th>\n",
       "    </tr>\n",
       "  </thead>\n",
       "  <tbody>\n",
       "    <tr>\n",
       "      <th>Recall</th>\n",
       "      <td>1.0</td>\n",
       "    </tr>\n",
       "    <tr>\n",
       "      <th>Precision</th>\n",
       "      <td>1.0</td>\n",
       "    </tr>\n",
       "    <tr>\n",
       "      <th>F1-score</th>\n",
       "      <td>1.0</td>\n",
       "    </tr>\n",
       "  </tbody>\n",
       "</table>\n",
       "</div>"
      ],
      "text/plain": [
       "           Metrics\n",
       "Recall         1.0\n",
       "Precision      1.0\n",
       "F1-score       1.0"
      ]
     },
     "metadata": {},
     "output_type": "display_data"
    },
    {
     "data": {
      "text/html": [
       "<style type=\"text/css\">\n",
       "</style>\n",
       "<table id=\"T_f35c6\">\n",
       "  <caption>Confusion Matrix</caption>\n",
       "  <thead>\n",
       "    <tr>\n",
       "      <th class=\"blank level0\" >&nbsp;</th>\n",
       "      <th id=\"T_f35c6_level0_col0\" class=\"col_heading level0 col0\" >setosa</th>\n",
       "      <th id=\"T_f35c6_level0_col1\" class=\"col_heading level0 col1\" >versicolor</th>\n",
       "      <th id=\"T_f35c6_level0_col2\" class=\"col_heading level0 col2\" >virginica</th>\n",
       "    </tr>\n",
       "  </thead>\n",
       "  <tbody>\n",
       "    <tr>\n",
       "      <th id=\"T_f35c6_level0_row0\" class=\"row_heading level0 row0\" >setosa</th>\n",
       "      <td id=\"T_f35c6_row0_col0\" class=\"data row0 col0\" >4</td>\n",
       "      <td id=\"T_f35c6_row0_col1\" class=\"data row0 col1\" >0</td>\n",
       "      <td id=\"T_f35c6_row0_col2\" class=\"data row0 col2\" >0</td>\n",
       "    </tr>\n",
       "    <tr>\n",
       "      <th id=\"T_f35c6_level0_row1\" class=\"row_heading level0 row1\" >versicolor</th>\n",
       "      <td id=\"T_f35c6_row1_col0\" class=\"data row1 col0\" >0</td>\n",
       "      <td id=\"T_f35c6_row1_col1\" class=\"data row1 col1\" >6</td>\n",
       "      <td id=\"T_f35c6_row1_col2\" class=\"data row1 col2\" >0</td>\n",
       "    </tr>\n",
       "    <tr>\n",
       "      <th id=\"T_f35c6_level0_row2\" class=\"row_heading level0 row2\" >virginica</th>\n",
       "      <td id=\"T_f35c6_row2_col0\" class=\"data row2 col0\" >0</td>\n",
       "      <td id=\"T_f35c6_row2_col1\" class=\"data row2 col1\" >0</td>\n",
       "      <td id=\"T_f35c6_row2_col2\" class=\"data row2 col2\" >5</td>\n",
       "    </tr>\n",
       "  </tbody>\n",
       "</table>\n"
      ],
      "text/plain": [
       "<pandas.io.formats.style.Styler at 0x140841fa0a0>"
      ]
     },
     "metadata": {},
     "output_type": "display_data"
    },
    {
     "data": {
      "image/png": "[encoded data removed]",
      "text/plain": [
       "<Figure size 360x360 with 2 Axes>"
      ]
     },
     "metadata": {
      "needs_background": "light"
     },
     "output_type": "display_data"
    },
    {
     "name": "stdout",
     "output_type": "stream",
     "text": [
      "------------------- Iteração 8 -------------------\n"
     ]
    },
    {
     "data": {
      "image/png": "[encoded data removed]",
      "text/plain": [
       "<Figure size 432x288 with 1 Axes>"
      ]
     },
     "metadata": {
      "needs_background": "light"
     },
     "output_type": "display_data"
    },
    {
     "name": "stdout",
     "output_type": "stream",
     "text": [
      "Best K: 1\n"
     ]
    },
    {
     "data": {
      "text/html": [
       "<div>\n",
       "<style scoped>\n",
       "    .dataframe tbody tr th:only-of-type {\n",
       "        vertical-align: middle;\n",
       "    }\n",
       "\n",
       "    .dataframe tbody tr th {\n",
       "        vertical-align: top;\n",
       "    }\n",
       "\n",
       "    .dataframe thead th {\n",
       "        text-align: right;\n",
       "    }\n",
       "</style>\n",
       "<table border=\"1\" class=\"dataframe\">\n",
       "  <thead>\n",
       "    <tr style=\"text-align: right;\">\n",
       "      <th></th>\n",
       "      <th>Metrics</th>\n",
       "    </tr>\n",
       "  </thead>\n",
       "  <tbody>\n",
       "    <tr>\n",
       "      <th>Recall</th>\n",
       "      <td>1.0</td>\n",
       "    </tr>\n",
       "    <tr>\n",
       "      <th>Precision</th>\n",
       "      <td>1.0</td>\n",
       "    </tr>\n",
       "    <tr>\n",
       "      <th>F1-score</th>\n",
       "      <td>1.0</td>\n",
       "    </tr>\n",
       "  </tbody>\n",
       "</table>\n",
       "</div>"
      ],
      "text/plain": [
       "           Metrics\n",
       "Recall         1.0\n",
       "Precision      1.0\n",
       "F1-score       1.0"
      ]
     },
     "metadata": {},
     "output_type": "display_data"
    },
    {
     "data": {
      "text/html": [
       "<style type=\"text/css\">\n",
       "</style>\n",
       "<table id=\"T_0b5f4\">\n",
       "  <caption>Confusion Matrix</caption>\n",
       "  <thead>\n",
       "    <tr>\n",
       "      <th class=\"blank level0\" >&nbsp;</th>\n",
       "      <th id=\"T_0b5f4_level0_col0\" class=\"col_heading level0 col0\" >setosa</th>\n",
       "      <th id=\"T_0b5f4_level0_col1\" class=\"col_heading level0 col1\" >versicolor</th>\n",
       "      <th id=\"T_0b5f4_level0_col2\" class=\"col_heading level0 col2\" >virginica</th>\n",
       "    </tr>\n",
       "  </thead>\n",
       "  <tbody>\n",
       "    <tr>\n",
       "      <th id=\"T_0b5f4_level0_row0\" class=\"row_heading level0 row0\" >setosa</th>\n",
       "      <td id=\"T_0b5f4_row0_col0\" class=\"data row0 col0\" >4</td>\n",
       "      <td id=\"T_0b5f4_row0_col1\" class=\"data row0 col1\" >0</td>\n",
       "      <td id=\"T_0b5f4_row0_col2\" class=\"data row0 col2\" >0</td>\n",
       "    </tr>\n",
       "    <tr>\n",
       "      <th id=\"T_0b5f4_level0_row1\" class=\"row_heading level0 row1\" >versicolor</th>\n",
       "      <td id=\"T_0b5f4_row1_col0\" class=\"data row1 col0\" >0</td>\n",
       "      <td id=\"T_0b5f4_row1_col1\" class=\"data row1 col1\" >4</td>\n",
       "      <td id=\"T_0b5f4_row1_col2\" class=\"data row1 col2\" >0</td>\n",
       "    </tr>\n",
       "    <tr>\n",
       "      <th id=\"T_0b5f4_level0_row2\" class=\"row_heading level0 row2\" >virginica</th>\n",
       "      <td id=\"T_0b5f4_row2_col0\" class=\"data row2 col0\" >0</td>\n",
       "      <td id=\"T_0b5f4_row2_col1\" class=\"data row2 col1\" >0</td>\n",
       "      <td id=\"T_0b5f4_row2_col2\" class=\"data row2 col2\" >7</td>\n",
       "    </tr>\n",
       "  </tbody>\n",
       "</table>\n"
      ],
      "text/plain": [
       "<pandas.io.formats.style.Styler at 0x14083fb5310>"
      ]
     },
     "metadata": {},
     "output_type": "display_data"
    },
    {
     "data": {
      "image/png": "[encoded data removed]",
      "text/plain": [
       "<Figure size 360x360 with 2 Axes>"
      ]
     },
     "metadata": {
      "needs_background": "light"
     },
     "output_type": "display_data"
    },
    {
     "name": "stdout",
     "output_type": "stream",
     "text": [
      "------------------- Iteração 9 -------------------\n"
     ]
    },
    {
     "data": {
      "image/png": "[encoded data removed]",
      "text/plain": [
       "<Figure size 432x288 with 1 Axes>"
      ]
     },
     "metadata": {
      "needs_background": "light"
     },
     "output_type": "display_data"
    },
    {
     "name": "stdout",
     "output_type": "stream",
     "text": [
      "Best K: 1\n"
     ]
    },
    {
     "data": {
      "text/html": [
       "<div>\n",
       "<style scoped>\n",
       "    .dataframe tbody tr th:only-of-type {\n",
       "        vertical-align: middle;\n",
       "    }\n",
       "\n",
       "    .dataframe tbody tr th {\n",
       "        vertical-align: top;\n",
       "    }\n",
       "\n",
       "    .dataframe thead th {\n",
       "        text-align: right;\n",
       "    }\n",
       "</style>\n",
       "<table border=\"1\" class=\"dataframe\">\n",
       "  <thead>\n",
       "    <tr style=\"text-align: right;\">\n",
       "      <th></th>\n",
       "      <th>Metrics</th>\n",
       "    </tr>\n",
       "  </thead>\n",
       "  <tbody>\n",
       "    <tr>\n",
       "      <th>Recall</th>\n",
       "      <td>1.0</td>\n",
       "    </tr>\n",
       "    <tr>\n",
       "      <th>Precision</th>\n",
       "      <td>1.0</td>\n",
       "    </tr>\n",
       "    <tr>\n",
       "      <th>F1-score</th>\n",
       "      <td>1.0</td>\n",
       "    </tr>\n",
       "  </tbody>\n",
       "</table>\n",
       "</div>"
      ],
      "text/plain": [
       "           Metrics\n",
       "Recall         1.0\n",
       "Precision      1.0\n",
       "F1-score       1.0"
      ]
     },
     "metadata": {},
     "output_type": "display_data"
    },
    {
     "data": {
      "text/html": [
       "<style type=\"text/css\">\n",
       "</style>\n",
       "<table id=\"T_c79de\">\n",
       "  <caption>Confusion Matrix</caption>\n",
       "  <thead>\n",
       "    <tr>\n",
       "      <th class=\"blank level0\" >&nbsp;</th>\n",
       "      <th id=\"T_c79de_level0_col0\" class=\"col_heading level0 col0\" >setosa</th>\n",
       "      <th id=\"T_c79de_level0_col1\" class=\"col_heading level0 col1\" >versicolor</th>\n",
       "      <th id=\"T_c79de_level0_col2\" class=\"col_heading level0 col2\" >virginica</th>\n",
       "    </tr>\n",
       "  </thead>\n",
       "  <tbody>\n",
       "    <tr>\n",
       "      <th id=\"T_c79de_level0_row0\" class=\"row_heading level0 row0\" >setosa</th>\n",
       "      <td id=\"T_c79de_row0_col0\" class=\"data row0 col0\" >6</td>\n",
       "      <td id=\"T_c79de_row0_col1\" class=\"data row0 col1\" >0</td>\n",
       "      <td id=\"T_c79de_row0_col2\" class=\"data row0 col2\" >0</td>\n",
       "    </tr>\n",
       "    <tr>\n",
       "      <th id=\"T_c79de_level0_row1\" class=\"row_heading level0 row1\" >versicolor</th>\n",
       "      <td id=\"T_c79de_row1_col0\" class=\"data row1 col0\" >0</td>\n",
       "      <td id=\"T_c79de_row1_col1\" class=\"data row1 col1\" >5</td>\n",
       "      <td id=\"T_c79de_row1_col2\" class=\"data row1 col2\" >0</td>\n",
       "    </tr>\n",
       "    <tr>\n",
       "      <th id=\"T_c79de_level0_row2\" class=\"row_heading level0 row2\" >virginica</th>\n",
       "      <td id=\"T_c79de_row2_col0\" class=\"data row2 col0\" >0</td>\n",
       "      <td id=\"T_c79de_row2_col1\" class=\"data row2 col1\" >0</td>\n",
       "      <td id=\"T_c79de_row2_col2\" class=\"data row2 col2\" >4</td>\n",
       "    </tr>\n",
       "  </tbody>\n",
       "</table>\n"
      ],
      "text/plain": [
       "<pandas.io.formats.style.Styler at 0x14085738b50>"
      ]
     },
     "metadata": {},
     "output_type": "display_data"
    },
    {
     "data": {
      "image/png": "[encoded data removed]",
      "text/plain": [
       "<Figure size 360x360 with 2 Axes>"
      ]
     },
     "metadata": {
      "needs_background": "light"
     },
     "output_type": "display_data"
    }
   ],
   "source": [
    "def CV_212(info, metr):\n",
    "    for k in _k:\n",
    "        neigh = K_neighbors_classifier(info['TRAIN'][0], info['TRAIN'][1], k)\n",
    "        pred = neigh.predict(info['TEST'][0])\n",
    "        true = info['TEST'][1]\n",
    "        cm, rs, ps, f1 = metrics(true, pred)\n",
    "\n",
    "        metr[\"Neigh\"].append(neigh)\n",
    "        metr[\"Recall\"].append(rs)\n",
    "        metr[\"Precision\"].append(ps)\n",
    "        metr[\"F1-score\"].append(f1)\n",
    "\n",
    "    return metr\n",
    "\n",
    "def plot_metricas(metr):\n",
    "    plt.figure()\n",
    "\n",
    "    plt.plot(_k, metr[\"Recall\"], label=\"Recall\")\n",
    "    plt.scatter(_k, metr[\"Recall\"])\n",
    "    plt.plot(_k, metr[\"Precision\"], label=\"Precision\")\n",
    "    plt.scatter(_k, metr[\"Precision\"])\n",
    "    plt.plot(_k, metr[\"F1-score\"], label=\"F1-score\")\n",
    "    plt.scatter(_k, metr[\"F1-score\"])\n",
    "    \n",
    "    plt.title(\"Comparação de métricas\")\n",
    "    plt.xlabel(\"Valores de k\")\n",
    "    plt.ylabel(\"Métricas\")\n",
    "    plt.legend()\n",
    "    plt.show()\n",
    "\n",
    "def CV_gama(x, y):\n",
    "    \n",
    "    kf = k_fold(x, y, 10)\n",
    "    count = 0\n",
    "    for info in kf:\n",
    "        metr = {\"Neigh\": [], \"Recall\": [], \"Precision\": [], \"F1-score\": []}\n",
    "        print(\"------------------- Iteração \" + str(count) + \" -------------------\")\n",
    "        count += 1\n",
    "        new_metr = CV_212(info, metr)\n",
    "\n",
    "        plot_metricas(new_metr)\n",
    "\n",
    "        pos_k = new_metr[\"Recall\"].index(max(new_metr[\"Recall\"]))\n",
    "        best_k = _k[pos_k]\n",
    "        print(\"Best K: \" + str(best_k))\n",
    "\n",
    "        neigh = K_neighbors_classifier(info['TRAIN'][0], info['TRAIN'][1], best_k)\n",
    "        pred = neigh.predict(info['TEST'][0])\n",
    "        true = info['TEST'][1]\n",
    "        cm, rs, ps, f1 = metrics(true, pred)\n",
    "\n",
    "        mais_bonito(cm, rs, ps, f1, iris[\"target_names\"])\n",
    "\n",
    "CV_gama(data, target)"
   ]
  },
  {
   "cell_type": "markdown",
   "metadata": {},
   "source": [
    "### 2.2. ReliefF"
   ]
  },
  {
   "cell_type": "code",
   "execution_count": 20,
   "metadata": {},
   "outputs": [],
   "source": [
    "def TO_212(x, y, metr):\n",
    "    for k in _k:\n",
    "        neigh = K_neighbors_classifier(x, y, k)\n",
    "        pred = neigh.predict(x)\n",
    "        true = y\n",
    "        cm, rs, ps, f1 = metrics(true, pred)\n",
    "\n",
    "        metr[\"F1-score\"].append(f1)\n",
    "    \n",
    "    return metr\n",
    "\n",
    "\n",
    "def repeatTO(x, y):\n",
    "    rff = reliefF(x, y)\n",
    "    f1_score = []\n",
    "\n",
    "    for f in range(4):\n",
    "        metr = {\"F1-score\": []}\n",
    "\n",
    "        feat = rff[:(f+1)]\n",
    "        new_metr = TO_212(x[:,feat], y, metr)\n",
    "\n",
    "        f1_score.append(metr[\"F1-score\"])\n",
    "\n",
    "        #------------Plot F1-Score--------------------------\n",
    "        plot_f1(new_metr)\n",
    "\n",
    "        #------------Best k--------------------------\n",
    "        print('Nr of features: ' + str(len(feat)))\n",
    "        pos_k = new_metr[\"F1-score\"].index(max(new_metr[\"F1-score\"]))\n",
    "        best_k = _k[pos_k]\n",
    "        print(\"Best K: \" + str(best_k))\n",
    "\n",
    "        neigh = K_neighbors_classifier(x[:,feat], y, best_k)\n",
    "        pred = neigh.predict(x[:,feat])\n",
    "        true = y\n",
    "        cm, rs, ps, f1 = metrics(true, pred)\n",
    "\n",
    "        print('F1_score: ' + str(f1))\n",
    "        print('-'*50)\n",
    "\n",
    "    label = ['Nº of features: ' + str(i+1) for i in range(len(rff))]\n",
    "    col = ['k=' + str(i) for i in _k]\n",
    "    df = pd.DataFrame(f1_score, columns = col, index = label)\n",
    "    display(df)\n",
    "\n",
    "        \n",
    "#repeatTO(data, target)\n",
    "\n",
    "def CV_221(info, metr, feat):\n",
    "    for k in _k:\n",
    "        neigh = K_neighbors_classifier(info['TRAIN'][0][:,feat], info['TRAIN'][1], k)\n",
    "        pred = neigh.predict(info['TEST'][0][:,feat])\n",
    "        true = info['TEST'][1]\n",
    "        cm, rs, ps, f1 = metrics(true, pred)\n",
    "\n",
    "        metr[\"F1-score\"].append(f1)\n",
    "\n",
    "    #------------Plot F1-Score--------------------------\n",
    "    plot_f1(metr)\n",
    "\n",
    "    return metr\n",
    "\n",
    "\n",
    "def repeatCV(x, y):\n",
    "    rff = reliefF(x, y)\n",
    "\n",
    "    kf = k_fold(x, y, 10)\n",
    "    count = 0\n",
    "    for info in kf:\n",
    "        f1_score = []\n",
    "        print(\"------------------- Iteração \" + str(count) + \" -------------------\")\n",
    "        count += 1\n",
    "        for f in range(4):\n",
    "\n",
    "            metr = {\"F1-score\": []}\n",
    "            feat = rff[:(f+1)]\n",
    "\n",
    "            new_metr = CV_221(info, metr, feat)\n",
    "            f1_score.append(new_metr[\"F1-score\"])\n",
    "            \n",
    "            print('Nr of features: ' + str(len(feat)))\n",
    "            pos_k = new_metr[\"F1-score\"].index(max(new_metr[\"F1-score\"]))\n",
    "            best_k = _k[pos_k]\n",
    "            print(\"Best K: \" + str(best_k))\n",
    "\n",
    "            neigh = K_neighbors_classifier(info['TRAIN'][0][:,feat], info['TRAIN'][1], best_k)\n",
    "            pred = neigh.predict(info['TEST'][0][:,feat])\n",
    "            true = info['TEST'][1]\n",
    "            cm, rs, ps, f1 = metrics(true, pred)\n",
    "            print('F1_score: ' + str(f1))\n",
    "            print('-'*50)\n",
    "\n",
    "\n",
    "        label = ['Nº of features: ' + str(i+1) for i in range(len(rff))]\n",
    "        col = ['k=' + str(i) for i in _k]\n",
    "        df = pd.DataFrame(f1_score, columns = col, index = label)\n",
    "        display(df)\n",
    "            \n",
    "\n",
    "#repeatCV(data, target)"
   ]
  },
  {
   "cell_type": "code",
   "execution_count": 21,
   "metadata": {},
   "outputs": [
    {
     "data": {
      "image/png": "[encoded data removed]",
      "text/plain": [
       "<Figure size 360x144 with 1 Axes>"
      ]
     },
     "metadata": {
      "needs_background": "light"
     },
     "output_type": "display_data"
    },
    {
     "name": "stdout",
     "output_type": "stream",
     "text": [
      "Nr of features: 1\n",
      "Best K: 5\n",
      "F1_score: 0.9784047370254267\n",
      "--------------------------------------------------\n"
     ]
    },
    {
     "data": {
      "image/png": "[encoded data removed]",
      "text/plain": [
       "<Figure size 360x144 with 1 Axes>"
      ]
     },
     "metadata": {
      "needs_background": "light"
     },
     "output_type": "display_data"
    },
    {
     "name": "stdout",
     "output_type": "stream",
     "text": [
      "Nr of features: 2\n",
      "Best K: 7\n",
      "F1_score: 0.9784047370254267\n",
      "--------------------------------------------------\n"
     ]
    },
    {
     "data": {
      "image/png": "[encoded data removed]",
      "text/plain": [
       "<Figure size 360x144 with 1 Axes>"
      ]
     },
     "metadata": {
      "needs_background": "light"
     },
     "output_type": "display_data"
    },
    {
     "name": "stdout",
     "output_type": "stream",
     "text": [
      "Nr of features: 3\n",
      "Best K: 9\n",
      "F1_score: 1.0\n",
      "--------------------------------------------------\n"
     ]
    },
    {
     "data": {
      "image/png": "[encoded data removed]",
      "text/plain": [
       "<Figure size 360x144 with 1 Axes>"
      ]
     },
     "metadata": {
      "needs_background": "light"
     },
     "output_type": "display_data"
    },
    {
     "name": "stdout",
     "output_type": "stream",
     "text": [
      "Nr of features: 4\n",
      "Best K: 7\n",
      "F1_score: 1.0\n",
      "--------------------------------------------------\n"
     ]
    },
    {
     "data": {
      "text/html": [
       "<div>\n",
       "<style scoped>\n",
       "    .dataframe tbody tr th:only-of-type {\n",
       "        vertical-align: middle;\n",
       "    }\n",
       "\n",
       "    .dataframe tbody tr th {\n",
       "        vertical-align: top;\n",
       "    }\n",
       "\n",
       "    .dataframe thead th {\n",
       "        text-align: right;\n",
       "    }\n",
       "</style>\n",
       "<table border=\"1\" class=\"dataframe\">\n",
       "  <thead>\n",
       "    <tr style=\"text-align: right;\">\n",
       "      <th></th>\n",
       "      <th>k=1</th>\n",
       "      <th>k=3</th>\n",
       "      <th>k=5</th>\n",
       "      <th>k=7</th>\n",
       "      <th>k=9</th>\n",
       "      <th>k=11</th>\n",
       "      <th>k=13</th>\n",
       "      <th>k=15</th>\n",
       "    </tr>\n",
       "  </thead>\n",
       "  <tbody>\n",
       "    <tr>\n",
       "      <th>Nº of features: 1</th>\n",
       "      <td>0.797980</td>\n",
       "      <td>0.910714</td>\n",
       "      <td>0.954751</td>\n",
       "      <td>0.954751</td>\n",
       "      <td>0.954751</td>\n",
       "      <td>0.954751</td>\n",
       "      <td>0.954751</td>\n",
       "      <td>0.910714</td>\n",
       "    </tr>\n",
       "    <tr>\n",
       "      <th>Nº of features: 2</th>\n",
       "      <td>0.909502</td>\n",
       "      <td>0.954751</td>\n",
       "      <td>0.932660</td>\n",
       "      <td>0.955357</td>\n",
       "      <td>0.932660</td>\n",
       "      <td>0.931429</td>\n",
       "      <td>0.954751</td>\n",
       "      <td>0.954751</td>\n",
       "    </tr>\n",
       "    <tr>\n",
       "      <th>Nº of features: 3</th>\n",
       "      <td>0.932660</td>\n",
       "      <td>0.955357</td>\n",
       "      <td>0.933259</td>\n",
       "      <td>0.955357</td>\n",
       "      <td>0.977553</td>\n",
       "      <td>0.955357</td>\n",
       "      <td>0.955357</td>\n",
       "      <td>0.955357</td>\n",
       "    </tr>\n",
       "    <tr>\n",
       "      <th>Nº of features: 4</th>\n",
       "      <td>0.932660</td>\n",
       "      <td>0.933259</td>\n",
       "      <td>0.933259</td>\n",
       "      <td>0.977553</td>\n",
       "      <td>0.977553</td>\n",
       "      <td>0.932660</td>\n",
       "      <td>0.932660</td>\n",
       "      <td>0.955357</td>\n",
       "    </tr>\n",
       "  </tbody>\n",
       "</table>\n",
       "</div>"
      ],
      "text/plain": [
       "                        k=1       k=3       k=5       k=7       k=9      k=11  \\\n",
       "Nº of features: 1  0.797980  0.910714  0.954751  0.954751  0.954751  0.954751   \n",
       "Nº of features: 2  0.909502  0.954751  0.932660  0.955357  0.932660  0.931429   \n",
       "Nº of features: 3  0.932660  0.955357  0.933259  0.955357  0.977553  0.955357   \n",
       "Nº of features: 4  0.932660  0.933259  0.933259  0.977553  0.977553  0.932660   \n",
       "\n",
       "                       k=13      k=15  \n",
       "Nº of features: 1  0.954751  0.910714  \n",
       "Nº of features: 2  0.954751  0.954751  \n",
       "Nº of features: 3  0.955357  0.955357  \n",
       "Nº of features: 4  0.932660  0.955357  "
      ]
     },
     "metadata": {},
     "output_type": "display_data"
    }
   ],
   "source": [
    "def plot_f1(metr_f1):\n",
    "    plt.figure(figsize=(5,2))\n",
    "\n",
    "    plt.plot(_k, metr_f1[\"F1-score\"])\n",
    "    plt.scatter(_k, metr_f1[\"F1-score\"])\n",
    "    \n",
    "    plt.title(\"Comparação do F1-score\")\n",
    "    plt.xlabel(\"Valores de k\")\n",
    "    plt.ylabel(\"F1_score\")\n",
    "    plt.show()\n",
    "\n",
    "def bestkTVT(metr, feat, xTrain, xValidation, trainValidation, s):\n",
    "    s += 'Nr of features: ' + str(len(feat)) + '\\n'\n",
    "    print('Nr of features: ' + str(len(feat)))\n",
    "    pos_k = metr[\"F1-score\"].index(max(metr[\"F1-score\"]))\n",
    "    best_k = _k[pos_k]\n",
    "    s += \"Best K: \" + str(best_k) + '\\n'\n",
    "    print(\"Best K: \" + str(best_k))\n",
    "\n",
    "    newTrain0 = np.concatenate((xTrain, xValidation), axis=0)\n",
    "    newTrain1 = np.concatenate((trainValidation['TRAIN'][1], trainValidation['VALIDATION'][1]), axis=0)\n",
    "\n",
    "    neigh = K_neighbors_classifier(newTrain0, newTrain1, best_k)\n",
    "    xTest = trainValidation['TEST'][0][:,feat]\n",
    "    pred = neigh.predict(xTest)\n",
    "    true = trainValidation['TEST'][1]\n",
    "    cm, rs, ps, f1 = metrics(true, pred)\n",
    "\n",
    "    s += 'F1_score: ' + str(f1) + '\\n' + '-'*50 + '\\n'\n",
    "    print('F1_score: ' + str(f1))\n",
    "    print('-'*50)\n",
    "\n",
    "    return f1, s\n",
    "\n",
    "def repeatTVT(x, y, featselec):\n",
    "\n",
    "    trainValidation = train_validation_test(x, y, 0.4, 0.3)\n",
    "\n",
    "    f1_score = []\n",
    "    f1_score_elbow = []\n",
    "    str_print = ''\n",
    "\n",
    "    for f in range(4):\n",
    "        metr = {\"F1-score\": []}\n",
    "        feat = featselec[:(f+1)]\n",
    "        xTrain = trainValidation['TRAIN'][0][:,feat]\n",
    "        xValidation = trainValidation['VALIDATION'][0][:,feat]\n",
    "\n",
    "        for k in _k:\n",
    "            neigh = K_neighbors_classifier(xTrain, trainValidation['TRAIN'][1], k)\n",
    "            pred = neigh.predict(xValidation)\n",
    "            true = trainValidation['VALIDATION'][1]\n",
    "            cm, rs, ps, f1 = metrics(true, pred)\n",
    "\n",
    "            metr[\"F1-score\"].append(f1)\n",
    "        f1_score.append(metr[\"F1-score\"])\n",
    "\n",
    "        #------------Plot F1-Score--------------------------\n",
    "        plot_f1(metr)\n",
    "\n",
    "        #------------Best k--------------------------\n",
    "        aux, str_print = bestkTVT(metr, feat, xTrain, xValidation, trainValidation, str_print)\n",
    "        f1_score_elbow.append(aux)\n",
    "\n",
    "    label = ['Nº of features: ' + str(i+1) for i in range(len(featselec))]\n",
    "    col = ['k=' + str(i) for i in _k]\n",
    "    df = pd.DataFrame(f1_score, columns = col, index = label)\n",
    "    display(df)\n",
    "\n",
    "    return f1_score_elbow, df, str_print\n",
    "        \n",
    "\n",
    "f1_score_elbow, df223, str_print = repeatTVT(data, target, reliefF(data, target))"
   ]
  },
  {
   "cell_type": "markdown",
   "metadata": {},
   "source": [
    "### 2.2.2 Elbow graph"
   ]
  },
  {
   "cell_type": "code",
   "execution_count": 22,
   "metadata": {},
   "outputs": [
    {
     "data": {
      "image/png": "[encoded data removed]",
      "text/plain": [
       "<Figure size 360x144 with 1 Axes>"
      ]
     },
     "metadata": {
      "needs_background": "light"
     },
     "output_type": "display_data"
    }
   ],
   "source": [
    "def elbowGraph(lista_f1):\n",
    "    index = np.arange(1,5)\n",
    "\n",
    "    plt.figure(figsize=(5,2))\n",
    "    plt.ylim(min(lista_f1)-0.02,1)\n",
    "\n",
    "    plt.plot(index, lista_f1)\n",
    "    plt.scatter(index, lista_f1)\n",
    "    \n",
    "    plt.title(\"Grágico de cotovelo\")\n",
    "    plt.xlabel(\"Número de features\")\n",
    "    plt.ylabel(\"F1_score\")\n",
    "    plt.show()\n",
    "\n",
    "elbowGraph(f1_score_elbow)"
   ]
  },
  {
   "cell_type": "markdown",
   "metadata": {},
   "source": [
    "### 2.2.3. Validation set results"
   ]
  },
  {
   "cell_type": "code",
   "execution_count": 23,
   "metadata": {},
   "outputs": [
    {
     "data": {
      "text/html": [
       "<div>\n",
       "<style scoped>\n",
       "    .dataframe tbody tr th:only-of-type {\n",
       "        vertical-align: middle;\n",
       "    }\n",
       "\n",
       "    .dataframe tbody tr th {\n",
       "        vertical-align: top;\n",
       "    }\n",
       "\n",
       "    .dataframe thead th {\n",
       "        text-align: right;\n",
       "    }\n",
       "</style>\n",
       "<table border=\"1\" class=\"dataframe\">\n",
       "  <thead>\n",
       "    <tr style=\"text-align: right;\">\n",
       "      <th></th>\n",
       "      <th>k=1</th>\n",
       "      <th>k=3</th>\n",
       "      <th>k=5</th>\n",
       "      <th>k=7</th>\n",
       "      <th>k=9</th>\n",
       "      <th>k=11</th>\n",
       "      <th>k=13</th>\n",
       "      <th>k=15</th>\n",
       "    </tr>\n",
       "  </thead>\n",
       "  <tbody>\n",
       "    <tr>\n",
       "      <th>Nº of features: 1</th>\n",
       "      <td>0.797980</td>\n",
       "      <td>0.910714</td>\n",
       "      <td>0.954751</td>\n",
       "      <td>0.954751</td>\n",
       "      <td>0.954751</td>\n",
       "      <td>0.954751</td>\n",
       "      <td>0.954751</td>\n",
       "      <td>0.910714</td>\n",
       "    </tr>\n",
       "    <tr>\n",
       "      <th>Nº of features: 2</th>\n",
       "      <td>0.909502</td>\n",
       "      <td>0.954751</td>\n",
       "      <td>0.932660</td>\n",
       "      <td>0.955357</td>\n",
       "      <td>0.932660</td>\n",
       "      <td>0.931429</td>\n",
       "      <td>0.954751</td>\n",
       "      <td>0.954751</td>\n",
       "    </tr>\n",
       "    <tr>\n",
       "      <th>Nº of features: 3</th>\n",
       "      <td>0.932660</td>\n",
       "      <td>0.955357</td>\n",
       "      <td>0.933259</td>\n",
       "      <td>0.955357</td>\n",
       "      <td>0.977553</td>\n",
       "      <td>0.955357</td>\n",
       "      <td>0.955357</td>\n",
       "      <td>0.955357</td>\n",
       "    </tr>\n",
       "    <tr>\n",
       "      <th>Nº of features: 4</th>\n",
       "      <td>0.932660</td>\n",
       "      <td>0.933259</td>\n",
       "      <td>0.933259</td>\n",
       "      <td>0.977553</td>\n",
       "      <td>0.977553</td>\n",
       "      <td>0.932660</td>\n",
       "      <td>0.932660</td>\n",
       "      <td>0.955357</td>\n",
       "    </tr>\n",
       "  </tbody>\n",
       "</table>\n",
       "</div>"
      ],
      "text/plain": [
       "                        k=1       k=3       k=5       k=7       k=9      k=11  \\\n",
       "Nº of features: 1  0.797980  0.910714  0.954751  0.954751  0.954751  0.954751   \n",
       "Nº of features: 2  0.909502  0.954751  0.932660  0.955357  0.932660  0.931429   \n",
       "Nº of features: 3  0.932660  0.955357  0.933259  0.955357  0.977553  0.955357   \n",
       "Nº of features: 4  0.932660  0.933259  0.933259  0.977553  0.977553  0.932660   \n",
       "\n",
       "                       k=13      k=15  \n",
       "Nº of features: 1  0.954751  0.910714  \n",
       "Nº of features: 2  0.954751  0.954751  \n",
       "Nº of features: 3  0.955357  0.955357  \n",
       "Nº of features: 4  0.932660  0.955357  "
      ]
     },
     "metadata": {},
     "output_type": "display_data"
    }
   ],
   "source": [
    "display(df223)"
   ]
  },
  {
   "cell_type": "markdown",
   "metadata": {},
   "source": [
    "### 2.2.4. Test set results"
   ]
  },
  {
   "cell_type": "code",
   "execution_count": 24,
   "metadata": {},
   "outputs": [
    {
     "name": "stdout",
     "output_type": "stream",
     "text": [
      "Nr of features: 1\n",
      "Best K: 5\n",
      "F1_score: 0.9784047370254267\n",
      "--------------------------------------------------\n",
      "Nr of features: 2\n",
      "Best K: 7\n",
      "F1_score: 0.9784047370254267\n",
      "--------------------------------------------------\n",
      "Nr of features: 3\n",
      "Best K: 9\n",
      "F1_score: 1.0\n",
      "--------------------------------------------------\n",
      "Nr of features: 4\n",
      "Best K: 7\n",
      "F1_score: 1.0\n",
      "--------------------------------------------------\n",
      "\n"
     ]
    }
   ],
   "source": [
    "print(str_print)"
   ]
  },
  {
   "cell_type": "markdown",
   "metadata": {},
   "source": [
    "### 2.3. Fisher Score"
   ]
  },
  {
   "cell_type": "code",
   "execution_count": 25,
   "metadata": {},
   "outputs": [
    {
     "data": {
      "image/png": "[encoded data removed]",
      "text/plain": [
       "<Figure size 360x144 with 1 Axes>"
      ]
     },
     "metadata": {
      "needs_background": "light"
     },
     "output_type": "display_data"
    },
    {
     "name": "stdout",
     "output_type": "stream",
     "text": [
      "Nr of features: 1\n",
      "Best K: 11\n",
      "F1_score: 0.4273957982249186\n",
      "--------------------------------------------------\n"
     ]
    },
    {
     "data": {
      "image/png": "[encoded data removed]",
      "text/plain": [
       "<Figure size 360x144 with 1 Axes>"
      ]
     },
     "metadata": {
      "needs_background": "light"
     },
     "output_type": "display_data"
    },
    {
     "name": "stdout",
     "output_type": "stream",
     "text": [
      "Nr of features: 2\n",
      "Best K: 7\n",
      "F1_score: 0.8278436539306105\n",
      "--------------------------------------------------\n"
     ]
    },
    {
     "data": {
      "image/png": "[encoded data removed]",
      "text/plain": [
       "<Figure size 360x144 with 1 Axes>"
      ]
     },
     "metadata": {
      "needs_background": "light"
     },
     "output_type": "display_data"
    },
    {
     "name": "stdout",
     "output_type": "stream",
     "text": [
      "Nr of features: 3\n",
      "Best K: 1\n",
      "F1_score: 0.9262187088274044\n",
      "--------------------------------------------------\n"
     ]
    },
    {
     "data": {
      "image/png": "[encoded data removed]",
      "text/plain": [
       "<Figure size 360x144 with 1 Axes>"
      ]
     },
     "metadata": {
      "needs_background": "light"
     },
     "output_type": "display_data"
    },
    {
     "name": "stdout",
     "output_type": "stream",
     "text": [
      "Nr of features: 4\n",
      "Best K: 3\n",
      "F1_score: 0.927741935483871\n",
      "--------------------------------------------------\n"
     ]
    },
    {
     "data": {
      "text/html": [
       "<div>\n",
       "<style scoped>\n",
       "    .dataframe tbody tr th:only-of-type {\n",
       "        vertical-align: middle;\n",
       "    }\n",
       "\n",
       "    .dataframe tbody tr th {\n",
       "        vertical-align: top;\n",
       "    }\n",
       "\n",
       "    .dataframe thead th {\n",
       "        text-align: right;\n",
       "    }\n",
       "</style>\n",
       "<table border=\"1\" class=\"dataframe\">\n",
       "  <thead>\n",
       "    <tr style=\"text-align: right;\">\n",
       "      <th></th>\n",
       "      <th>k=1</th>\n",
       "      <th>k=3</th>\n",
       "      <th>k=5</th>\n",
       "      <th>k=7</th>\n",
       "      <th>k=9</th>\n",
       "      <th>k=11</th>\n",
       "      <th>k=13</th>\n",
       "      <th>k=15</th>\n",
       "    </tr>\n",
       "  </thead>\n",
       "  <tbody>\n",
       "    <tr>\n",
       "      <th>Nº of features: 1</th>\n",
       "      <td>0.419156</td>\n",
       "      <td>0.289781</td>\n",
       "      <td>0.340257</td>\n",
       "      <td>0.393323</td>\n",
       "      <td>0.396894</td>\n",
       "      <td>0.447033</td>\n",
       "      <td>0.441264</td>\n",
       "      <td>0.441264</td>\n",
       "    </tr>\n",
       "    <tr>\n",
       "      <th>Nº of features: 2</th>\n",
       "      <td>0.595830</td>\n",
       "      <td>0.711307</td>\n",
       "      <td>0.700000</td>\n",
       "      <td>0.792290</td>\n",
       "      <td>0.725512</td>\n",
       "      <td>0.763439</td>\n",
       "      <td>0.757516</td>\n",
       "      <td>0.774474</td>\n",
       "    </tr>\n",
       "    <tr>\n",
       "      <th>Nº of features: 3</th>\n",
       "      <td>0.962848</td>\n",
       "      <td>0.925697</td>\n",
       "      <td>0.944056</td>\n",
       "      <td>0.962848</td>\n",
       "      <td>0.925926</td>\n",
       "      <td>0.925926</td>\n",
       "      <td>0.907336</td>\n",
       "      <td>0.907336</td>\n",
       "    </tr>\n",
       "    <tr>\n",
       "      <th>Nº of features: 4</th>\n",
       "      <td>0.944056</td>\n",
       "      <td>1.000000</td>\n",
       "      <td>0.981467</td>\n",
       "      <td>1.000000</td>\n",
       "      <td>0.981467</td>\n",
       "      <td>0.981467</td>\n",
       "      <td>0.962848</td>\n",
       "      <td>0.944056</td>\n",
       "    </tr>\n",
       "  </tbody>\n",
       "</table>\n",
       "</div>"
      ],
      "text/plain": [
       "                        k=1       k=3       k=5       k=7       k=9      k=11  \\\n",
       "Nº of features: 1  0.419156  0.289781  0.340257  0.393323  0.396894  0.447033   \n",
       "Nº of features: 2  0.595830  0.711307  0.700000  0.792290  0.725512  0.763439   \n",
       "Nº of features: 3  0.962848  0.925697  0.944056  0.962848  0.925926  0.925926   \n",
       "Nº of features: 4  0.944056  1.000000  0.981467  1.000000  0.981467  0.981467   \n",
       "\n",
       "                       k=13      k=15  \n",
       "Nº of features: 1  0.441264  0.441264  \n",
       "Nº of features: 2  0.757516  0.774474  \n",
       "Nº of features: 3  0.907336  0.907336  \n",
       "Nº of features: 4  0.962848  0.944056  "
      ]
     },
     "metadata": {},
     "output_type": "display_data"
    }
   ],
   "source": [
    "score = fisherScore(data, target)\n",
    "\n",
    "f1_score_elbow, df223, str_print = repeatTVT(data, target, score)\n"
   ]
  },
  {
   "cell_type": "markdown",
   "metadata": {},
   "source": [
    "### 2.3.2. Elbow Graph"
   ]
  },
  {
   "cell_type": "code",
   "execution_count": 26,
   "metadata": {},
   "outputs": [
    {
     "data": {
      "image/png": "[encoded data removed]",
      "text/plain": [
       "<Figure size 360x144 with 1 Axes>"
      ]
     },
     "metadata": {
      "needs_background": "light"
     },
     "output_type": "display_data"
    }
   ],
   "source": [
    "elbowGraph(f1_score_elbow)"
   ]
  },
  {
   "cell_type": "markdown",
   "metadata": {},
   "source": [
    "### 2.3.3. Validation set results"
   ]
  },
  {
   "cell_type": "code",
   "execution_count": 27,
   "metadata": {},
   "outputs": [
    {
     "data": {
      "text/html": [
       "<div>\n",
       "<style scoped>\n",
       "    .dataframe tbody tr th:only-of-type {\n",
       "        vertical-align: middle;\n",
       "    }\n",
       "\n",
       "    .dataframe tbody tr th {\n",
       "        vertical-align: top;\n",
       "    }\n",
       "\n",
       "    .dataframe thead th {\n",
       "        text-align: right;\n",
       "    }\n",
       "</style>\n",
       "<table border=\"1\" class=\"dataframe\">\n",
       "  <thead>\n",
       "    <tr style=\"text-align: right;\">\n",
       "      <th></th>\n",
       "      <th>k=1</th>\n",
       "      <th>k=3</th>\n",
       "      <th>k=5</th>\n",
       "      <th>k=7</th>\n",
       "      <th>k=9</th>\n",
       "      <th>k=11</th>\n",
       "      <th>k=13</th>\n",
       "      <th>k=15</th>\n",
       "    </tr>\n",
       "  </thead>\n",
       "  <tbody>\n",
       "    <tr>\n",
       "      <th>Nº of features: 1</th>\n",
       "      <td>0.419156</td>\n",
       "      <td>0.289781</td>\n",
       "      <td>0.340257</td>\n",
       "      <td>0.393323</td>\n",
       "      <td>0.396894</td>\n",
       "      <td>0.447033</td>\n",
       "      <td>0.441264</td>\n",
       "      <td>0.441264</td>\n",
       "    </tr>\n",
       "    <tr>\n",
       "      <th>Nº of features: 2</th>\n",
       "      <td>0.595830</td>\n",
       "      <td>0.711307</td>\n",
       "      <td>0.700000</td>\n",
       "      <td>0.792290</td>\n",
       "      <td>0.725512</td>\n",
       "      <td>0.763439</td>\n",
       "      <td>0.757516</td>\n",
       "      <td>0.774474</td>\n",
       "    </tr>\n",
       "    <tr>\n",
       "      <th>Nº of features: 3</th>\n",
       "      <td>0.962848</td>\n",
       "      <td>0.925697</td>\n",
       "      <td>0.944056</td>\n",
       "      <td>0.962848</td>\n",
       "      <td>0.925926</td>\n",
       "      <td>0.925926</td>\n",
       "      <td>0.907336</td>\n",
       "      <td>0.907336</td>\n",
       "    </tr>\n",
       "    <tr>\n",
       "      <th>Nº of features: 4</th>\n",
       "      <td>0.944056</td>\n",
       "      <td>1.000000</td>\n",
       "      <td>0.981467</td>\n",
       "      <td>1.000000</td>\n",
       "      <td>0.981467</td>\n",
       "      <td>0.981467</td>\n",
       "      <td>0.962848</td>\n",
       "      <td>0.944056</td>\n",
       "    </tr>\n",
       "  </tbody>\n",
       "</table>\n",
       "</div>"
      ],
      "text/plain": [
       "                        k=1       k=3       k=5       k=7       k=9      k=11  \\\n",
       "Nº of features: 1  0.419156  0.289781  0.340257  0.393323  0.396894  0.447033   \n",
       "Nº of features: 2  0.595830  0.711307  0.700000  0.792290  0.725512  0.763439   \n",
       "Nº of features: 3  0.962848  0.925697  0.944056  0.962848  0.925926  0.925926   \n",
       "Nº of features: 4  0.944056  1.000000  0.981467  1.000000  0.981467  0.981467   \n",
       "\n",
       "                       k=13      k=15  \n",
       "Nº of features: 1  0.441264  0.441264  \n",
       "Nº of features: 2  0.757516  0.774474  \n",
       "Nº of features: 3  0.907336  0.907336  \n",
       "Nº of features: 4  0.962848  0.944056  "
      ]
     },
     "metadata": {},
     "output_type": "display_data"
    }
   ],
   "source": [
    "display(df223)"
   ]
  },
  {
   "cell_type": "markdown",
   "metadata": {},
   "source": [
    "### 2.3.4. Test set results"
   ]
  },
  {
   "cell_type": "code",
   "execution_count": 28,
   "metadata": {},
   "outputs": [
    {
     "name": "stdout",
     "output_type": "stream",
     "text": [
      "Nr of features: 1\n",
      "Best K: 11\n",
      "F1_score: 0.4273957982249186\n",
      "--------------------------------------------------\n",
      "Nr of features: 2\n",
      "Best K: 7\n",
      "F1_score: 0.8278436539306105\n",
      "--------------------------------------------------\n",
      "Nr of features: 3\n",
      "Best K: 1\n",
      "F1_score: 0.9262187088274044\n",
      "--------------------------------------------------\n",
      "Nr of features: 4\n",
      "Best K: 3\n",
      "F1_score: 0.927741935483871\n",
      "--------------------------------------------------\n",
      "\n"
     ]
    }
   ],
   "source": [
    "print(str_print)"
   ]
  },
  {
   "cell_type": "markdown",
   "metadata": {},
   "source": [
    "### 2.4. Class imbalance\n",
    "\n",
    " 'target_names': array(['setosa', 'versicolor', 'virginica'], dtype='<U10')"
   ]
  },
  {
   "cell_type": "code",
   "execution_count": 29,
   "metadata": {},
   "outputs": [
    {
     "data": {
      "text/html": [
       "<div>\n",
       "<style scoped>\n",
       "    .dataframe tbody tr th:only-of-type {\n",
       "        vertical-align: middle;\n",
       "    }\n",
       "\n",
       "    .dataframe tbody tr th {\n",
       "        vertical-align: top;\n",
       "    }\n",
       "\n",
       "    .dataframe thead th {\n",
       "        text-align: right;\n",
       "    }\n",
       "</style>\n",
       "<table border=\"1\" class=\"dataframe\">\n",
       "  <thead>\n",
       "    <tr style=\"text-align: right;\">\n",
       "      <th></th>\n",
       "      <th>sepal length (cm)</th>\n",
       "      <th>sepal width (cm)</th>\n",
       "      <th>petal length (cm)</th>\n",
       "      <th>petal width (cm)</th>\n",
       "    </tr>\n",
       "    <tr>\n",
       "      <th>target</th>\n",
       "      <th></th>\n",
       "      <th></th>\n",
       "      <th></th>\n",
       "      <th></th>\n",
       "    </tr>\n",
       "  </thead>\n",
       "  <tbody>\n",
       "    <tr>\n",
       "      <th>0</th>\n",
       "      <td>50</td>\n",
       "      <td>50</td>\n",
       "      <td>50</td>\n",
       "      <td>50</td>\n",
       "    </tr>\n",
       "    <tr>\n",
       "      <th>1</th>\n",
       "      <td>30</td>\n",
       "      <td>30</td>\n",
       "      <td>30</td>\n",
       "      <td>30</td>\n",
       "    </tr>\n",
       "    <tr>\n",
       "      <th>2</th>\n",
       "      <td>10</td>\n",
       "      <td>10</td>\n",
       "      <td>10</td>\n",
       "      <td>10</td>\n",
       "    </tr>\n",
       "  </tbody>\n",
       "</table>\n",
       "</div>"
      ],
      "text/plain": [
       "        sepal length (cm)  sepal width (cm)  petal length (cm)  \\\n",
       "target                                                           \n",
       "0                      50                50                 50   \n",
       "1                      30                30                 30   \n",
       "2                      10                10                 10   \n",
       "\n",
       "        petal width (cm)  \n",
       "target                    \n",
       "0                     50  \n",
       "1                     30  \n",
       "2                     10  "
      ]
     },
     "execution_count": 29,
     "metadata": {},
     "output_type": "execute_result"
    }
   ],
   "source": [
    "irisDF = pd.DataFrame(iris.data, columns=iris[\"feature_names\"])\n",
    "irisDF[\"target\"] = iris[\"target\"]\n",
    "setosa = irisDF[irisDF[\"target\"] == 0]\n",
    "versicolor = irisDF[irisDF[\"target\"] == 1].sample(30)\n",
    "virginica = irisDF[irisDF[\"target\"] == 2].sample(10)\n",
    "new_iris = pd.concat([setosa, versicolor, virginica], axis=0)\n",
    "new_iris.groupby(\"target\").count()"
   ]
  },
  {
   "cell_type": "code",
   "execution_count": 30,
   "metadata": {},
   "outputs": [
    {
     "data": {
      "image/png": "[encoded data removed]",
      "text/plain": [
       "<Figure size 360x144 with 1 Axes>"
      ]
     },
     "metadata": {
      "needs_background": "light"
     },
     "output_type": "display_data"
    },
    {
     "name": "stdout",
     "output_type": "stream",
     "text": [
      "Nr of features: 1\n",
      "Best K: 9\n",
      "F1_score: 0.5634118967452301\n",
      "--------------------------------------------------\n"
     ]
    },
    {
     "data": {
      "image/png": "[encoded data removed]",
      "text/plain": [
       "<Figure size 360x144 with 1 Axes>"
      ]
     },
     "metadata": {
      "needs_background": "light"
     },
     "output_type": "display_data"
    },
    {
     "name": "stdout",
     "output_type": "stream",
     "text": [
      "Nr of features: 2\n",
      "Best K: 9\n",
      "F1_score: 0.7448773448773448\n",
      "--------------------------------------------------\n"
     ]
    },
    {
     "data": {
      "image/png": "[encoded data removed]",
      "text/plain": [
       "<Figure size 360x144 with 1 Axes>"
      ]
     },
     "metadata": {
      "needs_background": "light"
     },
     "output_type": "display_data"
    },
    {
     "name": "stdout",
     "output_type": "stream",
     "text": [
      "Nr of features: 3\n",
      "Best K: 5\n",
      "F1_score: 0.8807017543859649\n",
      "--------------------------------------------------\n"
     ]
    },
    {
     "data": {
      "image/png": "[encoded data removed]",
      "text/plain": [
       "<Figure size 360x144 with 1 Axes>"
      ]
     },
     "metadata": {
      "needs_background": "light"
     },
     "output_type": "display_data"
    },
    {
     "name": "stdout",
     "output_type": "stream",
     "text": [
      "Nr of features: 4\n",
      "Best K: 9\n",
      "F1_score: 0.9606481481481483\n",
      "--------------------------------------------------\n"
     ]
    },
    {
     "data": {
      "text/html": [
       "<div>\n",
       "<style scoped>\n",
       "    .dataframe tbody tr th:only-of-type {\n",
       "        vertical-align: middle;\n",
       "    }\n",
       "\n",
       "    .dataframe tbody tr th {\n",
       "        vertical-align: top;\n",
       "    }\n",
       "\n",
       "    .dataframe thead th {\n",
       "        text-align: right;\n",
       "    }\n",
       "</style>\n",
       "<table border=\"1\" class=\"dataframe\">\n",
       "  <thead>\n",
       "    <tr style=\"text-align: right;\">\n",
       "      <th></th>\n",
       "      <th>k=1</th>\n",
       "      <th>k=3</th>\n",
       "      <th>k=5</th>\n",
       "      <th>k=7</th>\n",
       "      <th>k=9</th>\n",
       "      <th>k=11</th>\n",
       "      <th>k=13</th>\n",
       "      <th>k=15</th>\n",
       "    </tr>\n",
       "  </thead>\n",
       "  <tbody>\n",
       "    <tr>\n",
       "      <th>Nº of features: 1</th>\n",
       "      <td>0.309841</td>\n",
       "      <td>0.388889</td>\n",
       "      <td>0.489547</td>\n",
       "      <td>0.466700</td>\n",
       "      <td>0.517797</td>\n",
       "      <td>0.489547</td>\n",
       "      <td>0.442804</td>\n",
       "      <td>0.478235</td>\n",
       "    </tr>\n",
       "    <tr>\n",
       "      <th>Nº of features: 2</th>\n",
       "      <td>0.767628</td>\n",
       "      <td>0.839080</td>\n",
       "      <td>0.723810</td>\n",
       "      <td>0.792115</td>\n",
       "      <td>0.861905</td>\n",
       "      <td>0.786566</td>\n",
       "      <td>0.814103</td>\n",
       "      <td>0.814103</td>\n",
       "    </tr>\n",
       "    <tr>\n",
       "      <th>Nº of features: 3</th>\n",
       "      <td>0.976902</td>\n",
       "      <td>0.953968</td>\n",
       "      <td>1.000000</td>\n",
       "      <td>1.000000</td>\n",
       "      <td>1.000000</td>\n",
       "      <td>0.977011</td>\n",
       "      <td>0.930705</td>\n",
       "      <td>0.930705</td>\n",
       "    </tr>\n",
       "    <tr>\n",
       "      <th>Nº of features: 4</th>\n",
       "      <td>0.976902</td>\n",
       "      <td>0.976902</td>\n",
       "      <td>0.976902</td>\n",
       "      <td>0.976902</td>\n",
       "      <td>1.000000</td>\n",
       "      <td>1.000000</td>\n",
       "      <td>1.000000</td>\n",
       "      <td>1.000000</td>\n",
       "    </tr>\n",
       "  </tbody>\n",
       "</table>\n",
       "</div>"
      ],
      "text/plain": [
       "                        k=1       k=3       k=5       k=7       k=9      k=11  \\\n",
       "Nº of features: 1  0.309841  0.388889  0.489547  0.466700  0.517797  0.489547   \n",
       "Nº of features: 2  0.767628  0.839080  0.723810  0.792115  0.861905  0.786566   \n",
       "Nº of features: 3  0.976902  0.953968  1.000000  1.000000  1.000000  0.977011   \n",
       "Nº of features: 4  0.976902  0.976902  0.976902  0.976902  1.000000  1.000000   \n",
       "\n",
       "                       k=13      k=15  \n",
       "Nº of features: 1  0.442804  0.478235  \n",
       "Nº of features: 2  0.814103  0.814103  \n",
       "Nº of features: 3  0.930705  0.930705  \n",
       "Nº of features: 4  1.000000  1.000000  "
      ]
     },
     "metadata": {},
     "output_type": "display_data"
    }
   ],
   "source": [
    "aux_data = np.array(new_iris.drop(columns=[\"target\"]))\n",
    "aux_target = np.array(new_iris[\"target\"])\n",
    "newIris_elbow, df224, str_print = repeatTVT(data, target, score)"
   ]
  },
  {
   "cell_type": "markdown",
   "metadata": {},
   "source": [
    "### 2.4.2. Elbow Graph"
   ]
  },
  {
   "cell_type": "code",
   "execution_count": 31,
   "metadata": {},
   "outputs": [
    {
     "data": {
      "image/png": "[encoded data removed]",
      "text/plain": [
       "<Figure size 360x144 with 1 Axes>"
      ]
     },
     "metadata": {
      "needs_background": "light"
     },
     "output_type": "display_data"
    }
   ],
   "source": [
    "elbowGraph(newIris_elbow)"
   ]
  },
  {
   "cell_type": "markdown",
   "metadata": {},
   "source": [
    "### 2.4.3. Validation set results"
   ]
  },
  {
   "cell_type": "code",
   "execution_count": 32,
   "metadata": {},
   "outputs": [
    {
     "data": {
      "text/html": [
       "<div>\n",
       "<style scoped>\n",
       "    .dataframe tbody tr th:only-of-type {\n",
       "        vertical-align: middle;\n",
       "    }\n",
       "\n",
       "    .dataframe tbody tr th {\n",
       "        vertical-align: top;\n",
       "    }\n",
       "\n",
       "    .dataframe thead th {\n",
       "        text-align: right;\n",
       "    }\n",
       "</style>\n",
       "<table border=\"1\" class=\"dataframe\">\n",
       "  <thead>\n",
       "    <tr style=\"text-align: right;\">\n",
       "      <th></th>\n",
       "      <th>k=1</th>\n",
       "      <th>k=3</th>\n",
       "      <th>k=5</th>\n",
       "      <th>k=7</th>\n",
       "      <th>k=9</th>\n",
       "      <th>k=11</th>\n",
       "      <th>k=13</th>\n",
       "      <th>k=15</th>\n",
       "    </tr>\n",
       "  </thead>\n",
       "  <tbody>\n",
       "    <tr>\n",
       "      <th>Nº of features: 1</th>\n",
       "      <td>0.309841</td>\n",
       "      <td>0.388889</td>\n",
       "      <td>0.489547</td>\n",
       "      <td>0.466700</td>\n",
       "      <td>0.517797</td>\n",
       "      <td>0.489547</td>\n",
       "      <td>0.442804</td>\n",
       "      <td>0.478235</td>\n",
       "    </tr>\n",
       "    <tr>\n",
       "      <th>Nº of features: 2</th>\n",
       "      <td>0.767628</td>\n",
       "      <td>0.839080</td>\n",
       "      <td>0.723810</td>\n",
       "      <td>0.792115</td>\n",
       "      <td>0.861905</td>\n",
       "      <td>0.786566</td>\n",
       "      <td>0.814103</td>\n",
       "      <td>0.814103</td>\n",
       "    </tr>\n",
       "    <tr>\n",
       "      <th>Nº of features: 3</th>\n",
       "      <td>0.976902</td>\n",
       "      <td>0.953968</td>\n",
       "      <td>1.000000</td>\n",
       "      <td>1.000000</td>\n",
       "      <td>1.000000</td>\n",
       "      <td>0.977011</td>\n",
       "      <td>0.930705</td>\n",
       "      <td>0.930705</td>\n",
       "    </tr>\n",
       "    <tr>\n",
       "      <th>Nº of features: 4</th>\n",
       "      <td>0.976902</td>\n",
       "      <td>0.976902</td>\n",
       "      <td>0.976902</td>\n",
       "      <td>0.976902</td>\n",
       "      <td>1.000000</td>\n",
       "      <td>1.000000</td>\n",
       "      <td>1.000000</td>\n",
       "      <td>1.000000</td>\n",
       "    </tr>\n",
       "  </tbody>\n",
       "</table>\n",
       "</div>"
      ],
      "text/plain": [
       "                        k=1       k=3       k=5       k=7       k=9      k=11  \\\n",
       "Nº of features: 1  0.309841  0.388889  0.489547  0.466700  0.517797  0.489547   \n",
       "Nº of features: 2  0.767628  0.839080  0.723810  0.792115  0.861905  0.786566   \n",
       "Nº of features: 3  0.976902  0.953968  1.000000  1.000000  1.000000  0.977011   \n",
       "Nº of features: 4  0.976902  0.976902  0.976902  0.976902  1.000000  1.000000   \n",
       "\n",
       "                       k=13      k=15  \n",
       "Nº of features: 1  0.442804  0.478235  \n",
       "Nº of features: 2  0.814103  0.814103  \n",
       "Nº of features: 3  0.930705  0.930705  \n",
       "Nº of features: 4  1.000000  1.000000  "
      ]
     },
     "metadata": {},
     "output_type": "display_data"
    }
   ],
   "source": [
    "display(df224)"
   ]
  },
  {
   "cell_type": "markdown",
   "metadata": {},
   "source": [
    "### 2.4.4. Test set results"
   ]
  },
  {
   "cell_type": "code",
   "execution_count": 33,
   "metadata": {},
   "outputs": [
    {
     "name": "stdout",
     "output_type": "stream",
     "text": [
      "Nr of features: 1\n",
      "Best K: 9\n",
      "F1_score: 0.5634118967452301\n",
      "--------------------------------------------------\n",
      "Nr of features: 2\n",
      "Best K: 9\n",
      "F1_score: 0.7448773448773448\n",
      "--------------------------------------------------\n",
      "Nr of features: 3\n",
      "Best K: 5\n",
      "F1_score: 0.8807017543859649\n",
      "--------------------------------------------------\n",
      "Nr of features: 4\n",
      "Best K: 9\n",
      "F1_score: 0.9606481481481483\n",
      "--------------------------------------------------\n",
      "\n"
     ]
    }
   ],
   "source": [
    "print(str_print)"
   ]
  },
  {
   "cell_type": "markdown",
   "metadata": {},
   "source": [
    "### 3. ReliefF for dataset of human activity"
   ]
  },
  {
   "cell_type": "code",
   "execution_count": 34,
   "metadata": {},
   "outputs": [
    {
     "ename": "FileNotFoundError",
     "evalue": "[Errno 2] No such file or directory: '../Part_A/code/Acc_features.csv'",
     "output_type": "error",
     "traceback": [
      "\u001b[1;31m---------------------------------------------------------------------------\u001b[0m",
      "\u001b[1;31mFileNotFoundError\u001b[0m                         Traceback (most recent call last)",
      "\u001b[1;32mc:\\Users\\pcost\\OneDrive\\Ambiente de Trabalho\\UNI\\MECD\\TCD\\TCD-TP1\\Part_B\\code\\mainActivity.ipynb Cell 64\u001b[0m in \u001b[0;36m<cell line: 1>\u001b[1;34m()\u001b[0m\n\u001b[1;32m----> <a href='vscode-notebook-cell:/c%3A/Users/pcost/OneDrive/Ambiente%20de%20Trabalho/UNI/MECD/TCD/TCD-TP1/Part_B/code/mainActivity.ipynb#Y116sZmlsZQ%3D%3D?line=0'>1</a>\u001b[0m Acc_features \u001b[39m=\u001b[39m pd\u001b[39m.\u001b[39;49mread_csv(\u001b[39m\"\u001b[39;49m\u001b[39m../Part_A/code/Acc_features.csv\u001b[39;49m\u001b[39m\"\u001b[39;49m)\n\u001b[0;32m      <a href='vscode-notebook-cell:/c%3A/Users/pcost/OneDrive/Ambiente%20de%20Trabalho/UNI/MECD/TCD/TCD-TP1/Part_B/code/mainActivity.ipynb#Y116sZmlsZQ%3D%3D?line=1'>2</a>\u001b[0m Gyr_features \u001b[39m=\u001b[39m pd\u001b[39m.\u001b[39mread_csv(\u001b[39m\"\u001b[39m\u001b[39m../Part_A/code/Gyr_features.csv\u001b[39m\u001b[39m\"\u001b[39m)\n\u001b[0;32m      <a href='vscode-notebook-cell:/c%3A/Users/pcost/OneDrive/Ambiente%20de%20Trabalho/UNI/MECD/TCD/TCD-TP1/Part_B/code/mainActivity.ipynb#Y116sZmlsZQ%3D%3D?line=2'>3</a>\u001b[0m Mag_features \u001b[39m=\u001b[39m pd\u001b[39m.\u001b[39mread_csv(\u001b[39m\"\u001b[39m\u001b[39m../Part_A/code/Mag_features.csv\u001b[39m\u001b[39m\"\u001b[39m)\n",
      "File \u001b[1;32mc:\\Users\\pcost\\anaconda3\\lib\\site-packages\\pandas\\util\\_decorators.py:311\u001b[0m, in \u001b[0;36mdeprecate_nonkeyword_arguments.<locals>.decorate.<locals>.wrapper\u001b[1;34m(*args, **kwargs)\u001b[0m\n\u001b[0;32m    305\u001b[0m \u001b[39mif\u001b[39;00m \u001b[39mlen\u001b[39m(args) \u001b[39m>\u001b[39m num_allow_args:\n\u001b[0;32m    306\u001b[0m     warnings\u001b[39m.\u001b[39mwarn(\n\u001b[0;32m    307\u001b[0m         msg\u001b[39m.\u001b[39mformat(arguments\u001b[39m=\u001b[39marguments),\n\u001b[0;32m    308\u001b[0m         \u001b[39mFutureWarning\u001b[39;00m,\n\u001b[0;32m    309\u001b[0m         stacklevel\u001b[39m=\u001b[39mstacklevel,\n\u001b[0;32m    310\u001b[0m     )\n\u001b[1;32m--> 311\u001b[0m \u001b[39mreturn\u001b[39;00m func(\u001b[39m*\u001b[39margs, \u001b[39m*\u001b[39m\u001b[39m*\u001b[39mkwargs)\n",
      "File \u001b[1;32mc:\\Users\\pcost\\anaconda3\\lib\\site-packages\\pandas\\io\\parsers\\readers.py:680\u001b[0m, in \u001b[0;36mread_csv\u001b[1;34m(filepath_or_buffer, sep, delimiter, header, names, index_col, usecols, squeeze, prefix, mangle_dupe_cols, dtype, engine, converters, true_values, false_values, skipinitialspace, skiprows, skipfooter, nrows, na_values, keep_default_na, na_filter, verbose, skip_blank_lines, parse_dates, infer_datetime_format, keep_date_col, date_parser, dayfirst, cache_dates, iterator, chunksize, compression, thousands, decimal, lineterminator, quotechar, quoting, doublequote, escapechar, comment, encoding, encoding_errors, dialect, error_bad_lines, warn_bad_lines, on_bad_lines, delim_whitespace, low_memory, memory_map, float_precision, storage_options)\u001b[0m\n\u001b[0;32m    665\u001b[0m kwds_defaults \u001b[39m=\u001b[39m _refine_defaults_read(\n\u001b[0;32m    666\u001b[0m     dialect,\n\u001b[0;32m    667\u001b[0m     delimiter,\n\u001b[1;32m   (...)\u001b[0m\n\u001b[0;32m    676\u001b[0m     defaults\u001b[39m=\u001b[39m{\u001b[39m\"\u001b[39m\u001b[39mdelimiter\u001b[39m\u001b[39m\"\u001b[39m: \u001b[39m\"\u001b[39m\u001b[39m,\u001b[39m\u001b[39m\"\u001b[39m},\n\u001b[0;32m    677\u001b[0m )\n\u001b[0;32m    678\u001b[0m kwds\u001b[39m.\u001b[39mupdate(kwds_defaults)\n\u001b[1;32m--> 680\u001b[0m \u001b[39mreturn\u001b[39;00m _read(filepath_or_buffer, kwds)\n",
      "File \u001b[1;32mc:\\Users\\pcost\\anaconda3\\lib\\site-packages\\pandas\\io\\parsers\\readers.py:575\u001b[0m, in \u001b[0;36m_read\u001b[1;34m(filepath_or_buffer, kwds)\u001b[0m\n\u001b[0;32m    572\u001b[0m _validate_names(kwds\u001b[39m.\u001b[39mget(\u001b[39m\"\u001b[39m\u001b[39mnames\u001b[39m\u001b[39m\"\u001b[39m, \u001b[39mNone\u001b[39;00m))\n\u001b[0;32m    574\u001b[0m \u001b[39m# Create the parser.\u001b[39;00m\n\u001b[1;32m--> 575\u001b[0m parser \u001b[39m=\u001b[39m TextFileReader(filepath_or_buffer, \u001b[39m*\u001b[39m\u001b[39m*\u001b[39mkwds)\n\u001b[0;32m    577\u001b[0m \u001b[39mif\u001b[39;00m chunksize \u001b[39mor\u001b[39;00m iterator:\n\u001b[0;32m    578\u001b[0m     \u001b[39mreturn\u001b[39;00m parser\n",
      "File \u001b[1;32mc:\\Users\\pcost\\anaconda3\\lib\\site-packages\\pandas\\io\\parsers\\readers.py:933\u001b[0m, in \u001b[0;36mTextFileReader.__init__\u001b[1;34m(self, f, engine, **kwds)\u001b[0m\n\u001b[0;32m    930\u001b[0m     \u001b[39mself\u001b[39m\u001b[39m.\u001b[39moptions[\u001b[39m\"\u001b[39m\u001b[39mhas_index_names\u001b[39m\u001b[39m\"\u001b[39m] \u001b[39m=\u001b[39m kwds[\u001b[39m\"\u001b[39m\u001b[39mhas_index_names\u001b[39m\u001b[39m\"\u001b[39m]\n\u001b[0;32m    932\u001b[0m \u001b[39mself\u001b[39m\u001b[39m.\u001b[39mhandles: IOHandles \u001b[39m|\u001b[39m \u001b[39mNone\u001b[39;00m \u001b[39m=\u001b[39m \u001b[39mNone\u001b[39;00m\n\u001b[1;32m--> 933\u001b[0m \u001b[39mself\u001b[39m\u001b[39m.\u001b[39m_engine \u001b[39m=\u001b[39m \u001b[39mself\u001b[39;49m\u001b[39m.\u001b[39;49m_make_engine(f, \u001b[39mself\u001b[39;49m\u001b[39m.\u001b[39;49mengine)\n",
      "File \u001b[1;32mc:\\Users\\pcost\\anaconda3\\lib\\site-packages\\pandas\\io\\parsers\\readers.py:1217\u001b[0m, in \u001b[0;36mTextFileReader._make_engine\u001b[1;34m(self, f, engine)\u001b[0m\n\u001b[0;32m   1213\u001b[0m     mode \u001b[39m=\u001b[39m \u001b[39m\"\u001b[39m\u001b[39mrb\u001b[39m\u001b[39m\"\u001b[39m\n\u001b[0;32m   1214\u001b[0m \u001b[39m# error: No overload variant of \"get_handle\" matches argument types\u001b[39;00m\n\u001b[0;32m   1215\u001b[0m \u001b[39m# \"Union[str, PathLike[str], ReadCsvBuffer[bytes], ReadCsvBuffer[str]]\"\u001b[39;00m\n\u001b[0;32m   1216\u001b[0m \u001b[39m# , \"str\", \"bool\", \"Any\", \"Any\", \"Any\", \"Any\", \"Any\"\u001b[39;00m\n\u001b[1;32m-> 1217\u001b[0m \u001b[39mself\u001b[39m\u001b[39m.\u001b[39mhandles \u001b[39m=\u001b[39m get_handle(  \u001b[39m# type: ignore[call-overload]\u001b[39;49;00m\n\u001b[0;32m   1218\u001b[0m     f,\n\u001b[0;32m   1219\u001b[0m     mode,\n\u001b[0;32m   1220\u001b[0m     encoding\u001b[39m=\u001b[39;49m\u001b[39mself\u001b[39;49m\u001b[39m.\u001b[39;49moptions\u001b[39m.\u001b[39;49mget(\u001b[39m\"\u001b[39;49m\u001b[39mencoding\u001b[39;49m\u001b[39m\"\u001b[39;49m, \u001b[39mNone\u001b[39;49;00m),\n\u001b[0;32m   1221\u001b[0m     compression\u001b[39m=\u001b[39;49m\u001b[39mself\u001b[39;49m\u001b[39m.\u001b[39;49moptions\u001b[39m.\u001b[39;49mget(\u001b[39m\"\u001b[39;49m\u001b[39mcompression\u001b[39;49m\u001b[39m\"\u001b[39;49m, \u001b[39mNone\u001b[39;49;00m),\n\u001b[0;32m   1222\u001b[0m     memory_map\u001b[39m=\u001b[39;49m\u001b[39mself\u001b[39;49m\u001b[39m.\u001b[39;49moptions\u001b[39m.\u001b[39;49mget(\u001b[39m\"\u001b[39;49m\u001b[39mmemory_map\u001b[39;49m\u001b[39m\"\u001b[39;49m, \u001b[39mFalse\u001b[39;49;00m),\n\u001b[0;32m   1223\u001b[0m     is_text\u001b[39m=\u001b[39;49mis_text,\n\u001b[0;32m   1224\u001b[0m     errors\u001b[39m=\u001b[39;49m\u001b[39mself\u001b[39;49m\u001b[39m.\u001b[39;49moptions\u001b[39m.\u001b[39;49mget(\u001b[39m\"\u001b[39;49m\u001b[39mencoding_errors\u001b[39;49m\u001b[39m\"\u001b[39;49m, \u001b[39m\"\u001b[39;49m\u001b[39mstrict\u001b[39;49m\u001b[39m\"\u001b[39;49m),\n\u001b[0;32m   1225\u001b[0m     storage_options\u001b[39m=\u001b[39;49m\u001b[39mself\u001b[39;49m\u001b[39m.\u001b[39;49moptions\u001b[39m.\u001b[39;49mget(\u001b[39m\"\u001b[39;49m\u001b[39mstorage_options\u001b[39;49m\u001b[39m\"\u001b[39;49m, \u001b[39mNone\u001b[39;49;00m),\n\u001b[0;32m   1226\u001b[0m )\n\u001b[0;32m   1227\u001b[0m \u001b[39massert\u001b[39;00m \u001b[39mself\u001b[39m\u001b[39m.\u001b[39mhandles \u001b[39mis\u001b[39;00m \u001b[39mnot\u001b[39;00m \u001b[39mNone\u001b[39;00m\n\u001b[0;32m   1228\u001b[0m f \u001b[39m=\u001b[39m \u001b[39mself\u001b[39m\u001b[39m.\u001b[39mhandles\u001b[39m.\u001b[39mhandle\n",
      "File \u001b[1;32mc:\\Users\\pcost\\anaconda3\\lib\\site-packages\\pandas\\io\\common.py:789\u001b[0m, in \u001b[0;36mget_handle\u001b[1;34m(path_or_buf, mode, encoding, compression, memory_map, is_text, errors, storage_options)\u001b[0m\n\u001b[0;32m    784\u001b[0m \u001b[39melif\u001b[39;00m \u001b[39misinstance\u001b[39m(handle, \u001b[39mstr\u001b[39m):\n\u001b[0;32m    785\u001b[0m     \u001b[39m# Check whether the filename is to be opened in binary mode.\u001b[39;00m\n\u001b[0;32m    786\u001b[0m     \u001b[39m# Binary mode does not support 'encoding' and 'newline'.\u001b[39;00m\n\u001b[0;32m    787\u001b[0m     \u001b[39mif\u001b[39;00m ioargs\u001b[39m.\u001b[39mencoding \u001b[39mand\u001b[39;00m \u001b[39m\"\u001b[39m\u001b[39mb\u001b[39m\u001b[39m\"\u001b[39m \u001b[39mnot\u001b[39;00m \u001b[39min\u001b[39;00m ioargs\u001b[39m.\u001b[39mmode:\n\u001b[0;32m    788\u001b[0m         \u001b[39m# Encoding\u001b[39;00m\n\u001b[1;32m--> 789\u001b[0m         handle \u001b[39m=\u001b[39m \u001b[39mopen\u001b[39;49m(\n\u001b[0;32m    790\u001b[0m             handle,\n\u001b[0;32m    791\u001b[0m             ioargs\u001b[39m.\u001b[39;49mmode,\n\u001b[0;32m    792\u001b[0m             encoding\u001b[39m=\u001b[39;49mioargs\u001b[39m.\u001b[39;49mencoding,\n\u001b[0;32m    793\u001b[0m             errors\u001b[39m=\u001b[39;49merrors,\n\u001b[0;32m    794\u001b[0m             newline\u001b[39m=\u001b[39;49m\u001b[39m\"\u001b[39;49m\u001b[39m\"\u001b[39;49m,\n\u001b[0;32m    795\u001b[0m         )\n\u001b[0;32m    796\u001b[0m     \u001b[39melse\u001b[39;00m:\n\u001b[0;32m    797\u001b[0m         \u001b[39m# Binary mode\u001b[39;00m\n\u001b[0;32m    798\u001b[0m         handle \u001b[39m=\u001b[39m \u001b[39mopen\u001b[39m(handle, ioargs\u001b[39m.\u001b[39mmode)\n",
      "\u001b[1;31mFileNotFoundError\u001b[0m: [Errno 2] No such file or directory: '../Part_A/code/Acc_features.csv'"
     ]
    }
   ],
   "source": [
    "Acc_features = pd.read_csv(\"../Part_A/code/Acc_features.csv\")\n",
    "Gyr_features = pd.read_csv(\"../Part_A/code/Gyr_features.csv\")\n",
    "Mag_features = pd.read_csv(\"../Part_A/code/Mag_features.csv\")\n",
    "\n",
    "Acc_features\n",
    "Gyr_features\n",
    "Mag_features"
   ]
  },
  {
   "cell_type": "code",
   "execution_count": null,
   "metadata": {},
   "outputs": [],
   "source": [
    "target_acc = Acc_features[\"Label\"]\n",
    "target_gyr = Gyr_features[\"Label\"]\n",
    "target_mag = Mag_features[\"Label\"]\n",
    "\n",
    "data_acc = Acc_features.drop(columns = [\"Label\"])\n",
    "data_gyr = Gyr_features.drop(columns = [\"Label\"])\n",
    "data_mag = Mag_features.drop(columns = [\"Label\"])"
   ]
  }
 ],
 "metadata": {
  "kernelspec": {
   "display_name": "Python 3.9.12 ('base')",
   "language": "python",
   "name": "python3"
  },
  "language_info": {
   "codemirror_mode": {
    "name": "ipython",
    "version": 3
   },
   "file_extension": ".py",
   "mimetype": "text/x-python",
   "name": "python",
   "nbconvert_exporter": "python",
   "pygments_lexer": "ipython3",
   "version": "3.9.12"
  },
  "orig_nbformat": 4,
  "vscode": {
   "interpreter": {
    "hash": "47e1b8a2c375dc7eddb7fcbc77a4789e02579d6e777ba36c235362aa19e94720"
   }
  }
 },
 "nbformat": 4,
 "nbformat_minor": 2
}
