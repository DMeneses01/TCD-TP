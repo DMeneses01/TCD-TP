{
 "cells": [
  {
   "cell_type": "code",
   "execution_count": 32,
   "metadata": {},
   "outputs": [],
   "source": [
    "import csv\n",
    "import os\n",
    "import numpy as np\n",
    "\n",
    "def pergunta2(i):\n",
    "    file = \"part0\" + \"dev\" + str(i+1) + \".csv\"\n",
    "    pasta = \"part0\"\n",
    "    dir = os.path.join(pasta, file)\n",
    "    dev = []\n",
    "    with open(dir) as csvfile:\n",
    "        reader = csv.reader(csvfile, delimiter=',', quotechar='|')\n",
    "        for row in reader:\n",
    "            linha = [float(n) for n in row]\n",
    "            dev.append(linha)\n",
    "\n",
    "    return np.array(dev)\n",
    "\n",
    "for i in range(5):\n",
    "    dev1 = pergunta2(i)\n",
    "    dev2 = pergunta2(i)\n",
    "    dev3 = pergunta2(i)\n",
    "    dev4 = pergunta2(i)\n",
    "    dev5 = pergunta2(i)\n",
    "    \n",
    "\n"
   ]
  }
 ],
 "metadata": {
  "kernelspec": {
   "display_name": "Python 3.9.12 ('base')",
   "language": "python",
   "name": "python3"
  },
  "language_info": {
   "codemirror_mode": {
    "name": "ipython",
    "version": 3
   },
   "file_extension": ".py",
   "mimetype": "text/x-python",
   "name": "python",
   "nbconvert_exporter": "python",
   "pygments_lexer": "ipython3",
   "version": "3.9.12"
  },
  "orig_nbformat": 4,
  "vscode": {
   "interpreter": {
    "hash": "47e1b8a2c375dc7eddb7fcbc77a4789e02579d6e777ba36c235362aa19e94720"
   }
  }
 },
 "nbformat": 4,
 "nbformat_minor": 2
}
