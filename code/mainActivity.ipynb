{
 "cells": [
  {
   "cell_type": "code",
   "execution_count": 2,
   "metadata": {},
   "outputs": [],
   "source": [
    "import csv\n",
    "import os\n",
    "import numpy as np\n",
    "import matplotlib.pyplot as plt"
   ]
  },
  {
   "cell_type": "markdown",
   "metadata": {},
   "source": [
    "## Question 2 - Read Files"
   ]
  },
  {
   "cell_type": "code",
   "execution_count": 27,
   "metadata": {},
   "outputs": [
    {
     "data": {
      "text/plain": [
       "array([[ 1.0000e+00, -1.8650e+00,  9.3890e+00, ...,  1.0134e+00,\n",
       "         5.0589e+02,  1.0000e+00],\n",
       "       [ 1.0000e+00, -1.7963e+00,  9.3742e+00, ...,  1.0000e+00,\n",
       "         5.2542e+02,  1.0000e+00],\n",
       "       [ 1.0000e+00, -1.8696e+00,  9.3000e+00, ...,  1.0156e+00,\n",
       "         5.4495e+02,  1.0000e+00],\n",
       "       ...,\n",
       "       [ 5.0000e+00, -4.9463e-01,  9.4428e+00, ...,  7.1739e-02,\n",
       "         1.0380e+06,  1.0000e+00],\n",
       "       [ 5.0000e+00, -4.7013e-01,  9.4553e+00, ...,  8.4783e-02,\n",
       "         1.0381e+06,  1.0000e+00],\n",
       "       [ 5.0000e+00, -4.9427e-01,  9.4431e+00, ...,  7.8261e-02,\n",
       "         1.0381e+06,  1.0000e+00]])"
      ]
     },
     "execution_count": 27,
     "metadata": {},
     "output_type": "execute_result"
    }
   ],
   "source": [
    "def readFiles(ID):\n",
    "    file = \"part\" + str(ID)\n",
    "    pasta = \"dataset\\part\" + str(ID)\n",
    "\n",
    "    dev = [0]*5\n",
    "\n",
    "    for i in range(5):\n",
    "        d = []\n",
    "        f = file + \"dev\" + str(i+1) + \".csv\"\n",
    "        dir = os.path.join(pasta, f)\n",
    "        dev[i] = np.genfromtxt(dir, delimiter=',')\n",
    "\n",
    "    return np.concatenate(dev)"
   ]
  },
  {
   "cell_type": "code",
   "execution_count": 31,
   "metadata": {},
   "outputs": [],
   "source": [
    "#data = [readFiles(i) for i in range(15)]\n",
    "#all_data = np.concatenate(data)\n",
    "\n",
    "data = readFiles(0)"
   ]
  },
  {
   "cell_type": "markdown",
   "metadata": {},
   "source": [
    "## Question 3.1 - Boxplot"
   ]
  },
  {
   "cell_type": "code",
   "execution_count": 1,
   "metadata": {},
   "outputs": [
    {
     "ename": "NameError",
     "evalue": "name 'data' is not defined",
     "output_type": "error",
     "traceback": [
      "\u001b[1;31m---------------------------------------------------------------------------\u001b[0m",
      "\u001b[1;31mNameError\u001b[0m                                 Traceback (most recent call last)",
      "\u001b[1;32mc:\\Users\\pcost\\OneDrive\\Ambiente de Trabalho\\UNI\\MECD\\TCD\\TCD-TP1\\code\\mainActivity.ipynb Cell 6\u001b[0m in \u001b[0;36m<cell line: 23>\u001b[1;34m()\u001b[0m\n\u001b[0;32m     <a href='vscode-notebook-cell:/c%3A/Users/pcost/OneDrive/Ambiente%20de%20Trabalho/UNI/MECD/TCD/TCD-TP1/code/mainActivity.ipynb#W5sZmlsZQ%3D%3D?line=19'>20</a>\u001b[0m     boxplot(giro, \u001b[39m\"\u001b[39m\u001b[39mBoxplot Giroscópio\u001b[39m\u001b[39m\"\u001b[39m)\n\u001b[0;32m     <a href='vscode-notebook-cell:/c%3A/Users/pcost/OneDrive/Ambiente%20de%20Trabalho/UNI/MECD/TCD/TCD-TP1/code/mainActivity.ipynb#W5sZmlsZQ%3D%3D?line=20'>21</a>\u001b[0m     boxplot(giro, \u001b[39m\"\u001b[39m\u001b[39mBoxplot Magnetómetro\u001b[39m\u001b[39m\"\u001b[39m)\n\u001b[1;32m---> <a href='vscode-notebook-cell:/c%3A/Users/pcost/OneDrive/Ambiente%20de%20Trabalho/UNI/MECD/TCD/TCD-TP1/code/mainActivity.ipynb#W5sZmlsZQ%3D%3D?line=22'>23</a>\u001b[0m modulo()\n",
      "\u001b[1;32mc:\\Users\\pcost\\OneDrive\\Ambiente de Trabalho\\UNI\\MECD\\TCD\\TCD-TP1\\code\\mainActivity.ipynb Cell 6\u001b[0m in \u001b[0;36mmodulo\u001b[1;34m()\u001b[0m\n\u001b[0;32m      <a href='vscode-notebook-cell:/c%3A/Users/pcost/OneDrive/Ambiente%20de%20Trabalho/UNI/MECD/TCD/TCD-TP1/code/mainActivity.ipynb#W5sZmlsZQ%3D%3D?line=7'>8</a>\u001b[0m giro \u001b[39m=\u001b[39m [[\u001b[39m0\u001b[39m]]\u001b[39m*\u001b[39m\u001b[39m16\u001b[39m\n\u001b[0;32m      <a href='vscode-notebook-cell:/c%3A/Users/pcost/OneDrive/Ambiente%20de%20Trabalho/UNI/MECD/TCD/TCD-TP1/code/mainActivity.ipynb#W5sZmlsZQ%3D%3D?line=8'>9</a>\u001b[0m mag \u001b[39m=\u001b[39m [[\u001b[39m0\u001b[39m]]\u001b[39m*\u001b[39m\u001b[39m16\u001b[39m\n\u001b[1;32m---> <a href='vscode-notebook-cell:/c%3A/Users/pcost/OneDrive/Ambiente%20de%20Trabalho/UNI/MECD/TCD/TCD-TP1/code/mainActivity.ipynb#W5sZmlsZQ%3D%3D?line=11'>12</a>\u001b[0m \u001b[39mfor\u001b[39;00m row \u001b[39min\u001b[39;00m data:\n\u001b[0;32m     <a href='vscode-notebook-cell:/c%3A/Users/pcost/OneDrive/Ambiente%20de%20Trabalho/UNI/MECD/TCD/TCD-TP1/code/mainActivity.ipynb#W5sZmlsZQ%3D%3D?line=12'>13</a>\u001b[0m     acel[\u001b[39mint\u001b[39m(row[\u001b[39m11\u001b[39m])\u001b[39m-\u001b[39m\u001b[39m1\u001b[39m] \u001b[39m+\u001b[39m\u001b[39m=\u001b[39m [np\u001b[39m.\u001b[39msqrt(row[\u001b[39m1\u001b[39m]\u001b[39m*\u001b[39m\u001b[39m*\u001b[39m\u001b[39m2\u001b[39m \u001b[39m+\u001b[39m row[\u001b[39m2\u001b[39m]\u001b[39m*\u001b[39m\u001b[39m*\u001b[39m\u001b[39m2\u001b[39m \u001b[39m+\u001b[39m row[\u001b[39m3\u001b[39m]\u001b[39m*\u001b[39m\u001b[39m*\u001b[39m\u001b[39m2\u001b[39m)] \n\u001b[0;32m     <a href='vscode-notebook-cell:/c%3A/Users/pcost/OneDrive/Ambiente%20de%20Trabalho/UNI/MECD/TCD/TCD-TP1/code/mainActivity.ipynb#W5sZmlsZQ%3D%3D?line=13'>14</a>\u001b[0m     giro[\u001b[39mint\u001b[39m(row[\u001b[39m11\u001b[39m])\u001b[39m-\u001b[39m\u001b[39m1\u001b[39m] \u001b[39m+\u001b[39m\u001b[39m=\u001b[39m [np\u001b[39m.\u001b[39msqrt(row[\u001b[39m4\u001b[39m]\u001b[39m*\u001b[39m\u001b[39m*\u001b[39m\u001b[39m2\u001b[39m \u001b[39m+\u001b[39m row[\u001b[39m5\u001b[39m]\u001b[39m*\u001b[39m\u001b[39m*\u001b[39m\u001b[39m2\u001b[39m \u001b[39m+\u001b[39m row[\u001b[39m6\u001b[39m]\u001b[39m*\u001b[39m\u001b[39m*\u001b[39m\u001b[39m2\u001b[39m)] \n",
      "\u001b[1;31mNameError\u001b[0m: name 'data' is not defined"
     ]
    }
   ],
   "source": [
    "def boxplot(dados, title):\n",
    "    plt.figure()\n",
    "    plt.title(title)\n",
    "    plt.boxplot(data)\n",
    "\n",
    "def modulo():\n",
    "    acel = [[0]]*16\n",
    "    giro = [[0]]*16\n",
    "    mag = [[0]]*16\n",
    "    \n",
    "\n",
    "    for row in data:\n",
    "        acel[int(row[11])-1] += [np.sqrt(row[1]**2 + row[2]**2 + row[3]**2)] \n",
    "        giro[int(row[11])-1] += [np.sqrt(row[4]**2 + row[5]**2 + row[6]**2)] \n",
    "        mag[int(row[11])-1] += [np.sqrt(row[7]**2 + row[8]**2 + row[9]**2)] \n",
    "    \n",
    "    print(acel)\n",
    "    \n",
    "    boxplot(acel, \"Boxplot Aceleração\")\n",
    "    boxplot(giro, \"Boxplot Giroscópio\")\n",
    "    boxplot(giro, \"Boxplot Magnetómetro\")\n",
    "\n",
    "modulo()\n",
    "\n"
   ]
  },
  {
   "cell_type": "code",
   "execution_count": null,
   "metadata": {},
   "outputs": [],
   "source": []
  }
 ],
 "metadata": {
  "kernelspec": {
   "display_name": "Python 3.9.12 ('base')",
   "language": "python",
   "name": "python3"
  },
  "language_info": {
   "codemirror_mode": {
    "name": "ipython",
    "version": 3
   },
   "file_extension": ".py",
   "mimetype": "text/x-python",
   "name": "python",
   "nbconvert_exporter": "python",
   "pygments_lexer": "ipython3",
   "version": "3.9.12"
  },
  "orig_nbformat": 4,
  "vscode": {
   "interpreter": {
    "hash": "47e1b8a2c375dc7eddb7fcbc77a4789e02579d6e777ba36c235362aa19e94720"
   }
  }
 },
 "nbformat": 4,
 "nbformat_minor": 2
}
